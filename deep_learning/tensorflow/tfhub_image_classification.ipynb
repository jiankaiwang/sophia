{
 "cells": [
  {
   "cell_type": "code",
   "execution_count": 1,
   "metadata": {},
   "outputs": [
    {
     "name": "stdout",
     "output_type": "stream",
     "text": [
      "Tensorflow version: 1.12.0\n"
     ]
    }
   ],
   "source": [
    "import tensorflow as tf\n",
    "import tensorflow_hub as hub\n",
    "import numpy as np\n",
    "import os\n",
    "import random\n",
    "from PIL import Image\n",
    "import matplotlib.pyplot as plt\n",
    "\n",
    "print(\"Tensorflow version: {}\".format(tf.__version__))"
   ]
  },
  {
   "cell_type": "markdown",
   "metadata": {},
   "source": [
    "# Data Preparation\n",
    "\n",
    "Download the flower dataset.\n",
    "```sh\n",
    "curl -LO http://download.tensorflow.org/example_images/flower_photos.tgz\n",
    "tar xzf flower_photos.tgz\n",
    "```\n",
    "\n",
    "Download the pretrained model from tf.hub. Here we use nasnet version 1 as the example.\n",
    "```sh\n",
    "mkdir /notebooks/nasnet\n",
    "curl -L \"https://tfhub.dev/google/imagenet/nasnet_large/feature_vector/1?tf-hub-format=compressed\" | tar -zxvC /notebooks/nasnet\n",
    "```\n",
    "\n",
    "Create a new folder for saving models.\n",
    "```sh\n",
    "mkdir -p /notebooks/model/nasnet\n",
    "```"
   ]
  },
  {
   "cell_type": "markdown",
   "metadata": {},
   "source": [
    "# Retraining"
   ]
  },
  {
   "cell_type": "code",
   "execution_count": 2,
   "metadata": {},
   "outputs": [],
   "source": [
    "full_train = False\n",
    "NUM_CLASSES = 5\n",
    "height = 331\n",
    "width = 331\n",
    "epoch = 101 if full_train else 5\n",
    "batch_size = 64 if full_train else 32\n",
    "total_image_size = 3610\n",
    "total_batch = total_image_size // batch_size\n",
    "display_step = 2"
   ]
  },
  {
   "cell_type": "code",
   "execution_count": 3,
   "metadata": {},
   "outputs": [],
   "source": [
    "def simple_data_generator(path=\"/notebooks/flower_photos\", batch_size=32):\n",
    "    assert os.path.exists(path), \"dataset was not found\"\n",
    "    imgs, tags = [], []\n",
    "    \n",
    "    for _ in range(batch_size):\n",
    "        folders = next(os.walk(path))[1]\n",
    "        selected_dir_idx = random.randint(0,len(folders)-1)\n",
    "        selected_dir_label = np.zeros([len(folders)])\n",
    "        selected_dir_label[selected_dir_idx] = 1\n",
    "        selected_dir = folders[selected_dir_idx]\n",
    "\n",
    "        allImgs = next(os.walk(os.path.join(path, selected_dir)))[2]\n",
    "        selected_img = allImgs[random.randint(0,len(allImgs)-1)]\n",
    "\n",
    "        img = Image.open(os.path.join(path, selected_dir,selected_img))\n",
    "        img = img.resize((width,height), Image.ANTIALIAS)\n",
    "        img = np.array(img)\n",
    "        img = (img - 0) / 255.  # normalized\n",
    "\n",
    "        imgs.append(img)\n",
    "        tags.append(selected_dir_label)\n",
    "    \n",
    "    return np.array(imgs), np.array(tags)"
   ]
  },
  {
   "cell_type": "code",
   "execution_count": 4,
   "metadata": {},
   "outputs": [
    {
     "name": "stdout",
     "output_type": "stream",
     "text": [
      "INFO:tensorflow:Saver not created because there are no variables in the graph to restore\n",
      "Epoch: 0, Acc: 0.90625\n",
      "Epoch: 0, Loss: 0.010180016048252583\n",
      "Epoch: 1, Loss: 0.005727519281208515\n",
      "Epoch: 2, Acc: 0.9375\n",
      "Epoch: 2, Loss: 0.006225774064660072\n",
      "Epoch: 3, Loss: 0.004724220838397741\n",
      "Epoch: 4, Acc: 0.9375\n",
      "Epoch: 4, Loss: 0.007433545775711536\n"
     ]
    }
   ],
   "source": [
    "with tf.Graph().as_default():\n",
    "    #module_url = \"https://tfhub.dev/google/imagenet/nasnet_large/feature_vector/1\"\n",
    "    #features = hub.Module(module_url)\n",
    "    module = hub.Module('/notebooks/nasnet')\n",
    "\n",
    "    resized_input_tensor = tf.placeholder(tf.float32, [None, height, width, 3])\n",
    "    labels = tf.placeholder(\"float\", [None, 5])\n",
    "    \n",
    "    bottleneck_tensor = module(resized_input_tensor)\n",
    "    logits = tf.layers.dense(bottleneck_tensor, NUM_CLASSES)\n",
    "    \n",
    "    # global step\n",
    "    global_step = tf.Variable(initial_value=0, name=\"global_step\", trainable=False)    \n",
    "    \n",
    "    # loss function\n",
    "    cross_entropy = tf.nn.softmax_cross_entropy_with_logits_v2(logits=logits, labels=labels)\n",
    "    loss = tf.reduce_mean(cross_entropy)\n",
    "    \n",
    "    # training\n",
    "    optimizer = tf.train.AdamOptimizer(learning_rate=1e-3, beta1=9e-1, beta2=0.999, epsilon=1e-8, name=\"Adam\")\n",
    "    train_opt = optimizer.minimize(loss, global_step=global_step)\n",
    "    \n",
    "    # evaluation\n",
    "    compare = tf.equal(tf.argmax(logits, axis=1), tf.argmax(labels, axis=1))\n",
    "    accuracy = tf.reduce_mean(tf.cast(compare, tf.float32))\n",
    "    \n",
    "    # record the training progress\n",
    "    saver = tf.train.Saver()\n",
    "    loss_records = []\n",
    "    acc_records = []\n",
    "\n",
    "    with tf.Session() as sess:\n",
    "        sess.run(tf.global_variables_initializer())\n",
    "        sess.run(tf.tables_initializer())\n",
    "        avg_loss = 0.\n",
    "\n",
    "        for e in range(epoch):\n",
    "            for _ in range(total_batch):\n",
    "            \n",
    "                imgs, tags = simple_data_generator()\n",
    "                feed_dict_data = {resized_input_tensor: imgs, labels: tags}\n",
    "                sess.run(train_opt, feed_dict=feed_dict_data)\n",
    "\n",
    "                batch_loss = sess.run(loss, feed_dict=feed_dict_data)\n",
    "                avg_loss = (batch_loss / batch_size)\n",
    "            \n",
    "            if e % display_step == 0:\n",
    "                acc = sess.run(accuracy, feed_dict=feed_dict_data)\n",
    "                print(\"Epoch: {}, Acc: {}\".format(e, acc))\n",
    "                \n",
    "                acc_records.append(acc)\n",
    "                saver.save(sess, \"/notebooks/model/nasnet/retrain\", global_step=global_step)\n",
    "                \n",
    "            loss_records.append(avg_loss)\n",
    "            print(\"Epoch: {}, Loss: {}\".format(e, avg_loss))"
   ]
  },
  {
   "cell_type": "markdown",
   "metadata": {},
   "source": [
    "## Visualize Training Progress"
   ]
  },
  {
   "cell_type": "code",
   "execution_count": 5,
   "metadata": {},
   "outputs": [
    {
     "data": {
      "image/png": "[encoded data removed]",
      "text/plain": [
       "<Figure size 432x288 with 1 Axes>"
      ]
     },
     "metadata": {
      "needs_background": "light"
     },
     "output_type": "display_data"
    }
   ],
   "source": [
    "plt.plot(loss_records)\n",
    "plt.title('Overall Loss')\n",
    "plt.show()"
   ]
  },
  {
   "cell_type": "code",
   "execution_count": 6,
   "metadata": {},
   "outputs": [
    {
     "data": {
      "image/png": "[encoded data removed]",
      "text/plain": [
       "<Figure size 432x288 with 1 Axes>"
      ]
     },
     "metadata": {
      "needs_background": "light"
     },
     "output_type": "display_data"
    }
   ],
   "source": [
    "plt.plot(acc_records)\n",
    "plt.title('Accuracy')\n",
    "plt.ylim(0, 1.0)\n",
    "plt.show()"
   ]
  },
  {
   "cell_type": "code",
   "execution_count": null,
   "metadata": {},
   "outputs": [],
   "source": []
  }
 ],
 "metadata": {
  "kernelspec": {
   "display_name": "Python 3",
   "language": "python",
   "name": "python3"
  },
  "language_info": {
   "codemirror_mode": {
    "name": "ipython",
    "version": 3
   },
   "file_extension": ".py",
   "mimetype": "text/x-python",
   "name": "python",
   "nbconvert_exporter": "python",
   "pygments_lexer": "ipython3",
   "version": "3.5.4"
  }
 },
 "nbformat": 4,
 "nbformat_minor": 2
}
