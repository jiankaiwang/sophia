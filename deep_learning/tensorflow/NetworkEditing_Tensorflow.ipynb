{
 "cells": [
  {
   "cell_type": "code",
   "execution_count": 5,
   "metadata": {},
   "outputs": [
    {
     "name": "stdout",
     "output_type": "stream",
     "text": [
      "tensorflow          1.11.0                \n",
      "\u001b[33mYou are using pip version 18.0, however version 18.1 is available.\n",
      "You should consider upgrading via the 'pip install --upgrade pip' command.\u001b[0m\n",
      "opencv-python       3.4.3.18              \n",
      "\u001b[33mYou are using pip version 18.0, however version 18.1 is available.\n",
      "You should consider upgrading via the 'pip install --upgrade pip' command.\u001b[0m\n",
      "numpy               1.15.2                \n",
      "\u001b[33mYou are using pip version 18.0, however version 18.1 is available.\n",
      "You should consider upgrading via the 'pip install --upgrade pip' command.\u001b[0m\n",
      "matplotlib          3.0.0                 \n",
      "\u001b[33mYou are using pip version 18.0, however version 18.1 is available.\n",
      "You should consider upgrading via the 'pip install --upgrade pip' command.\u001b[0m\n"
     ]
    }
   ],
   "source": [
    "import os\n",
    "import sys\n",
    "import tensorflow as tf\n",
    "import cv2\n",
    "import numpy as np\n",
    "import json\n",
    "import codecs\n",
    "from collections import OrderedDict\n",
    "import matplotlib.pyplot as plt\n",
    "from PIL import Image\n",
    "\n",
    "!pip list | grep 'tensorflow'\n",
    "!pip list | grep 'opencv-python'\n",
    "!pip list | grep 'numpy'\n",
    "!pip list | grep 'matplotlib'"
   ]
  },
  {
   "cell_type": "markdown",
   "metadata": {},
   "source": [
    "# Neural Network Concatenate"
   ]
  },
  {
   "cell_type": "code",
   "execution_count": 2,
   "metadata": {},
   "outputs": [
    {
     "name": "stdout",
     "output_type": "stream",
     "text": [
      "x:0\n",
      "import/input:0\n",
      "import/Const:0\n",
      "import/Add:0\n",
      "import/output:0\n",
      "import_1/input:0\n",
      "import_1/Const:0\n",
      "import_1/Add:0\n",
      "import_1/output:0\n",
      "22.0\n"
     ]
    }
   ],
   "source": [
    "\"\"\"\n",
    "y = g_1(x)\n",
    "z = g_2(y)\n",
    "\"\"\"\n",
    "with tf.Graph().as_default() as g_1:\n",
    "    input = tf.placeholder(tf.float32, name=\"input\")\n",
    "    y = tf.add(input, tf.constant(1.))\n",
    "    output = tf.identity(y, name=\"output\")  # NOTE: using identity to get a known name for the output tensor.\n",
    "gdef_1 = g_1.as_graph_def()\n",
    "\n",
    "\n",
    "with tf.Graph().as_default() as g_2:  # NOTE: g_2 not g_1       \n",
    "    input = tf.placeholder(tf.float32, name=\"input\")\n",
    "    z = tf.add(input, tf.constant(20.))\n",
    "    output = tf.identity(z, name=\"output\")\n",
    "gdef_2 = g_2.as_graph_def()\n",
    "\n",
    "\n",
    "combine_graph = tf.Graph()\n",
    "with combine_graph.as_default():\n",
    "    x = tf.placeholder(\"float\", name=\"x\")\n",
    "\n",
    "    # Import gdef_1, which performs f(x).\n",
    "    # \"input:0\" and \"output:0\" are the names of tensors in gdef_1.\n",
    "    y, = tf.import_graph_def(gdef_1, input_map={\"input:0\": x}, return_elements=[\"output:0\"])\n",
    "\n",
    "    # Import gdef_2, which performs g(y)\n",
    "    z, = tf.import_graph_def(gdef_2, input_map={\"input:0\": y}, return_elements=[\"output:0\"])\n",
    "    \n",
    "with combine_graph.as_default():\n",
    "    with tf.Session() as sess:\n",
    "        opts = tf.get_default_graph().get_operations()\n",
    "        for opt in opts:\n",
    "            for output in opt.outputs: print(output.name)\n",
    "                \n",
    "        print(sess.run(z, feed_dict={x:1}))"
   ]
  },
  {
   "cell_type": "markdown",
   "metadata": {},
   "source": [
    "# Operations Replacement\n",
    "\n",
    "Include inserting, deleting a section of operations."
   ]
  },
  {
   "cell_type": "code",
   "execution_count": 2,
   "metadata": {},
   "outputs": [],
   "source": [
    "with tf.Graph().as_default() as g_3:\n",
    "    \"\"\"\n",
    "    output = (input + 1) * 10 - 2 + 100\n",
    "    \"\"\"\n",
    "    input = tf.placeholder(tf.float32, name=\"input\")\n",
    "    mid = tf.add(input, tf.constant(1.))\n",
    "    mul = tf.multiply(mid, tf.constant(10.,), name=\"mul\")\n",
    "    y = tf.subtract(mul, tf.constant(2.), name=\"sub\")  # <-- replaced node\n",
    "    y_2 = tf.add(y, tf.constant(100.))\n",
    "    output = tf.identity(y_2, name=\"output\")  # NOTE: using identity to get a known name for the output tensor.\n",
    "gdef_3 = g_3.as_graph_def()"
   ]
  },
  {
   "cell_type": "code",
   "execution_count": 3,
   "metadata": {},
   "outputs": [
    {
     "name": "stdout",
     "output_type": "stream",
     "text": [
      "----- Origin Graph -----\n",
      "import/input:0\n",
      "import/Const:0\n",
      "import/Add:0\n",
      "import/Const_1:0\n",
      "import/mul:0\n",
      "import/Const_2:0\n",
      "import/sub:0\n",
      "import/Const_3:0\n",
      "import/Add_1:0\n",
      "import/output:0\n"
     ]
    }
   ],
   "source": [
    "replace_before_graph = tf.Graph()\n",
    "with replace_before_graph.as_default():\n",
    "    tf.import_graph_def(gdef_3)\n",
    "    with tf.Session() as sess:\n",
    "        opts = tf.get_default_graph().get_operations()\n",
    "        print(\"----- Origin Graph -----\")\n",
    "        for opt in opts:\n",
    "            for output in opt.outputs: print(output.name)"
   ]
  },
  {
   "cell_type": "code",
   "execution_count": 4,
   "metadata": {
    "scrolled": false
   },
   "outputs": [
    {
     "name": "stdout",
     "output_type": "stream",
     "text": [
      "----- Replaced Graph -----\n",
      "x:0\n",
      "import/input:0\n",
      "import/Const:0\n",
      "import/Add:0\n",
      "import/Const_1:0\n",
      "import/mul:0\n",
      "import/Const_2:0\n",
      "import/sub:0\n",
      "import/Const_3:0\n",
      "import/Add_1:0\n",
      "import/output:0\n",
      "Const:0\n",
      "Mul:0\n",
      "import_1/input:0\n",
      "import_1/Const:0\n",
      "import_1/Add:0\n",
      "import_1/Const_1:0\n",
      "import_1/mul:0\n",
      "import_1/Const_2:0\n",
      "import_1/sub:0\n",
      "import_1/Const_3:0\n",
      "import_1/Add_1:0\n",
      "import_1/output:0\n",
      "[20.0, 40.0, 140.0]\n"
     ]
    }
   ],
   "source": [
    "combine_graph_2 = tf.Graph()\n",
    "with combine_graph_2.as_default():\n",
    "    \"\"\"\n",
    "    origin : output = (input + 1) * 10 - 2 + 100\n",
    "    to : output = (input + 1) * 10 * 2 + 100\n",
    "    \"\"\"\n",
    "    \n",
    "    x = tf.placeholder(\"float\", name=\"x\")\n",
    "\n",
    "    mul, = tf.import_graph_def(gdef_3, input_map={\"input:0\": x}, return_elements=[\"mul:0\"])\n",
    "    mul_2 = tf.multiply(mul, tf.constant(2.))  # <-- new node\n",
    "    output, = tf.import_graph_def(gdef_3, input_map={\"sub:0\": mul_2}, return_elements=[\"output:0\"])\n",
    "    \n",
    "with combine_graph_2.as_default():\n",
    "    with tf.Session() as sess:\n",
    "        opts = tf.get_default_graph().get_operations()\n",
    "        print(\"----- Replaced Graph -----\")\n",
    "        for opt in opts:\n",
    "            for output in opt.outputs: print(output.name)\n",
    "                \n",
    "        print(sess.run([mul, mul_2, output], feed_dict={x:1}))"
   ]
  },
  {
   "cell_type": "code",
   "execution_count": null,
   "metadata": {},
   "outputs": [],
   "source": []
  }
 ],
 "metadata": {
  "kernelspec": {
   "display_name": "Python 3",
   "language": "python",
   "name": "python3"
  },
  "language_info": {
   "codemirror_mode": {
    "name": "ipython",
    "version": 3
   },
   "file_extension": ".py",
   "mimetype": "text/x-python",
   "name": "python",
   "nbconvert_exporter": "python",
   "pygments_lexer": "ipython3",
   "version": "3.5.4"
  }
 },
 "nbformat": 4,
 "nbformat_minor": 2
}
