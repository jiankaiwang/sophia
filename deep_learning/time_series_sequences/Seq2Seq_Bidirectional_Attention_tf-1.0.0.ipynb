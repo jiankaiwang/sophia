{
 "cells": [
  {
   "cell_type": "code",
   "execution_count": 1,
   "metadata": {},
   "outputs": [
    {
     "name": "stdout",
     "output_type": "stream",
     "text": [
      "Tensorflow version: 1.0.0\n"
     ]
    }
   ],
   "source": [
    "%matplotlib inline\n",
    "\n",
    "import numpy as np\n",
    "import os\n",
    "\n",
    "import tensorflow as tf\n",
    "import tensorflow.contrib.seq2seq as seq2seq\n",
    "from tensorflow.contrib.rnn import LSTMCell, GRUCell, LSTMStateTuple\n",
    "from tensorflow.contrib.layers import safe_embedding_lookup_sparse as embedding_lookup_unique\n",
    "\n",
    "print(\"Tensorflow version: {}\".format(tf.__version__))"
   ]
  },
  {
   "cell_type": "markdown",
   "metadata": {},
   "source": [
    "# Helper Function"
   ]
  },
  {
   "cell_type": "code",
   "execution_count": 2,
   "metadata": {
    "collapsed": true
   },
   "outputs": [],
   "source": [
    "def batch(inputs, max_sequence_length=None):\n",
    "    \"\"\"\n",
    "    Args:\n",
    "        inputs:\n",
    "            list of sentences (integer lists)\n",
    "        max_sequence_length:\n",
    "            integer specifying how large should `max_time` dimension be.\n",
    "            If None, maximum sequence length would be used\n",
    "    \n",
    "    Outputs:\n",
    "        inputs_time_major:\n",
    "            input sentences transformed into time-major matrix \n",
    "            (shape [max_time, batch_size]) padded with 0s\n",
    "        sequence_lengths:\n",
    "            batch-sized list of integers specifying amount of active \n",
    "            time steps in each input sequence\n",
    "            \n",
    "    Example:\n",
    "    batch([[3,7,6],[8,6],[5,7,4,8]])\n",
    "    array([[3, 8, 5],\n",
    "           [7, 6, 7],\n",
    "           [6, 0, 4],\n",
    "           [0, 0, 8]], dtype=int32)\n",
    "    \"\"\"\n",
    "    \n",
    "    sequence_length = [len(seq) for seq in inputs]\n",
    "    batch_size = len(inputs)\n",
    "    \n",
    "    if max_sequence_length is None:\n",
    "        max_sequence_length = max(sequence_length)\n",
    "    \n",
    "    # [batch_size, time_series]\n",
    "    inputs_batch_major = np.zeros(shape=[batch_size, max_sequence_length], dtype=np.int32)\n",
    "    \n",
    "    for i, seq in enumerate(inputs):\n",
    "        for j, element in enumerate(seq):\n",
    "            inputs_batch_major[i, j] = element\n",
    "    \n",
    "    # switch to time_major as [time_series, batch_size]\n",
    "    inputs_batch_major = inputs_batch_major.swapaxes(0, 1)\n",
    "    \n",
    "    return inputs_batch_major, sequence_length"
   ]
  },
  {
   "cell_type": "code",
   "execution_count": 3,
   "metadata": {
    "collapsed": true
   },
   "outputs": [],
   "source": [
    "def random_sequences(length_from, length_to, vocab_lower, vocab_upper, batch_size):\n",
    "    \"\"\" \n",
    "    Description:\n",
    "        Generates batches of random integer sequences,\n",
    "        sequence length in [length_from, length_to],\n",
    "        vocabulary in [vocab_lower, vocab_upper]\n",
    "    Example:\n",
    "    data = random_sequence(length_from=3, length_to=8, vocab_lower=3, vocab_upper=10, batch_size=10)\n",
    "    next(data)\n",
    "    \"\"\"\n",
    "    assert length_from <= length_to, \"length_from > length_to is error.\"\n",
    "    \n",
    "    def random_length():\n",
    "        if length_from == length_to:\n",
    "            return length_from\n",
    "        return np.random.randint(length_from, length_to + 1)\n",
    "    \n",
    "    while True:\n",
    "        yield [np.random.randint(low=vocab_lower, high=vocab_upper, size=random_length()).tolist() \n",
    "               for _ in range(batch_size)]"
   ]
  },
  {
   "cell_type": "code",
   "execution_count": 4,
   "metadata": {},
   "outputs": [],
   "source": [
    "class helpers():\n",
    "    def __init__(self):\n",
    "        pass\n",
    "\n",
    "helpers.batch = batch\n",
    "helpers.random_sequences = random_sequences"
   ]
  },
  {
   "cell_type": "markdown",
   "metadata": {},
   "source": [
    "# Seq2Seq Model\n",
    "\n",
    "In designing Seq2Seq graph, the train and inference processes are separated. \n",
    "* Therefore we need a property named `_init_decoder_train_connectors` to define the decoder's behavior during training. \n",
    "* Besides, in `_init_decoder` property we have to define two types of different `dynamic_rnn_decoder` running for train and inference separatedly.\n",
    "* In the final, we also need `make_train_inputs` and `make_inference_inputs` to feed the data into the graph."
   ]
  },
  {
   "cell_type": "code",
   "execution_count": 5,
   "metadata": {
    "collapsed": true
   },
   "outputs": [],
   "source": [
    "import math"
   ]
  },
  {
   "cell_type": "code",
   "execution_count": 6,
   "metadata": {},
   "outputs": [],
   "source": [
    "class Seq2SeqModel():\n",
    "    \n",
    "    PAD = 0\n",
    "    EOS = 1\n",
    "    \n",
    "    def __init__(self, encoder_cell, decoder_cell, \\\n",
    "                 vocab_size, embedding_size, \\\n",
    "                 bidirectional=True, attention=False, debug=False):\n",
    "        \n",
    "        self.encoder_cell = encoder_cell\n",
    "        self.decoder_cell = decoder_cell\n",
    "        self.vocab_size = vocab_size\n",
    "        self.embedding_size = embedding_size\n",
    "        self.bidirectional = bidirectional\n",
    "        self.attention = attention\n",
    "        self.debug = debug\n",
    "        \n",
    "        # contruct the rnn definition graph\n",
    "        self._make_graph()\n",
    "           \n",
    "    def _make_graph(self):\n",
    "        if self.debug:\n",
    "            self._init_debug_inputs()\n",
    "        else:\n",
    "            self._init_placeholders()\n",
    "            \n",
    "        self._init_decoder_train_connectors()\n",
    "        self._init_embeddings()\n",
    "        \n",
    "        if self.bidirectional:\n",
    "            self._init_bidirectional_encoder()\n",
    "        else:\n",
    "            self._init_simple_encoder()\n",
    "        \n",
    "        self._init_decoder()\n",
    "        \n",
    "        self._init_optimizer()\n",
    "            \n",
    "    def _init_debug_inputs(self):\n",
    "        \"\"\"\n",
    "        Data is time major. Here we create simple encoder and decoder data. They are the same.\n",
    "        \"\"\"\n",
    "        x = [[5,6,7],\n",
    "             [7,6,0],\n",
    "             [0,7,0]]\n",
    "        xlen = [2,3,1]\n",
    "        \n",
    "        self.encoder_inputs = tf.constant(x, dtype=tf.int32, name=\"encoder_inputs\")\n",
    "        self.encoder_inputs_length = tf.constant(xlen, dtype=tf.int32, name=\"encoder_inputs_length\")\n",
    "        \n",
    "        self.decoder_targets = tf.constant(x, dtype=tf.int32, name=\"deocder_targets\")\n",
    "        self.decoder_targets_length = tf.constant(xlen, dtype=tf.int32, name=\"decoder_targets_length\")\n",
    "    \n",
    "    def _init_placeholders(self):\n",
    "        \"\"\"Data is time major.\"\"\"\n",
    "        self.encoder_inputs = tf.placeholder(shape=(None, None), dtype=tf.int32, name=\"encoder_inputs\")\n",
    "        self.encoder_inputs_length = tf.placeholder(shape=(None,), dtype=tf.int32, name=\"encoder_inputs_length\")\n",
    "        \n",
    "        self.decoder_targets = tf.placeholder(shape=(None, None), dtype=tf.int32, name=\"decoder_targets\")\n",
    "        self.decoder_targets_length = tf.placeholder(shape=(None,), dtype=tf.int32, name=\"decoder_targets_length\")\n",
    "    \n",
    "    def _init_decoder_train_connectors(self):\n",
    "        \"\"\"\n",
    "        define the decoder's inputs and targets during training\n",
    "        \"\"\"\n",
    "        with tf.variable_scope(\"DecoderTrainFeeds\"):\n",
    "            sequence_size, batch_size = tf.unstack(tf.shape(self.decoder_targets))\n",
    "            \n",
    "            EOS_SLICE = tf.ones([1, batch_size], dtype=tf.int32) * self.EOS\n",
    "            PAD_SLICE = tf.ones([1, batch_size], dtype=tf.int32) * self.PAD\n",
    "            \n",
    "            # add EOS in the front of each decoder targets\n",
    "            self.decoder_train_inputs = tf.concat([EOS_SLICE, self.decoder_targets], axis=0)\n",
    "            self.decoder_train_length = self.decoder_targets_length + 1  # +1 stands for adding EOS tag\n",
    "            \n",
    "            # add PAD in the end of each decoder targets\n",
    "            decoder_train_targets = tf.concat([self.decoder_targets, PAD_SLICE], axis=0)\n",
    "            decoder_train_targets_seq_len, _ = tf.unstack(tf.shape(decoder_train_targets))\n",
    "            decoder_train_targets_eos_mask = tf.one_hot(self.decoder_train_length - 1, \\\n",
    "                                                        decoder_train_targets_seq_len, \\\n",
    "                                                        on_value=self.EOS, off_value=self.PAD, dtype=tf.int32)\n",
    "            \n",
    "            # change to time major\n",
    "            decoder_train_targets_eos_mask = tf.transpose(decoder_train_targets_eos_mask, [1, 0])\n",
    "            \n",
    "            # using one hot to put EOS symbol at the end of target sequence\n",
    "            decoder_train_targets = tf.add(decoder_train_targets, decoder_train_targets_eos_mask)\n",
    "            self.decoder_train_targets = decoder_train_targets\n",
    "            \n",
    "            self.loss_weights = tf.ones([batch_size, tf.reduce_max(self.decoder_train_length)], \\\n",
    "                                        dtype=tf.float32, name=\"loss_weights\")\n",
    "    \n",
    "    def _init_embeddings(self):\n",
    "        with tf.variable_scope(\"embedding\"):\n",
    "            sqrt3 = math.sqrt(3)\n",
    "            initializer = tf.random_uniform_initializer(-sqrt3, sqrt3)\n",
    "            \n",
    "            self.embedding_matrix = tf.get_variable(\"embedding_matrix\", \\\n",
    "                                                    shape=[self.vocab_size, self.embedding_size], \\\n",
    "                                                    initializer=initializer, dtype=tf.float32)\n",
    "            self.encoder_inputs_embedded = tf.nn.embedding_lookup(self.embedding_matrix, \\\n",
    "                                                                  self.encoder_inputs)\n",
    "            self.decoder_train_inputs_embedded = tf.nn.embedding_lookup(self.embedding_matrix, \\\n",
    "                                                                        self.decoder_train_inputs)\n",
    "    \n",
    "    def _init_simple_encoder(self):\n",
    "        with tf.variable_scope(\"Encoder\"):\n",
    "            (self.encoder_outputs, self.encoder_state) = tf.nn.dynamic_rnn(cell=self.encoder_cell, \\\n",
    "                                                                          inputs=self.encoder_inputs_embedded, \\\n",
    "                                                                          sequence_length=self.encoder_inputs_length, \\\n",
    "                                                                          time_major=True, dtype=tf.float32)\n",
    "    \n",
    "    def _init_bidirectional_encoder(self):\n",
    "        with tf.variable_scope(\"BidirectionalEncoder\"):\n",
    "            ((encoder_fw_outputs, encoder_bw_outputs),(encoder_fw_final_state, encoder_bw_final_state)) = \\\n",
    "            tf.nn.bidirectional_dynamic_rnn(cell_fw=self.encoder_cell, cell_bw=self.encoder_cell, \\\n",
    "                                            inputs=self.encoder_inputs_embedded, \\\n",
    "                                            sequence_length=self.encoder_inputs_length, \\\n",
    "                                            dtype=tf.float32, time_major=True)\n",
    "            \n",
    "            # concatenate forward and backward outputs\n",
    "            self.encoder_outputs = tf.concat((encoder_fw_outputs, encoder_bw_outputs), 2)\n",
    "            \n",
    "            # concatenate forward and backward final state\n",
    "            if isinstance(encoder_fw_final_state, LSTMStateTuple):\n",
    "                encoder_state_c = tf.concat((encoder_fw_final_state.c, encoder_bw_final_state.c), 1, \\\n",
    "                                            name=\"bidirectional_concat_c\")\n",
    "                encoder_state_h = tf.concat((encoder_fw_final_state.h, encoder_bw_final_state.h), 1, \\\n",
    "                                            name=\"bidirectional_concat_h\")\n",
    "                self.encoder_state = LSTMStateTuple(c=encoder_state_c, h=encoder_state_h)\n",
    "                \n",
    "            elif isinstance(encoder_fw_final_state, tf.Tensor):\n",
    "                self.encoder_state = tf.concat((encoder_fw_final_state, encoder_bw_final_state), 1, \\\n",
    "                                               name=\"bidirectional_concat\")\n",
    "                \n",
    "    \n",
    "    def _init_decoder(self):\n",
    "        with tf.variable_scope(\"Decoder\") as scope:\n",
    "            def output_fn(outputs):\n",
    "                return tf.contrib.layers.linear(outputs, self.vocab_size, scope=scope)\n",
    "            \n",
    "            # define both decoder_fn_train and decoder_fn_inference\n",
    "            if not self.attention:\n",
    "                decoder_fn_train = seq2seq.simple_decoder_fn_train(encoder_state=self.encoder_state)\n",
    "                decoder_fn_inference = seq2seq.simple_decoder_fn_inference(output_fn=output_fn, \\\n",
    "                                                                           encoder_state=self.encoder_state, \\\n",
    "                                                                           embeddings=self.embedding_matrix, \\\n",
    "                                                                           start_of_sequence_id=self.EOS, \\\n",
    "                                                                           end_of_sequence_id=self.EOS, \\\n",
    "                                                                           maximum_length=tf.reduce_max(\\\n",
    "                                                                                self.encoder_inputs_length) + 3, \\\n",
    "                                                                           num_decoder_symbols=self.vocab_size)\n",
    "            else:\n",
    "                # attention_states: [batch_size, max_time, num_units]\n",
    "                attention_states = tf.transpose(self.encoder_outputs, [1,0,2])\n",
    "                \n",
    "                (attention_keys, attention_values, attention_score_fn, attention_contruct_fn) = \\\n",
    "                seq2seq.prepare_attention(attention_states=attention_states, \\\n",
    "                                          attention_option=\"bahdanau\", \\\n",
    "                                          num_units=self.decoder_cell.output_size)\n",
    "                \n",
    "                decoder_fn_train = seq2seq.attention_decoder_fn_train(encoder_state=self.encoder_state, \\\n",
    "                                                                      attention_keys=attention_keys, \\\n",
    "                                                                      attention_values=attention_values, \\\n",
    "                                                                      attention_score_fn=attention_score_fn, \\\n",
    "                                                                      attention_construct_fn=attention_contruct_fn)\n",
    "                \n",
    "                decoder_fn_inference = seq2seq.attention_decoder_fn_inference(output_fn=output_fn, \\\n",
    "                                                                              encoder_state=self.encoder_state, \\\n",
    "                                                                              attention_keys=attention_keys, \\\n",
    "                                                                              attention_values=attention_values, \\\n",
    "                                                                              attention_score_fn=attention_score_fn, \\\n",
    "                                                                              attention_construct_fn=attention_contruct_fn, \\\n",
    "                                                                              embeddings=self.embedding_matrix, \\\n",
    "                                                                              start_of_sequence_id=self.EOS, \\\n",
    "                                                                              end_of_sequence_id=self.EOS, \\\n",
    "                                                                              maximum_length=tf.reduce_max(self.encoder_inputs_length) + 3, \\\n",
    "                                                                              num_decoder_symbols=self.vocab_size)\n",
    "            \n",
    "            # dynamic rnn decoder for train\n",
    "            # logits and prediction for train\n",
    "            (self.decoder_output_train, self.decoder_state_train, self.decoder_context_state_train) = \\\n",
    "            seq2seq.dynamic_rnn_decoder(cell=self.decoder_cell, decoder_fn=decoder_fn_train, \\\n",
    "                                        inputs=self.decoder_train_inputs_embedded, \\\n",
    "                                        sequence_length=self.decoder_train_length, \\\n",
    "                                        time_major=True, scope=scope)\n",
    "            \n",
    "            self.decoder_logits_train = output_fn(self.decoder_output_train)\n",
    "            self.decoder_prediction_train = tf.argmax(self.decoder_logits_train, axis=-1, name=\"decoder_prediction_train\")\n",
    "            \n",
    "            scope.reuse_variables()\n",
    "            \n",
    "            # dynamic rn decoder for inference\n",
    "            # prediction for inference\n",
    "            (self.decoder_logits_inference, self.decoder_state_inference, self.decoder_context_state_inference) = \\\n",
    "            seq2seq.dynamic_rnn_decoder(cell=self.decoder_cell, decoder_fn=decoder_fn_inference, \\\n",
    "                                        time_major=True, scope=scope)\n",
    "            \n",
    "            self.decoder_prediction_inference = tf.argmax(self.decoder_logits_inference, axis=-1, name='decoder_prediction_inference')\n",
    "    \n",
    "    def _init_optimizer(self):\n",
    "        logits = tf.transpose(self.decoder_logits_train, [1, 0, 2])\n",
    "        targets = tf.transpose(self.decoder_train_targets, [1, 0])\n",
    "        \n",
    "        self.loss = seq2seq.sequence_loss(logits=logits, targets=targets, weights=self.loss_weights)\n",
    "        self.train_op = tf.train.AdamOptimizer().minimize(self.loss)\n",
    "        \n",
    "    def make_train_inputs(self, input_seq, target_seq):\n",
    "        inputs_, inputs_length_ = helpers.batch(input_seq)\n",
    "        targets_, targets_length_ = helpers.batch(target_seq)\n",
    "        \n",
    "        return {self.encoder_inputs: inputs_, self.encoder_inputs_length: inputs_length_, \\\n",
    "                self.decoder_targets: targets_, self.decoder_targets_length: targets_length_}\n",
    "    \n",
    "    def make_inference_inputs(self, input_seq):\n",
    "        inputs_, inputs_length_ = helpers.batch(input_seq)\n",
    "        \n",
    "        return {self.encoder_inputs: inputs_, self.encoder_inputs_length: inputs_length_}"
   ]
  },
  {
   "cell_type": "markdown",
   "metadata": {},
   "source": [
    "## Simple API"
   ]
  },
  {
   "cell_type": "code",
   "execution_count": 7,
   "metadata": {
    "collapsed": true
   },
   "outputs": [],
   "source": [
    "def make_seq2seq_model(**kwargs):\n",
    "    args = dict(encoder_cell=LSTMCell(10), decoder_cell=LSTMCell(20), vocab_size=10, embedding_size=10, \\\n",
    "                attention=True, bidirectional=True, debug=False)\n",
    "    args.update(kwargs)\n",
    "    return Seq2SeqModel(**args)"
   ]
  },
  {
   "cell_type": "code",
   "execution_count": 8,
   "metadata": {},
   "outputs": [],
   "source": [
    "def train_on_copy_task(sess, model, \n",
    "                       length_from=3, length_to=8, \n",
    "                       vocab_lower=2, vocab_upper=10, \n",
    "                       batch_size = 100, max_batches=5000, \n",
    "                       batches_in_epoch=1000, verbose=True):\n",
    "    \n",
    "    batches = helpers.random_sequences(length_from=length_from, length_to=length_to, \n",
    "                                       vocab_lower=vocab_lower, vocab_upper=vocab_upper, \n",
    "                                       batch_size=batch_size)\n",
    "    \n",
    "    loss_history = []\n",
    "    \n",
    "    try:\n",
    "        for batch in range(max_batches + 1):\n",
    "            batch_data = next(batches)\n",
    "            \n",
    "            # training for copying task\n",
    "            # both the input and target sequence are the same\n",
    "            fd = model.make_train_inputs(batch_data, batch_data)\n",
    "            _, loss = sess.run([model.train_op, model.loss], fd)\n",
    "            loss_history.append(loss)\n",
    "            \n",
    "            if verbose:\n",
    "                if batch == 0 or batch % batches_in_epoch == 0:\n",
    "                    print('batch: {}'.format(batch))\n",
    "                    print('minibatch loss: {}'.format(sess.run(model.loss, fd)))\n",
    "                    for i, (enc_input, dec_pred) in \\\n",
    "                        enumerate(zip(fd[model.encoder_inputs].T, sess.run(model.decoder_prediction_train, fd).T)):\n",
    "                        print('Sample: {}'.format(i + 1))\n",
    "                        print('encoder input: {}'.format(enc_input))\n",
    "                        print('decoder train predicted: {}'.format(dec_pred))\n",
    "                        # it is necessary to output the first data as the example\n",
    "                        if i >= 2:\n",
    "                            break\n",
    "                    print()\n",
    "            \n",
    "    except KeyboardInterrupt:\n",
    "        print(\"Training interrupted.\")\n",
    "        \n",
    "    return loss_history\n",
    "    "
   ]
  },
  {
   "cell_type": "markdown",
   "metadata": {},
   "source": [
    "## Simple example"
   ]
  },
  {
   "cell_type": "code",
   "execution_count": 9,
   "metadata": {
    "collapsed": true
   },
   "outputs": [],
   "source": [
    "import matplotlib.pyplot as plt"
   ]
  },
  {
   "cell_type": "code",
   "execution_count": null,
   "metadata": {
    "scrolled": false
   },
   "outputs": [],
   "source": [
    "types = \"train\"\n",
    "\n",
    "if types == \"fw-debug\":\n",
    "    \n",
    "    tf.reset_default_graph()\n",
    "    with tf.Session() as sess:\n",
    "        model = make_seq2seq_model(debug=True)\n",
    "        sess.run(tf.global_variables_initializer())\n",
    "        print(\"Debug Input:\")\n",
    "        print(sess.run(model.encoder_inputs))\n",
    "        print(\"Debug Pred:\")\n",
    "        print(sess.run(model.decoder_prediction_train))\n",
    "    \n",
    "elif types == \"fw-inf\":\n",
    "    \n",
    "    tf.reset_default_graph()\n",
    "    with tf.Session() as sess:\n",
    "        model = make_seq2seq_model()\n",
    "        sess.run(tf.global_variables_initializer())\n",
    "        fd = model.make_inference_inputs([[3, 7, 6, 8], [7,7]])\n",
    "        inference = sess.run(model.decoder_prediction_inference, fd)\n",
    "        print(inference)\n",
    "    \n",
    "elif types == \"train\":\n",
    "    tracks = {}\n",
    "    \n",
    "    # train with attention \n",
    "    tf.reset_default_graph()\n",
    "    with tf.Session() as sess:\n",
    "        model = make_seq2seq_model(attention=True)\n",
    "        sess.run(tf.global_variables_initializer())\n",
    "        loss_track_attention = train_on_copy_task(sess, model)\n",
    "    plt.plot(loss_track_attention, label='attention')\n",
    "    print('loss {:.4f}'.format(loss_track_attention[-1]))\n",
    "    \n",
    "    # train without attention\n",
    "    tf.reset_default_graph()\n",
    "    with tf.Session() as sess:\n",
    "        model = make_seq2seq_model(attention=False)\n",
    "        sess.run(tf.global_variables_initializer())\n",
    "        loss_track_no_attention = train_on_copy_task(sess, model)\n",
    "    plt.plot(loss_track_no_attention, label='no attention')\n",
    "    print('loss {:.4f}'.format(loss_track_no_attention[-1]))\n",
    "    \n",
    "    plt.legend()\n",
    "    \n",
    "else:\n",
    "    \n",
    "    tf.reset_default_graph()\n",
    "    sess = tf.InteractiveSession()\n",
    "    model = make_seq2seq_model(debug=False)\n",
    "    sess.run(tf.global_variables_initializer())\n",
    "    \n",
    "    fd = model.make_inference_inputs([[3, 7, 6, 8],[7,3]])\n",
    "    inference, = sess.run([model.decoder_prediction_inference], fd)\n",
    "    print(inference)"
   ]
  },
  {
   "cell_type": "markdown",
   "metadata": {},
   "source": [
    "# Seq2Seq Compare"
   ]
  },
  {
   "cell_type": "markdown",
   "metadata": {},
   "source": [
    "## LSTMCell Consisting Bidirectional Dynamic RNN with Attention Mechanism"
   ]
  },
  {
   "cell_type": "code",
   "execution_count": 10,
   "metadata": {
    "scrolled": false
   },
   "outputs": [
    {
     "name": "stdout",
     "output_type": "stream",
     "text": [
      "batch: 0\n",
      "minibatch loss: 2.3217923641204834\n",
      "Sample: 1\n",
      "encoder input: [5 2 7 8 6 0 0 0]\n",
      "decoder train predicted: [6 6 0 5 5 0 0 0 0]\n",
      "Sample: 2\n",
      "encoder input: [9 5 6 3 2 2 4 0]\n",
      "decoder train predicted: [6 6 6 6 6 6 6 6 0]\n",
      "Sample: 3\n",
      "encoder input: [9 4 5 2 6 6 8 0]\n",
      "decoder train predicted: [6 6 6 6 6 6 6 6 0]\n",
      "\n",
      "batch: 1000\n",
      "minibatch loss: 0.24910122156143188\n",
      "Sample: 1\n",
      "encoder input: [7 8 6 6 7 0 0 0]\n",
      "decoder train predicted: [7 8 6 6 7 1 0 0 0]\n",
      "Sample: 2\n",
      "encoder input: [3 2 6 0 0 0 0 0]\n",
      "decoder train predicted: [3 2 6 1 0 0 0 0 0]\n",
      "Sample: 3\n",
      "encoder input: [2 7 8 4 2 6 5 0]\n",
      "decoder train predicted: [2 7 8 4 2 6 5 1 0]\n",
      "\n",
      "batch: 2000\n",
      "minibatch loss: 0.09602542221546173\n",
      "Sample: 1\n",
      "encoder input: [3 7 7 0 0 0 0 0]\n",
      "decoder train predicted: [3 7 7 1 0 0 0 0 0]\n",
      "Sample: 2\n",
      "encoder input: [8 8 8 3 4 3 4 0]\n",
      "decoder train predicted: [8 8 8 3 4 3 4 1 0]\n",
      "Sample: 3\n",
      "encoder input: [5 5 9 0 0 0 0 0]\n",
      "decoder train predicted: [5 5 9 1 0 0 0 0 0]\n",
      "\n",
      "batch: 3000\n",
      "minibatch loss: 0.04288767650723457\n",
      "Sample: 1\n",
      "encoder input: [3 8 5 7 0 0 0 0]\n",
      "decoder train predicted: [3 8 5 7 1 0 0 0 0]\n",
      "Sample: 2\n",
      "encoder input: [9 7 3 8 3 0 0 0]\n",
      "decoder train predicted: [9 7 3 8 3 1 0 0 0]\n",
      "Sample: 3\n",
      "encoder input: [2 5 9 4 4 3 3 4]\n",
      "decoder train predicted: [2 5 9 4 4 3 3 4 1]\n",
      "\n",
      "batch: 4000\n",
      "minibatch loss: 0.019865084439516068\n",
      "Sample: 1\n",
      "encoder input: [4 2 6 8 4 0 0 0]\n",
      "decoder train predicted: [4 2 6 8 4 1 0 0 0]\n",
      "Sample: 2\n",
      "encoder input: [9 7 8 7 6 8 2 4]\n",
      "decoder train predicted: [9 7 8 7 6 8 2 4 1]\n",
      "Sample: 3\n",
      "encoder input: [5 9 2 9 8 0 0 0]\n",
      "decoder train predicted: [5 9 2 9 8 1 0 0 0]\n",
      "\n",
      "batch: 5000\n",
      "minibatch loss: 0.009693838655948639\n",
      "Sample: 1\n",
      "encoder input: [5 6 4 9 8 5 2 6]\n",
      "decoder train predicted: [5 6 4 9 8 5 2 6 1]\n",
      "Sample: 2\n",
      "encoder input: [5 8 9 3 0 0 0 0]\n",
      "decoder train predicted: [5 8 9 3 1 0 0 0 0]\n",
      "Sample: 3\n",
      "encoder input: [8 2 9 0 0 0 0 0]\n",
      "decoder train predicted: [8 2 9 1 0 0 0 0 0]\n",
      "\n",
      "loss 0.0097\n",
      "batch: 0\n",
      "minibatch loss: 2.2829031944274902\n",
      "Sample: 1\n",
      "encoder input: [5 3 8 7 0 0 0 0]\n",
      "decoder train predicted: [7 7 7 4 9 0 0 0 0]\n",
      "Sample: 2\n",
      "encoder input: [7 4 8 5 7 6 4 0]\n",
      "decoder train predicted: [7 5 8 4 4 5 4 8 0]\n",
      "Sample: 3\n",
      "encoder input: [8 9 3 7 2 6 4 0]\n",
      "decoder train predicted: [5 9 5 7 5 5 4 1 0]\n",
      "\n",
      "batch: 1000\n",
      "minibatch loss: 0.5305114984512329\n",
      "Sample: 1\n",
      "encoder input: [8 7 2 7 3 6 4 8]\n",
      "decoder train predicted: [8 7 2 7 6 6 4 6 1]\n",
      "Sample: 2\n",
      "encoder input: [9 8 8 3 3 3 0 0]\n",
      "decoder train predicted: [8 8 3 3 3 3 1 0 0]\n",
      "Sample: 3\n",
      "encoder input: [3 2 3 9 3 4 5 0]\n",
      "decoder train predicted: [3 3 3 9 3 4 5 1 0]\n",
      "\n",
      "batch: 2000\n",
      "minibatch loss: 0.2574673593044281\n",
      "Sample: 1\n",
      "encoder input: [6 5 8 2 2 0 0 0]\n",
      "decoder train predicted: [6 5 2 2 2 1 0 0 0]\n",
      "Sample: 2\n",
      "encoder input: [9 5 5 9 8 6 9 0]\n",
      "decoder train predicted: [9 5 9 9 8 6 9 1 0]\n",
      "Sample: 3\n",
      "encoder input: [5 2 6 5 0 0 0 0]\n",
      "decoder train predicted: [5 2 6 5 1 0 0 0 0]\n",
      "\n",
      "batch: 3000\n",
      "minibatch loss: 0.1461225003004074\n",
      "Sample: 1\n",
      "encoder input: [4 2 9 7 7 0 0 0]\n",
      "decoder train predicted: [4 2 9 7 7 1 0 0 0]\n",
      "Sample: 2\n",
      "encoder input: [2 8 4 8 5 9 5 0]\n",
      "decoder train predicted: [2 8 4 8 5 9 5 1 0]\n",
      "Sample: 3\n",
      "encoder input: [5 4 5 9 8 6 8 0]\n",
      "decoder train predicted: [5 4 5 9 8 6 8 1 0]\n",
      "\n",
      "batch: 4000\n",
      "minibatch loss: 0.09475734084844589\n",
      "Sample: 1\n",
      "encoder input: [6 4 2 9 6 0 0 0]\n",
      "decoder train predicted: [6 4 2 9 6 1 0 0 0]\n",
      "Sample: 2\n",
      "encoder input: [4 8 7 7 3 0 0 0]\n",
      "decoder train predicted: [4 8 7 7 3 1 0 0 0]\n",
      "Sample: 3\n",
      "encoder input: [6 3 9 0 0 0 0 0]\n",
      "decoder train predicted: [6 3 9 1 0 0 0 0 0]\n",
      "\n",
      "batch: 5000\n",
      "minibatch loss: 0.06706323474645615\n",
      "Sample: 1\n",
      "encoder input: [8 3 4 3 2 0 0 0]\n",
      "decoder train predicted: [8 3 4 3 2 1 0 0 0]\n",
      "Sample: 2\n",
      "encoder input: [3 9 6 3 3 0 0 0]\n",
      "decoder train predicted: [3 9 6 3 3 1 0 0 0]\n",
      "Sample: 3\n",
      "encoder input: [4 3 9 9 7 0 0 0]\n",
      "decoder train predicted: [4 3 9 9 7 1 0 0 0]\n",
      "\n",
      "loss 0.0705\n"
     ]
    },
    {
     "data": {
      "text/plain": [
       "<matplotlib.legend.Legend at 0x7f72949b8e80>"
      ]
     },
     "execution_count": 10,
     "metadata": {},
     "output_type": "execute_result"
    },
    {
     "data": {
      "image/png": "[encoded data removed]",
      "text/plain": [
       "<matplotlib.figure.Figure at 0x7f729942f7f0>"
      ]
     },
     "metadata": {},
     "output_type": "display_data"
    }
   ],
   "source": [
    "tf.set_random_seed(3)\n",
    "\n",
    "# train with attention \n",
    "tf.reset_default_graph()\n",
    "with tf.Session() as sess:\n",
    "    model = make_seq2seq_model(encoder_cell=LSTMCell(10), decoder_cell=LSTMCell(20), \n",
    "                               vocab_size=10, embedding_size=10, attention=True, bidirectional=True, debug=False)\n",
    "    sess.run(tf.global_variables_initializer())\n",
    "    loss_track_attention = train_on_copy_task(sess, model)\n",
    "plt.plot(loss_track_attention, label='attention')\n",
    "print('loss {:.4f}'.format(loss_track_attention[-1]))\n",
    "\n",
    "# train without attention\n",
    "tf.reset_default_graph()\n",
    "with tf.Session() as sess:\n",
    "    model = make_seq2seq_model(encoder_cell=LSTMCell(10), decoder_cell=LSTMCell(20), \n",
    "                               vocab_size=10, embedding_size=10, attention=False, bidirectional=True, debug=False)\n",
    "    sess.run(tf.global_variables_initializer())\n",
    "    loss_track_no_attention = train_on_copy_task(sess, model)\n",
    "plt.plot(loss_track_no_attention, label='no attention')\n",
    "print('loss {:.4f}'.format(loss_track_no_attention[-1]))\n",
    "\n",
    "plt.legend()"
   ]
  },
  {
   "cell_type": "markdown",
   "metadata": {},
   "source": [
    "## Forward / Bidirectional Encoder Combining No Attention / Attention "
   ]
  },
  {
   "cell_type": "code",
   "execution_count": 9,
   "metadata": {
    "scrolled": false
   },
   "outputs": [
    {
     "name": "stdout",
     "output_type": "stream",
     "text": [
      "loss 0.1940\n",
      "loss 0.0139\n",
      "loss 0.0604\n",
      "loss 0.0122\n"
     ]
    },
    {
     "data": {
      "text/plain": [
       "<matplotlib.legend.Legend at 0x7f75389226a0>"
      ]
     },
     "execution_count": 9,
     "metadata": {},
     "output_type": "execute_result"
    },
    {
     "data": {
      "image/png": "[encoded data removed]",
      "text/plain": [
       "<matplotlib.figure.Figure at 0x7f753897fcc0>"
      ]
     },
     "metadata": {},
     "output_type": "display_data"
    }
   ],
   "source": [
    "tf.set_random_seed(3)\n",
    "\n",
    "# Forward + No Attention\n",
    "tf.reset_default_graph()\n",
    "with tf.Session() as sess:\n",
    "    model = make_seq2seq_model(encoder_cell=LSTMCell(10), decoder_cell=LSTMCell(10), \n",
    "                               vocab_size=10, embedding_size=10, attention=False, bidirectional=False, debug=False)\n",
    "    sess.run(tf.global_variables_initializer())\n",
    "    Forward_No_Attention = train_on_copy_task(sess, model, verbose=False)\n",
    "plt.plot(Forward_No_Attention, label='Forward_No_Attention')\n",
    "print('loss {:.4f}'.format(Forward_No_Attention[-1]))\n",
    "\n",
    "# Forward + Attention\n",
    "tf.reset_default_graph()\n",
    "with tf.Session() as sess:\n",
    "    model = make_seq2seq_model(encoder_cell=LSTMCell(10), decoder_cell=LSTMCell(10), \n",
    "                               vocab_size=10, embedding_size=10, attention=True, bidirectional=False, debug=False)\n",
    "    sess.run(tf.global_variables_initializer())\n",
    "    Forward_Attention = train_on_copy_task(sess, model, verbose=False)\n",
    "plt.plot(Forward_Attention, label='Forward_Attention')\n",
    "print('loss {:.4f}'.format(Forward_Attention[-1]))\n",
    "\n",
    "# Bidirectional + No Attention\n",
    "tf.reset_default_graph()\n",
    "with tf.Session() as sess:\n",
    "    model = make_seq2seq_model(encoder_cell=LSTMCell(10), decoder_cell=LSTMCell(20), \n",
    "                               vocab_size=10, embedding_size=10, attention=False, bidirectional=True, debug=False)\n",
    "    sess.run(tf.global_variables_initializer())\n",
    "    Bidirectional_No_Attention = train_on_copy_task(sess, model, verbose=False)\n",
    "plt.plot(Bidirectional_No_Attention, label='Bidirectional_No_Attention')\n",
    "print('loss {:.4f}'.format(Bidirectional_No_Attention[-1]))\n",
    "\n",
    "# Bidirectional + Attention\n",
    "tf.reset_default_graph()\n",
    "with tf.Session() as sess:\n",
    "    model = make_seq2seq_model(encoder_cell=LSTMCell(10), decoder_cell=LSTMCell(20), \n",
    "                               vocab_size=10, embedding_size=10, attention=True, bidirectional=True, debug=False)\n",
    "    sess.run(tf.global_variables_initializer())\n",
    "    Bidirectional_Attention = train_on_copy_task(sess, model, verbose=False)\n",
    "plt.plot(Bidirectional_Attention, label='Bidirectional_Attention')\n",
    "print('loss {:.4f}'.format(Bidirectional_Attention[-1]))\n",
    "\n",
    "plt.legend()"
   ]
  },
  {
   "cell_type": "markdown",
   "metadata": {},
   "source": [
    "From the above result, the DNN with both the bidirectional and the attention is the best practice."
   ]
  },
  {
   "cell_type": "markdown",
   "metadata": {},
   "source": [
    "## LSTMCell / GRUCell in Bidirectional Dynamic RNN with Attention Mechanism"
   ]
  },
  {
   "cell_type": "code",
   "execution_count": 12,
   "metadata": {
    "collapsed": true
   },
   "outputs": [],
   "source": [
    "import time\n",
    "import pandas as pd"
   ]
  },
  {
   "cell_type": "code",
   "execution_count": 13,
   "metadata": {
    "collapsed": true
   },
   "outputs": [],
   "source": [
    "tf.set_random_seed(3)\n",
    "\n",
    "# LSTM Cell\n",
    "tf.reset_default_graph()\n",
    "with tf.Session() as sess:\n",
    "    model = make_seq2seq_model(encoder_cell=LSTMCell(10), decoder_cell=LSTMCell(20), \n",
    "                               vocab_size=10, embedding_size=10, attention=True, bidirectional=True, debug=False)\n",
    "    sess.run(tf.global_variables_initializer())\n",
    "    start = time.time()\n",
    "    LSTM_Loss = train_on_copy_task(sess, model, verbose=False) \n",
    "    lstm_train_peroid = time.time() - start\n",
    "    \n",
    "# GRU Cell\n",
    "tf.reset_default_graph()\n",
    "with tf.Session() as sess:\n",
    "    model = make_seq2seq_model(encoder_cell=GRUCell(10), decoder_cell=GRUCell(20), \n",
    "                               vocab_size=10, embedding_size=10, attention=True, bidirectional=True, debug=False)\n",
    "    sess.run(tf.global_variables_initializer())\n",
    "    start = time.time()\n",
    "    GRU_Loss = train_on_copy_task(sess, model, verbose=False) \n",
    "    gru_train_peroid = time.time() - start"
   ]
  },
  {
   "cell_type": "code",
   "execution_count": 17,
   "metadata": {},
   "outputs": [],
   "source": [
    "lstm = pd.Series(LSTM_Loss, name='lstm')\n",
    "gru = pd.Series(GRU_Loss, name='gru')\n",
    "loss_batch = pd.DataFrame(dict(lstm=lstm, gru=gru))\n",
    "loss_batch.index.name = 'batch'\n",
    "\n",
    "lstm.index = lstm.index / lstm_train_peroid\n",
    "gru.index = gru.index / gru_train_peroid\n",
    "tracks_time = pd.DataFrame(dict(lstm=lstm, gru=gru)).ffill()"
   ]
  },
  {
   "cell_type": "code",
   "execution_count": 18,
   "metadata": {},
   "outputs": [
    {
     "data": {
      "text/plain": [
       "<matplotlib.axes._subplots.AxesSubplot at 0x7f7549cdbc50>"
      ]
     },
     "execution_count": 18,
     "metadata": {},
     "output_type": "execute_result"
    },
    {
     "data": {
      "image/png": "[encoded data removed]",
      "text/plain": [
       "<matplotlib.figure.Figure at 0x7f753a659ac8>"
      ]
     },
     "metadata": {},
     "output_type": "display_data"
    }
   ],
   "source": [
    "loss_batch.plot(figsize=(10,6), title=\"LSTM vs GRU Loss, batch-time\")"
   ]
  },
  {
   "cell_type": "code",
   "execution_count": 19,
   "metadata": {},
   "outputs": [
    {
     "data": {
      "text/plain": [
       "<matplotlib.axes._subplots.AxesSubplot at 0x7f75383099b0>"
      ]
     },
     "execution_count": 19,
     "metadata": {},
     "output_type": "execute_result"
    },
    {
     "data": {
      "image/png": "[encoded data removed]",
      "text/plain": [
       "<matplotlib.figure.Figure at 0x7f753a6e0630>"
      ]
     },
     "metadata": {},
     "output_type": "display_data"
    }
   ],
   "source": [
    "tracks_time.plot(figsize=(10, 6), title=\"LSTM vs GRU loss, compute-time\")"
   ]
  },
  {
   "cell_type": "markdown",
   "metadata": {},
   "source": [
    "In the above experiment, it's showed that GRU provides better training performance in compute-time."
   ]
  },
  {
   "cell_type": "code",
   "execution_count": null,
   "metadata": {
    "collapsed": true
   },
   "outputs": [],
   "source": []
  }
 ],
 "metadata": {
  "kernelspec": {
   "display_name": "Python 3",
   "language": "python",
   "name": "python3"
  },
  "language_info": {
   "codemirror_mode": {
    "name": "ipython",
    "version": 3
   },
   "file_extension": ".py",
   "mimetype": "text/x-python",
   "name": "python",
   "nbconvert_exporter": "python",
   "pygments_lexer": "ipython3",
   "version": "3.5.4"
  }
 },
 "nbformat": 4,
 "nbformat_minor": 2
}
