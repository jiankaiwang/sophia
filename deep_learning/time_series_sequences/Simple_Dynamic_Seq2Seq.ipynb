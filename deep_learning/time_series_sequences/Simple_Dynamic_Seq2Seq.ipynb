{
 "cells": [
  {
   "cell_type": "markdown",
   "metadata": {},
   "source": [
    "# Basic RNN\n",
    "\n",
    "![](./tensorflow-seq2seq-tutorials/pictures/1-seq2seq.png)"
   ]
  },
  {
   "cell_type": "markdown",
   "metadata": {},
   "source": [
    "# Implementation\n",
    "\n",
    "* Length issues:\n",
    "    * Static Unrolling: multiple graphs with different time lengths and separate the dataset into different buckets.\n",
    "    * Dynamic Unrolling: use control flow opts to process sequence step by step. relative to static one, dynamic type allows different lengths, require less space and therefore more efficient (more fast.)"
   ]
  },
  {
   "cell_type": "markdown",
   "metadata": {},
   "source": [
    "# Vocabulary\n",
    "\n",
    "First, we will reconstruct the sequence into another integer-based sequence.\n",
    "\n",
    "Input data consists of sequences of integers."
   ]
  },
  {
   "cell_type": "code",
   "execution_count": 1,
   "metadata": {
    "collapsed": true
   },
   "outputs": [],
   "source": [
    "x = [[10, 20, 21], [6, 4], [10, 20], [3]]"
   ]
  },
  {
   "cell_type": "markdown",
   "metadata": {},
   "source": [
    "The sequence above is convenient to the human, but rnn prefers another type as below."
   ]
  },
  {
   "cell_type": "code",
   "execution_count": 2,
   "metadata": {
    "collapsed": true
   },
   "outputs": [],
   "source": [
    "import sys\n",
    "sys.path.append(\"tensorflow-seq2seq-tutorials\")\n",
    "\n",
    "import helpers"
   ]
  },
  {
   "cell_type": "code",
   "execution_count": 3,
   "metadata": {
    "collapsed": true
   },
   "outputs": [],
   "source": [
    "xt, xlen = helpers.batch(x)"
   ]
  },
  {
   "cell_type": "code",
   "execution_count": 4,
   "metadata": {},
   "outputs": [
    {
     "data": {
      "text/plain": [
       "[[10, 20, 21], [6, 4], [10, 20], [3]]"
      ]
     },
     "execution_count": 4,
     "metadata": {},
     "output_type": "execute_result"
    }
   ],
   "source": [
    "x"
   ]
  },
  {
   "cell_type": "code",
   "execution_count": 5,
   "metadata": {},
   "outputs": [
    {
     "data": {
      "text/plain": [
       "array([[10,  6, 10,  3],\n",
       "       [20,  4, 20,  0],\n",
       "       [21,  0,  0,  0]])"
      ]
     },
     "execution_count": 5,
     "metadata": {},
     "output_type": "execute_result"
    }
   ],
   "source": [
    "xt"
   ]
  },
  {
   "cell_type": "code",
   "execution_count": 6,
   "metadata": {},
   "outputs": [
    {
     "data": {
      "text/plain": [
       "(3, 4)"
      ]
     },
     "execution_count": 6,
     "metadata": {},
     "output_type": "execute_result"
    }
   ],
   "source": [
    "xt.shape"
   ]
  },
  {
   "cell_type": "markdown",
   "metadata": {},
   "source": [
    "Shape of the matrix stands for `[max_time, batch_size]`. Sequences shorter than the longest one are padded with '0' toward to the end. Such layer is called `time-major`."
   ]
  },
  {
   "cell_type": "code",
   "execution_count": 7,
   "metadata": {},
   "outputs": [
    {
     "data": {
      "text/plain": [
       "[3, 2, 2, 1]"
      ]
     },
     "execution_count": 7,
     "metadata": {},
     "output_type": "execute_result"
    }
   ],
   "source": [
    "xlen   # represents for the time series"
   ]
  },
  {
   "cell_type": "markdown",
   "metadata": {},
   "source": [
    "# Building the Model\n",
    "\n",
    "## Encoder\n",
    "* Starts with empty state.\n",
    "* Run through the input sequence.\n",
    "* Not interested in encoder's output, but its `final_state`.\n",
    "\n",
    "## Decoder\n",
    "* Use encoder's `final_state` as its `initial_state`.\n",
    "* The `input` are a batch-sized matrix with `<EOS>` token at the first time step.\n",
    "* The `output` are mapped onto the output space in `[hidden_units, output_vocab_size]` projection layer. `hidden_units` is like the intelligence. `output_vocab_size` represents the target space growing with the size of the dictionary.\n",
    "    \n",
    "Such type of encoder-decoder is forced to learn fixed-length representation (specificially to the size of  `hidden_units`) of the variable-length input sequence and restore output sequence only from this representation."
   ]
  },
  {
   "cell_type": "code",
   "execution_count": 8,
   "metadata": {
    "collapsed": true
   },
   "outputs": [],
   "source": [
    "import numpy as np\n",
    "import tensorflow as tf\n",
    "import helpers\n",
    "\n",
    "tf.reset_default_graph()\n",
    "sess = tf.InteractiveSession()"
   ]
  },
  {
   "cell_type": "code",
   "execution_count": 9,
   "metadata": {},
   "outputs": [
    {
     "name": "stdout",
     "output_type": "stream",
     "text": [
      "Tensorflow version: 1.11.0\n"
     ]
    }
   ],
   "source": [
    "print(\"Tensorflow version: {}\".format(tf.__version__))"
   ]
  },
  {
   "cell_type": "markdown",
   "metadata": {},
   "source": [
    "## Vocabulary size\n",
    "\n",
    "Dynamic RNN models can be adapted to (1) different batch size, (2) sequence length without retraining. For example, load serializing paramters and graph definitions via `tf.train.Saver`. But, changing vocabulary size (here, the size is the space for the whole target words.) requires a retraining."
   ]
  },
  {
   "cell_type": "code",
   "execution_count": 10,
   "metadata": {
    "collapsed": true
   },
   "outputs": [],
   "source": [
    "PAD = 0\n",
    "EOS = 1\n",
    "\n",
    "vocab_size = 10\n",
    "input_embeddning_size = 20\n",
    "\n",
    "encoder_hidden_units = 20\n",
    "decoder_hidden_units = encoder_hidden_units"
   ]
  },
  {
   "cell_type": "markdown",
   "metadata": {},
   "source": [
    "## Inputs\n",
    "\n",
    "\n",
    "* `encoder_inputs`: a **int32** tensor shaped [encoder_max_time, batch_size]\n",
    "* `decoder_targets`: a **int32** tensor shaped [decoder_max_time, batch_size]"
   ]
  },
  {
   "cell_type": "code",
   "execution_count": 11,
   "metadata": {
    "collapsed": true
   },
   "outputs": [],
   "source": [
    "encoder_inputs = tf.placeholder(shape=(None, None), dtype=tf.int32, name=\"encoder_inputs\")\n",
    "decoder_targets = tf.placeholder(shape=(None, None), dtype=tf.int32, name=\"decoder_targets\")"
   ]
  },
  {
   "cell_type": "markdown",
   "metadata": {},
   "source": [
    "* (Add an additional placeholder tensor) `decoder_inputs`: a **int32** tensor shaped [decoder_max_time, batch_size]"
   ]
  },
  {
   "cell_type": "code",
   "execution_count": 12,
   "metadata": {
    "collapsed": true
   },
   "outputs": [],
   "source": [
    "decoder_inputs = tf.placeholder(shape=(None, None), dtype=tf.int32, name=\"decoder_inputs\")"
   ]
  },
  {
   "cell_type": "markdown",
   "metadata": {},
   "source": [
    "We don't need to feed `decoder_inputs` manually. They are a function of either `decoder_targets` or previous decoder outputs during rollout.\n",
    "\n",
    "During training, `decoder_inputs` will consist of `<EOS>` token concatenated with `decoder_targets` along time axis.\n",
    "\n",
    "Notice that all shapes are specificied with `None`s (means `dynamically`). We can use batches of any size with any numbers of timesteps. But there are serveral constraints:\n",
    "\n",
    "* Feed values for the whole tensor should have the same `batch_size`.\n",
    "* Decoder `inputs` (decoder_inputs) and `outputs` (decoder_targets) should have the same `decoder_max_time`."
   ]
  },
  {
   "cell_type": "markdown",
   "metadata": {},
   "source": [
    "## Embeddings"
   ]
  },
  {
   "cell_type": "markdown",
   "metadata": {},
   "source": [
    "Encoder and decoder RNNs expect dense vector representation of words, e.g. `[max_time, batch_size, input_embedding_size]`. We can convert one to another by using `embeddings`.\n",
    "\n",
    "We rely on end-to-end training to learn vector representation for words jointly with encoder and decoder."
   ]
  },
  {
   "cell_type": "code",
   "execution_count": 13,
   "metadata": {
    "collapsed": true
   },
   "outputs": [],
   "source": [
    "embeddings = tf.get_variable(\"embeddings\", \\\n",
    "        dtype=tf.float32, \\\n",
    "        shape=[vocab_size, input_embeddning_size], \\\n",
    "        initializer=tf.random_uniform_initializer(-1.0, 1.0))"
   ]
  },
  {
   "cell_type": "markdown",
   "metadata": {},
   "source": [
    "We use `tf.nn.embedding_lookup` to index embedding matrix; if we given word 4, it means 4th column of the embedding matrix. Wy only need to compute gradients at 4th column.\n",
    "\n",
    "In the case, the encoder and decoder share the same embedding. (In real NLP applications, embedding matrix can be very large.)"
   ]
  },
  {
   "cell_type": "code",
   "execution_count": 14,
   "metadata": {
    "collapsed": true
   },
   "outputs": [],
   "source": [
    "encoder_input_embedded = tf.nn.embedding_lookup(embeddings, encoder_inputs)\n",
    "decoder_input_embedded = tf.nn.embedding_lookup(embeddings, decoder_inputs)"
   ]
  },
  {
   "cell_type": "markdown",
   "metadata": {},
   "source": [
    "## Encoder"
   ]
  },
  {
   "cell_type": "code",
   "execution_count": 15,
   "metadata": {
    "collapsed": true
   },
   "outputs": [],
   "source": [
    "encoder_cell = tf.contrib.rnn.LSTMCell(encoder_hidden_units)\n",
    "\n",
    "# _ is the encoder output, but here we don't need\n",
    "_, encoder_final_state = tf.nn.dynamic_rnn(encoder_cell, encoder_input_embedded, dtype=tf.float32, time_major=True)"
   ]
  },
  {
   "cell_type": "markdown",
   "metadata": {},
   "source": [
    "`encoder_final_state` is the state of LSTM's hidden cells at the last moment of the Encoder rollout. `encoder_final_state` is also called `thought vector`. We use it as the input of the decoder. It is the only input to the decoder in the model without attention mechanism."
   ]
  },
  {
   "cell_type": "code",
   "execution_count": 16,
   "metadata": {},
   "outputs": [
    {
     "data": {
      "text/plain": [
       "LSTMStateTuple(c=<tf.Tensor 'rnn/while/Exit_3:0' shape=(?, 20) dtype=float32>, h=<tf.Tensor 'rnn/while/Exit_4:0' shape=(?, 20) dtype=float32>)"
      ]
     },
     "execution_count": 16,
     "metadata": {},
     "output_type": "execute_result"
    }
   ],
   "source": [
    "encoder_final_state"
   ]
  },
  {
   "cell_type": "markdown",
   "metadata": {},
   "source": [
    "Tensorflow LSTM implementation stores state as the a tuple of tensors.\n",
    "* `encoder_final_state.h`: activation of hidden layer of LSTM cell\n",
    "* `encoder_final_state.c`: final output"
   ]
  },
  {
   "cell_type": "markdown",
   "metadata": {},
   "source": [
    "## Decoder"
   ]
  },
  {
   "cell_type": "code",
   "execution_count": 17,
   "metadata": {
    "collapsed": true
   },
   "outputs": [],
   "source": [
    "decoder_cell = tf.contrib.rnn.LSTMCell(decoder_hidden_units)\n",
    "\n",
    "decoder_outputs, decoder_final_state = tf.nn.dynamic_rnn(decoder_cell, decoder_input_embedded, \\\n",
    "                                                         initial_state=encoder_final_state, dtype=tf.float32, \\\n",
    "                                                        time_major=True, scope=\"plain_decoder\")"
   ]
  },
  {
   "cell_type": "markdown",
   "metadata": {},
   "source": [
    "`initial_state=encoder_final_state` requires:\n",
    "* the same cell type (here is LSTMCell)\n",
    "* the same amount of `hidden_units`\n",
    "* the same amount of layers (single layer)"
   ]
  },
  {
   "cell_type": "code",
   "execution_count": 18,
   "metadata": {},
   "outputs": [
    {
     "data": {
      "text/plain": [
       "<tf.Tensor 'plain_decoder/TensorArrayStack/TensorArrayGatherV3:0' shape=(?, ?, 20) dtype=float32>"
      ]
     },
     "execution_count": 18,
     "metadata": {},
     "output_type": "execute_result"
    }
   ],
   "source": [
    "decoder_outputs"
   ]
  },
  {
   "cell_type": "markdown",
   "metadata": {},
   "source": [
    "`decoder_outpute` is a `hidden_units` sized vector at every timestep. For training or prediction we need logits of size `vocab_size`. Here we have to put linear layer (fc layer without activation function) on top of LSTM output to get non-normalized logits. This layer is called projection layer by convention."
   ]
  },
  {
   "cell_type": "code",
   "execution_count": 19,
   "metadata": {
    "collapsed": true
   },
   "outputs": [],
   "source": [
    "decoder_logits  = tf.contrib.layers.linear(decoder_outputs, vocab_size)\n",
    "decoder_prediction = tf.argmax(decoder_logits, 2)"
   ]
  },
  {
   "cell_type": "markdown",
   "metadata": {},
   "source": [
    "## Optimizer"
   ]
  },
  {
   "cell_type": "code",
   "execution_count": 20,
   "metadata": {},
   "outputs": [
    {
     "data": {
      "text/plain": [
       "<tf.Tensor 'fully_connected/BiasAdd:0' shape=(?, ?, 10) dtype=float32>"
      ]
     },
     "execution_count": 20,
     "metadata": {},
     "output_type": "execute_result"
    }
   ],
   "source": [
    "decoder_logits"
   ]
  },
  {
   "cell_type": "markdown",
   "metadata": {},
   "source": [
    "RNN outputs tensor of shape `[max_time, batch_size, hidden_units]` which projection layer maps onto `[max_time, batch_size, vocab_size]`."
   ]
  },
  {
   "cell_type": "code",
   "execution_count": 21,
   "metadata": {},
   "outputs": [
    {
     "name": "stdout",
     "output_type": "stream",
     "text": [
      "WARNING:tensorflow:From <ipython-input-21-05f6ec0fbbf9>:3: softmax_cross_entropy_with_logits (from tensorflow.python.ops.nn_ops) is deprecated and will be removed in a future version.\n",
      "Instructions for updating:\n",
      "\n",
      "Future major versions of TensorFlow will allow gradients to flow\n",
      "into the labels input on backprop by default.\n",
      "\n",
      "See `tf.nn.softmax_cross_entropy_with_logits_v2`.\n",
      "\n"
     ]
    }
   ],
   "source": [
    "stepwise_cross_entropy = tf.nn.softmax_cross_entropy_with_logits(\n",
    "    labels=tf.one_hot(decoder_targets, depth=vocab_size, dtype=tf.float32),\n",
    "    logits=decoder_logits,\n",
    ")\n",
    "\n",
    "loss = tf.reduce_mean(stepwise_cross_entropy)\n",
    "train_op = tf.train.AdamOptimizer().minimize(loss)"
   ]
  },
  {
   "cell_type": "code",
   "execution_count": 22,
   "metadata": {
    "collapsed": true
   },
   "outputs": [],
   "source": [
    "sess.run(tf.global_variables_initializer())"
   ]
  },
  {
   "cell_type": "markdown",
   "metadata": {},
   "source": [
    "## Test forward pass"
   ]
  },
  {
   "cell_type": "code",
   "execution_count": 23,
   "metadata": {
    "scrolled": false
   },
   "outputs": [
    {
     "name": "stdout",
     "output_type": "stream",
     "text": [
      "batch_encoded:\n",
      "[[6 3 7]\n",
      " [0 7 4]\n",
      " [0 0 1]]\n",
      "decoder inputs:\n",
      "[[1 1 1]\n",
      " [0 0 0]\n",
      " [0 0 0]\n",
      " [0 0 0]]\n",
      "decoder prediction:\n",
      "[[9 9 0]\n",
      " [9 9 0]\n",
      " [9 9 0]\n",
      " [3 3 3]]\n"
     ]
    }
   ],
   "source": [
    "batch_ = [[6], [3, 7], [7, 4, 1]]\n",
    "\n",
    "batch_, batch_length = helpers.batch(batch_)\n",
    "print('batch_encoded:\\n' + str(batch_))\n",
    "\n",
    "din_, dlen = helpers.batch(np.ones(shape=(3,1), dtype=np.int32), max_sequence_length=4)\n",
    "print('decoder inputs:\\n' + str(din_))\n",
    "\n",
    "pred_ = sess.run(decoder_prediction, feed_dict={encoder_inputs: batch_, decoder_inputs: din_})\n",
    "print('decoder prediction:\\n' + str(pred_))"
   ]
  },
  {
   "cell_type": "markdown",
   "metadata": {},
   "source": [
    "# Training on the toy task"
   ]
  },
  {
   "cell_type": "markdown",
   "metadata": {},
   "source": [
    "Here we teach our model to memorize and reproduce input sequence. Sequences will be random, with varying length. The model will simply encode sequence in a thought vector, and then decode from it."
   ]
  },
  {
   "cell_type": "code",
   "execution_count": 24,
   "metadata": {},
   "outputs": [
    {
     "name": "stdout",
     "output_type": "stream",
     "text": [
      "head of the batch: \n",
      "[5, 3, 5, 9, 3, 7, 6, 3]\n",
      "[4, 5, 9, 4, 2]\n",
      "[8, 9, 7, 8, 7, 3, 6]\n",
      "[7, 8, 6, 3, 2, 9, 7, 9]\n",
      "[7, 6, 7, 7, 4]\n",
      "[4, 9, 2, 6]\n",
      "[3, 8, 3, 9]\n",
      "[4, 9, 4]\n",
      "[3, 3, 5, 2, 5, 8, 4]\n",
      "[5, 4, 6, 9]\n"
     ]
    }
   ],
   "source": [
    "batch_size = 100\n",
    "\n",
    "batches = helpers.random_sequences(length_from=3, length_to=8, vocab_lower=2, vocab_upper=10, batch_size=batch_size)\n",
    "print('head of the batch: ')\n",
    "\n",
    "for idx in next(batches)[:10]:\n",
    "    print(idx)"
   ]
  },
  {
   "cell_type": "code",
   "execution_count": 25,
   "metadata": {
    "collapsed": true
   },
   "outputs": [],
   "source": [
    "def next_feed():\n",
    "    batch = next(batches)\n",
    "    encoder_inputs_, _ = helpers.batch(batch)\n",
    "    decoder_targets_, _ = helpers.batch([(sequence) + [EOS] for sequence in batch])\n",
    "    decoder_inputs_, _ = helpers.batch([[EOS] + (sequence) for sequence in batch])\n",
    "    return { encoder_inputs: encoder_inputs_, decoder_inputs: decoder_inputs_, decoder_targets: decoder_targets_ }"
   ]
  },
  {
   "cell_type": "markdown",
   "metadata": {},
   "source": [
    "Given encoder_inputs `[5,6,7]`, decoder_targets would be `[5,6,7,1]`, and the decoder_input would be `[1,5,6,7]`.\n",
    "\n",
    "decoder_inputs are lagged by 1 step, passing previous token as input at current step."
   ]
  },
  {
   "cell_type": "code",
   "execution_count": 26,
   "metadata": {
    "collapsed": true
   },
   "outputs": [],
   "source": [
    "loss_track = []"
   ]
  },
  {
   "cell_type": "code",
   "execution_count": 27,
   "metadata": {
    "scrolled": false
   },
   "outputs": [
    {
     "name": "stdout",
     "output_type": "stream",
     "text": [
      "batch 0\n",
      "  minibatch loss: 2.2997896671295166\n",
      "  sample 1:\n",
      "    input     > [9 5 6 4 8 5 5 0]\n",
      "    predicted > [9 1 9 9 1 1 5 3 3]\n",
      "  sample 2:\n",
      "    input     > [3 3 2 0 0 0 0 0]\n",
      "    predicted > [9 9 9 9 9 9 3 3 3]\n",
      "  sample 3:\n",
      "    input     > [2 3 4 0 0 0 0 0]\n",
      "    predicted > [9 9 9 7 9 9 3 3 3]\n",
      "\n",
      "batch 1000\n",
      "  minibatch loss: 0.29770025610923767\n",
      "  sample 1:\n",
      "    input     > [4 8 5 3 7 8 0 0]\n",
      "    predicted > [4 8 5 7 7 8 1 0 0]\n",
      "  sample 2:\n",
      "    input     > [2 7 9 2 4 0 0 0]\n",
      "    predicted > [2 9 9 2 4 1 0 0 0]\n",
      "  sample 3:\n",
      "    input     > [2 5 9 4 4 3 0 0]\n",
      "    predicted > [2 5 4 4 4 3 1 0 0]\n",
      "\n",
      "batch 2000\n",
      "  minibatch loss: 0.16550947725772858\n",
      "  sample 1:\n",
      "    input     > [9 6 4 4 7 4 6 0]\n",
      "    predicted > [9 6 4 4 7 6 6 1 0]\n",
      "  sample 2:\n",
      "    input     > [4 2 8 2 3 3 6 0]\n",
      "    predicted > [2 2 2 2 3 3 6 1 0]\n",
      "  sample 3:\n",
      "    input     > [9 7 9 4 9 3 0 0]\n",
      "    predicted > [9 7 9 4 9 3 1 0 0]\n",
      "\n",
      "batch 3000\n",
      "  minibatch loss: 0.08369956910610199\n",
      "  sample 1:\n",
      "    input     > [8 2 7 0 0 0 0 0]\n",
      "    predicted > [8 2 7 1 0 0 0 0 0]\n",
      "  sample 2:\n",
      "    input     > [6 4 5 3 0 0 0 0]\n",
      "    predicted > [6 4 5 3 1 0 0 0 0]\n",
      "  sample 3:\n",
      "    input     > [4 9 3 3 0 0 0 0]\n",
      "    predicted > [4 9 3 3 1 0 0 0 0]\n",
      "\n"
     ]
    }
   ],
   "source": [
    "max_batches = 3001\n",
    "batches_in_epoch = 1000\n",
    "\n",
    "try:\n",
    "    for batch in range(max_batches):\n",
    "        fd = next_feed()\n",
    "        _, l = sess.run([train_op, loss], fd)\n",
    "        loss_track.append(l)\n",
    "\n",
    "        if batch == 0 or batch % batches_in_epoch == 0:\n",
    "            print('batch {}'.format(batch))\n",
    "            print('  minibatch loss: {}'.format(sess.run(loss, fd)))\n",
    "            predict_ = sess.run(decoder_prediction, fd)\n",
    "            for i, (inp, pred) in enumerate(zip(fd[encoder_inputs].T, predict_.T)):\n",
    "                print('  sample {}:'.format(i + 1))\n",
    "                print('    input     > {}'.format(inp))\n",
    "                print('    predicted > {}'.format(pred))\n",
    "                if i >= 2:\n",
    "                    break\n",
    "            print()\n",
    "except KeyboardInterrupt:\n",
    "    print('training interrupted')"
   ]
  },
  {
   "cell_type": "code",
   "execution_count": 28,
   "metadata": {},
   "outputs": [
    {
     "name": "stdout",
     "output_type": "stream",
     "text": [
      "loss: 0.0794\n"
     ]
    },
    {
     "data": {
      "image/png": "[encoded data removed]",
      "text/plain": [
       "<matplotlib.figure.Figure at 0x2113556ff60>"
      ]
     },
     "metadata": {},
     "output_type": "display_data"
    }
   ],
   "source": [
    "%matplotlib inline\n",
    "import matplotlib.pyplot as plt\n",
    "plt.plot(loss_track)\n",
    "print('loss: {:.4f}'.format(loss_track[-1]))"
   ]
  },
  {
   "cell_type": "code",
   "execution_count": null,
   "metadata": {
    "collapsed": true
   },
   "outputs": [],
   "source": []
  }
 ],
 "metadata": {
  "anaconda-cloud": {},
  "kernelspec": {
   "display_name": "Python 3",
   "language": "python",
   "name": "python3"
  },
  "language_info": {
   "codemirror_mode": {
    "name": "ipython",
    "version": 3
   },
   "file_extension": ".py",
   "mimetype": "text/x-python",
   "name": "python",
   "nbconvert_exporter": "python",
   "pygments_lexer": "ipython3",
   "version": "3.5.4"
  }
 },
 "nbformat": 4,
 "nbformat_minor": 2
}
