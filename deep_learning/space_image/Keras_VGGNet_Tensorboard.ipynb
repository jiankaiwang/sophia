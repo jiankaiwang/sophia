{
 "cells": [
  {
   "cell_type": "code",
   "execution_count": 1,
   "metadata": {
    "collapsed": false,
    "deletable": true,
    "editable": true
   },
   "outputs": [
    {
     "name": "stderr",
     "output_type": "stream",
     "text": [
      "Using TensorFlow backend.\n"
     ]
    },
    {
     "name": "stdout",
     "output_type": "stream",
     "text": [
      "Keras version: 2.2.2\n"
     ]
    }
   ],
   "source": [
    "import keras\n",
    "from keras.utils import np_utils\n",
    "from keras import backend as K\n",
    "\n",
    "# \"th\": \"backend is theano\", input_shape must be (channels, height, width)\n",
    "# \"tf\": \"backend is tensorflow\", input_shape must be (height, width, channels)\n",
    "K.set_image_dim_ordering('tf')\n",
    "print(\"Keras version: {}\".format(keras.__version__))"
   ]
  },
  {
   "cell_type": "markdown",
   "metadata": {
    "deletable": true,
    "editable": true
   },
   "source": [
    "# Data reading / Data preprocessing"
   ]
  },
  {
   "cell_type": "code",
   "execution_count": 2,
   "metadata": {
    "collapsed": true,
    "deletable": true,
    "editable": true
   },
   "outputs": [],
   "source": [
    "from keras.datasets import mnist\n",
    "import numpy as np"
   ]
  },
  {
   "cell_type": "code",
   "execution_count": 3,
   "metadata": {
    "collapsed": true,
    "deletable": true,
    "editable": true
   },
   "outputs": [],
   "source": [
    "# X_train, X_test: (nb_samples, 3, 32, 32) , RGB channels and data type is uint8\n",
    "# Y_train, Y_test: (nb_samples,) and the value is from 0 to 9\n",
    "\n",
    "(x_train, y_train), (x_test, y_test) = mnist.load_data()"
   ]
  },
  {
   "cell_type": "markdown",
   "metadata": {
    "deletable": true,
    "editable": true
   },
   "source": [
    "# Parameters / Model"
   ]
  },
  {
   "cell_type": "code",
   "execution_count": 4,
   "metadata": {
    "collapsed": true,
    "deletable": true,
    "editable": true
   },
   "outputs": [],
   "source": [
    "full_training = False\n",
    "batch_size = 128 if full_training else 64\n",
    "nb_classes = 10\n",
    "nb_epoch = 12 if full_training else 1\n",
    "\n",
    "img_rows, img_cols = 28, 28\n",
    "pool_size = (2,2)\n",
    "kernel_size = (3,3)"
   ]
  },
  {
   "cell_type": "code",
   "execution_count": 5,
   "metadata": {
    "collapsed": true,
    "deletable": true,
    "editable": true
   },
   "outputs": [],
   "source": [
    "# (sample_num, row, col, channel)\n",
    "x_train = x_train.reshape(x_train.shape[0], img_rows, img_cols, 1)\n",
    "x_test = x_test.reshape(x_test.shape[0], img_rows, img_cols, 1)\n",
    "input_shape = (img_rows, img_cols, 1)\n",
    "\n",
    "x_train = x_train.astype('float32')\n",
    "x_test = x_test.astype('float32')\n",
    "x_train /= 255.\n",
    "x_test /= 255.\n",
    "\n",
    "# one-hot encoding\n",
    "# e.g. array([0., 0., 0., 0., 0., 1., 0., 0., 0., 0.])\n",
    "y_train = np_utils.to_categorical(y_train, nb_classes)\n",
    "y_test = np_utils.to_categorical(y_test, nb_classes)"
   ]
  },
  {
   "cell_type": "markdown",
   "metadata": {
    "deletable": true,
    "editable": true
   },
   "source": [
    "## Model"
   ]
  },
  {
   "cell_type": "code",
   "execution_count": 6,
   "metadata": {
    "collapsed": true,
    "deletable": true,
    "editable": true
   },
   "outputs": [],
   "source": [
    "import os\n",
    "import sys\n",
    "from keras.models import Sequential\n",
    "from keras.layers import Dense, Activation, Flatten, Dropout, MaxPooling2D, Conv2D\n",
    "from keras.models import save_model, load_model"
   ]
  },
  {
   "cell_type": "code",
   "execution_count": 7,
   "metadata": {
    "collapsed": true,
    "deletable": true,
    "editable": true
   },
   "outputs": [],
   "source": [
    "model = Sequential()\n",
    "\n",
    "model.add(Conv2D(64, activation='relu', kernel_size=(kernel_size[0], kernel_size[1]), padding='SAME', name='b1c1', input_shape=input_shape))\n",
    "model.add(Conv2D(64, activation='relu', kernel_size=(kernel_size[0], kernel_size[1]), padding='SAME', name='b1c2'))\n",
    "model.add(MaxPooling2D(pool_size=pool_size, strides=(2,2), name='b1p1'))\n",
    "\n",
    "model.add(Conv2D(128, activation='relu', kernel_size=(kernel_size[0], kernel_size[1]), padding='SAME', name='b2c1'))\n",
    "model.add(Conv2D(128, activation='relu', kernel_size=(kernel_size[0], kernel_size[1]), padding='SAME', name='b2c2'))\n",
    "model.add(MaxPooling2D(pool_size=pool_size, strides=(2,2), name='b2p1'))\n",
    "\n",
    "model.add(Conv2D(256, activation='relu', kernel_size=(kernel_size[0], kernel_size[1]), padding='SAME', name='b3c1'))\n",
    "model.add(Conv2D(256, activation='relu', kernel_size=(kernel_size[0], kernel_size[1]), padding='SAME', name='b3c2'))\n",
    "model.add(Conv2D(256, activation='relu', kernel_size=(kernel_size[0], kernel_size[1]), padding='SAME', name='b3c3'))\n",
    "model.add(Conv2D(256, activation='relu', kernel_size=(kernel_size[0], kernel_size[1]), padding='SAME', name='b3c4'))\n",
    "model.add(MaxPooling2D(pool_size=pool_size, strides=(2,2), name='b3p1'))\n",
    "\n",
    "model.add(Conv2D(512, activation='relu', kernel_size=(kernel_size[0], kernel_size[1]), padding='SAME', name='b4c1'))\n",
    "model.add(Conv2D(512, activation='relu', kernel_size=(kernel_size[0], kernel_size[1]), padding='SAME', name='b4c2'))\n",
    "model.add(Conv2D(512, activation='relu', kernel_size=(kernel_size[0], kernel_size[1]), padding='SAME', name='b4c3'))\n",
    "model.add(Conv2D(512, activation='relu', kernel_size=(kernel_size[0], kernel_size[1]), padding='SAME', name='b4c4'))\n",
    "model.add(MaxPooling2D(pool_size=pool_size, strides=(2,2), name='b4p1'))\n",
    "\n",
    "# flatten\n",
    "model.add(Flatten())\n",
    "\n",
    "model.add(Dense(4096, activation='relu'))\n",
    "model.add(Dropout(0.5))\n",
    "\n",
    "model.add(Dense(4096, activation='relu'))\n",
    "model.add(Dropout(0.5))\n",
    "\n",
    "# Second Dense Layer (FC 2)\n",
    "model.add(Dense(nb_classes, activation='softmax'))"
   ]
  },
  {
   "cell_type": "markdown",
   "metadata": {
    "deletable": true,
    "editable": true
   },
   "source": [
    "## Show Model Summary"
   ]
  },
  {
   "cell_type": "code",
   "execution_count": 8,
   "metadata": {
    "collapsed": false,
    "deletable": true,
    "editable": true
   },
   "outputs": [
    {
     "name": "stdout",
     "output_type": "stream",
     "text": [
      "_________________________________________________________________\n",
      "Layer (type)                 Output Shape              Param #   \n",
      "=================================================================\n",
      "b1c1 (Conv2D)                (None, 28, 28, 64)        640       \n",
      "_________________________________________________________________\n",
      "b1c2 (Conv2D)                (None, 28, 28, 64)        36928     \n",
      "_________________________________________________________________\n",
      "b1p1 (MaxPooling2D)          (None, 14, 14, 64)        0         \n",
      "_________________________________________________________________\n",
      "b2c1 (Conv2D)                (None, 14, 14, 128)       73856     \n",
      "_________________________________________________________________\n",
      "b2c2 (Conv2D)                (None, 14, 14, 128)       147584    \n",
      "_________________________________________________________________\n",
      "b2p1 (MaxPooling2D)          (None, 7, 7, 128)         0         \n",
      "_________________________________________________________________\n",
      "b3c1 (Conv2D)                (None, 7, 7, 256)         295168    \n",
      "_________________________________________________________________\n",
      "b3c2 (Conv2D)                (None, 7, 7, 256)         590080    \n",
      "_________________________________________________________________\n",
      "b3c3 (Conv2D)                (None, 7, 7, 256)         590080    \n",
      "_________________________________________________________________\n",
      "b3c4 (Conv2D)                (None, 7, 7, 256)         590080    \n",
      "_________________________________________________________________\n",
      "b3p1 (MaxPooling2D)          (None, 3, 3, 256)         0         \n",
      "_________________________________________________________________\n",
      "b4c1 (Conv2D)                (None, 3, 3, 512)         1180160   \n",
      "_________________________________________________________________\n",
      "b4c2 (Conv2D)                (None, 3, 3, 512)         2359808   \n",
      "_________________________________________________________________\n",
      "b4c3 (Conv2D)                (None, 3, 3, 512)         2359808   \n",
      "_________________________________________________________________\n",
      "b4c4 (Conv2D)                (None, 3, 3, 512)         2359808   \n",
      "_________________________________________________________________\n",
      "b4p1 (MaxPooling2D)          (None, 1, 1, 512)         0         \n",
      "_________________________________________________________________\n",
      "flatten_1 (Flatten)          (None, 512)               0         \n",
      "_________________________________________________________________\n",
      "dense_1 (Dense)              (None, 4096)              2101248   \n",
      "_________________________________________________________________\n",
      "dropout_1 (Dropout)          (None, 4096)              0         \n",
      "_________________________________________________________________\n",
      "dense_2 (Dense)              (None, 4096)              16781312  \n",
      "_________________________________________________________________\n",
      "dropout_2 (Dropout)          (None, 4096)              0         \n",
      "_________________________________________________________________\n",
      "dense_3 (Dense)              (None, 10)                40970     \n",
      "=================================================================\n",
      "Total params: 29,507,530\n",
      "Trainable params: 29,507,530\n",
      "Non-trainable params: 0\n",
      "_________________________________________________________________\n"
     ]
    }
   ],
   "source": [
    "model.summary()"
   ]
  },
  {
   "cell_type": "markdown",
   "metadata": {
    "deletable": true,
    "editable": true
   },
   "source": [
    "# Target"
   ]
  },
  {
   "cell_type": "code",
   "execution_count": 9,
   "metadata": {
    "collapsed": true,
    "deletable": true,
    "editable": true
   },
   "outputs": [],
   "source": [
    "# define loss function, optimizer, and metrics\n",
    "model.compile(loss='categorical_crossentropy', optimizer='adadelta', metrics=['accuracy'])\n",
    "\n",
    "# load the model if it exists\n",
    "modelpath = os.path.join('.','keras_model','vggnet.h5')\n",
    "if os.path.isfile(modelpath):\n",
    "    model = load_model(modelpath)"
   ]
  },
  {
   "cell_type": "markdown",
   "metadata": {
    "deletable": true,
    "editable": true
   },
   "source": [
    "# Learning / Tensorboard"
   ]
  },
  {
   "cell_type": "code",
   "execution_count": null,
   "metadata": {
    "collapsed": true,
    "deletable": true,
    "editable": true
   },
   "outputs": [],
   "source": [
    "# generate the tensorboard\n",
    "# tensorboard --logdir path_to_current_dir/Graph \n",
    "tbCallBack = keras.callbacks.TensorBoard(log_dir=os.path.join('.','keras_model','graph'), histogram_freq=0, write_graph=True, write_images=True)\n",
    "\n",
    "# training the model\n",
    "model.fit(x_train, y_train, \\\n",
    "          batch_size=batch_size, \\\n",
    "          epochs=nb_epoch, \\\n",
    "          verbose=1, \\\n",
    "          validation_data=(x_test, y_test), \\\n",
    "          shuffle=True, \\\n",
    "          callbacks=[tbCallBack])"
   ]
  },
  {
   "cell_type": "markdown",
   "metadata": {
    "deletable": true,
    "editable": true
   },
   "source": [
    "## Evaluating"
   ]
  },
  {
   "cell_type": "code",
   "execution_count": 10,
   "metadata": {
    "collapsed": false,
    "deletable": true,
    "editable": true
   },
   "outputs": [
    {
     "name": "stdout",
     "output_type": "stream",
     "text": [
      "Test Score: 0.06625349406016466.\n",
      "Test Accuracy: 0.9878.\n"
     ]
    }
   ],
   "source": [
    "score = model.evaluate(x_test, y_test, verbose=0)\n",
    "print('Test Score: {}.'.format(score[0]))\n",
    "print('Test Accuracy: {}.'.format(score[1]))"
   ]
  },
  {
   "cell_type": "markdown",
   "metadata": {
    "deletable": true,
    "editable": true
   },
   "source": [
    "# Prediction / Inference"
   ]
  },
  {
   "cell_type": "code",
   "execution_count": 11,
   "metadata": {
    "collapsed": false,
    "deletable": true,
    "editable": true
   },
   "outputs": [
    {
     "name": "stdout",
     "output_type": "stream",
     "text": [
      "[[2.2765799e-14 3.0242362e-12 2.0169363e-12 5.5346569e-14 1.4787643e-11\n",
      "  3.4063450e-14 2.1038343e-14 1.0000000e+00 3.8658308e-15 1.2533604e-11]\n",
      " [2.1750508e-11 9.3397390e-10 1.0000000e+00 6.8733001e-12 4.2146289e-13\n",
      "  9.5550390e-15 1.0545298e-11 9.9958919e-10 1.0646103e-11 9.0977827e-15]]\n",
      "[7 2]\n",
      "[[0. 0. 0. 0. 0. 0. 0. 1. 0. 0.]\n",
      " [0. 0. 1. 0. 0. 0. 0. 0. 0. 0.]]\n"
     ]
    }
   ],
   "source": [
    "pred = model.predict(x_test[0:2])\n",
    "print(pred)\n",
    "print(np.argmax(pred, axis=1))\n",
    "print(y_test[0:2])"
   ]
  },
  {
   "cell_type": "markdown",
   "metadata": {
    "deletable": true,
    "editable": true
   },
   "source": [
    "### Save the model"
   ]
  },
  {
   "cell_type": "code",
   "execution_count": 12,
   "metadata": {
    "collapsed": true,
    "deletable": true,
    "editable": true
   },
   "outputs": [],
   "source": [
    "save_model(model, modelpath)"
   ]
  }
 ],
 "metadata": {
  "anaconda-cloud": {},
  "kernelspec": {
   "display_name": "Python 3",
   "language": "python",
   "name": "python3"
  },
  "language_info": {
   "codemirror_mode": {
    "name": "ipython",
    "version": 3
   },
   "file_extension": ".py",
   "mimetype": "text/x-python",
   "name": "python",
   "nbconvert_exporter": "python",
   "pygments_lexer": "ipython3",
   "version": "3.4.3"
  }
 },
 "nbformat": 4,
 "nbformat_minor": 1
}
