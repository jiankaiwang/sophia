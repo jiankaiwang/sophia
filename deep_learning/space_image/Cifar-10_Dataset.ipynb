{
 "cells": [
  {
   "cell_type": "code",
   "execution_count": 1,
   "metadata": {},
   "outputs": [],
   "source": [
    "import os\n",
    "import pickle\n",
    "import matplotlib.pyplot as plt\n",
    "import numpy as np"
   ]
  },
  {
   "cell_type": "markdown",
   "metadata": {},
   "source": [
    "# Load Dataset"
   ]
  },
  {
   "cell_type": "code",
   "execution_count": 2,
   "metadata": {},
   "outputs": [
    {
     "name": "stdout",
     "output_type": "stream",
     "text": [
      "allFiles: ['data_batch_4', 'readme.html', 'test_batch', 'data_batch_3', 'batches.meta', 'data_batch_2', 'data_batch_5', 'data_batch_1']\n"
     ]
    }
   ],
   "source": [
    "cifar_folder = os.path.join(\"/volumes/Data/cifar-10\",\"cifar-10-batches-py\")\n",
    "allFiles = next(os.walk(cifar_folder))[2]\n",
    "print(\"allFiles:\", allFiles)"
   ]
  },
  {
   "cell_type": "markdown",
   "metadata": {},
   "source": [
    "## load the pickle data"
   ]
  },
  {
   "cell_type": "code",
   "execution_count": 3,
   "metadata": {},
   "outputs": [
    {
     "name": "stdout",
     "output_type": "stream",
     "text": [
      "labels: {b'num_cases_per_batch': 10000, b'label_names': [b'airplane', b'automobile', b'bird', b'cat', b'deer', b'dog', b'frog', b'horse', b'ship', b'truck'], b'num_vis': 3072}\n",
      "train dataset: dict_keys([b'batch_label', b'labels', b'data', b'filenames'])\n"
     ]
    }
   ],
   "source": [
    "# In[]\n",
    "\n",
    "def unpickle(file):\n",
    "  with open(file, 'rb') as fo:\n",
    "    dict = pickle.load(fo, encoding='bytes')\n",
    "  return dict\n",
    "\n",
    "label_data_path = os.path.join(cifar_folder, \"batches.meta\")\n",
    "labels = unpickle(label_data_path)\n",
    "print(\"labels:\", labels)\n",
    "\n",
    "train_dataset_1_path = os.path.join(cifar_folder, \"data_batch_1\")\n",
    "train_dataset_1 = unpickle(train_dataset_1_path)\n",
    "print(\"train dataset:\", train_dataset_1.keys())"
   ]
  },
  {
   "cell_type": "markdown",
   "metadata": {},
   "source": [
    "## Show the data"
   ]
  },
  {
   "cell_type": "markdown",
   "metadata": {},
   "source": [
    "Notice the image stored in the pickle is the format `(R, R, R, ..., G, G, G, ..., B, B, B ...)` instead of `(R, G, B, R, G, B, ...)`."
   ]
  },
  {
   "cell_type": "code",
   "execution_count": 5,
   "metadata": {},
   "outputs": [
    {
     "name": "stdout",
     "output_type": "stream",
     "text": [
      "Index: 1, Label: b'truck', Filename: b'camion_s_000148.png'\n"
     ]
    },
    {
     "data": {
      "image/png": "[encoded data removed]",
      "text/plain": [
       "<Figure size 432x288 with 1 Axes>"
      ]
     },
     "metadata": {},
     "output_type": "display_data"
    }
   ],
   "source": [
    "select_img_idx = 1\n",
    "label = labels[b'label_names'][train_dataset_1[b'labels'][select_img_idx]]\n",
    "\n",
    "print(\"Index: {}, Label: {}, Filename: {}\".format(\\\n",
    "      select_img_idx,\n",
    "      label, \\\n",
    "      train_dataset_1[b'filenames'][select_img_idx]))\n",
    "\n",
    "rawImgData = train_dataset_1[b'data'][select_img_idx]\n",
    "rawImgData_r = rawImgData[0:1024].reshape(32,32,-1) / 255.0\n",
    "rawImgData_g = rawImgData[1024:2048].reshape(32,32,-1) / 255.0\n",
    "rawImgData_b = rawImgData[2048:].reshape(32,32,-1) / 255.0\n",
    "\n",
    "imgData = np.dstack((rawImgData_r, rawImgData_g, rawImgData_b))\n",
    "\n",
    "fig, ax = plt.subplots(1,1)\n",
    "ax.set_title(label)\n",
    "ax.imshow(imgData)\n",
    "plt.show()"
   ]
  },
  {
   "cell_type": "code",
   "execution_count": null,
   "metadata": {},
   "outputs": [],
   "source": []
  }
 ],
 "metadata": {
  "kernelspec": {
   "display_name": "Python 3",
   "language": "python",
   "name": "python3"
  },
  "language_info": {
   "codemirror_mode": {
    "name": "ipython",
    "version": 3
   },
   "file_extension": ".py",
   "mimetype": "text/x-python",
   "name": "python",
   "nbconvert_exporter": "python",
   "pygments_lexer": "ipython3",
   "version": "3.6.5"
  }
 },
 "nbformat": 4,
 "nbformat_minor": 2
}
