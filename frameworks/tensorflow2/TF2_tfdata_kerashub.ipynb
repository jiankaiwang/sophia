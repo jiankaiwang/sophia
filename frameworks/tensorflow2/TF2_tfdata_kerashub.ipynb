{
 "cells": [
  {
   "cell_type": "code",
   "execution_count": 0,
   "metadata": {
    "colab": {},
    "colab_type": "code",
    "id": "IT-Ja79c8ioA"
   },
   "outputs": [],
   "source": [
    "!pip install tensorflow-gpu==2.0.0alpha\n",
    "!pip install tensorflow_hub"
   ]
  },
  {
   "cell_type": "markdown",
   "metadata": {
    "colab_type": "text",
    "id": "iSZJwQzCnqkG"
   },
   "source": [
    "In Tensorflow 2.x, more public datasets are registered. By default, six types of datasets are available to the Tensorflow, that are (listing several famous datasets)\n",
    "* `audio` \n",
    "* `image`  \n",
    "* `structured`\n",
    "* `text`\n",
    "* `translate`\n",
    "* `video`\n",
    "\n",
    "More details under each type of datasets please refer to the link (https://www.tensorflow.org/datasets/datasets) or you can use `list_builders()` to list available dataset builders.\n",
    "\n",
    "It is convenient to use the default public datasets to develop the ML model or optimize it. However, you can also prepare your own datasets as a type of Tensorflow Dataset (TFDS). Further, a new dataset can make a request to Tensorflow Develop Team for releasing to the public.\n",
    "\n",
    "If you are supported to release your own dataset, please refer to the link (https://www.tensorflow.org/datasets/add_dataset)."
   ]
  },
  {
   "cell_type": "markdown",
   "metadata": {
    "colab_type": "text",
    "id": "q-FFqKtNr7kn"
   },
   "source": [
    "## Tensorflow Datasets (tfds)\n",
    "\n",
    "With the same data structure, different datasets are prepared and easy to use via the same API. \n",
    "\n"
   ]
  },
  {
   "cell_type": "code",
   "execution_count": 0,
   "metadata": {
    "colab": {},
    "colab_type": "code",
    "id": "Kto8Pimzwwzr"
   },
   "outputs": [],
   "source": [
    "import tensorflow as tf\n",
    "import tensorflow_datasets as tfds\n",
    "import tensorflow_hub as hub\n",
    "import numpy as np"
   ]
  },
  {
   "cell_type": "code",
   "execution_count": 0,
   "metadata": {
    "colab": {
     "base_uri": "https://localhost:8080/",
     "height": 35
    },
    "colab_type": "code",
    "executionInfo": {
     "elapsed": 555,
     "status": "ok",
     "timestamp": 1558599975511,
     "user": {
      "displayName": "王DevOps",
      "photoUrl": "https://lh6.googleusercontent.com/-DzgWpvOQ_c0/AAAAAAAAAAI/AAAAAAAAA8I/fX9gQd_TAjU/s64/photo.jpg",
      "userId": "04300517850278510646"
     },
     "user_tz": -480
    },
    "id": "jEyzh9qD9jmF",
    "outputId": "566e3487-3cd4-4fd8-d746-199d83752dfb"
   },
   "outputs": [
    {
     "name": "stdout",
     "output_type": "stream",
     "text": [
      "Tensorflow Version: 2.0.0-alpha0\n"
     ]
    }
   ],
   "source": [
    "print(\"Tensorflow Version: {}\".format(tf.__version__))"
   ]
  },
  {
   "cell_type": "markdown",
   "metadata": {
    "colab_type": "text",
    "id": "hFnvpScTvJTi"
   },
   "source": [
    "### List Tensorflow dataset builders."
   ]
  },
  {
   "cell_type": "code",
   "execution_count": 0,
   "metadata": {
    "colab": {},
    "colab_type": "code",
    "id": "HqlitPDxrxCb"
   },
   "outputs": [],
   "source": [
    "# would output \n",
    "# ['abstract_reasoning',\n",
    "#  'bair_robot_pushing_small',\n",
    "#  'caltech101',\n",
    "#  'cats_vs_dogs',\n",
    "#  'celeb_a',\n",
    "#  'celeb_a_hq',\n",
    "#  'chexpert',\n",
    "# ...\n",
    "# ]\n",
    "available_datasets = tfds.list_builders()"
   ]
  },
  {
   "cell_type": "code",
   "execution_count": 0,
   "metadata": {
    "colab": {
     "base_uri": "https://localhost:8080/",
     "height": 55
    },
    "colab_type": "code",
    "executionInfo": {
     "elapsed": 912,
     "status": "ok",
     "timestamp": 1558599983292,
     "user": {
      "displayName": "王DevOps",
      "photoUrl": "https://lh6.googleusercontent.com/-DzgWpvOQ_c0/AAAAAAAAAAI/AAAAAAAAA8I/fX9gQd_TAjU/s64/photo.jpg",
      "userId": "04300517850278510646"
     },
     "user_tz": -480
    },
    "id": "ttuluWNUw91I",
    "outputId": "085c8857-b8a0-4d6a-fec8-3afe8c4f50ab"
   },
   "outputs": [
    {
     "name": "stdout",
     "output_type": "stream",
     "text": [
      "Number of datasets 70 and top 3 are: ['abstract_reasoning', 'bair_robot_pushing_small', 'caltech101'].\n"
     ]
    }
   ],
   "source": [
    "print(\"Number of datasets {} and top 3 are: {}.\".format(\n",
    "    len(available_datasets), available_datasets[:3]))"
   ]
  },
  {
   "cell_type": "markdown",
   "metadata": {
    "colab_type": "text",
    "id": "yh99hOlGyhHS"
   },
   "source": [
    "### Load the dataset via builder."
   ]
  },
  {
   "cell_type": "code",
   "execution_count": 0,
   "metadata": {
    "colab": {},
    "colab_type": "code",
    "id": "hk-WWLfYyAoD"
   },
   "outputs": [],
   "source": [
    "builder_name = \"imdb_reviews\"\n",
    "assert builder_name in available_datasets, \"Builder is not valid.\"\n",
    "\n",
    "imdbr_builder = tfds.builder(builder_name)"
   ]
  },
  {
   "cell_type": "markdown",
   "metadata": {
    "colab_type": "text",
    "id": "4XVZmka2y9nQ"
   },
   "source": [
    "### Prepare the dataset.\n",
    "\n",
    "You may need to download the dataset. It depends on the dataset you are going to use.\n",
    "\n",
    "In most cases, you can use `download_and_prepare()` to prepare the dataset."
   ]
  },
  {
   "cell_type": "code",
   "execution_count": 0,
   "metadata": {
    "colab": {},
    "colab_type": "code",
    "id": "5842yzwPy4mu"
   },
   "outputs": [],
   "source": [
    "imdbr_builder.download_and_prepare()"
   ]
  },
  {
   "cell_type": "markdown",
   "metadata": {
    "colab_type": "text",
    "id": "JzTLbqim5Vac"
   },
   "source": [
    "After download the dataset, the default path to the dataset would be at `$HOME/tensorflow_datasets/<dataset_name>`.\n",
    "\n",
    "Now you can load the dataset. The parameter `split` will return the specific dataset which you selected. There are four types that you can select, that are `ALL`, `TEST`, `TRAIN` and `VALIDATION`. If you leave it at default, all of the datasets will be returned."
   ]
  },
  {
   "cell_type": "code",
   "execution_count": 0,
   "metadata": {
    "colab": {
     "base_uri": "https://localhost:8080/",
     "height": 90
    },
    "colab_type": "code",
    "executionInfo": {
     "elapsed": 655,
     "status": "ok",
     "timestamp": 1558600320958,
     "user": {
      "displayName": "王DevOps",
      "photoUrl": "https://lh6.googleusercontent.com/-DzgWpvOQ_c0/AAAAAAAAAAI/AAAAAAAAA8I/fX9gQd_TAjU/s64/photo.jpg",
      "userId": "04300517850278510646"
     },
     "user_tz": -480
    },
    "id": "8uB4V1Awz4W0",
    "outputId": "160516e3-a323-45cc-9a7c-51240942e610"
   },
   "outputs": [
    {
     "name": "stdout",
     "output_type": "stream",
     "text": [
      "ALL\n",
      "TEST\n",
      "TRAIN\n",
      "VALIDATION\n"
     ]
    }
   ],
   "source": [
    "for name in dir(tfds.Split):\n",
    "  if name[0] != \"_\": print(name)"
   ]
  },
  {
   "cell_type": "code",
   "execution_count": 0,
   "metadata": {
    "colab": {},
    "colab_type": "code",
    "id": "lQ-luogu5pvQ"
   },
   "outputs": [],
   "source": [
    "imdbr_ds = tfds.load(\"imdb_reviews\", split=tfds.Split.TRAIN)\n",
    "assert isinstance(imdbr_ds, tf.data.Dataset)"
   ]
  },
  {
   "cell_type": "markdown",
   "metadata": {
    "colab_type": "text",
    "id": "kk5ZmDSM9ozP"
   },
   "source": [
    "### Quick view to the dataset.\n",
    "\n",
    "After loading the dataset it consists of two attributes, that are `shapes` and `types`. The attribute `shapes` describes the data names and their shapes. The attribute `types` describes the data type which is like `string` or `int`."
   ]
  },
  {
   "cell_type": "code",
   "execution_count": 0,
   "metadata": {
    "colab": {
     "base_uri": "https://localhost:8080/",
     "height": 35
    },
    "colab_type": "code",
    "executionInfo": {
     "elapsed": 932,
     "status": "ok",
     "timestamp": 1558602368743,
     "user": {
      "displayName": "王DevOps",
      "photoUrl": "https://lh6.googleusercontent.com/-DzgWpvOQ_c0/AAAAAAAAAAI/AAAAAAAAA8I/fX9gQd_TAjU/s64/photo.jpg",
      "userId": "04300517850278510646"
     },
     "user_tz": -480
    },
    "id": "cGO0ztmM9fpK",
    "outputId": "8f176c6c-872c-4846-f8db-fe4f9a517945"
   },
   "outputs": [
    {
     "data": {
      "text/plain": [
       "TensorShape([])"
      ]
     },
     "execution_count": 48,
     "metadata": {
      "tags": []
     },
     "output_type": "execute_result"
    }
   ],
   "source": [
    "imdbr_ds"
   ]
  },
  {
   "cell_type": "markdown",
   "metadata": {
    "colab_type": "text",
    "id": "FL5VuX1o-duI"
   },
   "source": [
    "You can access the data by using `take()`. **Notice that `take(count=1)` randomly fetch data points.**"
   ]
  },
  {
   "cell_type": "code",
   "execution_count": 0,
   "metadata": {
    "colab": {
     "base_uri": "https://localhost:8080/",
     "height": 74
    },
    "colab_type": "code",
    "executionInfo": {
     "elapsed": 787,
     "status": "ok",
     "timestamp": 1558600498758,
     "user": {
      "displayName": "王DevOps",
      "photoUrl": "https://lh6.googleusercontent.com/-DzgWpvOQ_c0/AAAAAAAAAAI/AAAAAAAAA8I/fX9gQd_TAjU/s64/photo.jpg",
      "userId": "04300517850278510646"
     },
     "user_tz": -480
    },
    "id": "-gkjGP4f9tCs",
    "outputId": "aee01f59-ec4a-4357-accb-03a533648b74"
   },
   "outputs": [
    {
     "name": "stdout",
     "output_type": "stream",
     "text": [
      "tf.Tensor(b\"This is the most depressing film I have ever seen. I first saw it as a child and even thinking about it now really upsets me. I know it was set in a time when life was hard and I know these people were poor and the crops were vital. Yes, I get all that. What I find hard to take is I can't remember one single light moment in the entire film. Maybe it was true to life, I don't know. I'm quite sure the acting was top notch and the direction and quality of filming etc etc was wonderful and I know that every film can't have a happy ending but as a family film it is dire in my opinion.<br /><br />I wouldn't recommend it to anyone who wants to be entertained by a film. I can't stress enough how this film affected me as a child. I was talking about it recently and all the sad memories came flooding back. I think it would have all but the heartless reaching for the Prozac.\", shape=(), dtype=string)\n",
      "tf.Tensor(0, shape=(), dtype=int64)\n"
     ]
    }
   ],
   "source": [
    "imdbr_eg, = imdbr_ds.take(count=1)\n",
    "text, label = imdbr_eg[\"text\"], imdbr_eg[\"label\"]\n",
    "print(text)\n",
    "print(label)"
   ]
  },
  {
   "cell_type": "markdown",
   "metadata": {
    "colab_type": "text",
    "id": "yvYSl51o_oqR"
   },
   "source": [
    "You can also access more than one data as the batch data."
   ]
  },
  {
   "cell_type": "code",
   "execution_count": 0,
   "metadata": {
    "colab": {
     "base_uri": "https://localhost:8080/",
     "height": 219
    },
    "colab_type": "code",
    "executionInfo": {
     "elapsed": 1004,
     "status": "ok",
     "timestamp": 1558600516514,
     "user": {
      "displayName": "王DevOps",
      "photoUrl": "https://lh6.googleusercontent.com/-DzgWpvOQ_c0/AAAAAAAAAAI/AAAAAAAAA8I/fX9gQd_TAjU/s64/photo.jpg",
      "userId": "04300517850278510646"
     },
     "user_tz": -480
    },
    "id": "BKBwcVAA-vt0",
    "outputId": "15b3cd49-3eaa-431d-832d-412f2b409283"
   },
   "outputs": [
    {
     "name": "stdout",
     "output_type": "stream",
     "text": [
      "tf.Tensor(b\"This is the most depressing film I have ever seen. I first saw it as a child and even thinking about it now really upsets me. I know it was set in a time when life was hard and I know these people were poor and the crops were vital. Yes, I get all that. What I find hard to take is I can't remember one single light moment in the entire film. Maybe it was true to life, I don't know. I'm quite sure the acting was top notch and the direction and quality of filming etc etc was wonderful and I know that every film can't have a happy ending but as a family film it is dire in my opinion.<br /><br />I wouldn't recommend it to anyone who wants to be entertained by a film. I can't stress enough how this film affected me as a child. I was talking about it recently and all the sad memories came flooding back. I think it would have all but the heartless reaching for the Prozac.\", shape=(), dtype=string) tf.Tensor(0, shape=(), dtype=int64)\n",
      "tf.Tensor(b\"I saw this film on True Movies (which automatically made me sceptical) but actually - it was good. Why? Not because of the amazing plot twists or breathtaking dialogue (of which there is little) but because actually, despite what people say I thought the film was accurate in it's depiction of teenagers dealing with pregnancy.<br /><br />It's NOT Dawson's Creek, they're not graceful, cool witty characters who breeze through sexuality with effortless knowledge. They're kids and they act like kids would. <br /><br />They're blunt, awkward and annoyingly confused about everything. Yes, this could be by accident and they could just be bad actors but I don't think so. Dermot Mulroney gives (when not trying to be cool) a very believable performance and I loved him for it. Patricia Arquette IS whiny and annoying, but she was pregnant and a teenagers? The combination of the two isn't exactly lavender on your pillow. The plot was VERY predictable and but so what? I believed them, his stress and inability to cope - her brave, yet slightly misguided attempts to bring them closer together. I think the characters, acted by anyone else, WOULD indeed have been annoying and unbelievable but they weren't. It reflects the surreality of the situation they're in, that he's sitting in class and she walks on campus with the baby. I felt angry at her for that, I felt angry at him for being such a child and for blaming her. I felt it all.<br /><br />In the end, I loved it and would recommend it.<br /><br />Watch out for the scene where Dermot Mulroney runs from the disastrous counselling session - career performance.\", shape=(), dtype=string) tf.Tensor(1, shape=(), dtype=int64)\n",
      "tf.Tensor(b'A very close and sharp discription of the bubbling and dynamic emotional world of specialy one 18year old guy, that makes his first experiences in his gay love to an other boy, during an vacation with a part of his family.<br /><br />I liked this film because of his extremly clear and surrogated storytelling , with all this \"Sound-close-ups\" and quiet moments wich had been full of intensive moods.<br /><br />', shape=(), dtype=string) tf.Tensor(1, shape=(), dtype=int64)\n",
      "tf.Tensor(b\"This was soul-provoking! I am an Iranian, and living in th 21st century, I didn't know that such big tribes have been living in such conditions at the time of my grandfather!<br /><br />You see that today, or even in 1925, on one side of the world a lady or a baby could have everything served for him or her clean and on-demand, but here 80 years ago, people ventured their life to go to somewhere with more grass. It's really interesting that these Persians bear those difficulties to find pasture for their sheep, but they lose many the sheep on their way.<br /><br />I praise the Americans who accompanied this tribe, they were as tough as Bakhtiari people.\", shape=(), dtype=string) tf.Tensor(1, shape=(), dtype=int64)\n",
      "tf.Tensor(b\"I absolutely LOVED this movie when I was a kid. I cried every time I watched it. It wasn't weird to me. I totally identified with the characters. I would love to see it again (and hope I wont be disappointed!). Pufnstuf rocks!!!! I was really drawn in to the fantasy world. And to me the movie was loooong. I wonder if I ever saw the series and have confused them? The acting I thought was strong. I loved Jack Wilde. He was so dreamy to an 10 year old (when I first saw the movie, not in 1970. I can still remember the characters vividly. The flute was totally believable and I can still 'feel' the evil woods. Witchy poo was scary - I wouldn't want to cross her path.\", shape=(), dtype=string) tf.Tensor(1, shape=(), dtype=int64)\n",
      "tf.Tensor(b\"Oh yeah! Jenna Jameson did it again! Yeah Baby! This movie rocks. It was one of the 1st movies i saw of her. And i have to say i feel in love with her, she was great in this move.<br /><br />Her performance was outstanding and what i liked the most was the scenery and the wardrobe it was amazing you can tell that they put a lot into the movie the girls cloth were amazing.<br /><br />I hope this comment helps and u can buy the movie, the storyline is awesome is very unique and i'm sure u are going to like it. Jenna amazed us once more and no wonder the movie won so many awards. Her make-up and wardrobe is very very sexy and the girls on girls scene is amazing. specially the one where she looks like an angel. It's a must see and i hope u share my interests\", shape=(), dtype=string) tf.Tensor(1, shape=(), dtype=int64)\n",
      "tf.Tensor(b'This was a wonderfully clever and entertaining movie that I shall never tire of watching many, many times. The casting was magnificent in matching up the young with the older characters. There are those of us out here who really do appreciate good actors and an intelligent story format. As for Judi Dench, she is beautiful and a gift to any kind of production in which she stars. I always make a point to see Judi Dench in all her performances. She is a superb actress and a pleasure to watch as each transformation of her character comes to life. I can only be grateful when I see such an outstanding picture for most of the motion pictures made more recently lack good characters, good scripts and good acting. The movie public needs heroes, not deviant manikins, who lack ingenuity and talent. How wonderful to see old favorites like Leslie Caron, Olympia Dukakis and Cleo Laine. I would like to see this movie win the awards it deserves. Thank you again for a tremendous night of entertainment. I congratulate the writer, director, producer, and all those who did such a fine job.', shape=(), dtype=string) tf.Tensor(1, shape=(), dtype=int64)\n",
      "tf.Tensor(b\"As a lifelong fan of Dickens, I have invariably been disappointed by adaptations of his novels.<br /><br />Although his works presented an extremely accurate re-telling of human life at every level in Victorian Britain, throughout them all was a pervasive thread of humour that could be both playful or sarcastic as the narrative dictated. In a way, he was a literary caricaturist and cartoonist. He could be serious and hilarious in the same sentence. He pricked pride, lampooned arrogance, celebrated modesty, and empathised with loneliness and poverty. It may be a clich\\xc3\\xa9, but he was a people's writer.<br /><br />And it is the comedy that is so often missing from his interpretations. At the time of writing, Oliver Twist is being dramatised in serial form on BBC television. All of the misery and cruelty is their, but non of the humour, irony, and savage lampoonery. The result is just a dark, dismal experience: the story penned by a journalist rather than a novelist. It's not really Dickens at all.<br /><br />'Oliver!', on the other hand, is much closer to the mark. The mockery of officialdom is perfectly interpreted, from the blustering beadle to the drunken magistrate. The classic stand-off between the beadle and Mr Brownlow, in which the law is described as 'a ass, a idiot' couldn't have been better done. Harry Secombe is an ideal choice.<br /><br />But the blinding cruelty is also there, the callous indifference of the state, the cold, hunger, poverty and loneliness are all presented just as surely as The Master would have wished.<br /><br />And then there is crime. Ron Moody is a treasure as the sleazy Jewish fence, whilst Oliver Reid has Bill Sykes to perfection.<br /><br />Perhaps not surprisingly, Lionel Bart - himself a Jew from London's east-end - takes a liberty with Fagin by re-interpreting him as a much more benign fellow than was Dicken's original. In the novel, he was utterly ruthless, sending some of his own boys to the gallows in order to protect himself (though he was also caught and hanged). Whereas in the movie, he is presented as something of a wayward father-figure, a sort of charitable thief rather than a corrupter of children, the latter being a long-standing anti-semitic sentiment. Otherwise, very few liberties are taken with Dickens's original. All of the most memorable elements are included. Just enough menace and violence is retained to ensure narrative fidelity whilst at the same time allowing for children' sensibilities. Nancy is still beaten to death, Bullseye narrowly escapes drowning, and Bill Sykes gets a faithfully graphic come-uppance.<br /><br />Every song is excellent, though they do incline towards schmaltz. Mark Lester mimes his wonderfully. Both his and my favourite scene is the one in which the world comes alive to 'who will buy'. It's schmaltzy, but it's Dickens through and through.<br /><br />I could go on. I could commend the wonderful set-pieces, the contrast of the rich and poor. There is top-quality acting from more British regulars than you could shake a stick at.<br /><br />I ought to give it 10 points, but I'm feeling more like Scrooge today. Soak it up with your Christmas dinner. No original has been better realised.\", shape=(), dtype=string) tf.Tensor(1, shape=(), dtype=int64)\n",
      "tf.Tensor(b'I have no idea what the other reviewer is talking about- this was a wonderful movie, and created a sense of the era that feels like time travel. The characters are truly young, Mary is a strong match for Byron, Claire is juvenile and a tad annoying, Polidori is a convincing beaten-down sycophant... all are beautiful, curious, and decadent... not the frightening wrecks they are in Gothic.<br /><br />Gothic works as an independent piece of shock film, and I loved it for different reasons, but this works like a Merchant and Ivory film, and was from my readings the best capture of what the summer must have felt like. Romantic, yes, but completely rekindles my interest in the lives of Shelley and Byron every time I think about the film. One of my all-time favorites.', shape=(), dtype=string) tf.Tensor(1, shape=(), dtype=int64)\n",
      "tf.Tensor(b\"Being a fan of silent films, I looked forward to seeing this picture for the first time. I was pretty disappointed. <br /><br />As has been mentioned, the film seems to be one long, long, commercial for the Maxwell automobile. <br /><br />Perhaps if the chase scene was about half the length that it is, I may have enjoyed the film more. But it got old very fast. And while I recognize that reality is stretched many times in films, without lessening a viewer's enjoyment, what was with the Mexican bandits? I mean, they are chasing a car through the mountains, a car that most of the time is moving at about one mile per hour, yet they can't catch up to it?\", shape=(), dtype=string) tf.Tensor(0, shape=(), dtype=int64)\n"
     ]
    }
   ],
   "source": [
    "imdbr_batch_eg = imdbr_ds.take(count=10)\n",
    "\n",
    "# iterate each data point\n",
    "for item in imdbr_batch_eg:\n",
    "  print(item[\"text\"], item[\"label\"])"
   ]
  },
  {
   "cell_type": "markdown",
   "metadata": {
    "colab_type": "text",
    "id": "0MukWVx1Apoj"
   },
   "source": [
    "### Dataset Information\n",
    "\n",
    "You can simply access the attribute `info` of dataset builder to view the dataset information."
   ]
  },
  {
   "cell_type": "code",
   "execution_count": 0,
   "metadata": {
    "colab": {
     "base_uri": "https://localhost:8080/",
     "height": 655
    },
    "colab_type": "code",
    "executionInfo": {
     "elapsed": 1155,
     "status": "ok",
     "timestamp": 1558600640332,
     "user": {
      "displayName": "王DevOps",
      "photoUrl": "https://lh6.googleusercontent.com/-DzgWpvOQ_c0/AAAAAAAAAAI/AAAAAAAAA8I/fX9gQd_TAjU/s64/photo.jpg",
      "userId": "04300517850278510646"
     },
     "user_tz": -480
    },
    "id": "WnYGOF-y_Uv9",
    "outputId": "175adbfe-1334-41a6-e91e-b26c07d9c952"
   },
   "outputs": [
    {
     "name": "stdout",
     "output_type": "stream",
     "text": [
      "tfds.core.DatasetInfo(\n",
      "    name='imdb_reviews',\n",
      "    version=0.1.0,\n",
      "    description='Large Movie Review Dataset.\n",
      "This is a dataset for binary sentiment classification containing substantially more data than previous benchmark datasets. We provide a set of 25,000 highly polar movie reviews for training, and 25,000 for testing. There is additional unlabeled data for use as well.',\n",
      "    urls=['http://ai.stanford.edu/~amaas/data/sentiment/'],\n",
      "    features=FeaturesDict({\n",
      "        'label': ClassLabel(shape=(), dtype=tf.int64, num_classes=2),\n",
      "        'text': Text(shape=(), dtype=tf.string, encoder=None)\n",
      "    },\n",
      "    total_num_examples=100000,\n",
      "    splits={\n",
      "        'test': <tfds.core.SplitInfo num_examples=25000>,\n",
      "        'train': <tfds.core.SplitInfo num_examples=25000>,\n",
      "        'unsupervised': <tfds.core.SplitInfo num_examples=50000>\n",
      "    },\n",
      "    supervised_keys=('text', 'label'),\n",
      "    citation='\"\"\"\n",
      "        @InProceedings{maas-EtAl:2011:ACL-HLT2011,\n",
      "          author    = {Maas, Andrew L.  and  Daly, Raymond E.  and  Pham, Peter T.  and  Huang, Dan  and  Ng, Andrew Y.  and  Potts, Christopher},\n",
      "          title     = {Learning Word Vectors for Sentiment Analysis},\n",
      "          booktitle = {Proceedings of the 49th Annual Meeting of the Association for Computational Linguistics: Human Language Technologies},\n",
      "          month     = {June},\n",
      "          year      = {2011},\n",
      "          address   = {Portland, Oregon, USA},\n",
      "          publisher = {Association for Computational Linguistics},\n",
      "          pages     = {142--150},\n",
      "          url       = {http://www.aclweb.org/anthology/P11-1015}\n",
      "        }\n",
      "        \n",
      "    \"\"\"',\n",
      "    redistribution_info=,\n",
      ")\n",
      "\n"
     ]
    }
   ],
   "source": [
    "print(imdbr_builder.info)"
   ]
  },
  {
   "cell_type": "markdown",
   "metadata": {
    "colab_type": "text",
    "id": "rAQ4g7_OCIjI"
   },
   "source": [
    "# TFDS being as Input Pipeline"
   ]
  },
  {
   "cell_type": "markdown",
   "metadata": {
    "colab_type": "text",
    "id": "eMO0Ur4o5HCs"
   },
   "source": [
    "## Batch Data"
   ]
  },
  {
   "cell_type": "markdown",
   "metadata": {
    "colab_type": "text",
    "id": "-Bl2aTNU1p3n"
   },
   "source": [
    "In training, tfds library provides you a better way to feeding data into the model. The following is a simple example.\n",
    "\n",
    "The `repeat()` means fetching data from head when it comes to the last one.\n",
    "\n",
    "The `shuffle(buffer_size)` means fetching data in a number of count.\n",
    "\n",
    "The `batch(count)` means how many data in a batch.\n",
    "\n",
    "The `prefetch(count)` means how many prefetched data."
   ]
  },
  {
   "cell_type": "code",
   "execution_count": 0,
   "metadata": {
    "colab": {},
    "colab_type": "code",
    "id": "h_HU-brSB5hC"
   },
   "outputs": [],
   "source": [
    "imdbr_train = imdbr_ds.repeat().shuffle(64).batch(8).prefetch(tf.data.experimental.AUTOTUNE)"
   ]
  },
  {
   "cell_type": "markdown",
   "metadata": {
    "colab_type": "text",
    "id": "lUbfxwAh4yf2"
   },
   "source": [
    "You can combine different processing orders to meet your requirement."
   ]
  },
  {
   "cell_type": "code",
   "execution_count": 0,
   "metadata": {
    "colab": {},
    "colab_type": "code",
    "id": "RJ81qLaJ3QPo"
   },
   "outputs": [],
   "source": [
    "imdbr_train_2 = imdbr_ds.repeat().batch(32).prefetch(tf.data.experimental.AUTOTUNE)"
   ]
  },
  {
   "cell_type": "code",
   "execution_count": 0,
   "metadata": {
    "colab": {
     "base_uri": "https://localhost:8080/",
     "height": 55
    },
    "colab_type": "code",
    "executionInfo": {
     "elapsed": 736,
     "status": "ok",
     "timestamp": 1558601521505,
     "user": {
      "displayName": "王DevOps",
      "photoUrl": "https://lh6.googleusercontent.com/-DzgWpvOQ_c0/AAAAAAAAAAI/AAAAAAAAA8I/fX9gQd_TAjU/s64/photo.jpg",
      "userId": "04300517850278510646"
     },
     "user_tz": -480
    },
    "id": "_b8rdrZOCaPV",
    "outputId": "eb640a8d-a03c-4c8d-e4df-4901291b83d0"
   },
   "outputs": [
    {
     "data": {
      "text/plain": [
       "<PrefetchDataset shapes: {text: (None,), label: (None,)}, types: {text: tf.string, label: tf.int64}>"
      ]
     },
     "execution_count": 45,
     "metadata": {
      "tags": []
     },
     "output_type": "execute_result"
    }
   ],
   "source": [
    "imdbr_train"
   ]
  },
  {
   "cell_type": "code",
   "execution_count": 0,
   "metadata": {
    "colab": {
     "base_uri": "https://localhost:8080/",
     "height": 474
    },
    "colab_type": "code",
    "executionInfo": {
     "elapsed": 928,
     "status": "ok",
     "timestamp": 1558601522034,
     "user": {
      "displayName": "王DevOps",
      "photoUrl": "https://lh6.googleusercontent.com/-DzgWpvOQ_c0/AAAAAAAAAAI/AAAAAAAAA8I/fX9gQd_TAjU/s64/photo.jpg",
      "userId": "04300517850278510646"
     },
     "user_tz": -480
    },
    "id": "Brqn9H7mCcQh",
    "outputId": "ffe7ade6-f0b7-4c49-ed4b-6e5e3c967df8"
   },
   "outputs": [
    {
     "name": "stdout",
     "output_type": "stream",
     "text": [
      "There are 2 attributes.\n",
      "\n",
      "Use `.item()` fetch data array.\n",
      "dict_items([('text', <tf.Tensor: id=375, shape=(8,), dtype=string, numpy=\n",
      "array([b'A very close and sharp discription of the bubbling and dynamic emotional world of specialy one 18year old guy, that makes his first experiences in his gay love to an other boy, during an vacation with a part of his family.<br /><br />I liked this film because of his extremly clear and surrogated storytelling , with all this \"Sound-close-ups\" and quiet moments wich had been full of intensive moods.<br /><br />',\n",
      "       b\"Another case of a decent DVD case betraying the shot-on-video quality of the film. <br /><br />It wasn't that bad. Rochon does a serviceable job and Damn! the cast is good looking. I've never seen that many musclebound guys hang out together on a regular basis. This movie really wanted to make you think Rochon was the killer, but it was not to be. My biggest problem with the film was that by the end, I didn't much care who was the killer, and the real killer made little sense, since it was out of the blue and the filmmakers were thinking 'ha, betcha didn't see that one coming, sucker!'. Yeah, there were continuity errors about (mainly with ms. Rochon's ever-changing wardrobe), but for an indie slasher it's not that bad. I was pretty sure at the beginning it was just a thinly veiled excuse for girls to go topless, but that was just a gimmick. The dialog was overly think and painful at times.<br /><br />Just don't have high expectations going into this, and it won't be that bad. And Lloyd Kaufman's cameo is wonderfully understated.\",\n",
      "       b'I haven\\'t seen this film in years so my knowledge is a little rusty. I do remember thinking that this film is twice the film of Braveheart. It is simply more realistic and has more believable characters. Ridb Roy looks like one would imagine Rob Roy to look like, messy hair and beard with simple clothing. Also the Liam Nesson has a Celtic look about him, he looks like a Scot and more importantly looks like Rob Roy. It\\'s a comparison which angers some people but compare him to Mel Gibson as William Wallace. Gibson is supposedly playing a man who\\'s legend has caused him to be described as a 6 foot 7 giant while Gibson is almost a foot shorter. The story contains a little romance, conspiracy and an underdog story. Sound anything like Braveheart? But instead of a film that cries out \"freedom\", liberty and nationalism we get a film which says honour, love and justice. This makes it a more interesting film. Much like Gladiator. The cast is fantastic and Liam Nesson is a very strong leader in this endeavour. The story is great with how it deals with heroism and humanity. The scene where Mary is raped and she walks out of the burning house with a look of true Scottish strength is followed by her washing the semen from her crotch in an extreme panic. This is something a heroine in Braveheart would never do. Overall this is a stunning and almost flawless watch. Go and see it!',\n",
      "       b\"This is the most depressing film I have ever seen. I first saw it as a child and even thinking about it now really upsets me. I know it was set in a time when life was hard and I know these people were poor and the crops were vital. Yes, I get all that. What I find hard to take is I can't remember one single light moment in the entire film. Maybe it was true to life, I don't know. I'm quite sure the acting was top notch and the direction and quality of filming etc etc was wonderful and I know that every film can't have a happy ending but as a family film it is dire in my opinion.<br /><br />I wouldn't recommend it to anyone who wants to be entertained by a film. I can't stress enough how this film affected me as a child. I was talking about it recently and all the sad memories came flooding back. I think it would have all but the heartless reaching for the Prozac.\",\n",
      "       b'Well let me go say this because i love history and I know that movie is most important piece in our history and it was beautifully executed movie and Julia Stiles became my #1 favorite actress after seeing her in \"The \\'60s\" and i own this movie in my video box with many movies and i suggest you to look for her new movies in the future and try to enjoy history!!!!',\n",
      "       b'Dani(Reese Witherspoon) has always been very close with her older sister Maureen(Emily Warfield) until they both start falling in love with their neighbor Court(Jason London). But it is not after a terrible tragedy strikes that the two sisters realize that nothing can keep them apart and that their love for each other will never fade away.<br /><br />This was truly a heartbreaking story about first love. Probably the most painful story about young love that I have ever seen. All the acting is amazing and Reese Witherspoon gives a great performance in her first movie. I would give The Man in the Moon 8.5/10',\n",
      "       b'This movie has some things that are pretty amazing. First, it is supposed to be based on a true story. That, in itself, is amazing that multiple tornadoes would hit the same town at night in the fall-in Nebraska. I wonder if the real town\\'s name was close to \"Blainsworth\" (which is the town\\'s name in the movie). There is an Ainsworth, Nebraska, but there is also a town that starts with Blains-something.<br /><br />It does show the slowest moving tornadoes on record in the the seen where the boys are in the house. On the other hand, the scene where the TV goes fuzzy is based in fact. Before Doppler radar and weather radio, we were taught that if you turned your TV to a particular channel (not on cable) and tuned the brightness just right, you could tell if there was a tornado coming. The problem was that by then you would be able to hear it. <br /><br />Since I know something about midwest tornadoes, it made this movie fun for me. I enjoy it more than Twister. I mean, give me a break-there is no way you could make it through and F5 by chaining yourself to a pipe in a well house.',\n",
      "       b\"Though this movie has a first rate roster of fine actors, special effects that are excellent, and a story line that is full of surprises, it wasn't picked up for studio distribution and went directly to DVD. Perhaps it contains too much 'anti-police force' information, or perhaps it is juts one too many action flicks released during a glut, but whatever the reason the big screens missed the opportunity, fortunately the new concept of releasing direct to DVD allows us to enjoy it.<br /><br />The theme is old: rookie reporter uncovers an inner circle of cops that are corrupt - in this case the F.R.A.T. (First Response Assault and Tactical) team, a group of well trained policeman created to clean up the mythical city of Edison from its low point of crime, drugs, prostitution etc. Working undercover the temptation of pocketing the confiscated goods and money proves too much of an opportunity and now, 15 years after its formation, FRAT is responsible for murder, drug trafficking, terrorizing innocent people etc. The lead dog is Lazerov (Dylan McDermott, who makes a terrifyingly real gangster!) and his partner Rafe Deed (LL Cool J, even more buff than usual and proving he can be a sensitive actor). Reporter Pollack (Justin Timberlake) catches wind of a 'bad mistake' and reports his theory of fraud and corruption to his paper's boss Ashford (the always reliably fine Morgan Freeman). Gradually Polack convinces Ashford and subsequently Wallace (Kevin Spacey, also a consistently fine character actor) and they aid Pollack in this investigative reporting. The closer Pollack gets to the truth the more surprises and bad incidents happen and the story runs pall mall toward a series of unexpected results.<br /><br />Timberlake lacks the charisma to carry the lead, especially in the company of such seasoned actors. But LL Cool J, Freeman, Spacey, and McDermott keep the well-oiled machine of a movie rolling to the very end. No, it is not a great movie, but it is one that makes for an edge of the seat action flick with a message. Grady Harp\"],\n",
      "      dtype=object)>), ('label', <tf.Tensor: id=374, shape=(8,), dtype=int64, numpy=array([1, 0, 1, 0, 1, 1, 1, 1])>)])\n",
      "\n",
      "Use `key` to fetch data, e.g. batch['text'].\n",
      "tf.Tensor(\n",
      "[b'A very close and sharp discription of the bubbling and dynamic emotional world of specialy one 18year old guy, that makes his first experiences in his gay love to an other boy, during an vacation with a part of his family.<br /><br />I liked this film because of his extremly clear and surrogated storytelling , with all this \"Sound-close-ups\" and quiet moments wich had been full of intensive moods.<br /><br />'\n",
      " b\"Another case of a decent DVD case betraying the shot-on-video quality of the film. <br /><br />It wasn't that bad. Rochon does a serviceable job and Damn! the cast is good looking. I've never seen that many musclebound guys hang out together on a regular basis. This movie really wanted to make you think Rochon was the killer, but it was not to be. My biggest problem with the film was that by the end, I didn't much care who was the killer, and the real killer made little sense, since it was out of the blue and the filmmakers were thinking 'ha, betcha didn't see that one coming, sucker!'. Yeah, there were continuity errors about (mainly with ms. Rochon's ever-changing wardrobe), but for an indie slasher it's not that bad. I was pretty sure at the beginning it was just a thinly veiled excuse for girls to go topless, but that was just a gimmick. The dialog was overly think and painful at times.<br /><br />Just don't have high expectations going into this, and it won't be that bad. And Lloyd Kaufman's cameo is wonderfully understated.\"\n",
      " b'I haven\\'t seen this film in years so my knowledge is a little rusty. I do remember thinking that this film is twice the film of Braveheart. It is simply more realistic and has more believable characters. Ridb Roy looks like one would imagine Rob Roy to look like, messy hair and beard with simple clothing. Also the Liam Nesson has a Celtic look about him, he looks like a Scot and more importantly looks like Rob Roy. It\\'s a comparison which angers some people but compare him to Mel Gibson as William Wallace. Gibson is supposedly playing a man who\\'s legend has caused him to be described as a 6 foot 7 giant while Gibson is almost a foot shorter. The story contains a little romance, conspiracy and an underdog story. Sound anything like Braveheart? But instead of a film that cries out \"freedom\", liberty and nationalism we get a film which says honour, love and justice. This makes it a more interesting film. Much like Gladiator. The cast is fantastic and Liam Nesson is a very strong leader in this endeavour. The story is great with how it deals with heroism and humanity. The scene where Mary is raped and she walks out of the burning house with a look of true Scottish strength is followed by her washing the semen from her crotch in an extreme panic. This is something a heroine in Braveheart would never do. Overall this is a stunning and almost flawless watch. Go and see it!'\n",
      " b\"This is the most depressing film I have ever seen. I first saw it as a child and even thinking about it now really upsets me. I know it was set in a time when life was hard and I know these people were poor and the crops were vital. Yes, I get all that. What I find hard to take is I can't remember one single light moment in the entire film. Maybe it was true to life, I don't know. I'm quite sure the acting was top notch and the direction and quality of filming etc etc was wonderful and I know that every film can't have a happy ending but as a family film it is dire in my opinion.<br /><br />I wouldn't recommend it to anyone who wants to be entertained by a film. I can't stress enough how this film affected me as a child. I was talking about it recently and all the sad memories came flooding back. I think it would have all but the heartless reaching for the Prozac.\"\n",
      " b'Well let me go say this because i love history and I know that movie is most important piece in our history and it was beautifully executed movie and Julia Stiles became my #1 favorite actress after seeing her in \"The \\'60s\" and i own this movie in my video box with many movies and i suggest you to look for her new movies in the future and try to enjoy history!!!!'\n",
      " b'Dani(Reese Witherspoon) has always been very close with her older sister Maureen(Emily Warfield) until they both start falling in love with their neighbor Court(Jason London). But it is not after a terrible tragedy strikes that the two sisters realize that nothing can keep them apart and that their love for each other will never fade away.<br /><br />This was truly a heartbreaking story about first love. Probably the most painful story about young love that I have ever seen. All the acting is amazing and Reese Witherspoon gives a great performance in her first movie. I would give The Man in the Moon 8.5/10'\n",
      " b'This movie has some things that are pretty amazing. First, it is supposed to be based on a true story. That, in itself, is amazing that multiple tornadoes would hit the same town at night in the fall-in Nebraska. I wonder if the real town\\'s name was close to \"Blainsworth\" (which is the town\\'s name in the movie). There is an Ainsworth, Nebraska, but there is also a town that starts with Blains-something.<br /><br />It does show the slowest moving tornadoes on record in the the seen where the boys are in the house. On the other hand, the scene where the TV goes fuzzy is based in fact. Before Doppler radar and weather radio, we were taught that if you turned your TV to a particular channel (not on cable) and tuned the brightness just right, you could tell if there was a tornado coming. The problem was that by then you would be able to hear it. <br /><br />Since I know something about midwest tornadoes, it made this movie fun for me. I enjoy it more than Twister. I mean, give me a break-there is no way you could make it through and F5 by chaining yourself to a pipe in a well house.'\n",
      " b\"Though this movie has a first rate roster of fine actors, special effects that are excellent, and a story line that is full of surprises, it wasn't picked up for studio distribution and went directly to DVD. Perhaps it contains too much 'anti-police force' information, or perhaps it is juts one too many action flicks released during a glut, but whatever the reason the big screens missed the opportunity, fortunately the new concept of releasing direct to DVD allows us to enjoy it.<br /><br />The theme is old: rookie reporter uncovers an inner circle of cops that are corrupt - in this case the F.R.A.T. (First Response Assault and Tactical) team, a group of well trained policeman created to clean up the mythical city of Edison from its low point of crime, drugs, prostitution etc. Working undercover the temptation of pocketing the confiscated goods and money proves too much of an opportunity and now, 15 years after its formation, FRAT is responsible for murder, drug trafficking, terrorizing innocent people etc. The lead dog is Lazerov (Dylan McDermott, who makes a terrifyingly real gangster!) and his partner Rafe Deed (LL Cool J, even more buff than usual and proving he can be a sensitive actor). Reporter Pollack (Justin Timberlake) catches wind of a 'bad mistake' and reports his theory of fraud and corruption to his paper's boss Ashford (the always reliably fine Morgan Freeman). Gradually Polack convinces Ashford and subsequently Wallace (Kevin Spacey, also a consistently fine character actor) and they aid Pollack in this investigative reporting. The closer Pollack gets to the truth the more surprises and bad incidents happen and the story runs pall mall toward a series of unexpected results.<br /><br />Timberlake lacks the charisma to carry the lead, especially in the company of such seasoned actors. But LL Cool J, Freeman, Spacey, and McDermott keep the well-oiled machine of a movie rolling to the very end. No, it is not a great movie, but it is one that makes for an edge of the seat action flick with a message. Grady Harp\"], shape=(8,), dtype=string)\n"
     ]
    }
   ],
   "source": [
    "for batch in imdbr_train:\n",
    "  # in each batchm there are two attributes, text and label\n",
    "  print(\"There are {} attributes.\".format(len(batch)))\n",
    "  print()\n",
    "  print(\"Use `.item()` fetch data array.\")\n",
    "  print(batch.items())\n",
    "  print()\n",
    "  print(\"Use `key` to fetch data, e.g. batch['text'].\")\n",
    "  print(batch[\"text\"])\n",
    "  break"
   ]
  },
  {
   "cell_type": "markdown",
   "metadata": {
    "colab_type": "text",
    "id": "xZgDYE_N5MDq"
   },
   "source": [
    "## Processing / Maping in Batch Data for Training"
   ]
  },
  {
   "cell_type": "markdown",
   "metadata": {
    "colab_type": "text",
    "id": "Ax4gQ0025WVe"
   },
   "source": [
    "In training, we must make the trainer to automatically fetch and preprocessing the data. In Tensorflow 2.x, we use `.map()` function to address it."
   ]
  },
  {
   "cell_type": "code",
   "execution_count": 0,
   "metadata": {
    "colab": {},
    "colab_type": "code",
    "id": "JGSJQzP7Cfc0"
   },
   "outputs": [],
   "source": [
    "def parse_fn(batch):\n",
    "  # refer to `PrefetchDataset shapes: {text: (None,), label: (None,)}`\n",
    "  return batch[\"text\"], batch[\"label\"]"
   ]
  },
  {
   "cell_type": "code",
   "execution_count": 0,
   "metadata": {
    "colab": {},
    "colab_type": "code",
    "id": "dpgOaJzv9A4Y"
   },
   "outputs": [],
   "source": [
    "imdbr_ds_map = imdbr_train.map(parse_fn)"
   ]
  },
  {
   "cell_type": "markdown",
   "metadata": {
    "colab_type": "text",
    "id": "6yOad-wc9PR4"
   },
   "source": [
    "# Simple Training Example\n",
    "\n",
    "Here we demo how to use mapping function in the training process. In the following, we merge a pretrained model from tf.hub (an famous stoage for pretrained model hosted by Google) and customized layers. We are going to solve the simple binary question. Imdb dataset mainly consists of two attributes, a review text and a binary flag. The flag represents reviewing score.  A negative flag (review) has a score <= 4 out of 10, and a positive flag (review) has a score >= 7 out of 10."
   ]
  },
  {
   "cell_type": "markdown",
   "metadata": {
    "colab_type": "text",
    "id": "FIm29iZjB6Pq"
   },
   "source": [
    "## Build a Model"
   ]
  },
  {
   "cell_type": "code",
   "execution_count": 0,
   "metadata": {
    "colab": {},
    "colab_type": "code",
    "id": "vS_OLSeC9NTS"
   },
   "outputs": [],
   "source": [
    "model = tf.keras.Sequential([\n",
    "    hub.KerasLayer(\"https://tfhub.dev/google/tf2-preview/nnlm-en-dim128/1\", \n",
    "                   output_shape=[128], input_shape=[], dtype=tf.string), \n",
    "    tf.keras.layers.Dense(16, activation=\"relu\"),\n",
    "    tf.keras.layers.Dense(1, activation=\"sigmoid\")\n",
    "])"
   ]
  },
  {
   "cell_type": "code",
   "execution_count": 0,
   "metadata": {
    "colab": {
     "base_uri": "https://localhost:8080/",
     "height": 272
    },
    "colab_type": "code",
    "executionInfo": {
     "elapsed": 772,
     "status": "ok",
     "timestamp": 1558603322815,
     "user": {
      "displayName": "王DevOps",
      "photoUrl": "https://lh6.googleusercontent.com/-DzgWpvOQ_c0/AAAAAAAAAAI/AAAAAAAAA8I/fX9gQd_TAjU/s64/photo.jpg",
      "userId": "04300517850278510646"
     },
     "user_tz": -480
    },
    "id": "XM9nl3Ho-UqF",
    "outputId": "68f9c8b4-7928-45eb-8856-587601dd8f99"
   },
   "outputs": [
    {
     "name": "stdout",
     "output_type": "stream",
     "text": [
      "Model: \"sequential\"\n",
      "_________________________________________________________________\n",
      "Layer (type)                 Output Shape              Param #   \n",
      "=================================================================\n",
      "keras_layer (KerasLayer)     (None, 128)               124642688 \n",
      "_________________________________________________________________\n",
      "dense (Dense)                (None, 16)                2064      \n",
      "_________________________________________________________________\n",
      "dense_1 (Dense)              (None, 1)                 17        \n",
      "=================================================================\n",
      "Total params: 124,644,769\n",
      "Trainable params: 2,081\n",
      "Non-trainable params: 124,642,688\n",
      "_________________________________________________________________\n"
     ]
    }
   ],
   "source": [
    "model.summary()"
   ]
  },
  {
   "cell_type": "markdown",
   "metadata": {
    "colab_type": "text",
    "id": "jEkPkvUu_2io"
   },
   "source": [
    "After built a model, we are going to compile it and start a training via `.fit()` function."
   ]
  },
  {
   "cell_type": "markdown",
   "metadata": {
    "colab_type": "text",
    "id": "baqZsDF7B_hP"
   },
   "source": [
    "## Training"
   ]
  },
  {
   "cell_type": "code",
   "execution_count": 0,
   "metadata": {
    "colab": {},
    "colab_type": "code",
    "id": "LuIACUsB_1Jf"
   },
   "outputs": [],
   "source": [
    "model.compile(optimizer=\"adam\", \n",
    "              loss=\"mean_squared_error\", \n",
    "              metrics=[\"accuracy\"])"
   ]
  },
  {
   "cell_type": "markdown",
   "metadata": {
    "colab_type": "text",
    "id": "wH02L1RKANKM"
   },
   "source": [
    "Due to no end in PrefetchDataset `repeat()`, here fit() requires a `steps_per_epoch` flag."
   ]
  },
  {
   "cell_type": "code",
   "execution_count": 0,
   "metadata": {
    "colab": {
     "base_uri": "https://localhost:8080/",
     "height": 217
    },
    "colab_type": "code",
    "executionInfo": {
     "elapsed": 166484,
     "status": "ok",
     "timestamp": 1558603914390,
     "user": {
      "displayName": "王DevOps",
      "photoUrl": "https://lh6.googleusercontent.com/-DzgWpvOQ_c0/AAAAAAAAAAI/AAAAAAAAA8I/fX9gQd_TAjU/s64/photo.jpg",
      "userId": "04300517850278510646"
     },
     "user_tz": -480
    },
    "id": "HJ-OK-wvAKu7",
    "outputId": "8df9b6c7-bfbc-48a8-d19b-f4eb3d11b6a4"
   },
   "outputs": [
    {
     "name": "stdout",
     "output_type": "stream",
     "text": [
      "Epoch 1/5\n",
      "3125/3125 [==============================] - 34s 11ms/step - loss: 0.1460 - accuracy: 0.7884\n",
      "Epoch 2/5\n",
      "3125/3125 [==============================] - 33s 10ms/step - loss: 0.1439 - accuracy: 0.7926\n",
      "Epoch 3/5\n",
      "3125/3125 [==============================] - 33s 10ms/step - loss: 0.1435 - accuracy: 0.7934\n",
      "Epoch 4/5\n",
      "3125/3125 [==============================] - 34s 11ms/step - loss: 0.1426 - accuracy: 0.7957\n",
      "Epoch 5/5\n",
      "3125/3125 [==============================] - 33s 10ms/step - loss: 0.1424 - accuracy: 0.7954\n"
     ]
    },
    {
     "data": {
      "text/plain": [
       "<tensorflow.python.keras.callbacks.History at 0x7f51c57fbf60>"
      ]
     },
     "execution_count": 64,
     "metadata": {
      "tags": []
     },
     "output_type": "execute_result"
    }
   ],
   "source": [
    "steps_per_epoch = 25000 // 8\n",
    "\n",
    "model.fit(imdbr_ds_map, \n",
    "          epochs=5, \n",
    "          steps_per_epoch=steps_per_epoch)"
   ]
  },
  {
   "cell_type": "markdown",
   "metadata": {
    "colab_type": "text",
    "id": "iFBwByz2B2kl"
   },
   "source": [
    "## Evaluate"
   ]
  },
  {
   "cell_type": "code",
   "execution_count": 0,
   "metadata": {
    "colab": {},
    "colab_type": "code",
    "id": "sQv7zc7IAnXn"
   },
   "outputs": [],
   "source": [
    "imdbr_ds_TEST = tfds.load(\"imdb_reviews\", split=tfds.Split.TEST)\n",
    "imdbr_test = imdbr_ds_TEST.batch(1000)\n",
    "imdbr_test_map = imdbr_test.map(parse_fn)"
   ]
  },
  {
   "cell_type": "code",
   "execution_count": 0,
   "metadata": {
    "colab": {
     "base_uri": "https://localhost:8080/",
     "height": 35
    },
    "colab_type": "code",
    "executionInfo": {
     "elapsed": 5458,
     "status": "ok",
     "timestamp": 1558604821890,
     "user": {
      "displayName": "王DevOps",
      "photoUrl": "https://lh6.googleusercontent.com/-DzgWpvOQ_c0/AAAAAAAAAAI/AAAAAAAAA8I/fX9gQd_TAjU/s64/photo.jpg",
      "userId": "04300517850278510646"
     },
     "user_tz": -480
    },
    "id": "dMk62nv_A3_Z",
    "outputId": "621640f3-15e5-4573-aea3-87c56a67bd32"
   },
   "outputs": [
    {
     "name": "stdout",
     "output_type": "stream",
     "text": [
      "     25/Unknown - 5s 193ms/step - loss: 0.1442 - accuracy: 0.7910"
     ]
    },
    {
     "data": {
      "text/plain": [
       "[0.14415757179260255, 0.791]"
      ]
     },
     "execution_count": 107,
     "metadata": {
      "tags": []
     },
     "output_type": "execute_result"
    }
   ],
   "source": [
    "model.evaluate(imdbr_test_map)"
   ]
  },
  {
   "cell_type": "markdown",
   "metadata": {
    "colab_type": "text",
    "id": "FNLdctHsFrh4"
   },
   "source": [
    "## Predict\n",
    "\n",
    "You can now type some sentences to predict the score."
   ]
  },
  {
   "cell_type": "code",
   "execution_count": 0,
   "metadata": {
    "colab": {
     "base_uri": "https://localhost:8080/",
     "height": 108
    },
    "colab_type": "code",
    "executionInfo": {
     "elapsed": 935,
     "status": "ok",
     "timestamp": 1558605098414,
     "user": {
      "displayName": "王DevOps",
      "photoUrl": "https://lh6.googleusercontent.com/-DzgWpvOQ_c0/AAAAAAAAAAI/AAAAAAAAA8I/fX9gQd_TAjU/s64/photo.jpg",
      "userId": "04300517850278510646"
     },
     "user_tz": -480
    },
    "id": "4pkvoTp2E_Ut",
    "outputId": "e11fbd6e-539c-4fd5-fefe-ca7628173234"
   },
   "outputs": [
    {
     "data": {
      "text/plain": [
       "array([[0.54320854],\n",
       "       [0.55411524],\n",
       "       [0.41002184],\n",
       "       [0.8421466 ],\n",
       "       [0.28753376]], dtype=float32)"
      ]
     },
     "execution_count": 117,
     "metadata": {
      "tags": []
     },
     "output_type": "execute_result"
    }
   ],
   "source": [
    "imdbr_predict_data = np.array([\"Hello world, Tensorflow 2.0!\",\n",
    "                               \"Test\",\n",
    "                               \"1,2,3\", \n",
    "                               \"Nice story, very good tech.\", \n",
    "                               \"It is bad in telling the whole story.\"])\n",
    "model.predict(imdbr_predict_data)"
   ]
  },
  {
   "cell_type": "markdown",
   "metadata": {
    "colab_type": "text",
    "id": "LhkPt1uzIWwb"
   },
   "source": [
    "You can also use the tensorflow dataset to predict the result."
   ]
  },
  {
   "cell_type": "code",
   "execution_count": 0,
   "metadata": {
    "colab": {
     "base_uri": "https://localhost:8080/",
     "height": 74
    },
    "colab_type": "code",
    "executionInfo": {
     "elapsed": 1363,
     "status": "ok",
     "timestamp": 1558605606458,
     "user": {
      "displayName": "王DevOps",
      "photoUrl": "https://lh6.googleusercontent.com/-DzgWpvOQ_c0/AAAAAAAAAAI/AAAAAAAAA8I/fX9gQd_TAjU/s64/photo.jpg",
      "userId": "04300517850278510646"
     },
     "user_tz": -480
    },
    "id": "PmuPuqh9F_yR",
    "outputId": "17c8487c-d9e5-48f4-8534-5ed729b88126"
   },
   "outputs": [
    {
     "data": {
      "text/plain": [
       "array([\"I've watched the movie actually several times. And what i want to say about it is the only thing that made this movie high rank was the Burak Altay's incredible performance, absolutely nothing but that. Not even those silly model named Deniz Akkaya and some of these popular names at times in the movie... Burak is definitely very talented i've seen a few jobs he made and been through. Even though this is kind of horror movie, he's doing really good job in comedy movies and also in dramas too. I bet most of you all saw Asmali Konak the movie and TV series, those two would go for an example... All i'm gonna say is you better watch out for the new works coming out from Burak then you'll see.. Keep the good work bro, much love..\"],\n",
       "      dtype='<U733')"
      ]
     },
     "execution_count": 161,
     "metadata": {
      "tags": []
     },
     "output_type": "execute_result"
    }
   ],
   "source": [
    "imdbr_predict_data_2, = imdbr_ds_TEST.take(1)\n",
    "imdbr_predict_data_2 = np.array([imdbr_predict_data_2[\"text\"].numpy().decode(\"UTF-8\")])\n",
    "imdbr_predict_data_2"
   ]
  },
  {
   "cell_type": "code",
   "execution_count": 0,
   "metadata": {
    "colab": {
     "base_uri": "https://localhost:8080/",
     "height": 35
    },
    "colab_type": "code",
    "executionInfo": {
     "elapsed": 1443,
     "status": "ok",
     "timestamp": 1558605608952,
     "user": {
      "displayName": "王DevOps",
      "photoUrl": "https://lh6.googleusercontent.com/-DzgWpvOQ_c0/AAAAAAAAAAI/AAAAAAAAA8I/fX9gQd_TAjU/s64/photo.jpg",
      "userId": "04300517850278510646"
     },
     "user_tz": -480
    },
    "id": "TmMYyF91GvBY",
    "outputId": "dd804ed4-c9a3-4bd5-a19c-c301e64c0fef"
   },
   "outputs": [
    {
     "data": {
      "text/plain": [
       "array([[0.71404517]], dtype=float32)"
      ]
     },
     "execution_count": 162,
     "metadata": {
      "tags": []
     },
     "output_type": "execute_result"
    }
   ],
   "source": [
    "model.predict(imdbr_predict_data_2)"
   ]
  },
  {
   "cell_type": "markdown",
   "metadata": {
    "colab_type": "text",
    "id": "51sIRdIaKpwo"
   },
   "source": [
    "## Export a Model\n",
    "\n",
    "It is simple to save the trained model. "
   ]
  },
  {
   "cell_type": "code",
   "execution_count": 0,
   "metadata": {
    "colab": {},
    "colab_type": "code",
    "id": "m4vicmROKqJr"
   },
   "outputs": [],
   "source": [
    "model.save(\"imdbr.h5\", include_optimizer=True)"
   ]
  },
  {
   "cell_type": "markdown",
   "metadata": {
    "colab_type": "text",
    "id": "TPeKcdvRLHuV"
   },
   "source": [
    "## View the weights\n",
    "\n",
    "It is simple to transfrom the model weight into different formats. You can access the attribute `.weights` to fetch all weights."
   ]
  },
  {
   "cell_type": "code",
   "execution_count": 0,
   "metadata": {
    "colab": {
     "base_uri": "https://localhost:8080/",
     "height": 965
    },
    "colab_type": "code",
    "executionInfo": {
     "elapsed": 973,
     "status": "ok",
     "timestamp": 1558606305123,
     "user": {
      "displayName": "王DevOps",
      "photoUrl": "https://lh6.googleusercontent.com/-DzgWpvOQ_c0/AAAAAAAAAAI/AAAAAAAAA8I/fX9gQd_TAjU/s64/photo.jpg",
      "userId": "04300517850278510646"
     },
     "user_tz": -480
    },
    "id": "zyHD0TiGLGvg",
    "outputId": "8cdf6304-19e5-4e49-8aaa-2fd84c58f599"
   },
   "outputs": [
    {
     "data": {
      "text/plain": [
       "[<tf.Variable 'dense/kernel:0' shape=(128, 16) dtype=float32, numpy=\n",
       " array([[ 0.05103301, -0.09987675, -0.02509112, ..., -0.07569588,\n",
       "         -0.03953914,  0.15262881],\n",
       "        [ 0.10278282,  0.21286143,  0.08690263, ..., -0.20403317,\n",
       "          0.21032059,  0.12193388],\n",
       "        [-0.1462182 , -0.09899718, -0.3288752 , ...,  0.04722484,\n",
       "         -0.18032527,  0.3393469 ],\n",
       "        ...,\n",
       "        [ 0.02443554, -0.19251642, -0.18985495, ...,  0.07229494,\n",
       "         -0.3040509 ,  0.21191847],\n",
       "        [ 0.08839218,  0.15343545,  0.13075665, ...,  0.11757858,\n",
       "          0.20322913, -0.21505691],\n",
       "        [ 0.05775356, -0.01526705,  0.02360127, ...,  0.1987856 ,\n",
       "         -0.06532481,  0.0211694 ]], dtype=float32)>,\n",
       " <tf.Variable 'dense/bias:0' shape=(16,) dtype=float32, numpy=\n",
       " array([-0.05715915,  0.02144725,  0.08002391,  0.0697367 ,  0.11318063,\n",
       "         0.05424993,  0.0753491 ,  0.15644073,  0.07161279,  0.08346546,\n",
       "         0.06093833,  0.06376005,  0.07308774,  0.1033849 ,  0.04979755,\n",
       "         0.07883395], dtype=float32)>,\n",
       " <tf.Variable 'dense_1/kernel:0' shape=(16, 1) dtype=float32, numpy=\n",
       " array([[-0.7841633 ],\n",
       "        [-0.48659924],\n",
       "        [-0.41988677],\n",
       "        [-0.68287116],\n",
       "        [-1.011928  ],\n",
       "        [-0.8238018 ],\n",
       "        [-0.3838168 ],\n",
       "        [-0.5717517 ],\n",
       "        [ 0.8545254 ],\n",
       "        [-0.62571156],\n",
       "        [-0.58607996],\n",
       "        [-0.49656662],\n",
       "        [ 0.5029506 ],\n",
       "        [-0.1264916 ],\n",
       "        [-0.67681444],\n",
       "        [ 0.68121386]], dtype=float32)>,\n",
       " <tf.Variable 'dense_1/bias:0' shape=(1,) dtype=float32, numpy=array([0.07440309], dtype=float32)>,\n",
       " <tf.Variable 'Variable:0' shape=(973771, 128) dtype=float32, numpy=\n",
       " array([[ 8.16051960e-01,  3.51142138e-02, -3.23012704e-03, ...,\n",
       "         -2.68346369e-02, -4.95113060e-02,  1.63635537e-02],\n",
       "        [ 6.26858950e-01,  1.22697828e-02, -5.47063090e-02, ...,\n",
       "          7.37033179e-03, -7.09955022e-02, -7.38640875e-02],\n",
       "        [-1.19781224e-02, -4.65284288e-02, -4.78441420e-04, ...,\n",
       "          1.27587229e-01,  1.21942766e-01, -3.41316722e-02],\n",
       "        ...,\n",
       "        [-1.96687713e-01,  1.08706986e-03, -8.78152475e-02, ...,\n",
       "          1.77201703e-01, -1.04697749e-01,  4.37770933e-02],\n",
       "        [-2.06271142e-01, -2.30716169e-02, -7.13550597e-02, ...,\n",
       "         -3.06905657e-02, -1.14739329e-01, -5.64496219e-02],\n",
       "        [-1.38024807e-01, -1.27754761e-02, -6.36914894e-02, ...,\n",
       "          1.03301600e-01,  6.30483963e-04, -4.08159662e-03]], dtype=float32)>]"
      ]
     },
     "execution_count": 165,
     "metadata": {
      "tags": []
     },
     "output_type": "execute_result"
    }
   ],
   "source": [
    "model.weights"
   ]
  },
  {
   "cell_type": "code",
   "execution_count": 0,
   "metadata": {
    "colab": {},
    "colab_type": "code",
    "id": "bhfkrotSH8vC"
   },
   "outputs": [],
   "source": []
  }
 ],
 "metadata": {
  "accelerator": "GPU",
  "colab": {
   "collapsed_sections": [],
   "name": "TF2_tfdata_kerashub.ipynb",
   "provenance": [],
   "toc_visible": true,
   "version": "0.3.2"
  },
  "kernelspec": {
   "display_name": "Python 3",
   "language": "python",
   "name": "python3"
  },
  "language_info": {
   "codemirror_mode": {
    "name": "ipython",
    "version": 3
   },
   "file_extension": ".py",
   "mimetype": "text/x-python",
   "name": "python",
   "nbconvert_exporter": "python",
   "pygments_lexer": "ipython3",
   "version": "3.7.4"
  }
 },
 "nbformat": 4,
 "nbformat_minor": 1
}
