{
 "cells": [
  {
   "cell_type": "code",
   "execution_count": 0,
   "metadata": {
    "colab": {
     "base_uri": "https://localhost:8080/",
     "height": 383
    },
    "colab_type": "code",
    "executionInfo": {
     "elapsed": 6907,
     "status": "ok",
     "timestamp": 1558432710041,
     "user": {
      "displayName": "王DevOps",
      "photoUrl": "https://lh6.googleusercontent.com/-DzgWpvOQ_c0/AAAAAAAAAAI/AAAAAAAAA8I/fX9gQd_TAjU/s64/photo.jpg",
      "userId": "04300517850278510646"
     },
     "user_tz": -480
    },
    "id": "IT-Ja79c8ioA",
    "outputId": "a1fc8cfb-9e47-490a-c1a9-9066cad35e08"
   },
   "outputs": [
    {
     "name": "stdout",
     "output_type": "stream",
     "text": [
      "Requirement already satisfied: tensorflow-gpu==2.0.0alpha in /usr/local/lib/python3.6/dist-packages (2.0.0a0)\n",
      "Requirement already satisfied: keras-preprocessing>=1.0.5 in /usr/local/lib/python3.6/dist-packages (from tensorflow-gpu==2.0.0alpha) (1.0.9)\n",
      "Requirement already satisfied: google-pasta>=0.1.2 in /usr/local/lib/python3.6/dist-packages (from tensorflow-gpu==2.0.0alpha) (0.1.6)\n",
      "Requirement already satisfied: wheel>=0.26 in /usr/local/lib/python3.6/dist-packages (from tensorflow-gpu==2.0.0alpha) (0.33.4)\n",
      "Requirement already satisfied: astor>=0.6.0 in /usr/local/lib/python3.6/dist-packages (from tensorflow-gpu==2.0.0alpha) (0.7.1)\n",
      "Requirement already satisfied: protobuf>=3.6.1 in /usr/local/lib/python3.6/dist-packages (from tensorflow-gpu==2.0.0alpha) (3.7.1)\n",
      "Requirement already satisfied: absl-py>=0.7.0 in /usr/local/lib/python3.6/dist-packages (from tensorflow-gpu==2.0.0alpha) (0.7.1)\n",
      "Requirement already satisfied: gast>=0.2.0 in /usr/local/lib/python3.6/dist-packages (from tensorflow-gpu==2.0.0alpha) (0.2.2)\n",
      "Requirement already satisfied: tb-nightly<1.14.0a20190302,>=1.14.0a20190301 in /usr/local/lib/python3.6/dist-packages (from tensorflow-gpu==2.0.0alpha) (1.14.0a20190301)\n",
      "Requirement already satisfied: tf-estimator-nightly<1.14.0.dev2019030116,>=1.14.0.dev2019030115 in /usr/local/lib/python3.6/dist-packages (from tensorflow-gpu==2.0.0alpha) (1.14.0.dev2019030115)\n",
      "Requirement already satisfied: numpy<2.0,>=1.14.5 in /usr/local/lib/python3.6/dist-packages (from tensorflow-gpu==2.0.0alpha) (1.16.3)\n",
      "Requirement already satisfied: six>=1.10.0 in /usr/local/lib/python3.6/dist-packages (from tensorflow-gpu==2.0.0alpha) (1.12.0)\n",
      "Requirement already satisfied: keras-applications>=1.0.6 in /usr/local/lib/python3.6/dist-packages (from tensorflow-gpu==2.0.0alpha) (1.0.7)\n",
      "Requirement already satisfied: termcolor>=1.1.0 in /usr/local/lib/python3.6/dist-packages (from tensorflow-gpu==2.0.0alpha) (1.1.0)\n",
      "Requirement already satisfied: grpcio>=1.8.6 in /usr/local/lib/python3.6/dist-packages (from tensorflow-gpu==2.0.0alpha) (1.15.0)\n",
      "Requirement already satisfied: setuptools in /usr/local/lib/python3.6/dist-packages (from protobuf>=3.6.1->tensorflow-gpu==2.0.0alpha) (41.0.1)\n",
      "Requirement already satisfied: werkzeug>=0.11.15 in /usr/local/lib/python3.6/dist-packages (from tb-nightly<1.14.0a20190302,>=1.14.0a20190301->tensorflow-gpu==2.0.0alpha) (0.15.3)\n",
      "Requirement already satisfied: markdown>=2.6.8 in /usr/local/lib/python3.6/dist-packages (from tb-nightly<1.14.0a20190302,>=1.14.0a20190301->tensorflow-gpu==2.0.0alpha) (3.1)\n",
      "Requirement already satisfied: h5py in /usr/local/lib/python3.6/dist-packages (from keras-applications>=1.0.6->tensorflow-gpu==2.0.0alpha) (2.8.0)\n"
     ]
    }
   ],
   "source": [
    "!pip install tensorflow-gpu==2.0.0alpha"
   ]
  },
  {
   "cell_type": "markdown",
   "metadata": {
    "colab_type": "text",
    "id": "YozNmFKbsM7a"
   },
   "source": [
    "## New Ways Building Network"
   ]
  },
  {
   "cell_type": "code",
   "execution_count": 0,
   "metadata": {
    "colab": {},
    "colab_type": "code",
    "id": "OXsUvs_FLh25"
   },
   "outputs": [],
   "source": [
    "import tensorflow as tf"
   ]
  },
  {
   "cell_type": "code",
   "execution_count": 0,
   "metadata": {
    "colab": {
     "base_uri": "https://localhost:8080/",
     "height": 35
    },
    "colab_type": "code",
    "executionInfo": {
     "elapsed": 7516,
     "status": "ok",
     "timestamp": 1558432710655,
     "user": {
      "displayName": "王DevOps",
      "photoUrl": "https://lh6.googleusercontent.com/-DzgWpvOQ_c0/AAAAAAAAAAI/AAAAAAAAA8I/fX9gQd_TAjU/s64/photo.jpg",
      "userId": "04300517850278510646"
     },
     "user_tz": -480
    },
    "id": "H4RlLSdOLv9B",
    "outputId": "5210a7ff-4c58-41fb-a046-d6d3676e8463"
   },
   "outputs": [
    {
     "name": "stdout",
     "output_type": "stream",
     "text": [
      "Tensorflow Version: 2.0.0-alpha0\n"
     ]
    }
   ],
   "source": [
    "print(\"Tensorflow Version: {}\".format(tf.__version__))"
   ]
  },
  {
   "cell_type": "markdown",
   "metadata": {
    "colab_type": "text",
    "id": "_s-PgoPQSQQi"
   },
   "source": [
    "## Eager Execution"
   ]
  },
  {
   "cell_type": "markdown",
   "metadata": {
    "colab_type": "text",
    "id": "hn3XA1YPSgK5"
   },
   "source": [
    "Eager execution is one of the biggest change between Tensorflow 1.x and 2.x. "
   ]
  },
  {
   "cell_type": "markdown",
   "metadata": {
    "colab_type": "text",
    "id": "Lbq-3t_G2e3V"
   },
   "source": [
    "### Basic Concept"
   ]
  },
  {
   "cell_type": "markdown",
   "metadata": {
    "colab_type": "text",
    "id": "-IcXsRyITp2p"
   },
   "source": [
    "In Tensorflow 1, all operations on the tensor are under active session. A simple example is like the below.\n",
    "\n",
    "```python\n",
    "# Tensorflow 1.x\n",
    "\n",
    "with tf.Session() as sess:\n",
    "  add_res = tf.constant(2.0, dtype=float) + tf.constant(1.5, dtype=float)\n",
    "  print(sess.run(add_res))   # 3.5\n",
    "```"
   ]
  },
  {
   "cell_type": "markdown",
   "metadata": {
    "colab_type": "text",
    "id": "VLEgmLjaTPRM"
   },
   "source": [
    "In Tensorflow 2 with **eager** mode, you no need start a session to run the operation, rather you can do calculate more like in native python."
   ]
  },
  {
   "cell_type": "code",
   "execution_count": 0,
   "metadata": {
    "colab": {
     "base_uri": "https://localhost:8080/",
     "height": 35
    },
    "colab_type": "code",
    "executionInfo": {
     "elapsed": 7976,
     "status": "ok",
     "timestamp": 1558432711116,
     "user": {
      "displayName": "王DevOps",
      "photoUrl": "https://lh6.googleusercontent.com/-DzgWpvOQ_c0/AAAAAAAAAAI/AAAAAAAAA8I/fX9gQd_TAjU/s64/photo.jpg",
      "userId": "04300517850278510646"
     },
     "user_tz": -480
    },
    "id": "UyVbcLN1SPud",
    "outputId": "3d364a16-ba48-47b3-c877-09a8e5adc561"
   },
   "outputs": [
    {
     "data": {
      "text/plain": [
       "<tf.Tensor: id=2, shape=(), dtype=float32, numpy=3.5>"
      ]
     },
     "execution_count": 5,
     "metadata": {
      "tags": []
     },
     "output_type": "execute_result"
    }
   ],
   "source": [
    "# tensor\n",
    "tf.constant(2.0, dtype=float) + tf.constant(1.5, dtype=float)"
   ]
  },
  {
   "cell_type": "markdown",
   "metadata": {
    "colab_type": "text",
    "id": "079SNvjTUuDs"
   },
   "source": [
    "You can even get the calculation result by simply adding a call `.numpy()`."
   ]
  },
  {
   "cell_type": "code",
   "execution_count": 0,
   "metadata": {
    "colab": {
     "base_uri": "https://localhost:8080/",
     "height": 35
    },
    "colab_type": "code",
    "executionInfo": {
     "elapsed": 7977,
     "status": "ok",
     "timestamp": 1558432711118,
     "user": {
      "displayName": "王DevOps",
      "photoUrl": "https://lh6.googleusercontent.com/-DzgWpvOQ_c0/AAAAAAAAAAI/AAAAAAAAA8I/fX9gQd_TAjU/s64/photo.jpg",
      "userId": "04300517850278510646"
     },
     "user_tz": -480
    },
    "id": "vD_lcWNeUjdZ",
    "outputId": "006133b4-f512-4eea-bc79-349d238499ee"
   },
   "outputs": [
    {
     "data": {
      "text/plain": [
       "3.5"
      ]
     },
     "execution_count": 6,
     "metadata": {
      "tags": []
     },
     "output_type": "execute_result"
    }
   ],
   "source": [
    "# numpy result\n",
    "(tf.constant(2.0, dtype=float) + tf.constant(1.5, dtype=float)).numpy()"
   ]
  },
  {
   "cell_type": "markdown",
   "metadata": {
    "colab_type": "text",
    "id": "UipyzRuqabJO"
   },
   "source": [
    "In Tensorflow 2.0, eager execution is on by default. Unlike Tensorflow 1.x, operations under eager model are executing immediately without building graph. Operations return a concrete value instead of building a graph to run later."
   ]
  },
  {
   "cell_type": "markdown",
   "metadata": {
    "colab_type": "text",
    "id": "e92Re-dNyBbt"
   },
   "source": [
    "### No Initializer Required\n",
    "\n",
    "In Tensorflow 1.x, a simple variable must be initialized after it was decleared.\n",
    "\n",
    "In Tensorflow 2.x, no matter in `eager` execution or in `tf.function()` no initialization operation is required."
   ]
  },
  {
   "cell_type": "markdown",
   "metadata": {
    "colab_type": "text",
    "id": "vWB5kBLW1T-v"
   },
   "source": [
    "Example in **eager** mode."
   ]
  },
  {
   "cell_type": "code",
   "execution_count": 0,
   "metadata": {
    "colab": {
     "base_uri": "https://localhost:8080/",
     "height": 199
    },
    "colab_type": "code",
    "executionInfo": {
     "elapsed": 1365,
     "status": "ok",
     "timestamp": 1558432837776,
     "user": {
      "displayName": "王DevOps",
      "photoUrl": "https://lh6.googleusercontent.com/-DzgWpvOQ_c0/AAAAAAAAAAI/AAAAAAAAA8I/fX9gQd_TAjU/s64/photo.jpg",
      "userId": "04300517850278510646"
     },
     "user_tz": -480
    },
    "id": "ivYpd_Ee1YOw",
    "outputId": "1aed9107-1f21-4ea9-8f63-ab080da69d48"
   },
   "outputs": [
    {
     "name": "stdout",
     "output_type": "stream",
     "text": [
      "<tf.Variable 'Variable:0' shape=() dtype=float32, numpy=1.0>\n",
      "<tf.Variable 'Variable:0' shape=() dtype=float32, numpy=2.0>\n",
      "<tf.Variable 'Variable:0' shape=() dtype=float32, numpy=4.0>\n",
      "<tf.Variable 'Variable:0' shape=() dtype=float32, numpy=7.0>\n",
      "<tf.Variable 'Variable:0' shape=() dtype=float32, numpy=11.0>\n",
      "<tf.Variable 'Variable:0' shape=() dtype=float32, numpy=16.0>\n",
      "<tf.Variable 'Variable:0' shape=() dtype=float32, numpy=22.0>\n",
      "<tf.Variable 'Variable:0' shape=() dtype=float32, numpy=29.0>\n",
      "<tf.Variable 'Variable:0' shape=() dtype=float32, numpy=37.0>\n",
      "<tf.Variable 'Variable:0' shape=() dtype=float32, numpy=46.0>\n"
     ]
    }
   ],
   "source": [
    "v_add_seq = tf.Variable(1.0)\n",
    "\n",
    "for i in range(10):\n",
    "  v_add_seq.assign_add(i)\n",
    "  print(v_add_seq)"
   ]
  },
  {
   "cell_type": "markdown",
   "metadata": {
    "colab_type": "text",
    "id": "v37UdKUt1MNZ"
   },
   "source": [
    "Example In the `tf.function()`."
   ]
  },
  {
   "cell_type": "code",
   "execution_count": 0,
   "metadata": {
    "colab": {
     "base_uri": "https://localhost:8080/",
     "height": 199
    },
    "colab_type": "code",
    "executionInfo": {
     "elapsed": 1875,
     "status": "ok",
     "timestamp": 1558432848995,
     "user": {
      "displayName": "王DevOps",
      "photoUrl": "https://lh6.googleusercontent.com/-DzgWpvOQ_c0/AAAAAAAAAAI/AAAAAAAAA8I/fX9gQd_TAjU/s64/photo.jpg",
      "userId": "04300517850278510646"
     },
     "user_tz": -480
    },
    "id": "yPai1M-N0cde",
    "outputId": "6358ec62-3e2f-4b50-f08c-9ab5a7738232"
   },
   "outputs": [
    {
     "name": "stdout",
     "output_type": "stream",
     "text": [
      "tf.Tensor(1.0, shape=(), dtype=float32)\n",
      "tf.Tensor(2.0, shape=(), dtype=float32)\n",
      "tf.Tensor(4.0, shape=(), dtype=float32)\n",
      "tf.Tensor(7.0, shape=(), dtype=float32)\n",
      "tf.Tensor(11.0, shape=(), dtype=float32)\n",
      "tf.Tensor(16.0, shape=(), dtype=float32)\n",
      "tf.Tensor(22.0, shape=(), dtype=float32)\n",
      "tf.Tensor(29.0, shape=(), dtype=float32)\n",
      "tf.Tensor(37.0, shape=(), dtype=float32)\n",
      "tf.Tensor(46.0, shape=(), dtype=float32)\n"
     ]
    }
   ],
   "source": [
    "v_add_seq_2 = tf.Variable(1.0)\n",
    "\n",
    "@tf.function()\n",
    "def add_seq(x):\n",
    "  return v_add_seq_2.assign_add(x)\n",
    "\n",
    "for i in range(10):\n",
    "  print(add_seq(i))"
   ]
  },
  {
   "cell_type": "markdown",
   "metadata": {
    "colab_type": "text",
    "id": "qBoP084WL_6O"
   },
   "source": [
    "## TF Function"
   ]
  },
  {
   "cell_type": "markdown",
   "metadata": {
    "colab_type": "text",
    "id": "ZLq39rIuQcMs"
   },
   "source": [
    "### Basic Concept"
   ]
  },
  {
   "cell_type": "markdown",
   "metadata": {
    "colab_type": "text",
    "id": "KPKnoAUAQbMn"
   },
   "source": [
    "`tf.function()` is a new decorator declearing operations in Tensorflow 2.0.\n",
    "\n",
    "The basic declearation is like below:\n",
    "```python\n",
    "# the necessary decorator\n",
    "@tf.function\n",
    "def func(*params):\n",
    "  '''define the operations'''\n",
    "  results = ...\n",
    "  return results\n",
    "```\n",
    "\n",
    "With `tf.function()`, you **don't** need the following:\n",
    "* running via `tf.Session()`\n",
    "* using `tf.control_dependencies()`\n",
    "* using `tf.global_variables_initializers()`\n",
    "* using `tf.cond()` and `tf.while_loop()`.\n",
    "\n",
    "With `tf.function()`, you are supported to **do** the following:\n",
    "* building concrete functions"
   ]
  },
  {
   "cell_type": "code",
   "execution_count": 0,
   "metadata": {
    "colab": {},
    "colab_type": "code",
    "id": "koreelotL_cC"
   },
   "outputs": [],
   "source": [
    "@tf.function\n",
    "def add(a, b):\n",
    "  '''An add operation.'''\n",
    "  return a + b"
   ]
  },
  {
   "cell_type": "markdown",
   "metadata": {
    "colab_type": "text",
    "id": "cLhYvAO7PIqD"
   },
   "source": [
    "You can use `tf.function()` to process tensor. The `tf.function()` can return the result as the tensor."
   ]
  },
  {
   "cell_type": "code",
   "execution_count": 0,
   "metadata": {
    "colab": {
     "base_uri": "https://localhost:8080/",
     "height": 35
    },
    "colab_type": "code",
    "executionInfo": {
     "elapsed": 8650,
     "status": "ok",
     "timestamp": 1558432711794,
     "user": {
      "displayName": "王DevOps",
      "photoUrl": "https://lh6.googleusercontent.com/-DzgWpvOQ_c0/AAAAAAAAAAI/AAAAAAAAA8I/fX9gQd_TAjU/s64/photo.jpg",
      "userId": "04300517850278510646"
     },
     "user_tz": -480
    },
    "id": "GrEc1m4_O2Bi",
    "outputId": "7cd65c10-3d66-4450-a726-b86cc7786a25"
   },
   "outputs": [
    {
     "data": {
      "text/plain": [
       "<tf.Tensor: id=118, shape=(), dtype=float32, numpy=5.5>"
      ]
     },
     "execution_count": 9,
     "metadata": {
      "tags": []
     },
     "output_type": "execute_result"
    }
   ],
   "source": [
    "add(tf.constant(2.0, dtype=float), tf.constant(3.5, dtype=float))"
   ]
  },
  {
   "cell_type": "markdown",
   "metadata": {
    "colab_type": "text",
    "id": "QdPa_YoNPhkD"
   },
   "source": [
    "You can also use `tf.function()` as the normal python function."
   ]
  },
  {
   "cell_type": "code",
   "execution_count": 0,
   "metadata": {
    "colab": {
     "base_uri": "https://localhost:8080/",
     "height": 35
    },
    "colab_type": "code",
    "executionInfo": {
     "elapsed": 8652,
     "status": "ok",
     "timestamp": 1558432711796,
     "user": {
      "displayName": "王DevOps",
      "photoUrl": "https://lh6.googleusercontent.com/-DzgWpvOQ_c0/AAAAAAAAAAI/AAAAAAAAA8I/fX9gQd_TAjU/s64/photo.jpg",
      "userId": "04300517850278510646"
     },
     "user_tz": -480
    },
    "id": "kIYlhbf4PfTK",
    "outputId": "bd232126-a607-4364-b5cc-b999480a4058"
   },
   "outputs": [
    {
     "data": {
      "text/plain": [
       "10.5"
      ]
     },
     "execution_count": 10,
     "metadata": {
      "tags": []
     },
     "output_type": "execute_result"
    }
   ],
   "source": [
    "add(tf.constant(3.0, dtype=float), tf.constant(7.5, dtype=float)).numpy()"
   ]
  },
  {
   "cell_type": "markdown",
   "metadata": {
    "colab_type": "text",
    "id": "jkz0f7CNPwBz"
   },
   "source": [
    "Further more, you might not need to care about the data type of the tensor while doing the same operation. \n",
    "\n",
    "Compare to Tensorflow 1.x, you don't need declear the same operation but for different data type, for example, for integer or for string."
   ]
  },
  {
   "cell_type": "code",
   "execution_count": 0,
   "metadata": {
    "colab": {
     "base_uri": "https://localhost:8080/",
     "height": 35
    },
    "colab_type": "code",
    "executionInfo": {
     "elapsed": 9116,
     "status": "ok",
     "timestamp": 1558432712261,
     "user": {
      "displayName": "王DevOps",
      "photoUrl": "https://lh6.googleusercontent.com/-DzgWpvOQ_c0/AAAAAAAAAAI/AAAAAAAAA8I/fX9gQd_TAjU/s64/photo.jpg",
      "userId": "04300517850278510646"
     },
     "user_tz": -480
    },
    "id": "Ifdtt7RnQQ4g",
    "outputId": "e16b3cab-5923-4922-823c-0c3e03f96854"
   },
   "outputs": [
    {
     "data": {
      "text/plain": [
       "<tf.Tensor: id=128, shape=(), dtype=string, numpy=b'aa'>"
      ]
     },
     "execution_count": 11,
     "metadata": {
      "tags": []
     },
     "output_type": "execute_result"
    }
   ],
   "source": [
    "add(\"a\", \"a\")"
   ]
  },
  {
   "cell_type": "markdown",
   "metadata": {
    "colab_type": "text",
    "id": "Hi5X7991QiDi"
   },
   "source": [
    "### More Faster"
   ]
  },
  {
   "cell_type": "markdown",
   "metadata": {
    "colab_type": "text",
    "id": "4nIP63hdQngj"
   },
   "source": [
    "One of the biggest change between Tensorflow 1.x and 2.x is the eager mode. It is no required to execute the operations on graph under a seesion via `tf.Session()`.\n",
    "\n",
    "But with `tf.function()`, the calculation would be faster then eager execution. (Due to the optimization in `tf.function()`.)"
   ]
  },
  {
   "cell_type": "markdown",
   "metadata": {
    "colab_type": "text",
    "id": "1m7RqhZZVb-Z"
   },
   "source": [
    "Here we demo the time consumption between **eager model** and **tf.function()**. LSTM cell is one type of gated RNN cell improving memorizing mechanism along with time series data. But the state in each time moment depended on the previous time moment. This dependent calculation causes itself to consume more time and hard to accelerate during the training."
   ]
  },
  {
   "cell_type": "code",
   "execution_count": 0,
   "metadata": {
    "colab": {},
    "colab_type": "code",
    "id": "HbC7eQbtQlAs"
   },
   "outputs": [],
   "source": [
    "lstm_cell = tf.keras.layers.LSTMCell(10)\n",
    "\n",
    "@tf.function\n",
    "def fn(input, state):\n",
    "  return lstm_cell(input, state)"
   ]
  },
  {
   "cell_type": "code",
   "execution_count": 0,
   "metadata": {
    "colab": {
     "base_uri": "https://localhost:8080/",
     "height": 54
    },
    "colab_type": "code",
    "executionInfo": {
     "elapsed": 9119,
     "status": "ok",
     "timestamp": 1558432712266,
     "user": {
      "displayName": "王DevOps",
      "photoUrl": "https://lh6.googleusercontent.com/-DzgWpvOQ_c0/AAAAAAAAAAI/AAAAAAAAA8I/fX9gQd_TAjU/s64/photo.jpg",
      "userId": "04300517850278510646"
     },
     "user_tz": -480
    },
    "id": "rZa44Cd9XDTh",
    "outputId": "bab71d10-0305-4a2c-9b4d-a8129f519f37"
   },
   "outputs": [
    {
     "name": "stdout",
     "output_type": "stream",
     "text": [
      "Eager mode: 0.43634912299967255\n",
      "tf.function mode: 0.15399093900123262\n"
     ]
    }
   ],
   "source": [
    "input = tf.zeros([10, 10])\n",
    "state = [tf.zeros([10, 10])] * 2\n",
    "\n",
    "import timeit\n",
    "print(\"Eager mode: {}\".format(timeit.timeit(lambda: lstm_cell(input, state), number=10)))\n",
    "print(\"tf.function mode: {}\".format(timeit.timeit(lambda: fn(input, state), number=10)))"
   ]
  },
  {
   "cell_type": "markdown",
   "metadata": {
    "colab_type": "text",
    "id": "FWeqUAQrjE77"
   },
   "source": [
    "### Automatic Control Dependencies\n",
    "\n",
    "In Tensorflow 1.x, we use `tf.control_dependencies()` to control the partial calculation order in the graph. But it is easy to ignore the updated relation among tensors.\n",
    "\n",
    "A simple example is like below.\n",
    "\n",
    "```python\n",
    "# Tensorflow 1.x\n",
    "\n",
    "with tf.Graph().as_default():\n",
    "  v1 = tf.Variable(tf.constant(1.0))\n",
    "  v2 = tf.Variable(2.0)\n",
    "  x = tf.placeholder(tf.float32)\n",
    "  y = tf.placeholder(tf.float32)\n",
    "  \n",
    "  # =============================================\n",
    "  # wrong way (easier way to build the operation)\n",
    "  # =============================================\n",
    "  #v1_assign = v1.assign(y * v2)\n",
    "  #v2_assign = v2.assign_add(x * v1)\n",
    "  #v_sum = v1 + v2  # 3.0\n",
    "  \n",
    "  # ===============================================================\n",
    "  # correct way (have to notice the dependencies among several operations)\n",
    "  # ===============================================================\n",
    "  v1_assign = v1.assign(y * v2)\n",
    "  with tf.control_dependencies([v1_assign]):\n",
    "    # control is dependent on operator v1_assign\n",
    "    v2_assign = v2.assign_add(x * v1)\n",
    "    with tf.control_dependencies([v2_assign]):\n",
    "      # control is dependent on both operators v1_assign, v2_assign\n",
    "      v_sum = v1 + v2\n",
    "  \n",
    "  with tf.Session() as sess:\n",
    "    sess.run(tf.global_variables_initializer())\n",
    "    print(sess.run([v_sum], feed_dict={x: 3.0, y: 4.0}))  # 34.0\n",
    "```"
   ]
  },
  {
   "cell_type": "markdown",
   "metadata": {
    "colab_type": "text",
    "id": "QaQhO-Tlvts9"
   },
   "source": [
    "In Tensorflow 1.x, `tf.control_dependency()` controls the calculation order in the flow, especially for the operations dependent on the previous and next results. Lots of loop-like operations would encounter such problems. (It is really not convenient to building partial operation.)\n",
    "\n",
    "In Tensorflow 2.x, the control dependencies are handed over to Tensorflow, you can simply build the operation like native python."
   ]
  },
  {
   "cell_type": "code",
   "execution_count": 0,
   "metadata": {
    "colab": {
     "base_uri": "https://localhost:8080/",
     "height": 72
    },
    "colab_type": "code",
    "executionInfo": {
     "elapsed": 10859,
     "status": "ok",
     "timestamp": 1558432714009,
     "user": {
      "displayName": "王DevOps",
      "photoUrl": "https://lh6.googleusercontent.com/-DzgWpvOQ_c0/AAAAAAAAAAI/AAAAAAAAA8I/fX9gQd_TAjU/s64/photo.jpg",
      "userId": "04300517850278510646"
     },
     "user_tz": -480
    },
    "id": "QeGfI1GbjNm2",
    "outputId": "53a0431e-13d4-43e6-de17-3727d7193c76"
   },
   "outputs": [
    {
     "name": "stdout",
     "output_type": "stream",
     "text": [
      "<tf.Variable 'Variable:0' shape=() dtype=float32, numpy=8.0>\n",
      "<tf.Variable 'Variable:0' shape=() dtype=float32, numpy=26.0>\n",
      "34.0\n"
     ]
    }
   ],
   "source": [
    "v1 = tf.Variable(1.0)\n",
    "v2 = tf.Variable(2.0)\n",
    "\n",
    "@tf.function\n",
    "def fn_assign(x, y):\n",
    "  v1.assign(y * v2)       # 8\n",
    "  v2.assign_add(x * v1)   # 26 = 2 + 24\n",
    "  return v1 + v2          # 34 = 8 + 26\n",
    "\n",
    "print(\"{}\\n{}\\n{}\".format(v1, v2, fn_assign(3.0, 4.0)))"
   ]
  },
  {
   "cell_type": "markdown",
   "metadata": {
    "colab_type": "text",
    "id": "A3JduocQY_tw"
   },
   "source": [
    "### Polymorphic / Concrete Function\n",
    "\n",
    "Tensorflow 2.0 with eager mode makes development and debugging more interactive, but it is not allowed for deploying on devices. More operations are required while exporting a saved model or deploying on devices. It requires a **concrete function** defining the graph that can be exported into a saved model. A concrete function can be exported from a polymorphic function. A polymorphic function means python callable that encapsulates several concrete function graphs behind one API. (You can simply think it is required to define tensor spec as passed parameters to the function.)\n",
    "\n",
    "There are three basic steps to define or export a concrete function.\n",
    "* Define `input_signature` parameter in `tf.function`.\n",
    "* Pass in tf.TenorSpec into `get_concrete_function`, e.g. tf.TensorSpec(shape=[1], dtype=tf.float32).\n",
    "* Pass a sample input tensor into `get_concrete_function`, e.g. tf.constant(2.0, shape=[1])."
   ]
  },
  {
   "cell_type": "code",
   "execution_count": 0,
   "metadata": {
    "colab": {
     "base_uri": "https://localhost:8080/",
     "height": 35
    },
    "colab_type": "code",
    "executionInfo": {
     "elapsed": 10859,
     "status": "ok",
     "timestamp": 1558432714010,
     "user": {
      "displayName": "王DevOps",
      "photoUrl": "https://lh6.googleusercontent.com/-DzgWpvOQ_c0/AAAAAAAAAAI/AAAAAAAAA8I/fX9gQd_TAjU/s64/photo.jpg",
      "userId": "04300517850278510646"
     },
     "user_tz": -480
    },
    "id": "xVOZHIJ0Zdae",
    "outputId": "f8ac2bdb-a3cf-47ec-ff32-0f99748b0bad"
   },
   "outputs": [
    {
     "name": "stdout",
     "output_type": "stream",
     "text": [
      "tf.Tensor(5.5, shape=(), dtype=float32)\n"
     ]
    }
   ],
   "source": [
    "c = add.get_concrete_function(tf.TensorSpec(shape=None, dtype=float),\n",
    "                              tf.TensorSpec(shape=None, dtype=float))\n",
    "\n",
    "print(c(tf.constant(2.0), tf.constant(3.5)))"
   ]
  },
  {
   "cell_type": "markdown",
   "metadata": {
    "colab_type": "text",
    "id": "wTbkc_Vui4dX"
   },
   "source": [
    "You can use attributes `graph` accessing the graph and its relative operations."
   ]
  },
  {
   "cell_type": "code",
   "execution_count": 0,
   "metadata": {
    "colab": {
     "base_uri": "https://localhost:8080/",
     "height": 54
    },
    "colab_type": "code",
    "executionInfo": {
     "elapsed": 10861,
     "status": "ok",
     "timestamp": 1558432714012,
     "user": {
      "displayName": "王DevOps",
      "photoUrl": "https://lh6.googleusercontent.com/-DzgWpvOQ_c0/AAAAAAAAAAI/AAAAAAAAA8I/fX9gQd_TAjU/s64/photo.jpg",
      "userId": "04300517850278510646"
     },
     "user_tz": -480
    },
    "id": "TexQn37eicH3",
    "outputId": "03047190-9339-4b9c-fa3c-d05d1660420a"
   },
   "outputs": [
    {
     "name": "stdout",
     "output_type": "stream",
     "text": [
      "FuncGraph(name=add, id=139994027687664)\n",
      "[<tf.Tensor 'a:0' shape=<unknown> dtype=float32>, <tf.Tensor 'b:0' shape=<unknown> dtype=float32>]\n"
     ]
    }
   ],
   "source": [
    "print(c.graph)\n",
    "print(c.graph.inputs)"
   ]
  },
  {
   "cell_type": "markdown",
   "metadata": {
    "colab_type": "text",
    "id": "kBsFs3Y22myI"
   },
   "source": [
    "### Tensors like Objects"
   ]
  },
  {
   "cell_type": "code",
   "execution_count": 0,
   "metadata": {
    "colab": {
     "base_uri": "https://localhost:8080/",
     "height": 72
    },
    "colab_type": "code",
    "executionInfo": {
     "elapsed": 1083,
     "status": "ok",
     "timestamp": 1558433527851,
     "user": {
      "displayName": "王DevOps",
      "photoUrl": "https://lh6.googleusercontent.com/-DzgWpvOQ_c0/AAAAAAAAAAI/AAAAAAAAA8I/fX9gQd_TAjU/s64/photo.jpg",
      "userId": "04300517850278510646"
     },
     "user_tz": -480
    },
    "id": "0igbTsag3Xc0",
    "outputId": "4d83d9a9-55e6-4334-9aa5-f16bf679c4ec"
   },
   "outputs": [
    {
     "name": "stdout",
     "output_type": "stream",
     "text": [
      "tf.Tensor(2.0, shape=(), dtype=float32)\n",
      "tf.Tensor(4.0, shape=(), dtype=float32)\n",
      "[<tf.Variable 'Variable:0' shape=() dtype=float32, numpy=2.0>]\n"
     ]
    }
   ],
   "source": [
    "state = []\n",
    "\n",
    "@tf.function\n",
    "def append_list(x):\n",
    "  if len(state) < 1:\n",
    "    state.append(tf.Variable(2.0))\n",
    "  return state[0] * x\n",
    "\n",
    "print(append_list(tf.constant(1.0)))\n",
    "print(append_list(tf.constant(2.0)))\n",
    "print(state)"
   ]
  },
  {
   "cell_type": "markdown",
   "metadata": {
    "colab_type": "text",
    "id": "WdEyJAL14QXQ"
   },
   "source": [
    "### Easier Control Flow\n",
    "\n",
    "No more need `tf.cond()` and `tf.while_loop()`. \n",
    "\n",
    "In Tensorflow 2.x, you can operate the tensor in the same way as usual in python while branch control."
   ]
  },
  {
   "cell_type": "code",
   "execution_count": 0,
   "metadata": {
    "colab": {
     "base_uri": "https://localhost:8080/",
     "height": 90
    },
    "colab_type": "code",
    "executionInfo": {
     "elapsed": 1247,
     "status": "ok",
     "timestamp": 1558433861353,
     "user": {
      "displayName": "王DevOps",
      "photoUrl": "https://lh6.googleusercontent.com/-DzgWpvOQ_c0/AAAAAAAAAAI/AAAAAAAAA8I/fX9gQd_TAjU/s64/photo.jpg",
      "userId": "04300517850278510646"
     },
     "user_tz": -480
    },
    "id": "MyoAkCBY4orm",
    "outputId": "0a7a690e-8ece-4332-bbce-f89864c56a5b"
   },
   "outputs": [
    {
     "data": {
      "text/plain": [
       "<tf.Tensor: id=2051, shape=(10,), dtype=float32, numpy=\n",
       "array([0.09215806, 0.10335752, 0.09681058, 0.09556701, 0.10099666,\n",
       "       0.10298663, 0.10295261, 0.10237641, 0.09990129, 0.10227162],\n",
       "      dtype=float32)>"
      ]
     },
     "execution_count": 25,
     "metadata": {
      "tags": []
     },
     "output_type": "execute_result"
    }
   ],
   "source": [
    "@tf.function\n",
    "def while_loop(x):\n",
    "  while tf.reduce_sum(x) > 1:\n",
    "    x = tf.tanh(x)\n",
    "  return x\n",
    "\n",
    "while_loop(tf.random.uniform([10]))"
   ]
  },
  {
   "cell_type": "markdown",
   "metadata": {
    "colab_type": "text",
    "id": "_07Pihvo5wFb"
   },
   "source": [
    "It is easy to use `for loop` to operate the tensor. "
   ]
  },
  {
   "cell_type": "code",
   "execution_count": 0,
   "metadata": {
    "colab": {
     "base_uri": "https://localhost:8080/",
     "height": 35
    },
    "colab_type": "code",
    "executionInfo": {
     "elapsed": 1274,
     "status": "ok",
     "timestamp": 1558434211666,
     "user": {
      "displayName": "王DevOps",
      "photoUrl": "https://lh6.googleusercontent.com/-DzgWpvOQ_c0/AAAAAAAAAAI/AAAAAAAAA8I/fX9gQd_TAjU/s64/photo.jpg",
      "userId": "04300517850278510646"
     },
     "user_tz": -480
    },
    "id": "-Mcq44qz5vys",
    "outputId": "7f24016d-c502-44d2-ee46-eb2cfd443597"
   },
   "outputs": [
    {
     "name": "stdout",
     "output_type": "stream",
     "text": [
      "tf.Tensor(45, shape=(), dtype=int32)\n"
     ]
    }
   ],
   "source": [
    "@tf.function\n",
    "def for_loop(x):\n",
    "  for i in tf.range(10):\n",
    "    x += i\n",
    "  return x\n",
    "\n",
    "print(for_loop(tf.Variable(0)))"
   ]
  },
  {
   "cell_type": "markdown",
   "metadata": {
    "colab_type": "text",
    "id": "KstRuMUW6zQV"
   },
   "source": [
    "More easier way operates TensorArray data structure."
   ]
  },
  {
   "cell_type": "code",
   "execution_count": 0,
   "metadata": {
    "colab": {
     "base_uri": "https://localhost:8080/",
     "height": 35
    },
    "colab_type": "code",
    "executionInfo": {
     "elapsed": 1923,
     "status": "ok",
     "timestamp": 1558434408531,
     "user": {
      "displayName": "王DevOps",
      "photoUrl": "https://lh6.googleusercontent.com/-DzgWpvOQ_c0/AAAAAAAAAAI/AAAAAAAAA8I/fX9gQd_TAjU/s64/photo.jpg",
      "userId": "04300517850278510646"
     },
     "user_tz": -480
    },
    "id": "xKUi3Dod6y1W",
    "outputId": "bbf03ee1-8da3-400f-e9a7-394dea6b8f6d"
   },
   "outputs": [
    {
     "data": {
      "text/plain": [
       "array([ 1.,  2.,  4.,  7., 11., 16., 22., 29., 37., 46.], dtype=float32)"
      ]
     },
     "execution_count": 36,
     "metadata": {
      "tags": []
     },
     "output_type": "execute_result"
    }
   ],
   "source": [
    "@tf.function\n",
    "def write_array(x):\n",
    "  ta = tf.TensorArray(tf.float32, size=10)\n",
    "  for i in tf.range(10):\n",
    "    x += tf.cast(i, float)\n",
    "    ta = ta.write(i, x)\n",
    "  return ta.stack()\n",
    "\n",
    "write_array(1.0).numpy()"
   ]
  },
  {
   "cell_type": "code",
   "execution_count": 0,
   "metadata": {
    "colab": {},
    "colab_type": "code",
    "id": "HqlitPDxrxCb"
   },
   "outputs": [],
   "source": []
  }
 ],
 "metadata": {
  "accelerator": "GPU",
  "colab": {
   "collapsed_sections": [],
   "name": "TF2_Eager_tfFunc.ipynb",
   "provenance": [],
   "toc_visible": true,
   "version": "0.3.2"
  },
  "kernelspec": {
   "display_name": "Python 3",
   "language": "python",
   "name": "python3"
  },
  "language_info": {
   "codemirror_mode": {
    "name": "ipython",
    "version": 3
   },
   "file_extension": ".py",
   "mimetype": "text/x-python",
   "name": "python",
   "nbconvert_exporter": "python",
   "pygments_lexer": "ipython3",
   "version": "3.7.4"
  }
 },
 "nbformat": 4,
 "nbformat_minor": 1
}
