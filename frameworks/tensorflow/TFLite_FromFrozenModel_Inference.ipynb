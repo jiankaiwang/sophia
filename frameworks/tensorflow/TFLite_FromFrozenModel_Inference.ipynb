{
 "cells": [
  {
   "cell_type": "code",
   "execution_count": 2,
   "metadata": {
    "colab": {
     "base_uri": "https://localhost:8080/",
     "height": 51
    },
    "colab_type": "code",
    "executionInfo": {
     "elapsed": 745,
     "status": "ok",
     "timestamp": 1566814482964,
     "user": {
      "displayName": "王DevOps",
      "photoUrl": "https://lh3.googleusercontent.com/a-/AAuE7mAzLB0C3whTHAdHpq24UrEWqGtbhJElQxTU5_b_4g=s64",
      "userId": "04300517850278510646"
     },
     "user_tz": -480
    },
    "id": "4OURqUQBkg8J",
    "outputId": "74a2ab1f-5c98-44ee-fdf8-3b415eddc802"
   },
   "outputs": [
    {
     "name": "stdout",
     "output_type": "stream",
     "text": [
      "Tensorflow Version: 1.13.2\n",
      "Tensorflow.Keras Version: 2.2.4-tf\n"
     ]
    }
   ],
   "source": [
    "import tensorflow as tf\n",
    "import tensorflow.keras as keras\n",
    "import os\n",
    "import matplotlib.pyplot as plt\n",
    "import cv2\n",
    "import numpy as np\n",
    "\n",
    "%matplotlib inline\n",
    "\n",
    "print(\"Tensorflow Version: {}\".format(tf.__version__))\n",
    "print(\"Tensorflow.Keras Version: {}\".format(keras.__version__))"
   ]
  },
  {
   "cell_type": "code",
   "execution_count": null,
   "metadata": {
    "colab": {},
    "colab_type": "code",
    "id": "Bl_GD5gPZQlR"
   },
   "outputs": [],
   "source": [
    "pb_path = \"/content/output_graph.pb\"\n",
    "inputs = [\"Placeholder\"]\n",
    "outputs = [\"final_result\"]"
   ]
  },
  {
   "cell_type": "code",
   "execution_count": null,
   "metadata": {
    "colab": {
     "base_uri": "https://localhost:8080/",
     "height": 34
    },
    "colab_type": "code",
    "executionInfo": {
     "elapsed": 386,
     "status": "ok",
     "timestamp": 1566814484149,
     "user": {
      "displayName": "王DevOps",
      "photoUrl": "https://lh3.googleusercontent.com/a-/AAuE7mAzLB0C3whTHAdHpq24UrEWqGtbhJElQxTU5_b_4g=s64",
      "userId": "04300517850278510646"
     },
     "user_tz": -480
    },
    "id": "axhtTbKmaHPQ",
    "outputId": "4dd031bd-defe-476d-b32e-4f407d1bc3af"
   },
   "outputs": [],
   "source": [
    "%pwd"
   ]
  },
  {
   "cell_type": "code",
   "execution_count": null,
   "metadata": {
    "colab": {
     "base_uri": "https://localhost:8080/",
     "height": 493
    },
    "colab_type": "code",
    "executionInfo": {
     "elapsed": 786,
     "status": "ok",
     "timestamp": 1566814499681,
     "user": {
      "displayName": "王DevOps",
      "photoUrl": "https://lh3.googleusercontent.com/a-/AAuE7mAzLB0C3whTHAdHpq24UrEWqGtbhJElQxTU5_b_4g=s64",
      "userId": "04300517850278510646"
     },
     "user_tz": -480
    },
    "id": "pfeL5fMTaIlK",
    "outputId": "63fe51ec-befd-485b-9527-eb574ee757a7"
   },
   "outputs": [],
   "source": [
    "detection_graph = tf.Graph()\n",
    "with detection_graph.as_default():\n",
    "  od_graph_def = tf.GraphDef()\n",
    "  with tf.gfile.GFile(pb_path, 'rb') as fid:\n",
    "    serialized_graph = fid.read()\n",
    "    od_graph_def.ParseFromString(serialized_graph)\n",
    "    tf.import_graph_def(od_graph_def, name='')\n",
    "\n",
    "def show_operation_names(count=10):\n",
    "  \"\"\"\n",
    "  Show all operation names in the graph, including \"input(image_tensor)\"\n",
    "  and \"output(detection_boxes, detection_scores, detection_classes, num_detections)\".\n",
    "  \"\"\"\n",
    "  with detection_graph.as_default():\n",
    "    with tf.Session() as sess:\n",
    "      opts = tf.get_default_graph().get_operations()\n",
    "      for opt in opts[:count]:\n",
    "        for output in opt.outputs: print(output.name)\n",
    "      print(\"...\")\n",
    "      for opt in opts[-count:]:\n",
    "        for output in opt.outputs: print(output.name)\n",
    "\n",
    "show_operation_names(10)"
   ]
  },
  {
   "cell_type": "code",
   "execution_count": null,
   "metadata": {
    "colab": {
     "base_uri": "https://localhost:8080/",
     "height": 34
    },
    "colab_type": "code",
    "executionInfo": {
     "elapsed": 636,
     "status": "ok",
     "timestamp": 1566814620012,
     "user": {
      "displayName": "王DevOps",
      "photoUrl": "https://lh3.googleusercontent.com/a-/AAuE7mAzLB0C3whTHAdHpq24UrEWqGtbhJElQxTU5_b_4g=s64",
      "userId": "04300517850278510646"
     },
     "user_tz": -480
    },
    "id": "cYRM_8Tbbbxw",
    "outputId": "aeb7df38-ac99-4484-8a85-7a0cbfebf4d9"
   },
   "outputs": [],
   "source": [
    "%pwd"
   ]
  },
  {
   "cell_type": "code",
   "execution_count": null,
   "metadata": {
    "colab": {},
    "colab_type": "code",
    "id": "liPESQXga9nD"
   },
   "outputs": [],
   "source": [
    "with tf.Session(graph=detection_graph) as sess:\n",
    "  output_graph_def = tf.graph_util.convert_variables_to_constants(\n",
    "        sess, detection_graph.as_graph_def(), [\"final_result\"])\n",
    "  \n",
    "  with tf.gfile.FastGFile(\"tf1.14.pb\", 'wb') as fout:\n",
    "      fout.write(output_graph_def.SerializeToString())"
   ]
  },
  {
   "cell_type": "code",
   "execution_count": null,
   "metadata": {
    "colab": {
     "base_uri": "https://localhost:8080/",
     "height": 379
    },
    "colab_type": "code",
    "executionInfo": {
     "elapsed": 820,
     "status": "error",
     "timestamp": 1566815222417,
     "user": {
      "displayName": "王DevOps",
      "photoUrl": "https://lh3.googleusercontent.com/a-/AAuE7mAzLB0C3whTHAdHpq24UrEWqGtbhJElQxTU5_b_4g=s64",
      "userId": "04300517850278510646"
     },
     "user_tz": -480
    },
    "id": "iBkxnzgLcpVp",
    "outputId": "e7cf7fbe-de74-42a3-c576-57e5eee2e3a1"
   },
   "outputs": [],
   "source": [
    "with tf.Graph().as_default():\n",
    "  inputs = detection_graph.get_tensor_by_name(\"Placeholder:0\")\n",
    "  outputs = detection_graph.get_tensor_by_name(\"final_result:0\")\n",
    "  with tf.Session() as sess:\n",
    "    converter = tf.lite.TFLiteConverter.from_session(sess, inputs, outputs)\n",
    "    tflite_model = converter.convert()\n",
    "    open(\"converted_model.tflite\", \"wb\").write(tflite_model)"
   ]
  },
  {
   "cell_type": "code",
   "execution_count": null,
   "metadata": {
    "colab": {
     "base_uri": "https://localhost:8080/",
     "height": 1000
    },
    "colab_type": "code",
    "executionInfo": {
     "elapsed": 2758,
     "status": "error",
     "timestamp": 1566814909588,
     "user": {
      "displayName": "王DevOps",
      "photoUrl": "https://lh3.googleusercontent.com/a-/AAuE7mAzLB0C3whTHAdHpq24UrEWqGtbhJElQxTU5_b_4g=s64",
      "userId": "04300517850278510646"
     },
     "user_tz": -480
    },
    "id": "ge3q8CBBbiDE",
    "outputId": "17c50555-a157-4625-d054-7978e3463d1b"
   },
   "outputs": [],
   "source": [
    "tf.reset_default_graph()\n",
    "\n",
    "converter = tf.lite.TFLiteConverter.from_frozen_graph(\"tf1.14.pb\", [\"Placeholder\"], [\"final_result\"])\n",
    "tflite_model = converter.convert()\n",
    "open(\"converted_model.tflite\", \"wb\").write(tflite_model)"
   ]
  },
  {
   "cell_type": "code",
   "execution_count": null,
   "metadata": {
    "colab": {},
    "colab_type": "code",
    "id": "ZHeTa8-vcimB"
   },
   "outputs": [],
   "source": []
  }
 ],
 "metadata": {
  "anaconda-cloud": {},
  "colab": {
   "collapsed_sections": [],
   "name": "Simple_TFLite.ipynb",
   "provenance": [],
   "version": "0.3.2"
  },
  "kernelspec": {
   "display_name": "Python 3",
   "language": "python",
   "name": "python3"
  },
  "language_info": {
   "codemirror_mode": {
    "name": "ipython",
    "version": 3
   },
   "file_extension": ".py",
   "mimetype": "text/x-python",
   "name": "python",
   "nbconvert_exporter": "python",
   "pygments_lexer": "ipython3",
   "version": "3.7.4"
  }
 },
 "nbformat": 4,
 "nbformat_minor": 1
}
