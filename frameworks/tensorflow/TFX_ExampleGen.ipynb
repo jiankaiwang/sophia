{
 "cells": [
  {
   "cell_type": "code",
   "execution_count": 24,
   "metadata": {},
   "outputs": [
    {
     "name": "stdout",
     "output_type": "stream",
     "text": [
      "TFX version: 0.14.0\n"
     ]
    }
   ],
   "source": [
    "import os\n",
    "import tfx\n",
    "\n",
    "print(\"TFX version: {}\".format(tfx.__version__))"
   ]
  },
  {
   "cell_type": "markdown",
   "metadata": {},
   "source": [
    "# ExampleGen"
   ]
  },
  {
   "cell_type": "markdown",
   "metadata": {},
   "source": [
    "## How to use an ExampleGen component"
   ]
  },
  {
   "cell_type": "markdown",
   "metadata": {},
   "source": [
    "### importing csv"
   ]
  },
  {
   "cell_type": "code",
   "execution_count": 1,
   "metadata": {},
   "outputs": [],
   "source": [
    "from tfx.utils.dsl_utils import csv_input\n",
    "from tfx.components.example_gen.csv_example_gen.component import CsvExampleGen"
   ]
  },
  {
   "cell_type": "code",
   "execution_count": 4,
   "metadata": {},
   "outputs": [],
   "source": [
    "# variable, examples, points to the folder of example data\n",
    "examples = csv_input(\"/Users/jiankaiwang/devops/tfx_taxi/taxi/data/simple/\")\n",
    "example_gen = CsvExampleGen(input_base=examples)"
   ]
  },
  {
   "cell_type": "markdown",
   "metadata": {},
   "source": [
    "### importing tfrecord"
   ]
  },
  {
   "cell_type": "code",
   "execution_count": 5,
   "metadata": {},
   "outputs": [],
   "source": [
    "from tfx.utils.dsl_utils import tfrecord_input\n",
    "from tfx.components.example_gen.import_example_gen.component import ImportExampleGen"
   ]
  },
  {
   "cell_type": "code",
   "execution_count": 6,
   "metadata": {},
   "outputs": [],
   "source": [
    "tfrecord_example = tfrecord_input(\"/Users/jiankaiwang/Google 雲端硬碟/public/document/201908_DL_ObjectDetection/tfrecords/\")\n",
    "tfrecord_example_gen = ImportExampleGen(tfrecord_example)"
   ]
  },
  {
   "cell_type": "markdown",
   "metadata": {},
   "source": [
    "## Data Split"
   ]
  },
  {
   "cell_type": "markdown",
   "metadata": {},
   "source": [
    "### Split dataset with ratio (while in output)"
   ]
  },
  {
   "cell_type": "code",
   "execution_count": 7,
   "metadata": {},
   "outputs": [],
   "source": [
    "from tfx.proto import example_gen_pb2"
   ]
  },
  {
   "cell_type": "markdown",
   "metadata": {},
   "source": [
    "Split the dataset into train and eval subdatasets in ratio 3:1."
   ]
  },
  {
   "cell_type": "code",
   "execution_count": 16,
   "metadata": {},
   "outputs": [],
   "source": [
    "output = example_gen_pb2.Output(split_config=example_gen_pb2.SplitConfig(splits=[\n",
    "    example_gen_pb2.SplitConfig.Split(name='train', hash_buckets=3),\n",
    "    example_gen_pb2.SplitConfig.Split(name='eval', hash_buckets=1)\n",
    "]))"
   ]
  },
  {
   "cell_type": "code",
   "execution_count": 17,
   "metadata": {},
   "outputs": [],
   "source": [
    "example_gen_split = CsvExampleGen(input_base=examples, output_config=output)"
   ]
  },
  {
   "cell_type": "markdown",
   "metadata": {},
   "source": [
    "### Load the split dataset (while in input)"
   ]
  },
  {
   "cell_type": "markdown",
   "metadata": {},
   "source": [
    "Notice there is a `*` in declaring patterns.\n",
    "\n",
    "For the file-based retrieval system (like CsvExampleGen or ImportExampleGen), the pattern is the relative path to the input_base. For the query-based system like BigQuery (e.g. BigQueryExampleGen, PrestoExampleGen), the pattern is the SQL query.\n",
    "\n",
    "By default, the input is regarded as one source input and the ratio between train and eval is 2:1."
   ]
  },
  {
   "cell_type": "code",
   "execution_count": 18,
   "metadata": {},
   "outputs": [],
   "source": [
    "inputs = example_gen_pb2.Input(splits=[\n",
    "    example_gen_pb2.Input.Split(name=\"train\", pattern=\"train/*\"),\n",
    "    example_gen_pb2.Input.Split(name=\"eval\", pattern=\"eval/*\")\n",
    "])"
   ]
  },
  {
   "cell_type": "code",
   "execution_count": 19,
   "metadata": {},
   "outputs": [],
   "source": [
    "example_load_split = CsvExampleGen(input_base=examples, input_config=inputs)"
   ]
  },
  {
   "cell_type": "markdown",
   "metadata": {},
   "source": [
    "## Customized ExampleGen"
   ]
  },
  {
   "cell_type": "markdown",
   "metadata": {},
   "source": [
    "The customized ExampleGen is inherited from BaseExampleGenExecutor, for example, extending from `FileBasedExampleGen` and `PrestoExampleGen`."
   ]
  },
  {
   "cell_type": "markdown",
   "metadata": {},
   "source": [
    "### Customized File-based ExampleGen"
   ]
  },
  {
   "cell_type": "code",
   "execution_count": 21,
   "metadata": {},
   "outputs": [],
   "source": [
    "from tfx.components.base import executor_spec\n",
    "from tfx.components.example_gen.component import FileBasedExampleGen\n",
    "from tfx.components.example_gen.csv_example_gen import executor\n",
    "from tfx.utils.dsl_utils import external_input\n",
    "\n",
    "examples = external_input(\"/Users/jiankaiwang/devops/tfx_taxi/taxi/data/simple/\")\n",
    "example_gen = FileBasedExampleGen(\n",
    "    input_base=examples,\n",
    "    custom_executor_spec=executor_spec.ExecutorClassSpec(executor.Executor))"
   ]
  },
  {
   "cell_type": "markdown",
   "metadata": {},
   "source": [
    "### Customized Query-based ExampleGen"
   ]
  },
  {
   "cell_type": "code",
   "execution_count": null,
   "metadata": {},
   "outputs": [],
   "source": [
    "from tfx.examples.custom_components.presto_example_gen.proto import presto_config_pb2\n",
    "from tfx.examples.custom_components.presto_example_gen.presto_component.component import PrestoExampleGen\n",
    "\n",
    "presto_config = presto_config_pb2.PrestoConnConfig(host='localhost', port=8080)\n",
    "example_gen = PrestoExampleGen(presto_config, query='SELECT * FROM chicago_taxi_trips')"
   ]
  },
  {
   "cell_type": "code",
   "execution_count": null,
   "metadata": {},
   "outputs": [],
   "source": []
  }
 ],
 "metadata": {
  "kernelspec": {
   "display_name": "Python 3",
   "language": "python",
   "name": "python3"
  },
  "language_info": {
   "codemirror_mode": {
    "name": "ipython",
    "version": 3
   },
   "file_extension": ".py",
   "mimetype": "text/x-python",
   "name": "python",
   "nbconvert_exporter": "python",
   "pygments_lexer": "ipython3",
   "version": "3.6.8"
  }
 },
 "nbformat": 4,
 "nbformat_minor": 2
}
