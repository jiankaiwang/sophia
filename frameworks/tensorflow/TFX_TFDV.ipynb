{
 "cells": [
  {
   "cell_type": "code",
   "execution_count": 1,
   "metadata": {},
   "outputs": [
    {
     "name": "stdout",
     "output_type": "stream",
     "text": [
      "TFX Version: 0.14.0\n"
     ]
    }
   ],
   "source": [
    "import os\n",
    "import tfx\n",
    "\n",
    "print(\"TFX Version: {}\".format(tfx.__version__))"
   ]
  },
  {
   "cell_type": "markdown",
   "metadata": {},
   "source": [
    "# Tensorflow Extended"
   ]
  },
  {
   "cell_type": "markdown",
   "metadata": {},
   "source": [
    "## ExampleGen"
   ]
  },
  {
   "cell_type": "markdown",
   "metadata": {},
   "source": [
    "The ExampleGen consumes data from the external source and emits the `tf.Example` for further usage."
   ]
  },
  {
   "cell_type": "code",
   "execution_count": 3,
   "metadata": {},
   "outputs": [],
   "source": [
    "from tfx.utils.dsl_utils import csv_input\n",
    "from tfx.components.example_gen.csv_example_gen.component import CsvExampleGen\n",
    "from tfx.proto import example_gen_pb2"
   ]
  },
  {
   "cell_type": "code",
   "execution_count": null,
   "metadata": {},
   "outputs": [],
   "source": [
    "csv_example = csv_input(\"/Users/jiankaiwang/devops/tfx_taxi/taxi/data/simple/\")\n",
    "\n",
    "output_config = example_gen_pb2.Output(split_config=example_gen_pb2.SplitConfig(splits=[\n",
    "    example_gen_pb2.SplitConfig.Split(name=\"train\", hash_buckets=3),\n",
    "    example_gen_pb2.SplitConfig.Split(name=\"eval\", hash_buckets=1)\n",
    "]))\n",
    "\n",
    "csv_example_gen = CsvExampleGen(input_base=csv_example, output_config=output_config)"
   ]
  },
  {
   "cell_type": "code",
   "execution_count": null,
   "metadata": {},
   "outputs": [],
   "source": [
    "csv_example_gen.outputs"
   ]
  },
  {
   "cell_type": "markdown",
   "metadata": {},
   "source": [
    "## StatisticsGen"
   ]
  },
  {
   "cell_type": "markdown",
   "metadata": {},
   "source": [
    "The StatisticsGen make the use of Tensorflow Data Validation (TFDV) for generating statistics from your datasets."
   ]
  },
  {
   "cell_type": "code",
   "execution_count": 4,
   "metadata": {},
   "outputs": [],
   "source": [
    "from tfx.components.statistics_gen.component import StatisticsGen"
   ]
  },
  {
   "cell_type": "code",
   "execution_count": null,
   "metadata": {},
   "outputs": [],
   "source": [
    "compute_eval_statistics = StatisticsGen(\n",
    "    input_data=csv_example_gen.outputs['examples'],   # the key `examples` is the default one\n",
    "    instance_name=\"compute-stats\"\n",
    ")"
   ]
  },
  {
   "cell_type": "code",
   "execution_count": null,
   "metadata": {},
   "outputs": [],
   "source": [
    "compute_eval_statistics.outputs"
   ]
  },
  {
   "cell_type": "markdown",
   "metadata": {},
   "source": [
    "## SchemaGen"
   ]
  },
  {
   "cell_type": "markdown",
   "metadata": {},
   "source": [
    "The SchemaGen infers the description of the input dataset. It can specify the data type, the allowed range of the data for the feature values, etc, to your training dataset."
   ]
  },
  {
   "cell_type": "code",
   "execution_count": 5,
   "metadata": {},
   "outputs": [],
   "source": [
    "from tfx.components.schema_gen.component import SchemaGen"
   ]
  },
  {
   "cell_type": "code",
   "execution_count": null,
   "metadata": {},
   "outputs": [],
   "source": [
    "infer_schema = SchemaGen(stats=compute_eval_statistics.outputs['output'])"
   ]
  },
  {
   "cell_type": "code",
   "execution_count": null,
   "metadata": {},
   "outputs": [],
   "source": [
    "infer_schema.outputs"
   ]
  },
  {
   "cell_type": "markdown",
   "metadata": {},
   "source": [
    "## ExampleValidator"
   ]
  },
  {
   "cell_type": "markdown",
   "metadata": {},
   "source": [
    "The ExampleValidator component pipeline identifies anomalies from your training and serving dataset."
   ]
  },
  {
   "cell_type": "code",
   "execution_count": null,
   "metadata": {},
   "outputs": [],
   "source": [
    "from tfx.components.example_validator.component import ExampleValidator"
   ]
  },
  {
   "cell_type": "code",
   "execution_count": null,
   "metadata": {},
   "outputs": [],
   "source": [
    "validate_stat = ExampleValidator(\n",
    "    stats=compute_eval_statistics.outputs[\"output\"],\n",
    "    schema=infer_schema.outputs[\"output\"]\n",
    ")"
   ]
  },
  {
   "cell_type": "code",
   "execution_count": null,
   "metadata": {},
   "outputs": [],
   "source": [
    "validate_stat"
   ]
  },
  {
   "cell_type": "markdown",
   "metadata": {},
   "source": [
    "# Tensorflow Data Validation (TFDV)"
   ]
  },
  {
   "cell_type": "code",
   "execution_count": 6,
   "metadata": {},
   "outputs": [],
   "source": [
    "import tensorflow_data_validation as tfdv"
   ]
  },
  {
   "cell_type": "markdown",
   "metadata": {},
   "source": [
    "## Descriptive Statistics"
   ]
  },
  {
   "cell_type": "markdown",
   "metadata": {},
   "source": [
    "### From CSV files"
   ]
  },
  {
   "cell_type": "code",
   "execution_count": 7,
   "metadata": {},
   "outputs": [
    {
     "name": "stdout",
     "output_type": "stream",
     "text": [
      "WARNING:tensorflow:From /Users/jiankaiwang/devops/pyenv/tfx/lib/python3.7/site-packages/tensorflow_data_validation/utils/stats_gen_lib.py:144: The name tf.gfile.Exists is deprecated. Please use tf.io.gfile.exists instead.\n",
      "\n",
      "WARNING:tensorflow:From /Users/jiankaiwang/devops/pyenv/tfx/lib/python3.7/site-packages/tensorflow_data_validation/utils/stats_gen_lib.py:292: The name tf.gfile.Glob is deprecated. Please use tf.io.gfile.glob instead.\n",
      "\n"
     ]
    },
    {
     "name": "stderr",
     "output_type": "stream",
     "text": [
      "WARNING:tensorflow:From /Users/jiankaiwang/devops/pyenv/tfx/lib/python3.7/site-packages/tensorflow_data_validation/utils/stats_gen_lib.py:292: The name tf.gfile.Glob is deprecated. Please use tf.io.gfile.glob instead.\n",
      "\n"
     ]
    },
    {
     "name": "stdout",
     "output_type": "stream",
     "text": [
      "WARNING:tensorflow:From /Users/jiankaiwang/devops/pyenv/tfx/lib/python3.7/site-packages/tensorflow_data_validation/utils/stats_gen_lib.py:298: The name tf.gfile.GFile is deprecated. Please use tf.io.gfile.GFile instead.\n",
      "\n"
     ]
    },
    {
     "name": "stderr",
     "output_type": "stream",
     "text": [
      "WARNING:tensorflow:From /Users/jiankaiwang/devops/pyenv/tfx/lib/python3.7/site-packages/tensorflow_data_validation/utils/stats_gen_lib.py:298: The name tf.gfile.GFile is deprecated. Please use tf.io.gfile.GFile instead.\n",
      "\n"
     ]
    },
    {
     "name": "stdout",
     "output_type": "stream",
     "text": [
      "WARNING:tensorflow:From /Users/jiankaiwang/devops/pyenv/tfx/lib/python3.7/site-packages/tensorflow_transform/analyzers.py:948: The name tf.Session is deprecated. Please use tf.compat.v1.Session instead.\n",
      "\n"
     ]
    },
    {
     "name": "stderr",
     "output_type": "stream",
     "text": [
      "WARNING:tensorflow:From /Users/jiankaiwang/devops/pyenv/tfx/lib/python3.7/site-packages/tensorflow_transform/analyzers.py:948: The name tf.Session is deprecated. Please use tf.compat.v1.Session instead.\n",
      "\n"
     ]
    },
    {
     "name": "stdout",
     "output_type": "stream",
     "text": [
      "WARNING:tensorflow:From /Users/jiankaiwang/devops/pyenv/tfx/lib/python3.7/site-packages/tensorflow_transform/analyzers.py:994: The name tf.placeholder is deprecated. Please use tf.compat.v1.placeholder instead.\n",
      "\n"
     ]
    },
    {
     "name": "stderr",
     "output_type": "stream",
     "text": [
      "WARNING:tensorflow:From /Users/jiankaiwang/devops/pyenv/tfx/lib/python3.7/site-packages/tensorflow_transform/analyzers.py:994: The name tf.placeholder is deprecated. Please use tf.compat.v1.placeholder instead.\n",
      "\n",
      "WARNING:root:Couldn't find python-snappy so the implementation of _TFRecordUtil._masked_crc32c is not as fast as it could be.\n"
     ]
    },
    {
     "name": "stdout",
     "output_type": "stream",
     "text": [
      "WARNING:tensorflow:From /Users/jiankaiwang/devops/pyenv/tfx/lib/python3.7/site-packages/tensorflow_data_validation/utils/stats_gen_lib.py:328: tf_record_iterator (from tensorflow.python.lib.io.tf_record) is deprecated and will be removed in a future version.\n",
      "Instructions for updating:\n",
      "Use eager execution and: \n",
      "`tf.data.TFRecordDataset(path)`\n"
     ]
    },
    {
     "name": "stderr",
     "output_type": "stream",
     "text": [
      "WARNING:tensorflow:From /Users/jiankaiwang/devops/pyenv/tfx/lib/python3.7/site-packages/tensorflow_data_validation/utils/stats_gen_lib.py:328: tf_record_iterator (from tensorflow.python.lib.io.tf_record) is deprecated and will be removed in a future version.\n",
      "Instructions for updating:\n",
      "Use eager execution and: \n",
      "`tf.data.TFRecordDataset(path)`\n"
     ]
    }
   ],
   "source": [
    "stats = tfdv.generate_statistics_from_csv(\n",
    "    data_location=\"/Users/jiankaiwang/devops/tfx_taxi/taxi/data/simple/data.csv\")"
   ]
  },
  {
   "cell_type": "code",
   "execution_count": 8,
   "metadata": {},
   "outputs": [
    {
     "data": {
      "text/plain": [
       "tensorflow_metadata.proto.v0.statistics_pb2.DatasetFeatureStatisticsList"
      ]
     },
     "execution_count": 8,
     "metadata": {},
     "output_type": "execute_result"
    }
   ],
   "source": [
    "type(stats)"
   ]
  },
  {
   "cell_type": "markdown",
   "metadata": {},
   "source": [
    "### From TFRecord Files"
   ]
  },
  {
   "cell_type": "code",
   "execution_count": 19,
   "metadata": {},
   "outputs": [],
   "source": [
    "# allow for image\n",
    "semantic_doman = tfdv.StatsOptions(enable_semantic_domain_stats=True)"
   ]
  },
  {
   "cell_type": "code",
   "execution_count": null,
   "metadata": {},
   "outputs": [],
   "source": [
    "tfrecord_stats = tfdv.generate_statistics_from_tfrecord(\n",
    "    data_location=\"/Users/jiankaiwang/Google_drives/public/document/201908_DL_ObjectDetection/tfrecords/train.tfrecords\",\n",
    "    stats_options=semantic_doman)"
   ]
  },
  {
   "cell_type": "code",
   "execution_count": null,
   "metadata": {},
   "outputs": [],
   "source": [
    "tfrecord_stats"
   ]
  },
  {
   "cell_type": "markdown",
   "metadata": {},
   "source": [
    "## Visualization"
   ]
  },
  {
   "cell_type": "code",
   "execution_count": 9,
   "metadata": {},
   "outputs": [
    {
     "data": {
      "text/html": [
       "<iframe id='facets-iframe' width=\"100%\" height=\"500px\"></iframe>\n",
       "        <script>\n",
       "        facets_iframe = document.getElementById('facets-iframe');\n",
       "        facets_html = '<link rel=\"import\" href=\"https://raw.githubusercontent.com/PAIR-code/facets/master/facets-dist/facets-jupyter.html\"><facets-overview proto-input=\"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\"></facets-overview>';\n",
       "        facets_iframe.contentWindow.document.write(facets_html);\n",
       "         facets_iframe.id = \"\";\n",
       "         setTimeout(() => {\n",
       "           facets_iframe.setAttribute('height', facets_iframe.contentWindow.document.body.offsetHeight + 'px')\n",
       "         }, 1500)\n",
       "         </script>"
      ],
      "text/plain": [
       "<IPython.core.display.HTML object>"
      ]
     },
     "metadata": {},
     "output_type": "display_data"
    }
   ],
   "source": [
    "tfdv.visualize_statistics(stats)"
   ]
  },
  {
   "cell_type": "code",
   "execution_count": null,
   "metadata": {},
   "outputs": [],
   "source": [
    "tfdv.visualize_statistics(tfrecord_stats)"
   ]
  },
  {
   "cell_type": "markdown",
   "metadata": {},
   "source": [
    "## Schema generation"
   ]
  },
  {
   "cell_type": "code",
   "execution_count": 10,
   "metadata": {},
   "outputs": [],
   "source": [
    "schema = tfdv.infer_schema(statistics=stats)"
   ]
  },
  {
   "cell_type": "code",
   "execution_count": 11,
   "metadata": {
    "scrolled": true
   },
   "outputs": [
    {
     "data": {
      "text/plain": [
       "(tensorflow_metadata.proto.v0.schema_pb2.Schema, feature {\n",
       "   name: \"pickup_community_area\"\n",
       "   type: INT\n",
       "   presence {\n",
       "     min_fraction: 1.0\n",
       "     min_count: 1\n",
       "   }\n",
       "   shape {\n",
       "     dim {\n",
       "       size: 1\n",
       "     }\n",
       "   }\n",
       " }\n",
       " feature {\n",
       "   name: \"fare\"\n",
       "   type: FLOAT\n",
       "   presence {\n",
       "     min_fraction: 1.0\n",
       "     min_count: 1\n",
       "   }\n",
       "   shape {\n",
       "     dim {\n",
       "       size: 1\n",
       "     }\n",
       "   }\n",
       " }\n",
       " feature {\n",
       "   name: \"trip_start_month\"\n",
       "   type: INT\n",
       "   presence {\n",
       "     min_fraction: 1.0\n",
       "     min_count: 1\n",
       "   }\n",
       "   shape {\n",
       "     dim {\n",
       "       size: 1\n",
       "     }\n",
       "   }\n",
       " }\n",
       " feature {\n",
       "   name: \"trip_start_hour\"\n",
       "   type: INT\n",
       "   presence {\n",
       "     min_fraction: 1.0\n",
       "     min_count: 1\n",
       "   }\n",
       "   shape {\n",
       "     dim {\n",
       "       size: 1\n",
       "     }\n",
       "   }\n",
       " }\n",
       " feature {\n",
       "   name: \"trip_start_day\"\n",
       "   type: INT\n",
       "   presence {\n",
       "     min_fraction: 1.0\n",
       "     min_count: 1\n",
       "   }\n",
       "   shape {\n",
       "     dim {\n",
       "       size: 1\n",
       "     }\n",
       "   }\n",
       " }\n",
       " feature {\n",
       "   name: \"trip_start_timestamp\"\n",
       "   type: INT\n",
       "   presence {\n",
       "     min_fraction: 1.0\n",
       "     min_count: 1\n",
       "   }\n",
       "   shape {\n",
       "     dim {\n",
       "       size: 1\n",
       "     }\n",
       "   }\n",
       " }\n",
       " feature {\n",
       "   name: \"pickup_latitude\"\n",
       "   type: FLOAT\n",
       "   presence {\n",
       "     min_fraction: 1.0\n",
       "     min_count: 1\n",
       "   }\n",
       "   shape {\n",
       "     dim {\n",
       "       size: 1\n",
       "     }\n",
       "   }\n",
       " }\n",
       " feature {\n",
       "   name: \"pickup_longitude\"\n",
       "   type: FLOAT\n",
       "   presence {\n",
       "     min_fraction: 1.0\n",
       "     min_count: 1\n",
       "   }\n",
       "   shape {\n",
       "     dim {\n",
       "       size: 1\n",
       "     }\n",
       "   }\n",
       " }\n",
       " feature {\n",
       "   name: \"dropoff_latitude\"\n",
       "   value_count {\n",
       "     min: 1\n",
       "     max: 1\n",
       "   }\n",
       "   type: FLOAT\n",
       "   presence {\n",
       "     min_count: 1\n",
       "   }\n",
       " }\n",
       " feature {\n",
       "   name: \"dropoff_longitude\"\n",
       "   value_count {\n",
       "     min: 1\n",
       "     max: 1\n",
       "   }\n",
       "   type: FLOAT\n",
       "   presence {\n",
       "     min_count: 1\n",
       "   }\n",
       " }\n",
       " feature {\n",
       "   name: \"trip_miles\"\n",
       "   type: FLOAT\n",
       "   presence {\n",
       "     min_fraction: 1.0\n",
       "     min_count: 1\n",
       "   }\n",
       "   shape {\n",
       "     dim {\n",
       "       size: 1\n",
       "     }\n",
       "   }\n",
       " }\n",
       " feature {\n",
       "   name: \"pickup_census_tract\"\n",
       "   type: BYTES\n",
       "   presence {\n",
       "     min_count: 0\n",
       "   }\n",
       " }\n",
       " feature {\n",
       "   name: \"dropoff_census_tract\"\n",
       "   value_count {\n",
       "     min: 1\n",
       "     max: 1\n",
       "   }\n",
       "   type: FLOAT\n",
       "   presence {\n",
       "     min_count: 1\n",
       "   }\n",
       " }\n",
       " feature {\n",
       "   name: \"payment_type\"\n",
       "   type: BYTES\n",
       "   domain: \"payment_type\"\n",
       "   presence {\n",
       "     min_fraction: 1.0\n",
       "     min_count: 1\n",
       "   }\n",
       "   shape {\n",
       "     dim {\n",
       "       size: 1\n",
       "     }\n",
       "   }\n",
       " }\n",
       " feature {\n",
       "   name: \"company\"\n",
       "   value_count {\n",
       "     min: 1\n",
       "     max: 1\n",
       "   }\n",
       "   type: BYTES\n",
       "   domain: \"company\"\n",
       "   presence {\n",
       "     min_count: 1\n",
       "   }\n",
       " }\n",
       " feature {\n",
       "   name: \"trip_seconds\"\n",
       "   value_count {\n",
       "     min: 1\n",
       "     max: 1\n",
       "   }\n",
       "   type: FLOAT\n",
       "   presence {\n",
       "     min_count: 1\n",
       "   }\n",
       " }\n",
       " feature {\n",
       "   name: \"dropoff_community_area\"\n",
       "   value_count {\n",
       "     min: 1\n",
       "     max: 1\n",
       "   }\n",
       "   type: FLOAT\n",
       "   presence {\n",
       "     min_count: 1\n",
       "   }\n",
       " }\n",
       " feature {\n",
       "   name: \"tips\"\n",
       "   type: FLOAT\n",
       "   presence {\n",
       "     min_fraction: 1.0\n",
       "     min_count: 1\n",
       "   }\n",
       "   shape {\n",
       "     dim {\n",
       "       size: 1\n",
       "     }\n",
       "   }\n",
       " }\n",
       " string_domain {\n",
       "   name: \"payment_type\"\n",
       "   value: \"Cash\"\n",
       "   value: \"Credit Card\"\n",
       "   value: \"Dispute\"\n",
       "   value: \"No Charge\"\n",
       "   value: \"Pcard\"\n",
       "   value: \"Prcard\"\n",
       "   value: \"Unknown\"\n",
       " }\n",
       " string_domain {\n",
       "   name: \"company\"\n",
       "   value: \"0118 - 42111 Godfrey S.Awir\"\n",
       "   value: \"0694 - 59280 Chinesco Trans Inc\"\n",
       "   value: \"1085 - 72312 N and W Cab Co\"\n",
       "   value: \"2092 - 61288 Sbeih company\"\n",
       "   value: \"2192 - 73487 Zeymane Corp\"\n",
       "   value: \"2192 - Zeymane Corp\"\n",
       "   value: \"2733 - 74600 Benny Jona\"\n",
       "   value: \"2809 - 95474 C & D Cab Co Inc.\"\n",
       "   value: \"2823 - 73307 Seung Lee\"\n",
       "   value: \"3011 - 66308 JBL Cab Inc.\"\n",
       "   value: \"3094 - 24059 G.L.B. Cab Co\"\n",
       "   value: \"3152 - 97284 Crystal Abernathy\"\n",
       "   value: \"3201 - C&D Cab Co Inc\"\n",
       "   value: \"3201 - CID Cab Co Inc\"\n",
       "   value: \"3253 - 91138 Gaither Cab Co.\"\n",
       "   value: \"3319 - CD Cab Co\"\n",
       "   value: \"3385 - 23210 Eman Cab\"\n",
       "   value: \"3385 - Eman Cab\"\n",
       "   value: \"3623 - 72222 Arrington Enterprises\"\n",
       "   value: \"3897 - 57856 Ilie Malec\"\n",
       "   value: \"3897 - Ilie Malec\"\n",
       "   value: \"4053 - 40193 Adwar H. Nikola\"\n",
       "   value: \"4053 - Adwar H. Nikola\"\n",
       "   value: \"4197 - 41842 Royal Star\"\n",
       "   value: \"4197 - Royal Star\"\n",
       "   value: \"4615 - 83503 Tyrone Henderson\"\n",
       "   value: \"4615 - Tyrone Henderson\"\n",
       "   value: \"4623 - Jay Kim\"\n",
       "   value: \"5006 - 39261 Salifu Bawa\"\n",
       "   value: \"5006 - Salifu Bawa\"\n",
       "   value: \"5074 - 54002 Ahzmi Inc\"\n",
       "   value: \"5074 - Ahzmi Inc\"\n",
       "   value: \"5129 - 87128\"\n",
       "   value: \"5129 - 98755 Mengisti Taxi\"\n",
       "   value: \"5129 - Mengisti Taxi\"\n",
       "   value: \"5724 - KYVI Cab Inc\"\n",
       "   value: \"585 - 88805 Valley Cab Co\"\n",
       "   value: \"585 - Valley Cab Co\"\n",
       "   value: \"5864 - 73614 Thomas Owusu\"\n",
       "   value: \"5864 - Thomas Owusu\"\n",
       "   value: \"5874 - 73628 Sergey Cab Corp.\"\n",
       "   value: \"5874 - Sergey Cab Corp.\"\n",
       "   value: \"5997 - 65283 AW Services Inc.\"\n",
       "   value: \"5997 - AW Services Inc.\"\n",
       "   value: \"6057 - 24657 Richard Addo\"\n",
       "   value: \"6488 - 83287 Zuha Taxi\"\n",
       "   value: \"6574 - Babylon Express Inc.\"\n",
       "   value: \"6742 - 83735 Tasha ride inc\"\n",
       "   value: \"6743 - Luhak Corp\"\n",
       "   value: \"Blue Ribbon Taxi Association Inc.\"\n",
       "   value: \"C & D Cab Co Inc\"\n",
       "   value: \"Chicago Elite Cab Corp.\"\n",
       "   value: \"Chicago Elite Cab Corp. (Chicago Carriag\"\n",
       "   value: \"Chicago Medallion Leasing INC\"\n",
       "   value: \"Chicago Medallion Management\"\n",
       "   value: \"Choice Taxi Association\"\n",
       "   value: \"Dispatch Taxi Affiliation\"\n",
       "   value: \"KOAM Taxi Association\"\n",
       "   value: \"Northwest Management LLC\"\n",
       "   value: \"Taxi Affiliation Services\"\n",
       "   value: \"Top Cab Affiliation\"\n",
       " })"
      ]
     },
     "execution_count": 11,
     "metadata": {},
     "output_type": "execute_result"
    }
   ],
   "source": [
    "type(schema), schema"
   ]
  },
  {
   "cell_type": "markdown",
   "metadata": {},
   "source": [
    "Edit the schema as you need."
   ]
  },
  {
   "cell_type": "code",
   "execution_count": null,
   "metadata": {},
   "outputs": [],
   "source": [
    "tfdv.get_feature(schema, \"payment_type\").presence.min_fraction = 0.5"
   ]
  },
  {
   "cell_type": "code",
   "execution_count": null,
   "metadata": {},
   "outputs": [],
   "source": [
    "schema"
   ]
  },
  {
   "cell_type": "code",
   "execution_count": 12,
   "metadata": {},
   "outputs": [
    {
     "data": {
      "text/html": [
       "<div>\n",
       "<style scoped>\n",
       "    .dataframe tbody tr th:only-of-type {\n",
       "        vertical-align: middle;\n",
       "    }\n",
       "\n",
       "    .dataframe tbody tr th {\n",
       "        vertical-align: top;\n",
       "    }\n",
       "\n",
       "    .dataframe thead th {\n",
       "        text-align: right;\n",
       "    }\n",
       "</style>\n",
       "<table border=\"1\" class=\"dataframe\">\n",
       "  <thead>\n",
       "    <tr style=\"text-align: right;\">\n",
       "      <th></th>\n",
       "      <th>Type</th>\n",
       "      <th>Presence</th>\n",
       "      <th>Valency</th>\n",
       "      <th>Domain</th>\n",
       "    </tr>\n",
       "    <tr>\n",
       "      <th>Feature name</th>\n",
       "      <th></th>\n",
       "      <th></th>\n",
       "      <th></th>\n",
       "      <th></th>\n",
       "    </tr>\n",
       "  </thead>\n",
       "  <tbody>\n",
       "    <tr>\n",
       "      <th>'pickup_community_area'</th>\n",
       "      <td>INT</td>\n",
       "      <td>required</td>\n",
       "      <td></td>\n",
       "      <td>-</td>\n",
       "    </tr>\n",
       "    <tr>\n",
       "      <th>'fare'</th>\n",
       "      <td>FLOAT</td>\n",
       "      <td>required</td>\n",
       "      <td></td>\n",
       "      <td>-</td>\n",
       "    </tr>\n",
       "    <tr>\n",
       "      <th>'trip_start_month'</th>\n",
       "      <td>INT</td>\n",
       "      <td>required</td>\n",
       "      <td></td>\n",
       "      <td>-</td>\n",
       "    </tr>\n",
       "    <tr>\n",
       "      <th>'trip_start_hour'</th>\n",
       "      <td>INT</td>\n",
       "      <td>required</td>\n",
       "      <td></td>\n",
       "      <td>-</td>\n",
       "    </tr>\n",
       "    <tr>\n",
       "      <th>'trip_start_day'</th>\n",
       "      <td>INT</td>\n",
       "      <td>required</td>\n",
       "      <td></td>\n",
       "      <td>-</td>\n",
       "    </tr>\n",
       "    <tr>\n",
       "      <th>'trip_start_timestamp'</th>\n",
       "      <td>INT</td>\n",
       "      <td>required</td>\n",
       "      <td></td>\n",
       "      <td>-</td>\n",
       "    </tr>\n",
       "    <tr>\n",
       "      <th>'pickup_latitude'</th>\n",
       "      <td>FLOAT</td>\n",
       "      <td>required</td>\n",
       "      <td></td>\n",
       "      <td>-</td>\n",
       "    </tr>\n",
       "    <tr>\n",
       "      <th>'pickup_longitude'</th>\n",
       "      <td>FLOAT</td>\n",
       "      <td>required</td>\n",
       "      <td></td>\n",
       "      <td>-</td>\n",
       "    </tr>\n",
       "    <tr>\n",
       "      <th>'dropoff_latitude'</th>\n",
       "      <td>FLOAT</td>\n",
       "      <td>optional</td>\n",
       "      <td>single</td>\n",
       "      <td>-</td>\n",
       "    </tr>\n",
       "    <tr>\n",
       "      <th>'dropoff_longitude'</th>\n",
       "      <td>FLOAT</td>\n",
       "      <td>optional</td>\n",
       "      <td>single</td>\n",
       "      <td>-</td>\n",
       "    </tr>\n",
       "    <tr>\n",
       "      <th>'trip_miles'</th>\n",
       "      <td>FLOAT</td>\n",
       "      <td>required</td>\n",
       "      <td></td>\n",
       "      <td>-</td>\n",
       "    </tr>\n",
       "    <tr>\n",
       "      <th>'pickup_census_tract'</th>\n",
       "      <td>BYTES</td>\n",
       "      <td>optional</td>\n",
       "      <td></td>\n",
       "      <td>-</td>\n",
       "    </tr>\n",
       "    <tr>\n",
       "      <th>'dropoff_census_tract'</th>\n",
       "      <td>FLOAT</td>\n",
       "      <td>optional</td>\n",
       "      <td>single</td>\n",
       "      <td>-</td>\n",
       "    </tr>\n",
       "    <tr>\n",
       "      <th>'payment_type'</th>\n",
       "      <td>STRING</td>\n",
       "      <td>required</td>\n",
       "      <td></td>\n",
       "      <td>'payment_type'</td>\n",
       "    </tr>\n",
       "    <tr>\n",
       "      <th>'company'</th>\n",
       "      <td>STRING</td>\n",
       "      <td>optional</td>\n",
       "      <td>single</td>\n",
       "      <td>'company'</td>\n",
       "    </tr>\n",
       "    <tr>\n",
       "      <th>'trip_seconds'</th>\n",
       "      <td>FLOAT</td>\n",
       "      <td>optional</td>\n",
       "      <td>single</td>\n",
       "      <td>-</td>\n",
       "    </tr>\n",
       "    <tr>\n",
       "      <th>'dropoff_community_area'</th>\n",
       "      <td>FLOAT</td>\n",
       "      <td>optional</td>\n",
       "      <td>single</td>\n",
       "      <td>-</td>\n",
       "    </tr>\n",
       "    <tr>\n",
       "      <th>'tips'</th>\n",
       "      <td>FLOAT</td>\n",
       "      <td>required</td>\n",
       "      <td></td>\n",
       "      <td>-</td>\n",
       "    </tr>\n",
       "  </tbody>\n",
       "</table>\n",
       "</div>"
      ],
      "text/plain": [
       "                            Type  Presence Valency          Domain\n",
       "Feature name                                                      \n",
       "'pickup_community_area'      INT  required                       -\n",
       "'fare'                     FLOAT  required                       -\n",
       "'trip_start_month'           INT  required                       -\n",
       "'trip_start_hour'            INT  required                       -\n",
       "'trip_start_day'             INT  required                       -\n",
       "'trip_start_timestamp'       INT  required                       -\n",
       "'pickup_latitude'          FLOAT  required                       -\n",
       "'pickup_longitude'         FLOAT  required                       -\n",
       "'dropoff_latitude'         FLOAT  optional  single               -\n",
       "'dropoff_longitude'        FLOAT  optional  single               -\n",
       "'trip_miles'               FLOAT  required                       -\n",
       "'pickup_census_tract'      BYTES  optional                       -\n",
       "'dropoff_census_tract'     FLOAT  optional  single               -\n",
       "'payment_type'            STRING  required          'payment_type'\n",
       "'company'                 STRING  optional  single       'company'\n",
       "'trip_seconds'             FLOAT  optional  single               -\n",
       "'dropoff_community_area'   FLOAT  optional  single               -\n",
       "'tips'                     FLOAT  required                       -"
      ]
     },
     "metadata": {},
     "output_type": "display_data"
    },
    {
     "data": {
      "text/html": [
       "<div>\n",
       "<style scoped>\n",
       "    .dataframe tbody tr th:only-of-type {\n",
       "        vertical-align: middle;\n",
       "    }\n",
       "\n",
       "    .dataframe tbody tr th {\n",
       "        vertical-align: top;\n",
       "    }\n",
       "\n",
       "    .dataframe thead th {\n",
       "        text-align: right;\n",
       "    }\n",
       "</style>\n",
       "<table border=\"1\" class=\"dataframe\">\n",
       "  <thead>\n",
       "    <tr style=\"text-align: right;\">\n",
       "      <th></th>\n",
       "      <th>Values</th>\n",
       "    </tr>\n",
       "    <tr>\n",
       "      <th>Domain</th>\n",
       "      <th></th>\n",
       "    </tr>\n",
       "  </thead>\n",
       "  <tbody>\n",
       "    <tr>\n",
       "      <th>'payment_type'</th>\n",
       "      <td>'Cash', 'Credit Card', 'Dispute', 'No Charge', 'Pcard', 'Prcard', 'Unknown'</td>\n",
       "    </tr>\n",
       "    <tr>\n",
       "      <th>'company'</th>\n",
       "      <td>'0118 - 42111 Godfrey S.Awir', '0694 - 59280 Chinesco Trans Inc', '1085 - 72312 N and W Cab Co', '2092 - 61288 Sbeih company', '2192 - 73487 Zeymane Corp', '2192 - Zeymane Corp', '2733 - 74600 Benny Jona', '2809 - 95474 C &amp; D Cab Co Inc.', '2823 - 73307 Seung Lee', '3011 - 66308 JBL Cab Inc.', '3094 - 24059 G.L.B. Cab Co', '3152 - 97284 Crystal Abernathy', '3201 - C&amp;D Cab Co Inc', '3201 - CID Cab Co Inc', '3253 - 91138 Gaither Cab Co.', '3319 - CD Cab Co', '3385 - 23210 Eman Cab', '3385 - Eman Cab', '3623 - 72222 Arrington Enterprises', '3897 - 57856 Ilie Malec', '3897 - Ilie Malec', '4053 - 40193 Adwar H. Nikola', '4053 - Adwar H. Nikola', '4197 - 41842 Royal Star', '4197 - Royal Star', '4615 - 83503 Tyrone Henderson', '4615 - Tyrone Henderson', '4623 - Jay Kim', '5006 - 39261 Salifu Bawa', '5006 - Salifu Bawa', '5074 - 54002 Ahzmi Inc', '5074 - Ahzmi Inc', '5129 - 87128', '5129 - 98755 Mengisti Taxi', '5129 - Mengisti Taxi', '5724 - KYVI Cab Inc', '585 - 88805 Valley Cab Co', '585 - Valley Cab Co', '5864 - 73614 Thomas Owusu', '5864 - Thomas Owusu', '5874 - 73628 Sergey Cab Corp.', '5874 - Sergey Cab Corp.', '5997 - 65283 AW Services Inc.', '5997 - AW Services Inc.', '6057 - 24657 Richard Addo', '6488 - 83287 Zuha Taxi', '6574 - Babylon Express Inc.', '6742 - 83735 Tasha ride inc', '6743 - Luhak Corp', 'Blue Ribbon Taxi Association Inc.', 'C &amp; D Cab Co Inc', 'Chicago Elite Cab Corp.', 'Chicago Elite Cab Corp. (Chicago Carriag', 'Chicago Medallion Leasing INC', 'Chicago Medallion Management', 'Choice Taxi Association', 'Dispatch Taxi Affiliation', 'KOAM Taxi Association', 'Northwest Management LLC', 'Taxi Affiliation Services', 'Top Cab Affiliation'</td>\n",
       "    </tr>\n",
       "  </tbody>\n",
       "</table>\n",
       "</div>"
      ],
      "text/plain": [
       "                                                                                                                                                                                                                                                                                                                                                                                                                                                                                                                                                                                                                                                                                                                                                                                                                                                                                                                                                                                                                                                                                                                                                                                                                                                                                                                                                                                                                                                                                                                                                                                                                                                                                                                                                        Values\n",
       "Domain                                                                                                                                                                                                                                                                                                                                                                                                                                                                                                                                                                                                                                                                                                                                                                                                                                                                                                                                                                                                                                                                                                                                                                                                                                                                                                                                                                                                                                                                                                                                                                                                                                                                                                                                                        \n",
       "'payment_type'  'Cash', 'Credit Card', 'Dispute', 'No Charge', 'Pcard', 'Prcard', 'Unknown'                                                                                                                                                                                                                                                                                                                                                                                                                                                                                                                                                                                                                                                                                                                                                                                                                                                                                                                                                                                                                                                                                                                                                                                                                                                                                                                                                                                                                                                                                                                                                                                                                                                                   \n",
       "'company'       '0118 - 42111 Godfrey S.Awir', '0694 - 59280 Chinesco Trans Inc', '1085 - 72312 N and W Cab Co', '2092 - 61288 Sbeih company', '2192 - 73487 Zeymane Corp', '2192 - Zeymane Corp', '2733 - 74600 Benny Jona', '2809 - 95474 C & D Cab Co Inc.', '2823 - 73307 Seung Lee', '3011 - 66308 JBL Cab Inc.', '3094 - 24059 G.L.B. Cab Co', '3152 - 97284 Crystal Abernathy', '3201 - C&D Cab Co Inc', '3201 - CID Cab Co Inc', '3253 - 91138 Gaither Cab Co.', '3319 - CD Cab Co', '3385 - 23210 Eman Cab', '3385 - Eman Cab', '3623 - 72222 Arrington Enterprises', '3897 - 57856 Ilie Malec', '3897 - Ilie Malec', '4053 - 40193 Adwar H. Nikola', '4053 - Adwar H. Nikola', '4197 - 41842 Royal Star', '4197 - Royal Star', '4615 - 83503 Tyrone Henderson', '4615 - Tyrone Henderson', '4623 - Jay Kim', '5006 - 39261 Salifu Bawa', '5006 - Salifu Bawa', '5074 - 54002 Ahzmi Inc', '5074 - Ahzmi Inc', '5129 - 87128', '5129 - 98755 Mengisti Taxi', '5129 - Mengisti Taxi', '5724 - KYVI Cab Inc', '585 - 88805 Valley Cab Co', '585 - Valley Cab Co', '5864 - 73614 Thomas Owusu', '5864 - Thomas Owusu', '5874 - 73628 Sergey Cab Corp.', '5874 - Sergey Cab Corp.', '5997 - 65283 AW Services Inc.', '5997 - AW Services Inc.', '6057 - 24657 Richard Addo', '6488 - 83287 Zuha Taxi', '6574 - Babylon Express Inc.', '6742 - 83735 Tasha ride inc', '6743 - Luhak Corp', 'Blue Ribbon Taxi Association Inc.', 'C & D Cab Co Inc', 'Chicago Elite Cab Corp.', 'Chicago Elite Cab Corp. (Chicago Carriag', 'Chicago Medallion Leasing INC', 'Chicago Medallion Management', 'Choice Taxi Association', 'Dispatch Taxi Affiliation', 'KOAM Taxi Association', 'Northwest Management LLC', 'Taxi Affiliation Services', 'Top Cab Affiliation'"
      ]
     },
     "metadata": {},
     "output_type": "display_data"
    }
   ],
   "source": [
    "tfdv.display_schema(schema)"
   ]
  },
  {
   "cell_type": "markdown",
   "metadata": {},
   "source": [
    "## Checks data for errors"
   ]
  },
  {
   "cell_type": "code",
   "execution_count": 13,
   "metadata": {},
   "outputs": [],
   "source": [
    "anomalies = tfdv.validate_statistics(statistics=stats, schema=schema)"
   ]
  },
  {
   "cell_type": "markdown",
   "metadata": {},
   "source": [
    "Visualize anomaly data."
   ]
  },
  {
   "cell_type": "code",
   "execution_count": 14,
   "metadata": {},
   "outputs": [
    {
     "data": {
      "text/html": [
       "<h4 style=\"color:green;\">No anomalies found.</h4>"
      ],
      "text/plain": [
       "<IPython.core.display.HTML object>"
      ]
     },
     "metadata": {},
     "output_type": "display_data"
    }
   ],
   "source": [
    "tfdv.display_anomalies(anomalies=anomalies)"
   ]
  },
  {
   "cell_type": "code",
   "execution_count": 15,
   "metadata": {
    "scrolled": false
   },
   "outputs": [
    {
     "data": {
      "text/plain": [
       "{}"
      ]
     },
     "execution_count": 15,
     "metadata": {},
     "output_type": "execute_result"
    }
   ],
   "source": [
    "anomalies.anomaly_info"
   ]
  },
  {
   "cell_type": "markdown",
   "metadata": {},
   "source": [
    "If there is an anomaly, you can add another allowed value into the schema."
   ]
  },
  {
   "cell_type": "code",
   "execution_count": 16,
   "metadata": {},
   "outputs": [],
   "source": [
    "tfdv.get_domain(schema, \"payment_type\").value.append(\"new_value\")"
   ]
  },
  {
   "cell_type": "code",
   "execution_count": 17,
   "metadata": {},
   "outputs": [
    {
     "data": {
      "text/plain": [
       "['Cash', 'Credit Card', 'Dispute', 'No Charge', 'Pcard', 'Prcard', 'Unknown', 'new_value']"
      ]
     },
     "execution_count": 17,
     "metadata": {},
     "output_type": "execute_result"
    }
   ],
   "source": [
    "tfdv.get_domain(schema, \"payment_type\").value"
   ]
  },
  {
   "cell_type": "markdown",
   "metadata": {},
   "source": [
    "Validate per-example data. It may cost lots of time."
   ]
  },
  {
   "cell_type": "code",
   "execution_count": 16,
   "metadata": {},
   "outputs": [],
   "source": [
    "options = tfdv.StatsOptions(schema=schema)"
   ]
  },
  {
   "cell_type": "code",
   "execution_count": null,
   "metadata": {},
   "outputs": [],
   "source": [
    "anomalous_example_stats = tfdv.validate_examples_in_csv(\n",
    "    data_location=\"/Users/jiankaiwang/devops/tfx_taxi/taxi/data/simple/data.csv\", \n",
    "    stats_options=options)"
   ]
  },
  {
   "cell_type": "markdown",
   "metadata": {},
   "source": [
    "Validate instances for checking an individual example exhibiting anomalies."
   ]
  },
  {
   "cell_type": "markdown",
   "metadata": {},
   "source": [
    "## Schema Environments"
   ]
  },
  {
   "cell_type": "markdown",
   "metadata": {},
   "source": [
    "## Checking data skew and drift"
   ]
  },
  {
   "cell_type": "markdown",
   "metadata": {},
   "source": [
    "* Skew: between training and serving datasets\n",
    "* Drift: among training datasets"
   ]
  },
  {
   "cell_type": "code",
   "execution_count": 21,
   "metadata": {},
   "outputs": [],
   "source": [
    "serving_stats = tfdv.generate_statistics_from_csv(\n",
    "    data_location=\"/Users/jiankaiwang/devops/tfx_taxi/taxi/data/simple/data_serving.csv\")"
   ]
  },
  {
   "cell_type": "code",
   "execution_count": 26,
   "metadata": {},
   "outputs": [],
   "source": [
    "tfdv.get_feature(schema, \"payment_type\").skew_comparator.infinity_norm.threshold = 0.01"
   ]
  },
  {
   "cell_type": "code",
   "execution_count": 28,
   "metadata": {},
   "outputs": [
    {
     "data": {
      "text/plain": [
       "name: \"payment_type\"\n",
       "type: BYTES\n",
       "domain: \"payment_type\"\n",
       "presence {\n",
       "  min_fraction: 1.0\n",
       "  min_count: 1\n",
       "}\n",
       "skew_comparator {\n",
       "  infinity_norm {\n",
       "    threshold: 0.01\n",
       "  }\n",
       "}\n",
       "shape {\n",
       "  dim {\n",
       "    size: 1\n",
       "  }\n",
       "}"
      ]
     },
     "execution_count": 28,
     "metadata": {},
     "output_type": "execute_result"
    }
   ],
   "source": [
    "tfdv.get_feature(schema, \"payment_type\")"
   ]
  },
  {
   "cell_type": "code",
   "execution_count": 30,
   "metadata": {},
   "outputs": [],
   "source": [
    "skew_anomalies = tfdv.validate_statistics(statistics=stats, schema=schema, serving_statistics=serving_stats)"
   ]
  },
  {
   "cell_type": "code",
   "execution_count": 32,
   "metadata": {},
   "outputs": [
    {
     "data": {
      "text/html": [
       "<h4 style=\"color:green;\">No anomalies found.</h4>"
      ],
      "text/plain": [
       "<IPython.core.display.HTML object>"
      ]
     },
     "metadata": {},
     "output_type": "display_data"
    }
   ],
   "source": [
    "tfdv.display_anomalies(skew_anomalies)"
   ]
  },
  {
   "cell_type": "code",
   "execution_count": null,
   "metadata": {},
   "outputs": [],
   "source": []
  }
 ],
 "metadata": {
  "kernelspec": {
   "display_name": "Python 3",
   "language": "python",
   "name": "python3"
  },
  "language_info": {
   "codemirror_mode": {
    "name": "ipython",
    "version": 3
   },
   "file_extension": ".py",
   "mimetype": "text/x-python",
   "name": "python",
   "nbconvert_exporter": "python",
   "pygments_lexer": "ipython3",
   "version": "3.7.3"
  }
 },
 "nbformat": 4,
 "nbformat_minor": 2
}
