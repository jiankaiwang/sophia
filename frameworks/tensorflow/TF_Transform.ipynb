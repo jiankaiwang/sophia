{
 "cells": [
  {
   "cell_type": "markdown",
   "metadata": {},
   "source": [
    "# Requirements"
   ]
  },
  {
   "cell_type": "markdown",
   "metadata": {},
   "source": [
    "Tensorflow Transform requires both `Tensorflow` and `Apache Beam`. If you install `Tensorflow Extended (TFX)`, you don't require installing other packages. Otherwise, two packages `Tensorflow` and `Apache Beam` are the lowest requirements. you can install `tensorflow-transform` after that."
   ]
  },
  {
   "cell_type": "code",
   "execution_count": null,
   "metadata": {},
   "outputs": [],
   "source": [
    "!pip install tensorflow==1.14.0"
   ]
  },
  {
   "cell_type": "code",
   "execution_count": null,
   "metadata": {},
   "outputs": [],
   "source": [
    "import tensorflow as tf\n",
    "import tensorflow_transform as tft\n",
    "import tensorflow_transform.beam as tft_beam\n",
    "from tensorflow_transform.tf_metadata import dataset_metadata\n",
    "from tensorflow_transform.tf_metadata import dataset_schema\n",
    "\n",
    "print(\"TF version: {}\".format(tf.__version__))"
   ]
  },
  {
   "cell_type": "markdown",
   "metadata": {},
   "source": [
    "# Define a preprocessing function"
   ]
  },
  {
   "cell_type": "markdown",
   "metadata": {},
   "source": [
    "There are two types of preprocessing_fn:\n",
    "* Any function accepts and returns tensor. These operations would be added into tensorflow graph.\n",
    "* Any of analyzers provided by `tf.Transform`. Analyzers also accept and return tensors, but these operations would not be added into tensorflow graph. They work outside the tensorflow graph and return the tensor as a constant to the tensorflow graph.\n",
    "\n",
    "Analyzers process the input data whose shape like `(batch_size, )`, but the returned tensor whose shape is like `()`. Analyzers use all data to calculate the result, not to calculate within a single data."
   ]
  },
  {
   "cell_type": "code",
   "execution_count": null,
   "metadata": {},
   "outputs": [],
   "source": [
    "def preprocessing_fn(inputs):\n",
    "    x = inputs[\"x\"]\n",
    "    y = inputs[\"y\"]\n",
    "    s = inputs[\"s\"]\n",
    "    x_centered = x - tft.mean(x)\n",
    "    y_normalized = tft.scale_to_0_1(y)\n",
    "    s_integerized = tft.compute_and_apply_vocabulary(s)\n",
    "    x_centered_times_y_normalized = x_centered * y_normalized\n",
    "    return {\n",
    "        \"x_centered\": x_centered,\n",
    "        \"y_normalized\": y_normalized,\n",
    "        \"s_integerized\": s_integerized,\n",
    "        \"x_centered_times_y_normalized\": x_centered_times_y_normalized\n",
    "    }"
   ]
  },
  {
   "cell_type": "markdown",
   "metadata": {},
   "source": [
    "# Apache Beam Implementation"
   ]
  },
  {
   "cell_type": "code",
   "execution_count": null,
   "metadata": {},
   "outputs": [],
   "source": [
    "raw_data = [\n",
    "    {'x': 1, 'y': 1, 's': 'hello'},\n",
    "    {'x': 2, 'y': 2, 's': 'world'},\n",
    "    {'x': 3, 'y': 3, 's': 'hello'}\n",
    "]\n",
    "\n",
    "raw_data_metadata = dataset_metadata.DatasetMetadata(\n",
    "    dataset_schema.from_feature_spec({\n",
    "        's': tf.FixedLenFeature([], tf.string),\n",
    "        'y': tf.FixedLenFeature([], tf.float32),\n",
    "        'x': tf.FixedLenFeature([], tf.float32),\n",
    "    }))\n",
    "\n",
    "# requires a tft_beam context to write out the graph temp\n",
    "with tft_beam.Context(temp_dir=\"/tmp\"):\n",
    "    transformed_dataset, transform_fn = (\n",
    "        (raw_data, raw_data_metadata) | tft_beam.AnalyzeAndTransformDataset(preprocessing_fn))\n",
    "\n",
    "    transformed_data, transformed_metadata = transformed_dataset"
   ]
  },
  {
   "cell_type": "code",
   "execution_count": 6,
   "metadata": {},
   "outputs": [
    {
     "data": {
      "text/plain": [
       "([{'s_integerized': 0,\n",
       "   'x_centered': -1.0,\n",
       "   'x_centered_times_y_normalized': -0.0,\n",
       "   'y_normalized': 0.0},\n",
       "  {'s_integerized': 1,\n",
       "   'x_centered': 0.0,\n",
       "   'x_centered_times_y_normalized': 0.0,\n",
       "   'y_normalized': 0.5},\n",
       "  {'s_integerized': 0,\n",
       "   'x_centered': 1.0,\n",
       "   'x_centered_times_y_normalized': 1.0,\n",
       "   'y_normalized': 1.0}],\n",
       " list)"
      ]
     },
     "execution_count": 6,
     "metadata": {},
     "output_type": "execute_result"
    }
   ],
   "source": [
    "transformed_data, type(transformed_data)"
   ]
  },
  {
   "cell_type": "code",
   "execution_count": null,
   "metadata": {},
   "outputs": [],
   "source": []
  }
 ],
 "metadata": {
  "kernelspec": {
   "display_name": "Python 3",
   "language": "python",
   "name": "python3"
  },
  "language_info": {
   "codemirror_mode": {
    "name": "ipython",
    "version": 3
   },
   "file_extension": ".py",
   "mimetype": "text/x-python",
   "name": "python",
   "nbconvert_exporter": "python",
   "pygments_lexer": "ipython3",
   "version": "3.7.3"
  }
 },
 "nbformat": 4,
 "nbformat_minor": 2
}
