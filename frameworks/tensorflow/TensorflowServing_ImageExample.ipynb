{
 "cells": [
  {
   "cell_type": "markdown",
   "metadata": {},
   "source": [
    "# Tensorflow Serving for Image Recognition"
   ]
  },
  {
   "cell_type": "code",
   "execution_count": 2,
   "metadata": {},
   "outputs": [
    {
     "name": "stdout",
     "output_type": "stream",
     "text": [
      "TF Version: 1.14.0\n",
      "Numpy Version: 1.17.3\n"
     ]
    }
   ],
   "source": [
    "import tensorflow as tf\n",
    "import tensorflow_model_analysis as tfma\n",
    "import os\n",
    "import cv2\n",
    "import matplotlib.pyplot as plt\n",
    "import numpy as np\n",
    "import base64\n",
    "\n",
    "print(\"TF Version: {}\".format(tf.__version__))\n",
    "print(\"Numpy Version: {}\".format(np.__version__))"
   ]
  },
  {
   "cell_type": "markdown",
   "metadata": {},
   "source": [
    "## Data Preparation"
   ]
  },
  {
   "cell_type": "code",
   "execution_count": 3,
   "metadata": {},
   "outputs": [],
   "source": [
    "from tensorflow.examples.tutorials.mnist import input_data"
   ]
  },
  {
   "cell_type": "code",
   "execution_count": 4,
   "metadata": {},
   "outputs": [
    {
     "name": "stdout",
     "output_type": "stream",
     "text": [
      "WARNING:tensorflow:From <ipython-input-4-bc4a15cc9771>:2: read_data_sets (from tensorflow.contrib.learn.python.learn.datasets.mnist) is deprecated and will be removed in a future version.\n",
      "Instructions for updating:\n",
      "Please use alternatives such as official/mnist/dataset.py from tensorflow/models.\n",
      "WARNING:tensorflow:From /Users/jiankaiwang/devops/pyenv/tfx/lib/python3.7/site-packages/tensorflow/contrib/learn/python/learn/datasets/mnist.py:260: maybe_download (from tensorflow.contrib.learn.python.learn.datasets.base) is deprecated and will be removed in a future version.\n",
      "Instructions for updating:\n",
      "Please write your own downloading logic.\n",
      "WARNING:tensorflow:From /Users/jiankaiwang/devops/pyenv/tfx/lib/python3.7/site-packages/tensorflow/contrib/learn/python/learn/datasets/mnist.py:262: extract_images (from tensorflow.contrib.learn.python.learn.datasets.mnist) is deprecated and will be removed in a future version.\n",
      "Instructions for updating:\n",
      "Please use tf.data to implement this functionality.\n",
      "Extracting /Users/jiankaiwang/devops/tmp/MNIST_data/train-images-idx3-ubyte.gz\n",
      "WARNING:tensorflow:From /Users/jiankaiwang/devops/pyenv/tfx/lib/python3.7/site-packages/tensorflow/contrib/learn/python/learn/datasets/mnist.py:267: extract_labels (from tensorflow.contrib.learn.python.learn.datasets.mnist) is deprecated and will be removed in a future version.\n",
      "Instructions for updating:\n",
      "Please use tf.data to implement this functionality.\n",
      "Extracting /Users/jiankaiwang/devops/tmp/MNIST_data/train-labels-idx1-ubyte.gz\n",
      "WARNING:tensorflow:From /Users/jiankaiwang/devops/pyenv/tfx/lib/python3.7/site-packages/tensorflow/contrib/learn/python/learn/datasets/mnist.py:110: dense_to_one_hot (from tensorflow.contrib.learn.python.learn.datasets.mnist) is deprecated and will be removed in a future version.\n",
      "Instructions for updating:\n",
      "Please use tf.one_hot on tensors.\n",
      "Extracting /Users/jiankaiwang/devops/tmp/MNIST_data/t10k-images-idx3-ubyte.gz\n",
      "Extracting /Users/jiankaiwang/devops/tmp/MNIST_data/t10k-labels-idx1-ubyte.gz\n",
      "WARNING:tensorflow:From /Users/jiankaiwang/devops/pyenv/tfx/lib/python3.7/site-packages/tensorflow/contrib/learn/python/learn/datasets/mnist.py:290: DataSet.__init__ (from tensorflow.contrib.learn.python.learn.datasets.mnist) is deprecated and will be removed in a future version.\n",
      "Instructions for updating:\n",
      "Please use alternatives such as official/mnist/dataset.py from tensorflow/models.\n"
     ]
    }
   ],
   "source": [
    "if os.path.exists(\"/Users/jiankaiwang/devops/tmp/MNIST_data/\"):\n",
    "  mnist = input_data.read_data_sets(\"/Users/jiankaiwang/devops/tmp/MNIST_data/\", one_hot=True)\n",
    "else:\n",
    "  mnist = input_data.read_data_sets(\"/tmp/MNIST_data/\", one_hot=True)"
   ]
  },
  {
   "cell_type": "code",
   "execution_count": 5,
   "metadata": {},
   "outputs": [],
   "source": [
    "def _bytes_feature(value):\n",
    "  \"\"\"Returns a bytes_list from a string / byte.\"\"\"\n",
    "  if isinstance(value, type(tf.constant(0))):\n",
    "    value = value.numpy() # BytesList won't unpack a string from an EagerTensor.\n",
    "  return tf.train.Feature(bytes_list=tf.train.BytesList(value=[value]))\n",
    "\n",
    "def _float_feature(value):\n",
    "  \"\"\"Returns a float_list from a float / double.\"\"\"\n",
    "  return tf.train.Feature(float_list=tf.train.FloatList(value=[value]))\n",
    "\n",
    "def _int64_feature(value):\n",
    "  \"\"\"Returns an int64_list from a bool / enum / int / uint.\"\"\"\n",
    "  return tf.train.Feature(int64_list=tf.train.Int64List(value=[value]))"
   ]
  },
  {
   "cell_type": "code",
   "execution_count": 6,
   "metadata": {},
   "outputs": [],
   "source": [
    "def create_tf_example(imgInByte, labelInByte):\n",
    "    tf_example = tf.train.Example(features=tf.train.Features(feature={\\\n",
    "    'image': _bytes_feature(imgInByte) \\\n",
    "    , 'label': _bytes_feature(labelInByte) \\\n",
    "    }))\n",
    "    return tf_example"
   ]
  },
  {
   "cell_type": "code",
   "execution_count": 7,
   "metadata": {},
   "outputs": [],
   "source": [
    "def Base64Converter(byte_string):\n",
    "    _byteStr = base64.b64encode(byte_string)\n",
    "    return _byteStr[:-2].replace(b\"+\", b\"-\").replace(b\"/\", b\"_\")"
   ]
  },
  {
   "cell_type": "code",
   "execution_count": 95,
   "metadata": {},
   "outputs": [],
   "source": [
    "with tf.python_io.TFRecordWriter(\"/Users/jiankaiwang/Desktop/mnist_test.tfrecord\") as writer:\n",
    "    for i in range(mnist.test.num_examples):\n",
    "        writer.write(\n",
    "            create_tf_example(\n",
    "                Base64Converter(mnist.test.images[i].astype(\"float32\").tobytes()),  # [None, 784]\n",
    "                Base64Converter(mnist.test.labels[i].astype(\"float32\").tobytes())   # [None, 10]\n",
    "            ).SerializeToString()\n",
    "        )"
   ]
  },
  {
   "cell_type": "code",
   "execution_count": 96,
   "metadata": {},
   "outputs": [],
   "source": [
    "def writeTFRecords(obj):\n",
    "    obj.write(\n",
    "        create_tf_example(\n",
    "            Base64Converter(mnist.test.images[i].astype(\"float32\").tobytes()),  # [None, 784]\n",
    "            Base64Converter(mnist.test.labels[i].astype(\"float32\").tobytes())   # [None, 10]\n",
    "        ).SerializeToString()\n",
    "    )\n",
    "\n",
    "with tf.python_io.TFRecordWriter(\"/Users/jiankaiwang/Desktop/mnist_test_1.tfrecord\") as writer1:\n",
    "    with tf.python_io.TFRecordWriter(\"/Users/jiankaiwang/Desktop/mnist_test_2.tfrecord\") as writer2:\n",
    "        for i in range(mnist.test.num_examples):\n",
    "            if i % 2 == 0:\n",
    "                writeTFRecords(writer1)\n",
    "            else:\n",
    "                writeTFRecords(writer2)"
   ]
  },
  {
   "cell_type": "markdown",
   "metadata": {},
   "source": [
    "## Model Generation"
   ]
  },
  {
   "cell_type": "markdown",
   "metadata": {},
   "source": [
    "### Quick Test between np.tobytes() and tf.decode_raw()"
   ]
  },
  {
   "cell_type": "code",
   "execution_count": 8,
   "metadata": {},
   "outputs": [],
   "source": [
    "import matplotlib.pyplot as plt"
   ]
  },
  {
   "cell_type": "code",
   "execution_count": 9,
   "metadata": {},
   "outputs": [
    {
     "data": {
      "image/png": "[encoded data removed]",
      "text/plain": [
       "<Figure size 432x288 with 1 Axes>"
      ]
     },
     "metadata": {
      "needs_background": "light"
     },
     "output_type": "display_data"
    }
   ],
   "source": [
    "_img = mnist.test.images[0]\n",
    "img = np.reshape(_img, [28,28])\n",
    "plt.imshow(img)\n",
    "img_ = img.tobytes()"
   ]
  },
  {
   "cell_type": "code",
   "execution_count": 10,
   "metadata": {},
   "outputs": [
    {
     "data": {
      "text/plain": [
       "<matplotlib.image.AxesImage at 0x14307fdd8>"
      ]
     },
     "execution_count": 10,
     "metadata": {},
     "output_type": "execute_result"
    },
    {
     "data": {
      "image/png": "[encoded data removed]",
      "text/plain": [
       "<Figure size 432x288 with 1 Axes>"
      ]
     },
     "metadata": {
      "needs_background": "light"
     },
     "output_type": "display_data"
    }
   ],
   "source": [
    "tf.reset_default_graph()\n",
    "with tf.Graph().as_default():\n",
    "    img_p = tf.io.decode_raw(img_, tf.float32)\n",
    "    with tf.Session() as sess:\n",
    "        decode_img = sess.run(img_p)\n",
    "        decode_img = np.reshape(decode_img, [28,28])\n",
    "\n",
    "plt.imshow(decode_img)"
   ]
  },
  {
   "cell_type": "markdown",
   "metadata": {},
   "source": [
    "### Quick Test between np.tobytes() and tf.decode_base64()"
   ]
  },
  {
   "cell_type": "code",
   "execution_count": 11,
   "metadata": {},
   "outputs": [
    {
     "data": {
      "text/plain": [
       "<matplotlib.image.AxesImage at 0x13d5c5668>"
      ]
     },
     "execution_count": 11,
     "metadata": {},
     "output_type": "execute_result"
    },
    {
     "data": {
      "image/png": "[encoded data removed]",
      "text/plain": [
       "<Figure size 432x288 with 1 Axes>"
      ]
     },
     "metadata": {
      "needs_background": "light"
     },
     "output_type": "display_data"
    }
   ],
   "source": [
    "img_b64_es = base64.b64encode(mnist.test.images[0].astype(\"float32\").tobytes())\n",
    "img_b64_ds = base64.b64decode(img_b64_es)\n",
    "img_d = np.frombuffer(img_b64_ds, dtype=\"float32\")\n",
    "img_d_shape = img_d.reshape([28, 28])\n",
    "plt.imshow(img_d_shape, cmap=\"gray\")"
   ]
  },
  {
   "cell_type": "code",
   "execution_count": 12,
   "metadata": {},
   "outputs": [
    {
     "name": "stdout",
     "output_type": "stream",
     "text": [
      "4182\n"
     ]
    }
   ],
   "source": [
    "tf.reset_default_graph()\n",
    "\n",
    "with tf.Graph().as_default():\n",
    "    img = tf.placeholder(tf.string)\n",
    "    b64s = tf.io.encode_base64(img)\n",
    "    encoded_image = tf.io.decode_base64(b64s)\n",
    "    with tf.Session() as sess:\n",
    "        sess.run(tf.global_variables_initializer())\n",
    "        b64s_di, b64s_e = sess.run([encoded_image, b64s], \n",
    "                                   feed_dict={img: mnist.test.images[0].astype(\"float32\").tobytes()})\n",
    "        print(len(b64s_e))"
   ]
  },
  {
   "cell_type": "code",
   "execution_count": 13,
   "metadata": {},
   "outputs": [
    {
     "name": "stdout",
     "output_type": "stream",
     "text": [
      "4184\n"
     ]
    },
    {
     "data": {
      "text/plain": [
       "True"
      ]
     },
     "execution_count": 13,
     "metadata": {},
     "output_type": "execute_result"
    }
   ],
   "source": [
    "print(len(img_b64_es))\n",
    "img_b64_es[:-2].replace(b\"+\",b\"-\").replace(b\"/\",b\"_\") == b64s_e"
   ]
  },
  {
   "cell_type": "markdown",
   "metadata": {},
   "source": [
    "Input may or may not have padding at the end. See EncodeBase64 for padding. Web-safe means that input must use - and _ instead of + and /. \n",
    "\n",
    "Tensorflow encoding is different from base64 in web-safe base64 url. Two steps make both of them are the same.\n",
    "* Trim final 2 bytes.\n",
    "* Replace byte '+' with '-' and byte '/' with '_'."
   ]
  },
  {
   "cell_type": "markdown",
   "metadata": {},
   "source": [
    "Saving byte string in numpy.array issue, trimimg zeros at the end of byte string."
   ]
  },
  {
   "cell_type": "code",
   "execution_count": 14,
   "metadata": {},
   "outputs": [
    {
     "name": "stdout",
     "output_type": "stream",
     "text": [
      "(55000, 1)\n"
     ]
    }
   ],
   "source": [
    "_train_images = []\n",
    "_bytes_array = []\n",
    "\n",
    "for i in range(mnist.train.num_examples):\n",
    "    byte_data = mnist.train.images[i].astype(\"float32\").tobytes()\n",
    "    byte_string = Base64Converter(byte_data)  # convert to base64 encoded string\n",
    "    _train_images.append(byte_string)\n",
    "    _bytes_array.append(len(byte_string))\n",
    "\n",
    "# dtype='O' (big O) means python object\n",
    "train_images = np.array(_train_images, dtype='O')\n",
    "train_images = train_images.reshape([-1,1])\n",
    "print(train_images.shape)"
   ]
  },
  {
   "cell_type": "code",
   "execution_count": 15,
   "metadata": {},
   "outputs": [
    {
     "name": "stdout",
     "output_type": "stream",
     "text": [
      "(2, 1, 784)\n",
      "[4182, 4182, 4182, 4182, 4182, 4182, 4182, 4182, 4182, 4182]\n",
      "4182 4182\n"
     ]
    }
   ],
   "source": [
    "tf.reset_default_graph()\n",
    "with tf.Graph().as_default():\n",
    "    b64s_input = tf.placeholder(tf.string, shape=[None,1])\n",
    "    raw_input = tf.io.decode_base64(b64s_input)  # to byte\n",
    "    decode = tf.io.decode_raw(raw_input, tf.float32)\n",
    "    with tf.Session() as sess:\n",
    "        img_ = sess.run(decode, feed_dict={b64s_input: train_images[9:11]})\n",
    "        print(img_.shape)\n",
    "\n",
    "print(_bytes_array[:10])\n",
    "print(len(_train_images[0]), len(_train_images[1]))"
   ]
  },
  {
   "cell_type": "code",
   "execution_count": 16,
   "metadata": {},
   "outputs": [
    {
     "data": {
      "text/plain": [
       "(55000, 1)"
      ]
     },
     "execution_count": 16,
     "metadata": {},
     "output_type": "execute_result"
    }
   ],
   "source": [
    "_train_labels = []\n",
    "\n",
    "for i in range(mnist.train.num_examples):\n",
    "    byte_data = mnist.train.labels[i].astype(\"float32\").tobytes()\n",
    "    label_byte = Base64Converter(byte_data)\n",
    "    _train_labels.append(label_byte)\n",
    "    \n",
    "train_labels = np.array(_train_labels, dtype=\"O\")\n",
    "train_labels = train_labels.reshape([-1, 1])\n",
    "train_labels.shape"
   ]
  },
  {
   "cell_type": "markdown",
   "metadata": {},
   "source": [
    "### Customized Models"
   ]
  },
  {
   "cell_type": "code",
   "execution_count": 17,
   "metadata": {},
   "outputs": [],
   "source": [
    "def layer(input, weight_shape, bias_shape):\n",
    "    weight_std = (2.0 / weight_shape[0]) ** 0.5\n",
    "    w_init = tf.random_normal_initializer(stddev=weight_std)\n",
    "    b_init = tf.constant_initializer(value=0)\n",
    "    W = tf.get_variable(name=\"W\", shape=weight_shape, initializer=w_init)\n",
    "    b = tf.get_variable(name=\"b\", shape=bias_shape, initializer=b_init)\n",
    "    return tf.nn.relu(tf.matmul(input, W) + b)"
   ]
  },
  {
   "cell_type": "code",
   "execution_count": 18,
   "metadata": {},
   "outputs": [],
   "source": [
    "def evaluate(output, y):\n",
    "  compare = tf.equal(tf.argmax(output, axis=1), tf.argmax(y, axis=1))\n",
    "  compare_to_float = tf.cast(compare, tf.float32)\n",
    "  accuracy, updated_op = tf.metrics.mean(compare_to_float)\n",
    "  return accuracy, updated_op"
   ]
  },
  {
   "cell_type": "code",
   "execution_count": 19,
   "metadata": {},
   "outputs": [],
   "source": [
    "def model_fn(features, labels, mode, params):\n",
    "    \n",
    "    # image input transformation from base64 encoded string to byte string and then to float32\n",
    "    _input = tf.io.decode_base64(features[\"image\"])\n",
    "    _input = tf.io.decode_raw(_input, tf.float32)\n",
    "    new_input = tf.squeeze(_input, axis=1) # [None, 1, 784] => [None, 784]\n",
    "    \n",
    "    if mode in [tf.estimator.ModeKeys.TRAIN, tf.estimator.ModeKeys.EVAL]:\n",
    "        # The labels are only used in TRAIN and EVAL modess.\n",
    "        # label input transform from string to float32\n",
    "        labels = tf.io.decode_base64(labels)\n",
    "        labels = tf.io.decode_raw(labels, tf.float32) \n",
    "        labels = tf.squeeze(labels, axis=1) # [None, 1, 10] => [None, 1]\n",
    "    \n",
    "    # build a mlp model\n",
    "    with tf.variable_scope(\"hidden1\"):\n",
    "        hidden1 = layer(new_input, [784, 1024], [1024])\n",
    "    with tf.variable_scope(\"hidden2\"):\n",
    "        hidden2 = layer(hidden1, [1024, 512], [512])\n",
    "    with tf.variable_scope(\"output\"):\n",
    "        output = layer(hidden2, [512, 10], [10])\n",
    "    \n",
    "    # define the result\n",
    "    result = tf.identity(output, name=\"class\")\n",
    "    prob = tf.nn.softmax(result, name=\"prob\")\n",
    "    predict_dict = {\"output\": output, \"prob\": prob}\n",
    "    if mode == tf.estimator.ModeKeys.PREDICT:\n",
    "        return tf.estimator.EstimatorSpec(\n",
    "            mode=mode,\n",
    "            predictions=predict_dict)\n",
    "    \n",
    "    # define loss function\n",
    "    cross_entropy = tf.nn.softmax_cross_entropy_with_logits_v2(logits=output, labels=labels)\n",
    "    loss = tf.reduce_mean(cross_entropy)\n",
    "    \n",
    "    # define optimizer\n",
    "    optimizer = tf.train.GradientDescentOptimizer(learning_rate=params[\"learning_rate\"])\n",
    "    train_opt = optimizer.minimize(loss, global_step=tf.train.get_global_step())\n",
    "    \n",
    "    # metrics\n",
    "    eval_metric_ops = {\n",
    "        #\"accuracy\": tf.metrics.accuracy(labels, output)\n",
    "        \"accuracy\": evaluate(output, labels)\n",
    "    }\n",
    "    \n",
    "    # return an estimator spec\n",
    "    return tf.estimator.EstimatorSpec(\n",
    "        mode=mode,\n",
    "        loss=loss,\n",
    "        train_op=train_opt,\n",
    "        eval_metric_ops=eval_metric_ops)"
   ]
  },
  {
   "cell_type": "code",
   "execution_count": 20,
   "metadata": {},
   "outputs": [],
   "source": [
    "batch_size = 128\n",
    "epochs = mnist.train.num_examples // batch_size\n",
    "\n",
    "model_params = {\"learning_rate\": 1e-4}"
   ]
  },
  {
   "cell_type": "code",
   "execution_count": 21,
   "metadata": {},
   "outputs": [
    {
     "name": "stdout",
     "output_type": "stream",
     "text": [
      "INFO:tensorflow:Using default config.\n",
      "WARNING:tensorflow:Using temporary folder as model directory: /var/folders/4b/wh1nthj1563b1gl58ydgwnfw0000gp/T/tmpugbau_ba\n",
      "INFO:tensorflow:Using config: {'_model_dir': '/var/folders/4b/wh1nthj1563b1gl58ydgwnfw0000gp/T/tmpugbau_ba', '_tf_random_seed': None, '_save_summary_steps': 100, '_save_checkpoints_steps': None, '_save_checkpoints_secs': 600, '_session_config': allow_soft_placement: true\n",
      "graph_options {\n",
      "  rewrite_options {\n",
      "    meta_optimizer_iterations: ONE\n",
      "  }\n",
      "}\n",
      ", '_keep_checkpoint_max': 5, '_keep_checkpoint_every_n_hours': 10000, '_log_step_count_steps': 100, '_train_distribute': None, '_device_fn': None, '_protocol': None, '_eval_distribute': None, '_experimental_distribute': None, '_experimental_max_worker_delay_secs': None, '_service': None, '_cluster_spec': <tensorflow.python.training.server_lib.ClusterSpec object at 0x13d5f2048>, '_task_type': 'worker', '_task_id': 0, '_global_id_in_cluster': 0, '_master': '', '_evaluation_master': '', '_is_chief': True, '_num_ps_replicas': 0, '_num_worker_replicas': 1}\n"
     ]
    }
   ],
   "source": [
    "nn = tf.estimator.Estimator(model_fn=model_fn, params=model_params)"
   ]
  },
  {
   "cell_type": "code",
   "execution_count": 22,
   "metadata": {
    "scrolled": true
   },
   "outputs": [
    {
     "name": "stdout",
     "output_type": "stream",
     "text": [
      "WARNING:tensorflow:From /Users/jiankaiwang/devops/pyenv/tfx/lib/python3.7/site-packages/tensorflow/python/training/training_util.py:236: Variable.initialized_value (from tensorflow.python.ops.variables) is deprecated and will be removed in a future version.\n",
      "Instructions for updating:\n",
      "Use Variable.read_value. Variables in 2.X are initialized automatically both in eager and graph (inside tf.defun) contexts.\n",
      "WARNING:tensorflow:From /Users/jiankaiwang/devops/pyenv/tfx/lib/python3.7/site-packages/tensorflow_estimator/python/estimator/inputs/queues/feeding_queue_runner.py:62: QueueRunner.__init__ (from tensorflow.python.training.queue_runner_impl) is deprecated and will be removed in a future version.\n",
      "Instructions for updating:\n",
      "To construct input pipelines, use the `tf.data` module.\n",
      "WARNING:tensorflow:From /Users/jiankaiwang/devops/pyenv/tfx/lib/python3.7/site-packages/tensorflow_estimator/python/estimator/inputs/queues/feeding_functions.py:500: add_queue_runner (from tensorflow.python.training.queue_runner_impl) is deprecated and will be removed in a future version.\n",
      "Instructions for updating:\n",
      "To construct input pipelines, use the `tf.data` module.\n",
      "INFO:tensorflow:Calling model_fn.\n",
      "INFO:tensorflow:Done calling model_fn.\n",
      "INFO:tensorflow:Create CheckpointSaverHook.\n",
      "WARNING:tensorflow:From /Users/jiankaiwang/devops/pyenv/tfx/lib/python3.7/site-packages/tensorflow/python/ops/array_ops.py:1354: add_dispatch_support.<locals>.wrapper (from tensorflow.python.ops.array_ops) is deprecated and will be removed in a future version.\n",
      "Instructions for updating:\n",
      "Use tf.where in 2.0, which has the same broadcast rule as np.where\n",
      "INFO:tensorflow:Graph was finalized.\n",
      "INFO:tensorflow:Running local_init_op.\n",
      "INFO:tensorflow:Done running local_init_op.\n",
      "WARNING:tensorflow:From /Users/jiankaiwang/devops/pyenv/tfx/lib/python3.7/site-packages/tensorflow/python/training/monitored_session.py:875: start_queue_runners (from tensorflow.python.training.queue_runner_impl) is deprecated and will be removed in a future version.\n",
      "Instructions for updating:\n",
      "To construct input pipelines, use the `tf.data` module.\n",
      "INFO:tensorflow:Saving checkpoints for 0 into /var/folders/4b/wh1nthj1563b1gl58ydgwnfw0000gp/T/tmpugbau_ba/model.ckpt.\n",
      "INFO:tensorflow:loss = 2.3351197, step = 1\n",
      "INFO:tensorflow:global_step/sec: 78.5751\n",
      "INFO:tensorflow:loss = 2.2912858, step = 101 (1.274 sec)\n",
      "INFO:tensorflow:Saving checkpoints for 200 into /var/folders/4b/wh1nthj1563b1gl58ydgwnfw0000gp/T/tmpugbau_ba/model.ckpt.\n",
      "INFO:tensorflow:Loss for final step: 2.2937706.\n"
     ]
    },
    {
     "data": {
      "text/plain": [
       "<tensorflow_estimator.python.estimator.estimator.Estimator at 0x13d5f2b00>"
      ]
     },
     "execution_count": 22,
     "metadata": {},
     "output_type": "execute_result"
    }
   ],
   "source": [
    "train_input_fn = tf.estimator.inputs.numpy_input_fn(\n",
    "    x={\"image\": train_images},\n",
    "    y=train_labels,\n",
    "    num_epochs=epochs,\n",
    "    shuffle=True, \n",
    "    batch_size=batch_size)\n",
    "\n",
    "# Train\n",
    "nn.train(input_fn=train_input_fn, steps=200)"
   ]
  },
  {
   "cell_type": "markdown",
   "metadata": {},
   "source": [
    "### Evaluating Model"
   ]
  },
  {
   "cell_type": "code",
   "execution_count": 23,
   "metadata": {},
   "outputs": [
    {
     "name": "stdout",
     "output_type": "stream",
     "text": [
      "(10000, 1)\n",
      "(10000, 1)\n"
     ]
    }
   ],
   "source": [
    "# image transformation from float32 to byte string\n",
    "_test_images = []\n",
    "\n",
    "for i in range(mnist.test.num_examples):\n",
    "    byte_data = mnist.test.images[i].astype(\"float32\").tobytes()\n",
    "    byte_data = Base64Converter(byte_data)\n",
    "    byte_string = np.array(byte_data).tostring()\n",
    "    _test_images.append(byte_string)\n",
    "\n",
    "test_images = np.array(_test_images, dtype='O')\n",
    "test_images = test_images.reshape([-1, 1])\n",
    "print(test_images.shape)\n",
    "\n",
    "# label transformation from float32 to byte string\n",
    "_test_labels = []\n",
    "\n",
    "for i in range(mnist.test.num_examples):\n",
    "    label_byte = mnist.test.labels[i].astype(\"float32\").tobytes()\n",
    "    label_byte = Base64Converter(label_byte)\n",
    "    _test_labels.append(label_byte)\n",
    "    \n",
    "test_labels = np.array(_test_labels, dtype=\"O\")\n",
    "test_labels = test_labels.reshape([-1, 1])\n",
    "print(test_labels.shape)"
   ]
  },
  {
   "cell_type": "code",
   "execution_count": 24,
   "metadata": {},
   "outputs": [
    {
     "name": "stdout",
     "output_type": "stream",
     "text": [
      "INFO:tensorflow:Calling model_fn.\n",
      "INFO:tensorflow:Done calling model_fn.\n",
      "INFO:tensorflow:Starting evaluation at 2019-12-04T18:05:21Z\n",
      "INFO:tensorflow:Graph was finalized.\n",
      "WARNING:tensorflow:From /Users/jiankaiwang/devops/pyenv/tfx/lib/python3.7/site-packages/tensorflow/python/training/saver.py:1276: checkpoint_exists (from tensorflow.python.training.checkpoint_management) is deprecated and will be removed in a future version.\n",
      "Instructions for updating:\n",
      "Use standard file APIs to check for files with this prefix.\n",
      "INFO:tensorflow:Restoring parameters from /var/folders/4b/wh1nthj1563b1gl58ydgwnfw0000gp/T/tmpugbau_ba/model.ckpt-200\n",
      "INFO:tensorflow:Running local_init_op.\n",
      "INFO:tensorflow:Done running local_init_op.\n",
      "INFO:tensorflow:Finished evaluation at 2019-12-04-18:05:21\n",
      "INFO:tensorflow:Saving dict for global step 200: accuracy = 0.1373, global_step = 200, loss = 2.2944782\n",
      "INFO:tensorflow:Saving 'checkpoint_path' summary for global step 200: /var/folders/4b/wh1nthj1563b1gl58ydgwnfw0000gp/T/tmpugbau_ba/model.ckpt-200\n",
      "Loss: 2.2944782\n",
      "Accuracy: 0.1373\n"
     ]
    }
   ],
   "source": [
    "# Score accuracy\n",
    "test_input_fn = tf.estimator.inputs.numpy_input_fn(\n",
    "    x={\"image\": test_images},\n",
    "    y=test_labels,\n",
    "    num_epochs=1,\n",
    "    shuffle=False)\n",
    "\n",
    "ev = nn.evaluate(input_fn=test_input_fn)\n",
    "print(\"Loss: %s\" % ev[\"loss\"])\n",
    "print(\"Accuracy: %s\" % ev[\"accuracy\"])"
   ]
  },
  {
   "cell_type": "markdown",
   "metadata": {},
   "source": [
    "## Prediction"
   ]
  },
  {
   "cell_type": "code",
   "execution_count": 25,
   "metadata": {},
   "outputs": [
    {
     "name": "stdout",
     "output_type": "stream",
     "text": [
      "INFO:tensorflow:Calling model_fn.\n",
      "INFO:tensorflow:Done calling model_fn.\n",
      "INFO:tensorflow:Graph was finalized.\n",
      "INFO:tensorflow:Restoring parameters from /var/folders/4b/wh1nthj1563b1gl58ydgwnfw0000gp/T/tmpugbau_ba/model.ckpt-200\n",
      "INFO:tensorflow:Running local_init_op.\n",
      "INFO:tensorflow:Done running local_init_op.\n",
      "Prediction (pred 2: 0.13284893): [0.09364577 0.09191748 0.13284893 0.09191748 0.09191748 0.09191748\n",
      " 0.09191748 0.09191748 0.09191748 0.13008298]\n"
     ]
    },
    {
     "data": {
      "image/png": "[encoded data removed]",
      "text/plain": [
       "<Figure size 432x288 with 1 Axes>"
      ]
     },
     "metadata": {
      "needs_background": "light"
     },
     "output_type": "display_data"
    }
   ],
   "source": [
    "used_index = 0\n",
    "pred_data = mnist.test.images[used_index].astype('float32').tobytes()\n",
    "pred_data = Base64Converter(pred_data)\n",
    "pred_data = np.array(pred_data, dtype=\"O\").reshape([-1, 1])\n",
    "\n",
    "plt.imshow(mnist.test.images[used_index].reshape(28, 28))\n",
    "\n",
    "# Print out predictions\n",
    "predict_input_fn = tf.estimator.inputs.numpy_input_fn(\n",
    "    x={\"image\": pred_data},\n",
    "    num_epochs=1,\n",
    "    shuffle=False)\n",
    "\n",
    "import struct\n",
    "predictions = nn.predict(input_fn=predict_input_fn)\n",
    "for _, p in enumerate(predictions):\n",
    "    pred_class = np.argmax(p[\"prob\"])\n",
    "    prob = p[\"prob\"][pred_class]\n",
    "    print(\"Prediction (pred %s: %s): %s\" % (pred_class, prob, p[\"prob\"]))"
   ]
  },
  {
   "cell_type": "markdown",
   "metadata": {},
   "source": [
    "## Model Export"
   ]
  },
  {
   "cell_type": "code",
   "execution_count": 30,
   "metadata": {},
   "outputs": [
    {
     "data": {
      "text/plain": [
       "ServingInputReceiver(features={'image': <tf.Tensor 'Placeholder_2:0' shape=(?, 1) dtype=string>}, receiver_tensors={'input': <tf.Tensor 'Placeholder_2:0' shape=(?, 1) dtype=string>}, receiver_tensors_alternatives=None)"
      ]
     },
     "execution_count": 30,
     "metadata": {},
     "output_type": "execute_result"
    }
   ],
   "source": [
    "def serving_input_receiver_fn():\n",
    "    \"\"\"Serving input_fn that builds features from placeholders\"\"\"\n",
    "    serialized_tf_example = tf.placeholder(dtype=tf.string, shape=[None, 1])\n",
    "    receiver_tensors = {'image': serialized_tf_example}\n",
    "    return tf.estimator.export.ServingInputReceiver(receiver_tensors, serialized_tf_example)\n",
    "\n",
    "serving_input_receiver_fn()"
   ]
  },
  {
   "cell_type": "code",
   "execution_count": 31,
   "metadata": {},
   "outputs": [
    {
     "name": "stdout",
     "output_type": "stream",
     "text": [
      "INFO:tensorflow:Calling model_fn.\n",
      "INFO:tensorflow:Done calling model_fn.\n",
      "WARNING:tensorflow:From /Users/jiankaiwang/devops/pyenv/tfx/lib/python3.7/site-packages/tensorflow/python/saved_model/signature_def_utils_impl.py:201: build_tensor_info (from tensorflow.python.saved_model.utils_impl) is deprecated and will be removed in a future version.\n",
      "Instructions for updating:\n",
      "This function will only be available through the v1 compatibility library as tf.compat.v1.saved_model.utils.build_tensor_info or tf.compat.v1.saved_model.build_tensor_info.\n",
      "INFO:tensorflow:Signatures INCLUDED in export for Classify: None\n",
      "INFO:tensorflow:Signatures INCLUDED in export for Regress: None\n",
      "INFO:tensorflow:Signatures INCLUDED in export for Predict: ['serving_default']\n",
      "INFO:tensorflow:Signatures INCLUDED in export for Train: None\n",
      "INFO:tensorflow:Signatures INCLUDED in export for Eval: None\n",
      "INFO:tensorflow:Restoring parameters from /var/folders/4b/wh1nthj1563b1gl58ydgwnfw0000gp/T/tmpugbau_ba/model.ckpt-200\n",
      "INFO:tensorflow:Assets added to graph.\n",
      "INFO:tensorflow:No assets to write.\n",
      "INFO:tensorflow:SavedModel written to: /Users/jiankaiwang/Desktop/TFE_SavedModel/temp-b'1575454152'/saved_model.pb\n",
      "/Users/jiankaiwang/Desktop/TFE_SavedModel/1575454152\n"
     ]
    }
   ],
   "source": [
    "if os.path.exists(\"/Users/jiankaiwang/Desktop/TFE_SavedModel/\"):\n",
    "    exported_name = nn.export_saved_model(\"/Users/jiankaiwang/Desktop/TFE_SavedModel/\", serving_input_receiver_fn)\n",
    "else:\n",
    "    exported_name = nn.export_saved_model(\"/tmp/TFE_SavedModel/\", serving_input_receiver_fn)\n",
    "    \n",
    "outmodel = exported_name.decode(\"UTF-8\")\n",
    "print(outmodel)"
   ]
  },
  {
   "cell_type": "code",
   "execution_count": 32,
   "metadata": {},
   "outputs": [
    {
     "name": "stdout",
     "output_type": "stream",
     "text": [
      "/Users/jiankaiwang/devops/pyenv/tfx/lib/python3.7/site-packages/tensorflow/python/framework/dtypes.py:516: FutureWarning: Passing (type, 1) or '1type' as a synonym of type is deprecated; in a future version of numpy, it will be understood as (type, (1,)) / '(1,)type'.\n",
      "  _np_qint8 = np.dtype([(\"qint8\", np.int8, 1)])\n",
      "/Users/jiankaiwang/devops/pyenv/tfx/lib/python3.7/site-packages/tensorflow/python/framework/dtypes.py:517: FutureWarning: Passing (type, 1) or '1type' as a synonym of type is deprecated; in a future version of numpy, it will be understood as (type, (1,)) / '(1,)type'.\n",
      "  _np_quint8 = np.dtype([(\"quint8\", np.uint8, 1)])\n",
      "/Users/jiankaiwang/devops/pyenv/tfx/lib/python3.7/site-packages/tensorflow/python/framework/dtypes.py:518: FutureWarning: Passing (type, 1) or '1type' as a synonym of type is deprecated; in a future version of numpy, it will be understood as (type, (1,)) / '(1,)type'.\n",
      "  _np_qint16 = np.dtype([(\"qint16\", np.int16, 1)])\n",
      "/Users/jiankaiwang/devops/pyenv/tfx/lib/python3.7/site-packages/tensorflow/python/framework/dtypes.py:519: FutureWarning: Passing (type, 1) or '1type' as a synonym of type is deprecated; in a future version of numpy, it will be understood as (type, (1,)) / '(1,)type'.\n",
      "  _np_quint16 = np.dtype([(\"quint16\", np.uint16, 1)])\n",
      "/Users/jiankaiwang/devops/pyenv/tfx/lib/python3.7/site-packages/tensorflow/python/framework/dtypes.py:520: FutureWarning: Passing (type, 1) or '1type' as a synonym of type is deprecated; in a future version of numpy, it will be understood as (type, (1,)) / '(1,)type'.\n",
      "  _np_qint32 = np.dtype([(\"qint32\", np.int32, 1)])\n",
      "/Users/jiankaiwang/devops/pyenv/tfx/lib/python3.7/site-packages/tensorflow/python/framework/dtypes.py:525: FutureWarning: Passing (type, 1) or '1type' as a synonym of type is deprecated; in a future version of numpy, it will be understood as (type, (1,)) / '(1,)type'.\n",
      "  np_resource = np.dtype([(\"resource\", np.ubyte, 1)])\n",
      "/Users/jiankaiwang/devops/pyenv/tfx/lib/python3.7/site-packages/tensorboard/compat/tensorflow_stub/dtypes.py:541: FutureWarning: Passing (type, 1) or '1type' as a synonym of type is deprecated; in a future version of numpy, it will be understood as (type, (1,)) / '(1,)type'.\n",
      "  _np_qint8 = np.dtype([(\"qint8\", np.int8, 1)])\n",
      "/Users/jiankaiwang/devops/pyenv/tfx/lib/python3.7/site-packages/tensorboard/compat/tensorflow_stub/dtypes.py:542: FutureWarning: Passing (type, 1) or '1type' as a synonym of type is deprecated; in a future version of numpy, it will be understood as (type, (1,)) / '(1,)type'.\n",
      "  _np_quint8 = np.dtype([(\"quint8\", np.uint8, 1)])\n",
      "/Users/jiankaiwang/devops/pyenv/tfx/lib/python3.7/site-packages/tensorboard/compat/tensorflow_stub/dtypes.py:543: FutureWarning: Passing (type, 1) or '1type' as a synonym of type is deprecated; in a future version of numpy, it will be understood as (type, (1,)) / '(1,)type'.\n",
      "  _np_qint16 = np.dtype([(\"qint16\", np.int16, 1)])\n",
      "/Users/jiankaiwang/devops/pyenv/tfx/lib/python3.7/site-packages/tensorboard/compat/tensorflow_stub/dtypes.py:544: FutureWarning: Passing (type, 1) or '1type' as a synonym of type is deprecated; in a future version of numpy, it will be understood as (type, (1,)) / '(1,)type'.\n",
      "  _np_quint16 = np.dtype([(\"quint16\", np.uint16, 1)])\n",
      "/Users/jiankaiwang/devops/pyenv/tfx/lib/python3.7/site-packages/tensorboard/compat/tensorflow_stub/dtypes.py:545: FutureWarning: Passing (type, 1) or '1type' as a synonym of type is deprecated; in a future version of numpy, it will be understood as (type, (1,)) / '(1,)type'.\n",
      "  _np_qint32 = np.dtype([(\"qint32\", np.int32, 1)])\n",
      "/Users/jiankaiwang/devops/pyenv/tfx/lib/python3.7/site-packages/tensorboard/compat/tensorflow_stub/dtypes.py:550: FutureWarning: Passing (type, 1) or '1type' as a synonym of type is deprecated; in a future version of numpy, it will be understood as (type, (1,)) / '(1,)type'.\n",
      "  np_resource = np.dtype([(\"resource\", np.ubyte, 1)])\n",
      "The given SavedModel SignatureDef contains the following input(s):\n",
      "  inputs['input'] tensor_info:\n",
      "      dtype: DT_STRING\n",
      "      shape: (-1, 1)\n",
      "      name: Placeholder:0\n",
      "The given SavedModel SignatureDef contains the following output(s):\n",
      "  outputs['output'] tensor_info:\n",
      "      dtype: DT_FLOAT\n",
      "      shape: (-1, 10)\n",
      "      name: output/Relu:0\n",
      "  outputs['prob'] tensor_info:\n",
      "      dtype: DT_FLOAT\n",
      "      shape: (-1, 10)\n",
      "      name: prob:0\n",
      "Method name is: tensorflow/serving/predict\n"
     ]
    }
   ],
   "source": [
    "!saved_model_cli show --dir /Users/jiankaiwang/Desktop/TFE_SavedModel/1575454152 --tag_set serve --signature_def serving_default"
   ]
  },
  {
   "cell_type": "markdown",
   "metadata": {},
   "source": [
    "## Restful API requests for Prediction"
   ]
  },
  {
   "cell_type": "code",
   "execution_count": 33,
   "metadata": {},
   "outputs": [],
   "source": [
    "import json\n",
    "import requests\n",
    "import os\n",
    "import tensorflow as tf\n",
    "from tensorflow.examples.tutorials.mnist import input_data\n",
    "import base64\n",
    "import numpy as np"
   ]
  },
  {
   "cell_type": "code",
   "execution_count": 34,
   "metadata": {},
   "outputs": [
    {
     "name": "stdout",
     "output_type": "stream",
     "text": [
      "Extracting /Users/jiankaiwang/devops/tmp/MNIST_data/train-images-idx3-ubyte.gz\n",
      "Extracting /Users/jiankaiwang/devops/tmp/MNIST_data/train-labels-idx1-ubyte.gz\n",
      "Extracting /Users/jiankaiwang/devops/tmp/MNIST_data/t10k-images-idx3-ubyte.gz\n",
      "Extracting /Users/jiankaiwang/devops/tmp/MNIST_data/t10k-labels-idx1-ubyte.gz\n"
     ]
    }
   ],
   "source": [
    "if os.path.exists(\"/Users/jiankaiwang/devops/tmp/MNIST_data/\"):\n",
    "  mnist = input_data.read_data_sets(\"/Users/jiankaiwang/devops/tmp/MNIST_data/\", one_hot=True)\n",
    "else:\n",
    "  mnist = input_data.read_data_sets(\"/tmp/MNIST_data/\", one_hot=True)"
   ]
  },
  {
   "cell_type": "code",
   "execution_count": 35,
   "metadata": {},
   "outputs": [],
   "source": [
    "def Base64Converter(byte_string):\n",
    "    _byteStr = base64.b64encode(byte_string)\n",
    "    return _byteStr[:-2].replace(b\"+\", b\"-\").replace(b\"/\", b\"_\")\n",
    "\n",
    "def Base64ConverterOri(byte_string):\n",
    "    _byteStr = base64.b64encode(byte_string)\n",
    "    return _byteStr"
   ]
  },
  {
   "cell_type": "code",
   "execution_count": 56,
   "metadata": {},
   "outputs": [
    {
     "data": {
      "image/png": "[encoded data removed]",
      "text/plain": [
       "<Figure size 432x288 with 1 Axes>"
      ]
     },
     "metadata": {
      "needs_background": "light"
     },
     "output_type": "display_data"
    },
    {
     "name": "stdout",
     "output_type": "stream",
     "text": [
      "Label: 7\n"
     ]
    }
   ],
   "source": [
    "use_idx = 0\n",
    "\n",
    "# must be inputs (vector) or instances (list)\n",
    "b64eUTF8Ori = Base64Converter(mnist.test.images[use_idx].tobytes()).decode('UTF-8')\n",
    "my_data = {\"instances\": []}\n",
    "my_data[\"instances\"].append([b64eUTF8Ori])\n",
    "\n",
    "plt.imshow(mnist.test.images[use_idx].reshape(28, 28), cmap='gray')\n",
    "plt.show()\n",
    "\n",
    "print(\"Label: {}\".format(np.argmax(mnist.test.labels[use_idx])))\n",
    "#print(\"Sent data: {}\".format(my_data))"
   ]
  },
  {
   "cell_type": "code",
   "execution_count": 61,
   "metadata": {},
   "outputs": [
    {
     "data": {
      "text/plain": [
       "'\\n# or you can use the default base64 converter in tensorflow\\ndef ImgBase64(byteData):\\n  tf.reset_default_graph()\\n  with tf.Graph().as_default():\\n    inputs = tf.placeholder(tf.string)\\n    base64Encode = tf.io.encode_base64(inputs)\\n    with tf.Session() as sess:\\n      outputs = sess.run(base64Encode, feed_dict={inputs: byteData})\\n    return outputs\\n\\nb64e = ImgBase64(mnist.test.images[0].tobytes())\\nb64eUTF8 = b64e.decode(\"UTF-8\")\\n\\nmy_data = {\"instances\": []}\\nmy_data[\"instances\"].append([b64eUTF8])\\n'"
      ]
     },
     "execution_count": 61,
     "metadata": {},
     "output_type": "execute_result"
    }
   ],
   "source": [
    "\"\"\"\n",
    "# or you can use the default base64 converter in tensorflow\n",
    "def ImgBase64(byteData):\n",
    "  tf.reset_default_graph()\n",
    "  with tf.Graph().as_default():\n",
    "    inputs = tf.placeholder(tf.string)\n",
    "    base64Encode = tf.io.encode_base64(inputs)\n",
    "    with tf.Session() as sess:\n",
    "      outputs = sess.run(base64Encode, feed_dict={inputs: byteData})\n",
    "    return outputs\n",
    "\n",
    "b64e = ImgBase64(mnist.test.images[0].tobytes())\n",
    "b64eUTF8 = b64e.decode(\"UTF-8\")\n",
    "\n",
    "my_data = {\"instances\": []}\n",
    "my_data[\"instances\"].append([b64eUTF8])\n",
    "\"\"\""
   ]
  },
  {
   "cell_type": "markdown",
   "metadata": {},
   "source": [
    "Use the default base64 converter in tensorflow."
   ]
  },
  {
   "cell_type": "code",
   "execution_count": 62,
   "metadata": {},
   "outputs": [
    {
     "name": "stdout",
     "output_type": "stream",
     "text": [
      "200 b'{\\n    \"predictions\": [\\n        {\\n            \"output\": [0.0186281614, 0.0, 0.368321508, 0.0, 0.0, 0.0, 0.0, 0.0, 0.0, 0.347281367],\\n            \"prob\": [0.0936457738, 0.0919174775, 0.132848933, 0.0919174775, 0.0919174775, 0.0919174775, 0.0919174775, 0.0919174775, 0.0919174775, 0.13008298]\\n        }\\n    ]\\n}'\n"
     ]
    }
   ],
   "source": [
    "serving_url = \"http://localhost:8501/v1/models/TFE_SavedModel:predict\"\n",
    "\n",
    "r = requests.post(serving_url,\n",
    "                  data=json.dumps(my_data),\n",
    "                  headers={'Content-Type': 'application/octet-stream'})\n",
    "print(r.status_code, r.content)"
   ]
  },
  {
   "cell_type": "markdown",
   "metadata": {},
   "source": [
    "## Read the tfrecords"
   ]
  },
  {
   "cell_type": "code",
   "execution_count": 101,
   "metadata": {},
   "outputs": [],
   "source": [
    "def read_and_decode(filename_queue):\n",
    "    # create a tfrecord object\n",
    "    reader = tf.TFRecordReader()\n",
    "    _, serialized_example = reader.read(filename_queue)\n",
    "    \n",
    "    # decode the example\n",
    "    features = tf.parse_single_example(serialized_example,\\\n",
    "                features={'image':tf.FixedLenFeature([], tf.string)\\\n",
    "                          , 'label':tf.FixedLenFeature([], tf.string)})\n",
    "    \n",
    "    label = tf.io.decode_base64(features[\"label\"])\n",
    "    label = tf.io.decode_raw(label, tf.float32)\n",
    "    \n",
    "    # it must decode byteslist from string type to uint8 type\n",
    "    image = tf.io.decode_base64(features[\"image\"])\n",
    "    image = tf.io.decode_raw(image, tf.float32)\n",
    "    return image, label"
   ]
  },
  {
   "cell_type": "code",
   "execution_count": 102,
   "metadata": {},
   "outputs": [
    {
     "name": "stdout",
     "output_type": "stream",
     "text": [
      "WARNING:tensorflow:From <ipython-input-102-a37869a9f60d>:7: string_input_producer (from tensorflow.python.training.input) is deprecated and will be removed in a future version.\n",
      "Instructions for updating:\n",
      "Queue-based input pipelines have been replaced by `tf.data`. Use `tf.data.Dataset.from_tensor_slices(string_tensor).shuffle(tf.shape(input_tensor, out_type=tf.int64)[0]).repeat(num_epochs)`. If `shuffle=False`, omit the `.shuffle(...)`.\n"
     ]
    },
    {
     "name": "stderr",
     "output_type": "stream",
     "text": [
      "WARNING:tensorflow:From <ipython-input-102-a37869a9f60d>:7: string_input_producer (from tensorflow.python.training.input) is deprecated and will be removed in a future version.\n",
      "Instructions for updating:\n",
      "Queue-based input pipelines have been replaced by `tf.data`. Use `tf.data.Dataset.from_tensor_slices(string_tensor).shuffle(tf.shape(input_tensor, out_type=tf.int64)[0]).repeat(num_epochs)`. If `shuffle=False`, omit the `.shuffle(...)`.\n"
     ]
    },
    {
     "name": "stdout",
     "output_type": "stream",
     "text": [
      "WARNING:tensorflow:From /Users/jiankaiwang/devops/pyenv/tfx/lib/python3.7/site-packages/tensorflow/python/training/input.py:278: input_producer (from tensorflow.python.training.input) is deprecated and will be removed in a future version.\n",
      "Instructions for updating:\n",
      "Queue-based input pipelines have been replaced by `tf.data`. Use `tf.data.Dataset.from_tensor_slices(input_tensor).shuffle(tf.shape(input_tensor, out_type=tf.int64)[0]).repeat(num_epochs)`. If `shuffle=False`, omit the `.shuffle(...)`.\n"
     ]
    },
    {
     "name": "stderr",
     "output_type": "stream",
     "text": [
      "WARNING:tensorflow:From /Users/jiankaiwang/devops/pyenv/tfx/lib/python3.7/site-packages/tensorflow/python/training/input.py:278: input_producer (from tensorflow.python.training.input) is deprecated and will be removed in a future version.\n",
      "Instructions for updating:\n",
      "Queue-based input pipelines have been replaced by `tf.data`. Use `tf.data.Dataset.from_tensor_slices(input_tensor).shuffle(tf.shape(input_tensor, out_type=tf.int64)[0]).repeat(num_epochs)`. If `shuffle=False`, omit the `.shuffle(...)`.\n"
     ]
    },
    {
     "name": "stdout",
     "output_type": "stream",
     "text": [
      "WARNING:tensorflow:From /Users/jiankaiwang/devops/pyenv/tfx/lib/python3.7/site-packages/tensorflow/python/training/input.py:190: limit_epochs (from tensorflow.python.training.input) is deprecated and will be removed in a future version.\n",
      "Instructions for updating:\n",
      "Queue-based input pipelines have been replaced by `tf.data`. Use `tf.data.Dataset.from_tensors(tensor).repeat(num_epochs)`.\n"
     ]
    },
    {
     "name": "stderr",
     "output_type": "stream",
     "text": [
      "WARNING:tensorflow:From /Users/jiankaiwang/devops/pyenv/tfx/lib/python3.7/site-packages/tensorflow/python/training/input.py:190: limit_epochs (from tensorflow.python.training.input) is deprecated and will be removed in a future version.\n",
      "Instructions for updating:\n",
      "Queue-based input pipelines have been replaced by `tf.data`. Use `tf.data.Dataset.from_tensors(tensor).repeat(num_epochs)`.\n"
     ]
    },
    {
     "name": "stdout",
     "output_type": "stream",
     "text": [
      "WARNING:tensorflow:From <ipython-input-101-32dea344fc89>:3: TFRecordReader.__init__ (from tensorflow.python.ops.io_ops) is deprecated and will be removed in a future version.\n",
      "Instructions for updating:\n",
      "Queue-based input pipelines have been replaced by `tf.data`. Use `tf.data.TFRecordDataset`.\n"
     ]
    },
    {
     "name": "stderr",
     "output_type": "stream",
     "text": [
      "WARNING:tensorflow:From <ipython-input-101-32dea344fc89>:3: TFRecordReader.__init__ (from tensorflow.python.ops.io_ops) is deprecated and will be removed in a future version.\n",
      "Instructions for updating:\n",
      "Queue-based input pipelines have been replaced by `tf.data`. Use `tf.data.TFRecordDataset`.\n"
     ]
    },
    {
     "name": "stdout",
     "output_type": "stream",
     "text": [
      "[0. 0. 0. 0. 0. 0. 0. 1. 0. 0.]\n",
      "[0. 0. 1. 0. 0. 0. 0. 0. 0. 0.]\n",
      "[0. 1. 0. 0. 0. 0. 0. 0. 0. 0.]\n",
      "INFO:tensorflow:Error reported to Coordinator: <class 'tensorflow.python.framework.errors_impl.CancelledError'>, Enqueue operation was cancelled\n",
      "\t [[{{node input/input_producer/input_producer_EnqueueMany}}]]\n"
     ]
    },
    {
     "name": "stderr",
     "output_type": "stream",
     "text": [
      "INFO:tensorflow:Error reported to Coordinator: <class 'tensorflow.python.framework.errors_impl.CancelledError'>, Enqueue operation was cancelled\n",
      "\t [[{{node input/input_producer/input_producer_EnqueueMany}}]]\n"
     ]
    }
   ],
   "source": [
    "tf.reset_default_graph()\n",
    "\n",
    "with tf.name_scope('input'):\n",
    "    # return a QueueRunner object and FIFOQueue object inside in\n",
    "    filename_queue = tf.train.string_input_producer(\n",
    "        [\"/Users/jiankaiwang/Desktop/mnist_test.tfrecord\"], \n",
    "        num_epochs=None)\n",
    "    \n",
    "    image, label = read_and_decode(filename_queue)\n",
    "    \n",
    "    with tf.Session() as sess:\n",
    "\n",
    "        # because one epoch variable is built inside string_input_produer (image_raw)\n",
    "        # and the variable is belonging to tf.GraphKeys.LOCAL_VARIABLES\n",
    "        # tf.local_variables_initializer() is necessary\n",
    "        init_op = tf.group(tf.global_variables_initializer(), tf.local_variables_initializer())\n",
    "        sess.run(init_op)\n",
    "\n",
    "        coord=tf.train.Coordinator()\n",
    "        threads= tf.train.start_queue_runners(coord=coord)\n",
    "        \n",
    "        for i in range(0, 3, 1):\n",
    "            img, lbl = sess.run([image, label])\n",
    "            print(lbl)"
   ]
  },
  {
   "cell_type": "code",
   "execution_count": null,
   "metadata": {},
   "outputs": [],
   "source": []
  }
 ],
 "metadata": {
  "kernelspec": {
   "display_name": "Python 3",
   "language": "python",
   "name": "python3"
  },
  "language_info": {
   "codemirror_mode": {
    "name": "ipython",
    "version": 3
   },
   "file_extension": ".py",
   "mimetype": "text/x-python",
   "name": "python",
   "nbconvert_exporter": "python",
   "pygments_lexer": "ipython3",
   "version": "3.7.3"
  }
 },
 "nbformat": 4,
 "nbformat_minor": 2
}
