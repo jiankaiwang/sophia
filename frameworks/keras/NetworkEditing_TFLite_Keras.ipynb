{
 "cells": [
  {
   "cell_type": "code",
   "execution_count": 39,
   "metadata": {},
   "outputs": [
    {
     "name": "stdout",
     "output_type": "stream",
     "text": [
      "Keras version: 2.1.6\n"
     ]
    }
   ],
   "source": [
    "import keras\n",
    "from keras.utils import np_utils\n",
    "from keras.datasets import mnist\n",
    "import numpy as np\n",
    "import os\n",
    "import sys\n",
    "from keras.models import Sequential\n",
    "from keras.layers import Dense, Activation, Flatten, Dropout, MaxPooling2D, Conv2D, BatchNormalization\n",
    "from keras.models import save_model, load_model\n",
    "import keras.backend as K\n",
    "import matplotlib.pyplot as plt\n",
    "from keras.models import Model\n",
    "from collections import OrderedDict\n",
    "\n",
    "print(\"Keras version: {}\".format(keras.__version__))"
   ]
  },
  {
   "cell_type": "code",
   "execution_count": 2,
   "metadata": {},
   "outputs": [
    {
     "name": "stderr",
     "output_type": "stream",
     "text": [
      "Python 3.5.4 :: Anaconda custom (64-bit)\n"
     ]
    }
   ],
   "source": [
    "!python --version"
   ]
  },
  {
   "cell_type": "markdown",
   "metadata": {},
   "source": [
    "# Data Preparation"
   ]
  },
  {
   "cell_type": "code",
   "execution_count": 3,
   "metadata": {},
   "outputs": [],
   "source": [
    "(x_train, y_train), (x_test, y_test) = mnist.load_data(path=os.path.join('.','keras_mnist'))"
   ]
  },
  {
   "cell_type": "code",
   "execution_count": 4,
   "metadata": {},
   "outputs": [
    {
     "data": {
      "text/plain": [
       "numpy.ndarray"
      ]
     },
     "execution_count": 4,
     "metadata": {},
     "output_type": "execute_result"
    }
   ],
   "source": [
    "type(x_train)"
   ]
  },
  {
   "cell_type": "code",
   "execution_count": 5,
   "metadata": {},
   "outputs": [
    {
     "data": {
      "text/plain": [
       "(60000, 28, 28)"
      ]
     },
     "execution_count": 5,
     "metadata": {},
     "output_type": "execute_result"
    }
   ],
   "source": [
    "x_train.shape"
   ]
  },
  {
   "cell_type": "code",
   "execution_count": 6,
   "metadata": {},
   "outputs": [
    {
     "data": {
      "text/plain": [
       "array([[  0,   0,   0,   0,   0,   0,   0,   0,   0,   0,   0,   0,   0,\n",
       "          0,   0,   0,   0,   0,   0,   0,   0,   0,   0,   0,   0,   0,\n",
       "          0,   0],\n",
       "       [  0,   0,   0,   0,   0,   0,   0,   0,   0,   0,   0,   0,   0,\n",
       "          0,   0,   0,   0,   0,   0,   0,   0,   0,   0,   0,   0,   0,\n",
       "          0,   0],\n",
       "       [  0,   0,   0,   0,   0,   0,   0,   0,   0,   0,   0,   0,   0,\n",
       "          0,   0,   0,   0,   0,   0,   0,   0,   0,   0,   0,   0,   0,\n",
       "          0,   0],\n",
       "       [  0,   0,   0,   0,   0,   0,   0,   0,   0,   0,   0,   0,   0,\n",
       "          0,   0,   0,   0,   0,   0,   0,   0,   0,   0,   0,   0,   0,\n",
       "          0,   0],\n",
       "       [  0,   0,   0,   0,   0,   0,   0,   0,   0,   0,   0,   0,   0,\n",
       "          0,   0,   0,   0,   0,   0,   0,   0,   0,   0,   0,   0,   0,\n",
       "          0,   0],\n",
       "       [  0,   0,   0,   0,   0,   0,   0,   0,   0,   0,   0,   0,   3,\n",
       "         18,  18,  18, 126, 136, 175,  26, 166, 255, 247, 127,   0,   0,\n",
       "          0,   0],\n",
       "       [  0,   0,   0,   0,   0,   0,   0,   0,  30,  36,  94, 154, 170,\n",
       "        253, 253, 253, 253, 253, 225, 172, 253, 242, 195,  64,   0,   0,\n",
       "          0,   0],\n",
       "       [  0,   0,   0,   0,   0,   0,   0,  49, 238, 253, 253, 253, 253,\n",
       "        253, 253, 253, 253, 251,  93,  82,  82,  56,  39,   0,   0,   0,\n",
       "          0,   0],\n",
       "       [  0,   0,   0,   0,   0,   0,   0,  18, 219, 253, 253, 253, 253,\n",
       "        253, 198, 182, 247, 241,   0,   0,   0,   0,   0,   0,   0,   0,\n",
       "          0,   0],\n",
       "       [  0,   0,   0,   0,   0,   0,   0,   0,  80, 156, 107, 253, 253,\n",
       "        205,  11,   0,  43, 154,   0,   0,   0,   0,   0,   0,   0,   0,\n",
       "          0,   0],\n",
       "       [  0,   0,   0,   0,   0,   0,   0,   0,   0,  14,   1, 154, 253,\n",
       "         90,   0,   0,   0,   0,   0,   0,   0,   0,   0,   0,   0,   0,\n",
       "          0,   0],\n",
       "       [  0,   0,   0,   0,   0,   0,   0,   0,   0,   0,   0, 139, 253,\n",
       "        190,   2,   0,   0,   0,   0,   0,   0,   0,   0,   0,   0,   0,\n",
       "          0,   0],\n",
       "       [  0,   0,   0,   0,   0,   0,   0,   0,   0,   0,   0,  11, 190,\n",
       "        253,  70,   0,   0,   0,   0,   0,   0,   0,   0,   0,   0,   0,\n",
       "          0,   0],\n",
       "       [  0,   0,   0,   0,   0,   0,   0,   0,   0,   0,   0,   0,  35,\n",
       "        241, 225, 160, 108,   1,   0,   0,   0,   0,   0,   0,   0,   0,\n",
       "          0,   0],\n",
       "       [  0,   0,   0,   0,   0,   0,   0,   0,   0,   0,   0,   0,   0,\n",
       "         81, 240, 253, 253, 119,  25,   0,   0,   0,   0,   0,   0,   0,\n",
       "          0,   0],\n",
       "       [  0,   0,   0,   0,   0,   0,   0,   0,   0,   0,   0,   0,   0,\n",
       "          0,  45, 186, 253, 253, 150,  27,   0,   0,   0,   0,   0,   0,\n",
       "          0,   0],\n",
       "       [  0,   0,   0,   0,   0,   0,   0,   0,   0,   0,   0,   0,   0,\n",
       "          0,   0,  16,  93, 252, 253, 187,   0,   0,   0,   0,   0,   0,\n",
       "          0,   0],\n",
       "       [  0,   0,   0,   0,   0,   0,   0,   0,   0,   0,   0,   0,   0,\n",
       "          0,   0,   0,   0, 249, 253, 249,  64,   0,   0,   0,   0,   0,\n",
       "          0,   0],\n",
       "       [  0,   0,   0,   0,   0,   0,   0,   0,   0,   0,   0,   0,   0,\n",
       "          0,  46, 130, 183, 253, 253, 207,   2,   0,   0,   0,   0,   0,\n",
       "          0,   0],\n",
       "       [  0,   0,   0,   0,   0,   0,   0,   0,   0,   0,   0,   0,  39,\n",
       "        148, 229, 253, 253, 253, 250, 182,   0,   0,   0,   0,   0,   0,\n",
       "          0,   0],\n",
       "       [  0,   0,   0,   0,   0,   0,   0,   0,   0,   0,  24, 114, 221,\n",
       "        253, 253, 253, 253, 201,  78,   0,   0,   0,   0,   0,   0,   0,\n",
       "          0,   0],\n",
       "       [  0,   0,   0,   0,   0,   0,   0,   0,  23,  66, 213, 253, 253,\n",
       "        253, 253, 198,  81,   2,   0,   0,   0,   0,   0,   0,   0,   0,\n",
       "          0,   0],\n",
       "       [  0,   0,   0,   0,   0,   0,  18, 171, 219, 253, 253, 253, 253,\n",
       "        195,  80,   9,   0,   0,   0,   0,   0,   0,   0,   0,   0,   0,\n",
       "          0,   0],\n",
       "       [  0,   0,   0,   0,  55, 172, 226, 253, 253, 253, 253, 244, 133,\n",
       "         11,   0,   0,   0,   0,   0,   0,   0,   0,   0,   0,   0,   0,\n",
       "          0,   0],\n",
       "       [  0,   0,   0,   0, 136, 253, 253, 253, 212, 135, 132,  16,   0,\n",
       "          0,   0,   0,   0,   0,   0,   0,   0,   0,   0,   0,   0,   0,\n",
       "          0,   0],\n",
       "       [  0,   0,   0,   0,   0,   0,   0,   0,   0,   0,   0,   0,   0,\n",
       "          0,   0,   0,   0,   0,   0,   0,   0,   0,   0,   0,   0,   0,\n",
       "          0,   0],\n",
       "       [  0,   0,   0,   0,   0,   0,   0,   0,   0,   0,   0,   0,   0,\n",
       "          0,   0,   0,   0,   0,   0,   0,   0,   0,   0,   0,   0,   0,\n",
       "          0,   0],\n",
       "       [  0,   0,   0,   0,   0,   0,   0,   0,   0,   0,   0,   0,   0,\n",
       "          0,   0,   0,   0,   0,   0,   0,   0,   0,   0,   0,   0,   0,\n",
       "          0,   0]], dtype=uint8)"
      ]
     },
     "execution_count": 6,
     "metadata": {},
     "output_type": "execute_result"
    }
   ],
   "source": [
    "x_train[0]"
   ]
  },
  {
   "cell_type": "code",
   "execution_count": 7,
   "metadata": {},
   "outputs": [
    {
     "data": {
      "text/plain": [
       "array([5, 0, 4, ..., 5, 6, 8], dtype=uint8)"
      ]
     },
     "execution_count": 7,
     "metadata": {},
     "output_type": "execute_result"
    }
   ],
   "source": [
    "y_train"
   ]
  },
  {
   "cell_type": "markdown",
   "metadata": {},
   "source": [
    "# Model"
   ]
  },
  {
   "cell_type": "code",
   "execution_count": 8,
   "metadata": {
    "collapsed": true
   },
   "outputs": [],
   "source": [
    "batch_size = 128\n",
    "nb_classes = 10\n",
    "nb_epoch = 1\n",
    "\n",
    "img_rows, img_cols = 28, 28\n",
    "pool_size = (2,2)\n",
    "kernel_size = (3,3)"
   ]
  },
  {
   "cell_type": "code",
   "execution_count": 9,
   "metadata": {
    "collapsed": true
   },
   "outputs": [],
   "source": [
    "# (sample_num, row, col, channel)\n",
    "x_train = x_train.reshape(x_train.shape[0], img_rows, img_cols, 1)\n",
    "x_test = x_test.reshape(x_test.shape[0], img_rows, img_cols, 1)\n",
    "input_shape = (img_rows, img_cols, 1)\n",
    "\n",
    "x_train = x_train.astype('float32')\n",
    "x_test = x_test.astype('float32')\n",
    "x_train /= 255.\n",
    "x_test /= 255.\n",
    "\n",
    "# one-hot encoding\n",
    "# e.g. array([0., 0., 0., 0., 0., 1., 0., 0., 0., 0.])\n",
    "y_train = np_utils.to_categorical(y_train, nb_classes)\n",
    "y_test = np_utils.to_categorical(y_test, nb_classes)"
   ]
  },
  {
   "cell_type": "code",
   "execution_count": 10,
   "metadata": {},
   "outputs": [],
   "source": [
    "model = Sequential()\n",
    "\n",
    "# first convolutional layer\n",
    "model.add(Conv2D(32, (kernel_size[0], kernel_size[1]), padding='valid', input_shape=input_shape))\n",
    "model.add(BatchNormalization(momentum=0.99, epsilon=0.001))\n",
    "model.add(Activation('relu'))\n",
    "\n",
    "# second convolutional layer\n",
    "model.add(Conv2D(32, (kernel_size[0], kernel_size[1])))\n",
    "model.add(BatchNormalization(momentum=0.99, epsilon=0.001))\n",
    "model.add(Activation('relu'))\n",
    "\n",
    "# max pooling layer\n",
    "model.add(MaxPooling2D(pool_size=pool_size))\n",
    "\n",
    "# flatten\n",
    "model.add(Flatten())\n",
    "\n",
    "# First Dense layer (FC 1)\n",
    "model.add(Dense(128))\n",
    "model.add(BatchNormalization(momentum=0.99, epsilon=0.001))\n",
    "model.add(Activation('relu'))\n",
    "\n",
    "# Second Dense Layer (FC 2)\n",
    "model.add(Dense(nb_classes))\n",
    "model.add(Activation('softmax'))"
   ]
  },
  {
   "cell_type": "code",
   "execution_count": 11,
   "metadata": {},
   "outputs": [
    {
     "name": "stdout",
     "output_type": "stream",
     "text": [
      "_________________________________________________________________\n",
      "Layer (type)                 Output Shape              Param #   \n",
      "=================================================================\n",
      "conv2d_1 (Conv2D)            (None, 26, 26, 32)        320       \n",
      "_________________________________________________________________\n",
      "batch_normalization_1 (Batch (None, 26, 26, 32)        128       \n",
      "_________________________________________________________________\n",
      "activation_1 (Activation)    (None, 26, 26, 32)        0         \n",
      "_________________________________________________________________\n",
      "conv2d_2 (Conv2D)            (None, 24, 24, 32)        9248      \n",
      "_________________________________________________________________\n",
      "batch_normalization_2 (Batch (None, 24, 24, 32)        128       \n",
      "_________________________________________________________________\n",
      "activation_2 (Activation)    (None, 24, 24, 32)        0         \n",
      "_________________________________________________________________\n",
      "max_pooling2d_1 (MaxPooling2 (None, 12, 12, 32)        0         \n",
      "_________________________________________________________________\n",
      "flatten_1 (Flatten)          (None, 4608)              0         \n",
      "_________________________________________________________________\n",
      "dense_1 (Dense)              (None, 128)               589952    \n",
      "_________________________________________________________________\n",
      "batch_normalization_3 (Batch (None, 128)               512       \n",
      "_________________________________________________________________\n",
      "activation_3 (Activation)    (None, 128)               0         \n",
      "_________________________________________________________________\n",
      "dense_2 (Dense)              (None, 10)                1290      \n",
      "_________________________________________________________________\n",
      "activation_4 (Activation)    (None, 10)                0         \n",
      "=================================================================\n",
      "Total params: 601,578\n",
      "Trainable params: 601,194\n",
      "Non-trainable params: 384\n",
      "_________________________________________________________________\n"
     ]
    }
   ],
   "source": [
    "model.summary()"
   ]
  },
  {
   "cell_type": "markdown",
   "metadata": {},
   "source": [
    "# Learning"
   ]
  },
  {
   "cell_type": "markdown",
   "metadata": {},
   "source": [
    "## Default loss"
   ]
  },
  {
   "cell_type": "code",
   "execution_count": 12,
   "metadata": {
    "collapsed": true
   },
   "outputs": [],
   "source": [
    "# define loss function, optimizer, and metrics\n",
    "model.compile(loss='categorical_crossentropy', optimizer='adadelta', metrics=['accuracy'])"
   ]
  },
  {
   "cell_type": "markdown",
   "metadata": {},
   "source": [
    "## Custom loss"
   ]
  },
  {
   "cell_type": "code",
   "execution_count": 93,
   "metadata": {
    "collapsed": true
   },
   "outputs": [],
   "source": [
    "def np_expert_loss(y_true, y_pred):\n",
    "    \"\"\"\n",
    "    y_true: [batch_size, nb_classes]\n",
    "    y_pred: [batch_size, nb_classes]\n",
    "    \"\"\"\n",
    "    if y_true.ndim == 1:\n",
    "        y_true = y_true.reshape(1, y_true.size)\n",
    "        y_pred = y_pred.reshape(1, y_pred.size)\n",
    "        \n",
    "    if y_true.size == y_pred.size:\n",
    "        y_true_idx = y_true.argmax(axis=1)\n",
    "    \n",
    "    batch_size = y_true.shape[0]\n",
    "    return -np.sum(np.log(y_pred[np.arange(batch_size), y_true_idx] + 1e-7)) / batch_size"
   ]
  },
  {
   "cell_type": "code",
   "execution_count": 20,
   "metadata": {
    "collapsed": true
   },
   "outputs": [],
   "source": [
    "def default_expert_loss(y_true, y_pred):\n",
    "    \"\"\"\n",
    "    (Tensor, not numpy array) y_true: [batch_size, nb_classes]\n",
    "    (Tensor, not numpy array) y_pred: [batch_size, nb_classes]\n",
    "    \"\"\"\n",
    "    \n",
    "    y_res = keras.losses.categorical_crossentropy(y_true, y_pred)\n",
    "    \n",
    "    return y_res"
   ]
  },
  {
   "cell_type": "code",
   "execution_count": 92,
   "metadata": {
    "collapsed": true
   },
   "outputs": [],
   "source": [
    "def mean_squared_error(y_true, y_pred):\n",
    "    y_res = K.mean(K.square(y_pred - y_true), axis=-1)\n",
    "    print(K.shape(y_res))\n",
    "    return y_res"
   ]
  },
  {
   "cell_type": "code",
   "execution_count": 18,
   "metadata": {
    "collapsed": true
   },
   "outputs": [],
   "source": [
    "def expert_loss(y_true, y_pred):\n",
    "    \"\"\"\n",
    "    (Tensor, not numpy array) y_true: [batch_size, nb_classes]\n",
    "    (Tensor, not numpy array) y_pred: [batch_size, nb_classes]\n",
    "    \"\"\"\n",
    "    if K.ndim(y_true) == 1:\n",
    "        y_true = K.reshape(y_true, [1, K.shape(y_true)[0]], dtype=\"float32\")\n",
    "        y_pred = K.reshape(y_pred, [1, K.shape(y_pred)[0]], dtype=\"float32\")\n",
    "    \n",
    "    b_size = K.cast(K.shape(y_pred)[0], dtype=\"float32\")\n",
    "    y_res = -K.sum(y_true * K.log(y_pred + 1e-7)) / b_size   # return \n",
    "    return y_res"
   ]
  },
  {
   "cell_type": "code",
   "execution_count": 12,
   "metadata": {
    "collapsed": true
   },
   "outputs": [],
   "source": [
    "def correct_ratio(y_true, y_pred):\n",
    "    \"\"\"\n",
    "    return: (1) can be a tensor list, (2) can be a tensor scalar\n",
    "    \"\"\"\n",
    "    true_list = K.argmax(y_true)\n",
    "    pred_list = K.argmax(y_pred)\n",
    "    correct = K.cast(K.equal(true_list, pred_list), \"float32\")\n",
    "    mean_correct = K.mean(correct)\n",
    "    return mean_correct"
   ]
  },
  {
   "cell_type": "code",
   "execution_count": 12,
   "metadata": {
    "collapsed": true
   },
   "outputs": [],
   "source": [
    "#model.compile(loss=expert_loss, optimizer='adadelta', metrics=['acc', correct_ratio])\n",
    "model.compile(loss='categorical_crossentropy', optimizer='adadelta', metrics=['acc'], weighted_metrics=['accuracy'])"
   ]
  },
  {
   "cell_type": "code",
   "execution_count": 12,
   "metadata": {
    "collapsed": true
   },
   "outputs": [],
   "source": [
    "modelpath = os.path.join('.','keras_model','mlp.h5')"
   ]
  },
  {
   "cell_type": "code",
   "execution_count": 13,
   "metadata": {
    "collapsed": true
   },
   "outputs": [],
   "source": [
    "# load the model if it exists\n",
    "if os.path.isfile(modelpath):\n",
    "    model = load_model(modelpath)"
   ]
  },
  {
   "cell_type": "markdown",
   "metadata": {},
   "source": [
    "# Training"
   ]
  },
  {
   "cell_type": "code",
   "execution_count": 15,
   "metadata": {
    "collapsed": true
   },
   "outputs": [],
   "source": [
    "tbCallBack = keras.callbacks.TensorBoard(log_dir=os.path.join('.','keras_model','graph'), \\\n",
    "                                         histogram_freq=0, \\\n",
    "                                         write_graph=True, \\\n",
    "                                         write_images=True)"
   ]
  },
  {
   "cell_type": "code",
   "execution_count": 16,
   "metadata": {},
   "outputs": [
    {
     "name": "stdout",
     "output_type": "stream",
     "text": [
      "WARNING:tensorflow:From /usr/local/lib/python3.5/dist-packages/tensorflow/python/ops/math_ops.py:2862: to_int32 (from tensorflow.python.ops.math_ops) is deprecated and will be removed in a future version.\n",
      "Instructions for updating:\n",
      "Use tf.cast instead.\n",
      "Train on 60000 samples, validate on 10000 samples\n",
      "Epoch 1/1\n",
      "60000/60000 [==============================] - 249s 4ms/step - loss: 0.1069 - acc: 0.9713 - weighted_acc: 0.9713 - val_loss: 0.0537 - val_acc: 0.9831 - val_weighted_acc: 0.9831\n"
     ]
    },
    {
     "data": {
      "text/plain": [
       "<keras.callbacks.History at 0x7f21cf6cd278>"
      ]
     },
     "execution_count": 16,
     "metadata": {},
     "output_type": "execute_result"
    }
   ],
   "source": [
    "# training the model\n",
    "model.fit(x_train, y_train, \\\n",
    "          batch_size=batch_size, \\\n",
    "          epochs=nb_epoch, \\\n",
    "          verbose=1, \\\n",
    "          validation_data=(x_test, y_test), \\\n",
    "          shuffle=True, \\\n",
    "         callbacks=[tbCallBack])"
   ]
  },
  {
   "cell_type": "markdown",
   "metadata": {},
   "source": [
    "# Evaluating"
   ]
  },
  {
   "cell_type": "code",
   "execution_count": 15,
   "metadata": {},
   "outputs": [
    {
     "name": "stdout",
     "output_type": "stream",
     "text": [
      "Test Score: 0.05368674308508634.\n",
      "Test Accuracy: 0.9831.\n"
     ]
    }
   ],
   "source": [
    "score = model.evaluate(x_test, y_test, verbose=0)\n",
    "print('Test Score: {}.'.format(score[0]))\n",
    "print('Test Accuracy: {}.'.format(score[1]))"
   ]
  },
  {
   "cell_type": "markdown",
   "metadata": {},
   "source": [
    "# Inference"
   ]
  },
  {
   "cell_type": "code",
   "execution_count": 14,
   "metadata": {},
   "outputs": [
    {
     "name": "stdout",
     "output_type": "stream",
     "text": [
      "[7 2]\n"
     ]
    }
   ],
   "source": [
    "pred = model.predict(x_test[0:2])\n",
    "print(np.argmax(pred, axis=1))"
   ]
  },
  {
   "cell_type": "markdown",
   "metadata": {},
   "source": [
    "# Export"
   ]
  },
  {
   "cell_type": "code",
   "execution_count": 18,
   "metadata": {
    "collapsed": true
   },
   "outputs": [],
   "source": [
    "save_model(model, modelpath)"
   ]
  },
  {
   "cell_type": "markdown",
   "metadata": {},
   "source": [
    "# Advanced: Specific Layer Output"
   ]
  },
  {
   "cell_type": "code",
   "execution_count": 17,
   "metadata": {},
   "outputs": [
    {
     "name": "stdout",
     "output_type": "stream",
     "text": [
      "Tensor(\"conv2d_1_input_1:0\", shape=(?, 28, 28, 1), dtype=float32)\n"
     ]
    }
   ],
   "source": [
    "inp = model.input                                           # input placeholder\n",
    "print(inp)"
   ]
  },
  {
   "cell_type": "code",
   "execution_count": 84,
   "metadata": {},
   "outputs": [
    {
     "name": "stdout",
     "output_type": "stream",
     "text": [
      "0 : Tensor(\"conv2d_1_1/BiasAdd:0\", shape=(?, 26, 26, 32), dtype=float32)\n",
      "1 : Tensor(\"batch_normalization_1_1/cond/Merge:0\", shape=(?, 26, 26, 32), dtype=float32)\n",
      "2 : Tensor(\"activation_1_1/Relu:0\", shape=(?, 26, 26, 32), dtype=float32)\n",
      "3 : Tensor(\"conv2d_2_1/BiasAdd:0\", shape=(?, 24, 24, 32), dtype=float32)\n",
      "4 : Tensor(\"batch_normalization_2_1/cond/Merge:0\", shape=(?, 24, 24, 32), dtype=float32)\n",
      "5 : Tensor(\"activation_2_1/Relu:0\", shape=(?, 24, 24, 32), dtype=float32)\n",
      "6 : Tensor(\"max_pooling2d_1_1/MaxPool:0\", shape=(?, 12, 12, 32), dtype=float32)\n",
      "7 : Tensor(\"flatten_1_1/Reshape:0\", shape=(?, ?), dtype=float32)\n",
      "8 : Tensor(\"dense_1_1/BiasAdd:0\", shape=(?, 128), dtype=float32)\n",
      "9 : Tensor(\"batch_normalization_3_1/cond/Merge:0\", shape=(?, 128), dtype=float32)\n",
      "10 : Tensor(\"activation_3_1/Relu:0\", shape=(?, 128), dtype=float32)\n",
      "11 : Tensor(\"dense_2_1/BiasAdd:0\", shape=(?, 10), dtype=float32)\n",
      "12 : Tensor(\"activation_4_1/Softmax:0\", shape=(?, 10), dtype=float32)\n"
     ]
    }
   ],
   "source": [
    "outputs = [layer.output for layer in model.layers]          # all layer outputs\n",
    "\n",
    "for out in range(len(outputs)): \n",
    "    print(out, \":\", outputs[out])"
   ]
  },
  {
   "cell_type": "code",
   "execution_count": 70,
   "metadata": {},
   "outputs": [],
   "source": [
    "# inp: the placeholder image\n",
    "# outputs[-1]: the latest layer\n",
    "functons = K.function([inp], [outputs[-1]])"
   ]
  },
  {
   "cell_type": "code",
   "execution_count": 71,
   "metadata": {},
   "outputs": [],
   "source": [
    "keras_partial_res, = functons([x_test[0].reshape(1, 28, 28, 1)])"
   ]
  },
  {
   "cell_type": "code",
   "execution_count": 72,
   "metadata": {},
   "outputs": [
    {
     "data": {
      "image/png": "[encoded data removed]",
      "text/plain": [
       "<matplotlib.figure.Figure at 0x1c0e8b1e160>"
      ]
     },
     "metadata": {},
     "output_type": "display_data"
    }
   ],
   "source": [
    "test_img = np.minimum(x_test[0] * 255., 255.).reshape((28,28))  # reshape to (28, 28) for plt.imshow()\n",
    "test_img = test_img.astype(\"uint8\")\n",
    "plt.imshow(test_img, cmap='gray')\n",
    "plt.show()"
   ]
  },
  {
   "cell_type": "code",
   "execution_count": 73,
   "metadata": {},
   "outputs": [
    {
     "data": {
      "text/plain": [
       "7"
      ]
     },
     "execution_count": 73,
     "metadata": {},
     "output_type": "execute_result"
    }
   ],
   "source": [
    "np.argmax(keras_partial_res)"
   ]
  },
  {
   "cell_type": "markdown",
   "metadata": {},
   "source": [
    "# Layer Editing"
   ]
  },
  {
   "cell_type": "markdown",
   "metadata": {},
   "source": [
    "## Origin Layer"
   ]
  },
  {
   "cell_type": "code",
   "execution_count": 15,
   "metadata": {},
   "outputs": [
    {
     "name": "stdout",
     "output_type": "stream",
     "text": [
      "_________________________________________________________________\n",
      "Layer (type)                 Output Shape              Param #   \n",
      "=================================================================\n",
      "conv2d_1 (Conv2D)            (None, 26, 26, 32)        320       \n",
      "_________________________________________________________________\n",
      "batch_normalization_1 (Batch (None, 26, 26, 32)        128       \n",
      "_________________________________________________________________\n",
      "activation_1 (Activation)    (None, 26, 26, 32)        0         \n",
      "_________________________________________________________________\n",
      "conv2d_2 (Conv2D)            (None, 24, 24, 32)        9248      \n",
      "_________________________________________________________________\n",
      "batch_normalization_2 (Batch (None, 24, 24, 32)        128       \n",
      "_________________________________________________________________\n",
      "activation_2 (Activation)    (None, 24, 24, 32)        0         \n",
      "_________________________________________________________________\n",
      "max_pooling2d_1 (MaxPooling2 (None, 12, 12, 32)        0         \n",
      "_________________________________________________________________\n",
      "flatten_1 (Flatten)          (None, 4608)              0         \n",
      "_________________________________________________________________\n",
      "dense_1 (Dense)              (None, 128)               589952    \n",
      "_________________________________________________________________\n",
      "batch_normalization_3 (Batch (None, 128)               512       \n",
      "_________________________________________________________________\n",
      "activation_3 (Activation)    (None, 128)               0         \n",
      "_________________________________________________________________\n",
      "dense_2 (Dense)              (None, 10)                1290      \n",
      "_________________________________________________________________\n",
      "activation_4 (Activation)    (None, 10)                0         \n",
      "=================================================================\n",
      "Total params: 601,578\n",
      "Trainable params: 601,194\n",
      "Non-trainable params: 384\n",
      "_________________________________________________________________\n"
     ]
    }
   ],
   "source": [
    "model.summary()"
   ]
  },
  {
   "cell_type": "markdown",
   "metadata": {},
   "source": [
    "## Layer Insertion"
   ]
  },
  {
   "cell_type": "code",
   "execution_count": 21,
   "metadata": {
    "collapsed": true
   },
   "outputs": [],
   "source": [
    "def show_layer(edit_model):\n",
    "    layers = [l for l in edit_model.layers]\n",
    "    for l in range(len(layers)): \n",
    "        print(l, \":\", layers[l].input, \"->\", layers[l].output)"
   ]
  },
  {
   "cell_type": "code",
   "execution_count": 22,
   "metadata": {},
   "outputs": [
    {
     "name": "stdout",
     "output_type": "stream",
     "text": [
      "0 : Tensor(\"conv2d_1_input_1:0\", shape=(?, 28, 28, 1), dtype=float32) -> Tensor(\"conv2d_1_1/BiasAdd:0\", shape=(?, 26, 26, 32), dtype=float32)\n",
      "1 : Tensor(\"conv2d_1_1/BiasAdd:0\", shape=(?, 26, 26, 32), dtype=float32) -> Tensor(\"batch_normalization_1_1/cond/Merge:0\", shape=(?, 26, 26, 32), dtype=float32)\n",
      "2 : Tensor(\"batch_normalization_1_1/cond/Merge:0\", shape=(?, 26, 26, 32), dtype=float32) -> Tensor(\"activation_1_1/Relu:0\", shape=(?, 26, 26, 32), dtype=float32)\n",
      "3 : Tensor(\"activation_1_1/Relu:0\", shape=(?, 26, 26, 32), dtype=float32) -> Tensor(\"conv2d_2_1/BiasAdd:0\", shape=(?, 24, 24, 32), dtype=float32)\n",
      "4 : Tensor(\"conv2d_2_1/BiasAdd:0\", shape=(?, 24, 24, 32), dtype=float32) -> Tensor(\"batch_normalization_2_1/cond/Merge:0\", shape=(?, 24, 24, 32), dtype=float32)\n",
      "5 : Tensor(\"batch_normalization_2_1/cond/Merge:0\", shape=(?, 24, 24, 32), dtype=float32) -> Tensor(\"activation_2_1/Relu:0\", shape=(?, 24, 24, 32), dtype=float32)\n",
      "6 : Tensor(\"activation_2_1/Relu:0\", shape=(?, 24, 24, 32), dtype=float32) -> Tensor(\"max_pooling2d_1_1/MaxPool:0\", shape=(?, 12, 12, 32), dtype=float32)\n",
      "7 : Tensor(\"max_pooling2d_1_1/MaxPool:0\", shape=(?, 12, 12, 32), dtype=float32) -> Tensor(\"flatten_1_1/Reshape:0\", shape=(?, ?), dtype=float32)\n",
      "8 : Tensor(\"flatten_1_1/Reshape:0\", shape=(?, ?), dtype=float32) -> Tensor(\"dense_1_1/BiasAdd:0\", shape=(?, 128), dtype=float32)\n",
      "9 : Tensor(\"dense_1_1/BiasAdd:0\", shape=(?, 128), dtype=float32) -> Tensor(\"batch_normalization_3_1/cond/Merge:0\", shape=(?, 128), dtype=float32)\n",
      "10 : Tensor(\"batch_normalization_3_1/cond/Merge:0\", shape=(?, 128), dtype=float32) -> Tensor(\"activation_3_1/Relu:0\", shape=(?, 128), dtype=float32)\n",
      "11 : Tensor(\"activation_3_1/Relu:0\", shape=(?, 128), dtype=float32) -> Tensor(\"dense_2_1/BiasAdd:0\", shape=(?, 10), dtype=float32)\n",
      "12 : Tensor(\"dense_2_1/BiasAdd:0\", shape=(?, 10), dtype=float32) -> Tensor(\"activation_4_1/Softmax:0\", shape=(?, 10), dtype=float32)\n"
     ]
    }
   ],
   "source": [
    "show_layer(model)"
   ]
  },
  {
   "cell_type": "code",
   "execution_count": 28,
   "metadata": {},
   "outputs": [],
   "source": [
    "def insert_layer(edit_model, layer_id, new_layer):\n",
    "    \"\"\"\n",
    "    layer_id: start from input with 0\n",
    "    \"\"\"\n",
    "    layers = [l for l in edit_model.layers]\n",
    "    \n",
    "    #for l in layers: print(l.input, l.output)\n",
    "    \n",
    "    x = layers[0].output\n",
    "    for i in range(1, len(layers)):\n",
    "        if i == layer_id:\n",
    "            for layer_idx in new_layer:\n",
    "                x = layer_idx(x)\n",
    "        x = layers[i](x)\n",
    "        \n",
    "    new_model = Model(input=layers[0].input, outputs=x)\n",
    "    \n",
    "    return new_model"
   ]
  },
  {
   "cell_type": "code",
   "execution_count": 35,
   "metadata": {},
   "outputs": [
    {
     "name": "stderr",
     "output_type": "stream",
     "text": [
      "C:\\Program Files\\Anaconda3\\lib\\site-packages\\ipykernel\\__main__.py:16: UserWarning: Update your `Model` call to the Keras 2 API: `Model(outputs=Tensor(\"ac..., inputs=Tensor(\"co...)`\n"
     ]
    }
   ],
   "source": [
    "inserted_model = insert_layer(model, 11, [Dense(128), BatchNormalization(), Activation('relu')])"
   ]
  },
  {
   "cell_type": "code",
   "execution_count": 36,
   "metadata": {},
   "outputs": [
    {
     "name": "stdout",
     "output_type": "stream",
     "text": [
      "_________________________________________________________________\n",
      "Layer (type)                 Output Shape              Param #   \n",
      "=================================================================\n",
      "conv2d_1_input (InputLayer)  (None, 28, 28, 1)         0         \n",
      "_________________________________________________________________\n",
      "conv2d_1 (Conv2D)            (None, 26, 26, 32)        320       \n",
      "_________________________________________________________________\n",
      "batch_normalization_1 (Batch (None, 26, 26, 32)        128       \n",
      "_________________________________________________________________\n",
      "activation_1 (Activation)    (None, 26, 26, 32)        0         \n",
      "_________________________________________________________________\n",
      "conv2d_2 (Conv2D)            (None, 24, 24, 32)        9248      \n",
      "_________________________________________________________________\n",
      "batch_normalization_2 (Batch (None, 24, 24, 32)        128       \n",
      "_________________________________________________________________\n",
      "activation_2 (Activation)    (None, 24, 24, 32)        0         \n",
      "_________________________________________________________________\n",
      "max_pooling2d_1 (MaxPooling2 (None, 12, 12, 32)        0         \n",
      "_________________________________________________________________\n",
      "flatten_1 (Flatten)          (None, 4608)              0         \n",
      "_________________________________________________________________\n",
      "dense_1 (Dense)              (None, 128)               589952    \n",
      "_________________________________________________________________\n",
      "batch_normalization_3 (Batch (None, 128)               512       \n",
      "_________________________________________________________________\n",
      "activation_3 (Activation)    (None, 128)               0         \n",
      "_________________________________________________________________\n",
      "dense_8 (Dense)              (None, 128)               16512     \n",
      "_________________________________________________________________\n",
      "batch_normalization_9 (Batch (None, 128)               512       \n",
      "_________________________________________________________________\n",
      "activation_7 (Activation)    (None, 128)               0         \n",
      "_________________________________________________________________\n",
      "dense_2 (Dense)              (None, 10)                1290      \n",
      "_________________________________________________________________\n",
      "activation_4 (Activation)    (None, 10)                0         \n",
      "=================================================================\n",
      "Total params: 618,602\n",
      "Trainable params: 617,962\n",
      "Non-trainable params: 640\n",
      "_________________________________________________________________\n"
     ]
    }
   ],
   "source": [
    "inserted_model.summary()"
   ]
  },
  {
   "cell_type": "markdown",
   "metadata": {},
   "source": [
    "## Replace Layer"
   ]
  },
  {
   "cell_type": "code",
   "execution_count": 38,
   "metadata": {
    "collapsed": true
   },
   "outputs": [],
   "source": [
    "def replace_intermediate_single_layer_in_keras(edit_model, layer_id, new_layer):\n",
    "    layers = [l for l in edit_model.layers]\n",
    "\n",
    "    x = layers[0].output\n",
    "    for i in range(1, len(layers)):\n",
    "        if i == layer_id:\n",
    "            x = new_layer(x)\n",
    "        else:\n",
    "            x = layers[i](x)\n",
    "\n",
    "    new_model = Model(input=layers[0].input, output=x)\n",
    "    return new_model"
   ]
  },
  {
   "cell_type": "code",
   "execution_count": 40,
   "metadata": {
    "collapsed": true
   },
   "outputs": [],
   "source": [
    "def replace_intermediate_multiple_layer_in_keras(edit_model, layer_dict):\n",
    "    layers = [l for l in edit_model.layers]\n",
    "    \n",
    "    layer_id = list(layer_dict.keys())\n",
    "\n",
    "    x = layers[0].output\n",
    "    for i in range(1, len(layers)):\n",
    "        if i in layer_id:\n",
    "            x = layer_dict[i](x)\n",
    "        else:\n",
    "            x = layers[i](x)\n",
    "\n",
    "    new_model = Model(input=layers[0].input, output=x)\n",
    "    return new_model"
   ]
  },
  {
   "cell_type": "code",
   "execution_count": 42,
   "metadata": {},
   "outputs": [
    {
     "name": "stderr",
     "output_type": "stream",
     "text": [
      "C:\\Program Files\\Anaconda3\\lib\\site-packages\\ipykernel\\__main__.py:13: UserWarning: Update your `Model` call to the Keras 2 API: `Model(outputs=Tensor(\"ac..., inputs=Tensor(\"co...)`\n"
     ]
    }
   ],
   "source": [
    "replaced_layer = OrderedDict()\n",
    "replaced_layer[11] = Dense(2)\n",
    "replaced_layer[12] = Activation('softmax')\n",
    "replaced_model = replace_intermediate_multiple_layer_in_keras(model, replaced_layer)"
   ]
  },
  {
   "cell_type": "code",
   "execution_count": 43,
   "metadata": {},
   "outputs": [
    {
     "name": "stdout",
     "output_type": "stream",
     "text": [
      "_________________________________________________________________\n",
      "Layer (type)                 Output Shape              Param #   \n",
      "=================================================================\n",
      "conv2d_1_input (InputLayer)  (None, 28, 28, 1)         0         \n",
      "_________________________________________________________________\n",
      "conv2d_1 (Conv2D)            (None, 26, 26, 32)        320       \n",
      "_________________________________________________________________\n",
      "batch_normalization_1 (Batch (None, 26, 26, 32)        128       \n",
      "_________________________________________________________________\n",
      "activation_1 (Activation)    (None, 26, 26, 32)        0         \n",
      "_________________________________________________________________\n",
      "conv2d_2 (Conv2D)            (None, 24, 24, 32)        9248      \n",
      "_________________________________________________________________\n",
      "batch_normalization_2 (Batch (None, 24, 24, 32)        128       \n",
      "_________________________________________________________________\n",
      "activation_2 (Activation)    (None, 24, 24, 32)        0         \n",
      "_________________________________________________________________\n",
      "max_pooling2d_1 (MaxPooling2 (None, 12, 12, 32)        0         \n",
      "_________________________________________________________________\n",
      "flatten_1 (Flatten)          (None, 4608)              0         \n",
      "_________________________________________________________________\n",
      "dense_1 (Dense)              (None, 128)               589952    \n",
      "_________________________________________________________________\n",
      "batch_normalization_3 (Batch (None, 128)               512       \n",
      "_________________________________________________________________\n",
      "activation_3 (Activation)    (None, 128)               0         \n",
      "_________________________________________________________________\n",
      "dense_10 (Dense)             (None, 2)                 258       \n",
      "_________________________________________________________________\n",
      "activation_9 (Activation)    (None, 2)                 0         \n",
      "=================================================================\n",
      "Total params: 600,546\n",
      "Trainable params: 600,162\n",
      "Non-trainable params: 384\n",
      "_________________________________________________________________\n"
     ]
    }
   ],
   "source": [
    "replaced_model.summary()"
   ]
  },
  {
   "cell_type": "markdown",
   "metadata": {},
   "source": [
    "# Export from .h5 to .tflite"
   ]
  },
  {
   "cell_type": "code",
   "execution_count": 21,
   "metadata": {},
   "outputs": [
    {
     "name": "stdout",
     "output_type": "stream",
     "text": [
      "Collecting tf-nightly\n",
      "\u001b[?25l  Downloading https://files.pythonhosted.org/packages/5d/34/c5d7ccc5f0c77e14613331d5886cb14b20f354fbf02cb17c6db97148d350/tf_nightly-1.13.0.dev20181120-cp35-cp35m-manylinux1_x86_64.whl (90.9MB)\n",
      "\u001b[K    100% |################################| 90.9MB 175kB/s ta 0:00:011 2% |                                | 2.6MB 2.0MB/s eta 0:00:46    3% |                                | 2.7MB 2.5MB/s eta 0:00:36    3% |#                               | 3.2MB 4.7MB/s eta 0:00:19    4% |#                               | 3.9MB 1.7MB/s eta 0:00:50    11% |###                             | 10.1MB 5.1MB/s eta 0:00:16    11% |###                             | 10.5MB 9.5MB/s eta 0:00:09    21% |#######                         | 20.0MB 5.5MB/s eta 0:00:13    23% |#######                         | 21.2MB 7.4MB/s eta 0:00:10    23% |#######                         | 21.4MB 4.3MB/s eta 0:00:17    24% |#######                         | 22.5MB 1.6MB/s eta 0:00:43    26% |########                        | 24.0MB 7.3MB/s eta 0:00:10    26% |########                        | 24.4MB 3.7MB/s eta 0:00:18    27% |########                        | 25.1MB 4.8MB/s eta 0:00:14    29% |#########                       | 26.5MB 2.9MB/s eta 0:00:23    30% |#########                       | 27.8MB 9.8MB/s eta 0:00:07    30% |#########                       | 28.0MB 3.3MB/s eta 0:00:20    34% |###########                     | 31.6MB 7.6MB/s eta 0:00:08    35% |###########                     | 32.6MB 5.5MB/s eta 0:00:11    39% |############                    | 36.1MB 987kB/s eta 0:00:56    46% |##############                  | 42.5MB 2.2MB/s eta 0:00:23    47% |###############                 | 42.8MB 8.4MB/s eta 0:00:06    49% |###############                 | 44.7MB 6.6MB/s eta 0:00:08    50% |################                | 45.8MB 2.6MB/s eta 0:00:18    53% |#################               | 48.3MB 2.0MB/s eta 0:00:22    55% |#################               | 50.6MB 3.5MB/s eta 0:00:12    55% |#################               | 50.9MB 4.1MB/s eta 0:00:10    58% |##################              | 52.8MB 1.8MB/s eta 0:00:21    61% |###################             | 55.8MB 3.8MB/s eta 0:00:10    62% |####################            | 57.1MB 3.8MB/s eta 0:00:09    63% |####################            | 58.1MB 10.4MB/s eta 0:00:04    64% |####################            | 58.8MB 5.7MB/s eta 0:00:06    66% |#####################           | 60.0MB 5.2MB/s eta 0:00:06    66% |#####################           | 60.4MB 5.2MB/s eta 0:00:06    66% |#####################           | 60.6MB 6.3MB/s eta 0:00:05    68% |#####################           | 61.9MB 6.0MB/s eta 0:00:05    68% |######################          | 62.5MB 8.6MB/s eta 0:00:04    69% |######################          | 63.2MB 1.6MB/s eta 0:00:18    71% |######################          | 65.0MB 2.0MB/s eta 0:00:13    72% |#######################         | 66.3MB 8.1MB/s eta 0:00:04    73% |#######################         | 66.8MB 12.3MB/s eta 0:00:02    73% |#######################         | 66.9MB 1.8MB/s eta 0:00:14    75% |########################        | 68.5MB 1.9MB/s eta 0:00:13    77% |########################        | 70.3MB 2.3MB/s eta 0:00:09    79% |#########################       | 72.7MB 2.2MB/s eta 0:00:09    82% |##########################      | 75.0MB 5.6MB/s eta 0:00:03    82% |##########################      | 75.1MB 1.9MB/s eta 0:00:09    84% |###########################     | 76.8MB 8.9MB/s eta 0:00:02    86% |###########################     | 78.5MB 2.9MB/s eta 0:00:05    87% |###########################     | 79.5MB 4.2MB/s eta 0:00:03    89% |############################    | 81.1MB 315kB/s eta 0:00:32    89% |############################    | 81.2MB 2.4MB/s eta 0:00:04    89% |############################    | 81.6MB 2.2MB/s eta 0:00:05    90% |############################    | 82.2MB 7.4MB/s eta 0:00:02    91% |#############################   | 83.0MB 12.5MB/s eta 0:00:01    92% |#############################   | 84.0MB 8.4MB/s eta 0:00:01    93% |#############################   | 84.6MB 4.0MB/s eta 0:00:02    95% |##############################  | 86.9MB 5.8MB/s eta 0:00:01    99% |############################### | 90.7MB 1.1MB/s eta 0:00:01\n",
      "\u001b[?25hCollecting tb-nightly<1.14.0a0,>=1.13.0a0 (from tf-nightly)\n",
      "\u001b[?25l  Downloading https://files.pythonhosted.org/packages/5a/a8/b67446ac3356911de7717265e0093fada79ecbe2637436874f305eb849aa/tb_nightly-1.13.0a20181119-py3-none-any.whl (3.2MB)\n",
      "\u001b[K    100% |################################| 3.2MB 1.2MB/s ta 0:00:01    29% |#########                       | 942kB 2.2MB/s eta 0:00:02    86% |###########################     | 2.7MB 1.9MB/s eta 0:00:01\n",
      "\u001b[?25hRequirement already satisfied: grpcio>=1.8.6 in /usr/local/lib/python3.5/dist-packages (from tf-nightly) (1.15.0)\n",
      "Requirement already satisfied: gast>=0.2.0 in /usr/local/lib/python3.5/dist-packages (from tf-nightly) (0.2.0)\n",
      "Requirement already satisfied: absl-py>=0.1.6 in /usr/local/lib/python3.5/dist-packages (from tf-nightly) (0.5.0)\n",
      "Requirement already satisfied: six>=1.10.0 in /usr/local/lib/python3.5/dist-packages (from tf-nightly) (1.11.0)\n",
      "Requirement already satisfied: astor>=0.6.0 in /usr/local/lib/python3.5/dist-packages (from tf-nightly) (0.7.1)\n",
      "Collecting tf-estimator-nightly (from tf-nightly)\n",
      "\u001b[?25l  Downloading https://files.pythonhosted.org/packages/44/d3/8897e230eb9f048ef9dec207cd463754f920fa79b2c113b11603885186a2/tf_estimator_nightly-1.12.0.dev20181120-py2.py3-none-any.whl (294kB)\n",
      "\u001b[K    100% |################################| 296kB 1.2MB/s ta 0:00:01\n",
      "\u001b[?25hRequirement already satisfied: termcolor>=1.1.0 in /usr/local/lib/python3.5/dist-packages (from tf-nightly) (1.1.0)\n",
      "Requirement already satisfied: wheel>=0.26 in /usr/local/lib/python3.5/dist-packages (from tf-nightly) (0.31.1)\n",
      "Requirement already satisfied: protobuf>=3.6.1 in /usr/local/lib/python3.5/dist-packages (from tf-nightly) (3.6.1)\n",
      "Collecting keras-preprocessing>=1.0.5 (from tf-nightly)\n",
      "  Downloading https://files.pythonhosted.org/packages/fc/94/74e0fa783d3fc07e41715973435dd051ca89c550881b3454233c39c73e69/Keras_Preprocessing-1.0.5-py2.py3-none-any.whl\n",
      "Collecting keras-applications>=1.0.6 (from tf-nightly)\n",
      "\u001b[?25l  Downloading https://files.pythonhosted.org/packages/3f/c4/2ff40221029f7098d58f8d7fb99b97e8100f3293f9856f0fb5834bef100b/Keras_Applications-1.0.6-py2.py3-none-any.whl (44kB)\n",
      "\u001b[K    100% |################################| 51kB 2.9MB/s ta 0:00:01\n",
      "\u001b[?25hRequirement already satisfied: numpy>=1.13.3 in /usr/local/lib/python3.5/dist-packages (from tf-nightly) (1.15.2)\n",
      "Requirement already satisfied: werkzeug>=0.11.10 in /usr/local/lib/python3.5/dist-packages (from tb-nightly<1.14.0a0,>=1.13.0a0->tf-nightly) (0.14.1)\n",
      "Requirement already satisfied: markdown>=2.6.8 in /usr/local/lib/python3.5/dist-packages (from tb-nightly<1.14.0a0,>=1.13.0a0->tf-nightly) (3.0)\n",
      "Collecting mock>=2.0.0 (from tf-estimator-nightly->tf-nightly)\n",
      "\u001b[?25l  Downloading https://files.pythonhosted.org/packages/e6/35/f187bdf23be87092bd0f1200d43d23076cee4d0dec109f195173fd3ebc79/mock-2.0.0-py2.py3-none-any.whl (56kB)\n",
      "\u001b[K    100% |################################| 61kB 2.0MB/s ta 0:00:01\n",
      "\u001b[?25hRequirement already satisfied: setuptools in /usr/local/lib/python3.5/dist-packages (from protobuf>=3.6.1->tf-nightly) (39.1.0)\n",
      "Requirement already satisfied: h5py in /usr/local/lib/python3.5/dist-packages (from keras-applications>=1.0.6->tf-nightly) (2.8.0)\n",
      "Collecting pbr>=0.11 (from mock>=2.0.0->tf-estimator-nightly->tf-nightly)\n",
      "\u001b[?25l  Downloading https://files.pythonhosted.org/packages/f3/04/fddc1c2dd75b256eda4d360024692231a2c19a0c61ad7f4a162407c1ab58/pbr-5.1.1-py2.py3-none-any.whl (106kB)\n",
      "\u001b[K    100% |################################| 112kB 2.4MB/s ta 0:00:01\n",
      "\u001b[31mkeras 2.2.2 has requirement keras-applications==1.0.4, but you'll have keras-applications 1.0.6 which is incompatible.\u001b[0m\n",
      "\u001b[31mkeras 2.2.2 has requirement keras-preprocessing==1.0.2, but you'll have keras-preprocessing 1.0.5 which is incompatible.\u001b[0m\n",
      "\u001b[?25hInstalling collected packages: tb-nightly, pbr, mock, tf-estimator-nightly, keras-preprocessing, keras-applications, tf-nightly\n",
      "  Found existing installation: Keras-Preprocessing 1.0.3\n",
      "    Uninstalling Keras-Preprocessing-1.0.3:\n",
      "      Successfully uninstalled Keras-Preprocessing-1.0.3\n",
      "  Found existing installation: Keras-Applications 1.0.5\n",
      "    Uninstalling Keras-Applications-1.0.5:\n",
      "      Successfully uninstalled Keras-Applications-1.0.5\n",
      "Successfully installed keras-applications-1.0.6 keras-preprocessing-1.0.5 mock-2.0.0 pbr-5.1.1 tb-nightly-1.13.0a20181119 tf-estimator-nightly-1.12.0.dev20181120 tf-nightly-1.13.0.dev20181120\n",
      "\u001b[33mYou are using pip version 18.0, however version 18.1 is available.\n",
      "You should consider upgrading via the 'pip install --upgrade pip' command.\u001b[0m\n"
     ]
    }
   ],
   "source": [
    "!pip install tf-nightly"
   ]
  },
  {
   "cell_type": "code",
   "execution_count": 22,
   "metadata": {},
   "outputs": [
    {
     "name": "stdout",
     "output_type": "stream",
     "text": [
      "Tensorflow version: 1.13.0-dev20181120\n"
     ]
    }
   ],
   "source": [
    "import tensorflow as tf\n",
    "\n",
    "print(\"Tensorflow version: {}\".format(tf.__version__))"
   ]
  },
  {
   "cell_type": "code",
   "execution_count": 20,
   "metadata": {
    "collapsed": true
   },
   "outputs": [],
   "source": [
    "tflite_path = os.path.join('.','keras_model','mlp.tflite')\n",
    "assert os.path.exists(modelpath), \".h5 file is not found.\""
   ]
  },
  {
   "cell_type": "code",
   "execution_count": 23,
   "metadata": {},
   "outputs": [
    {
     "name": "stdout",
     "output_type": "stream",
     "text": [
      "WARNING:tensorflow:From <ipython-input-23-df30169a2d9d>:1: TocoConverter.from_keras_model_file (from tensorflow.lite.python.lite) is deprecated and will be removed in a future version.\n",
      "Instructions for updating:\n",
      "Use `lite.TFLiteConverter.from_keras_model_file` instead.\n",
      "WARNING:tensorflow:From /usr/local/lib/python3.5/dist-packages/tensorflow/lite/python/lite.py:592: convert_variables_to_constants (from tensorflow.python.framework.graph_util_impl) is deprecated and will be removed in a future version.\n",
      "Instructions for updating:\n",
      "Use tf.compat.v1.graph_util.convert_variables_to_constants\n",
      "WARNING:tensorflow:From /usr/local/lib/python3.5/dist-packages/tensorflow/python/framework/graph_util_impl.py:245: extract_sub_graph (from tensorflow.python.framework.graph_util_impl) is deprecated and will be removed in a future version.\n",
      "Instructions for updating:\n",
      "Use tf.compat.v1.graph_util.extract_sub_graph\n",
      "INFO:tensorflow:Froze 20 variables.\n",
      "INFO:tensorflow:Converted 20 variables to const ops.\n"
     ]
    },
    {
     "data": {
      "text/plain": [
       "2405224"
      ]
     },
     "execution_count": 23,
     "metadata": {},
     "output_type": "execute_result"
    }
   ],
   "source": [
    "converter = tf.contrib.lite.TocoConverter.from_keras_model_file(modelpath)\n",
    "tflite_model = converter.convert()\n",
    "open(tflite_path, \"wb\").write(tflite_model)"
   ]
  },
  {
   "cell_type": "code",
   "execution_count": null,
   "metadata": {
    "collapsed": true
   },
   "outputs": [],
   "source": []
  }
 ],
 "metadata": {
  "anaconda-cloud": {},
  "kernelspec": {
   "display_name": "Python 3",
   "language": "python",
   "name": "python3"
  },
  "language_info": {
   "codemirror_mode": {
    "name": "ipython",
    "version": 3
   },
   "file_extension": ".py",
   "mimetype": "text/x-python",
   "name": "python",
   "nbconvert_exporter": "python",
   "pygments_lexer": "ipython3",
   "version": "3.5.4"
  }
 },
 "nbformat": 4,
 "nbformat_minor": 2
}
