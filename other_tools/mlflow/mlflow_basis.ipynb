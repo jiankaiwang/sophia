{
 "cells": [
  {
   "cell_type": "markdown",
   "metadata": {},
   "source": [
    "# mlflow quickstart\n",
    "\n",
    "* website: https://mlflow.org/\n",
    "\n",
    "mlflow is an open source platform for the machine learning lifecycle. It currently offers three main components, `Tracking`, `Projects`, and `Models`.\n",
    "mlflow requires `git` to provide automatical commit during training."
   ]
  },
  {
   "cell_type": "code",
   "execution_count": 1,
   "metadata": {
    "scrolled": true
   },
   "outputs": [
    {
     "name": "stdout",
     "output_type": "stream",
     "text": [
      "Get:1 http://security.ubuntu.com/ubuntu xenial-security InRelease [107 kB]\n",
      "Get:2 http://archive.ubuntu.com/ubuntu xenial InRelease [247 kB]\n",
      "Get:3 http://security.ubuntu.com/ubuntu xenial-security/universe Sources [105 kB]3m\n",
      "Get:4 http://archive.ubuntu.com/ubuntu xenial-updates InRelease [109 kB]\u001b[0m\u001b[33m0m\u001b[33m\n",
      "Get:5 http://security.ubuntu.com/ubuntu xenial-security/main amd64 Packages [745 kB]\n",
      "Get:6 http://archive.ubuntu.com/ubuntu xenial-backports InRelease [107 kB]     \u001b[0m\u001b[33m\n",
      "Get:7 http://archive.ubuntu.com/ubuntu xenial/universe Sources [9802 kB]m\n",
      "Get:8 http://security.ubuntu.com/ubuntu xenial-security/restricted amd64 Packages [12.7 kB]3m\n",
      "Get:9 http://security.ubuntu.com/ubuntu xenial-security/universe amd64 Packages [507 kB]\n",
      "Get:10 http://security.ubuntu.com/ubuntu xenial-security/multiverse amd64 Packages [4026 B]3m\n",
      "Get:11 http://archive.ubuntu.com/ubuntu xenial/main amd64 Packages [1558 kB]   \u001b[0m\u001b[33m\u001b[33m\u001b[33m\u001b[33m\u001b[33m\u001b[33m\u001b[33m\n",
      "Get:12 http://archive.ubuntu.com/ubuntu xenial/restricted amd64 Packages [14.1 kB]m\n",
      "Get:13 http://archive.ubuntu.com/ubuntu xenial/universe amd64 Packages [9827 kB][0m\u001b[33m\n",
      "Get:14 http://archive.ubuntu.com/ubuntu xenial/multiverse amd64 Packages [176 kB]0m\u001b[33m\u001b[33m\u001b[33m\u001b[33m\u001b[33m\n",
      "Get:15 http://archive.ubuntu.com/ubuntu xenial-updates/universe Sources [292 kB][0m\u001b[33m\n",
      "Get:16 http://archive.ubuntu.com/ubuntu xenial-updates/main amd64 Packages [1142 kB]\n",
      "Get:17 http://archive.ubuntu.com/ubuntu xenial-updates/restricted amd64 Packages [13.1 kB]\n",
      "Get:18 http://archive.ubuntu.com/ubuntu xenial-updates/universe amd64 Packages [909 kB]m\n",
      "Get:19 http://archive.ubuntu.com/ubuntu xenial-updates/multiverse amd64 Packages [19.0 kB]\n",
      "Get:20 http://archive.ubuntu.com/ubuntu xenial-backports/main amd64 Packages [7959 B]33m\n",
      "Get:21 http://archive.ubuntu.com/ubuntu xenial-backports/universe amd64 Packages [8532 B]\n",
      "Fetched 25.7 MB in 8s (2857 kB/s)                                              \u001b[0m\u001b[33m\u001b[33m\u001b[33m\u001b[33m\u001b[33m\u001b[33m\n",
      "Reading package lists... Done\n",
      "Building dependency tree       \n",
      "Reading state information... Done\n",
      "25 packages can be upgraded. Run 'apt list --upgradable' to see them.\n",
      "Reading package lists... Done\n",
      "Building dependency tree       \n",
      "Reading state information... Done\n",
      "The following additional packages will be installed:\n",
      "  git-man less libbsd0 libedit2 liberror-perl libx11-6 libx11-data libxau6\n",
      "  libxcb1 libxdmcp6 libxext6 libxmuu1 openssh-client xauth\n",
      "Suggested packages:\n",
      "  gettext-base git-daemon-run | git-daemon-sysvinit git-doc git-el git-email\n",
      "  git-gui gitk gitweb git-arch git-cvs git-mediawiki git-svn ssh-askpass\n",
      "  libpam-ssh keychain monkeysphere\n",
      "The following NEW packages will be installed:\n",
      "  git git-man less libbsd0 libedit2 liberror-perl libx11-6 libx11-data libxau6\n",
      "  libxcb1 libxdmcp6 libxext6 libxmuu1 openssh-client xauth\n",
      "0 upgraded, 15 newly installed, 0 to remove and 25 not upgraded.\n",
      "Need to get 5087 kB of archives.\n",
      "After this operation, 33.6 MB of additional disk space will be used.\n",
      "Get:1 http://archive.ubuntu.com/ubuntu xenial/main amd64 libxau6 amd64 1:1.0.8-1 [8376 B]\n",
      "Get:2 http://archive.ubuntu.com/ubuntu xenial/main amd64 libxdmcp6 amd64 1:1.1.2-1.1 [11.0 kB]\n",
      "Get:3 http://archive.ubuntu.com/ubuntu xenial/main amd64 libxcb1 amd64 1.11.1-1ubuntu1 [40.0 kB]\n",
      "Get:4 http://archive.ubuntu.com/ubuntu xenial-updates/main amd64 libx11-data all 2:1.6.3-1ubuntu2.1 [113 kB]\n",
      "Get:5 http://archive.ubuntu.com/ubuntu xenial-updates/main amd64 libx11-6 amd64 2:1.6.3-1ubuntu2.1 [570 kB]\n",
      "Get:6 http://archive.ubuntu.com/ubuntu xenial/main amd64 libxext6 amd64 2:1.3.3-1 [29.4 kB]\n",
      "Get:7 http://archive.ubuntu.com/ubuntu xenial-updates/main amd64 less amd64 481-2.1ubuntu0.2 [110 kB]\n",
      "Get:8 http://archive.ubuntu.com/ubuntu xenial/main amd64 libbsd0 amd64 0.8.2-1 [41.7 kB]\n",
      "Get:9 http://archive.ubuntu.com/ubuntu xenial/main amd64 libedit2 amd64 3.1-20150325-1ubuntu2 [76.5 kB]\n",
      "Get:10 http://archive.ubuntu.com/ubuntu xenial/main amd64 libxmuu1 amd64 2:1.1.2-2 [9674 B]\n",
      "Get:11 http://archive.ubuntu.com/ubuntu xenial-updates/main amd64 openssh-client amd64 1:7.2p2-4ubuntu2.6 [584 kB]\n",
      "Get:12 http://archive.ubuntu.com/ubuntu xenial/main amd64 xauth amd64 1:1.0.9-1ubuntu2 [22.7 kB]\n",
      "Get:13 http://archive.ubuntu.com/ubuntu xenial/main amd64 liberror-perl all 0.17-1.2 [19.6 kB]\n",
      "Get:14 http://archive.ubuntu.com/ubuntu xenial-updates/main amd64 git-man all 1:2.7.4-0ubuntu1.5 [736 kB]\n",
      "Get:15 http://archive.ubuntu.com/ubuntu xenial-updates/main amd64 git amd64 1:2.7.4-0ubuntu1.5 [2714 kB]\n",
      "Fetched 5087 kB in 3s (1412 kB/s)\n",
      "debconf: delaying package configuration, since apt-utils is not installed\n",
      "Selecting previously unselected package libxau6:amd64.\n",
      "(Reading database ... 12733 files and directories currently installed.)\n",
      "Preparing to unpack .../libxau6_1%3a1.0.8-1_amd64.deb ...\n",
      "Unpacking libxau6:amd64 (1:1.0.8-1) ...\n",
      "Selecting previously unselected package libxdmcp6:amd64.\n",
      "Preparing to unpack .../libxdmcp6_1%3a1.1.2-1.1_amd64.deb ...\n",
      "Unpacking libxdmcp6:amd64 (1:1.1.2-1.1) ...\n",
      "Selecting previously unselected package libxcb1:amd64.\n",
      "Preparing to unpack .../libxcb1_1.11.1-1ubuntu1_amd64.deb ...\n",
      "Unpacking libxcb1:amd64 (1.11.1-1ubuntu1) ...\n",
      "Selecting previously unselected package libx11-data.\n",
      "Preparing to unpack .../libx11-data_2%3a1.6.3-1ubuntu2.1_all.deb ...\n",
      "Unpacking libx11-data (2:1.6.3-1ubuntu2.1) ...\n",
      "Selecting previously unselected package libx11-6:amd64.\n",
      "Preparing to unpack .../libx11-6_2%3a1.6.3-1ubuntu2.1_amd64.deb ...\n",
      "Unpacking libx11-6:amd64 (2:1.6.3-1ubuntu2.1) ...\n",
      "Selecting previously unselected package libxext6:amd64.\n",
      "Preparing to unpack .../libxext6_2%3a1.3.3-1_amd64.deb ...\n",
      "Unpacking libxext6:amd64 (2:1.3.3-1) ...\n",
      "Selecting previously unselected package less.\n",
      "Preparing to unpack .../less_481-2.1ubuntu0.2_amd64.deb ...\n",
      "Unpacking less (481-2.1ubuntu0.2) ...\n",
      "Selecting previously unselected package libbsd0:amd64.\n",
      "Preparing to unpack .../libbsd0_0.8.2-1_amd64.deb ...\n",
      "Unpacking libbsd0:amd64 (0.8.2-1) ...\n",
      "Selecting previously unselected package libedit2:amd64.\n",
      "Preparing to unpack .../libedit2_3.1-20150325-1ubuntu2_amd64.deb ...\n",
      "Unpacking libedit2:amd64 (3.1-20150325-1ubuntu2) ...\n",
      "Selecting previously unselected package libxmuu1:amd64.\n",
      "Preparing to unpack .../libxmuu1_2%3a1.1.2-2_amd64.deb ...\n",
      "Unpacking libxmuu1:amd64 (2:1.1.2-2) ...\n",
      "Selecting previously unselected package openssh-client.\n",
      "Preparing to unpack .../openssh-client_1%3a7.2p2-4ubuntu2.6_amd64.deb ...\n",
      "Unpacking openssh-client (1:7.2p2-4ubuntu2.6) ...\n",
      "Selecting previously unselected package xauth.\n",
      "Preparing to unpack .../xauth_1%3a1.0.9-1ubuntu2_amd64.deb ...\n",
      "Unpacking xauth (1:1.0.9-1ubuntu2) ...\n",
      "Selecting previously unselected package liberror-perl.\n",
      "Preparing to unpack .../liberror-perl_0.17-1.2_all.deb ...\n",
      "Unpacking liberror-perl (0.17-1.2) ...\n",
      "Selecting previously unselected package git-man.\n",
      "Preparing to unpack .../git-man_1%3a2.7.4-0ubuntu1.5_all.deb ...\n",
      "Unpacking git-man (1:2.7.4-0ubuntu1.5) ...\n",
      "Selecting previously unselected package git.\n",
      "Preparing to unpack .../git_1%3a2.7.4-0ubuntu1.5_amd64.deb ...\n",
      "Unpacking git (1:2.7.4-0ubuntu1.5) ...\n",
      "Processing triggers for libc-bin (2.23-0ubuntu10) ...\n",
      "Processing triggers for mime-support (3.59ubuntu1) ...\n",
      "Setting up libxau6:amd64 (1:1.0.8-1) ...\n",
      "Setting up libxdmcp6:amd64 (1:1.1.2-1.1) ...\n",
      "Setting up libxcb1:amd64 (1.11.1-1ubuntu1) ...\n",
      "Setting up libx11-data (2:1.6.3-1ubuntu2.1) ...\n",
      "Setting up libx11-6:amd64 (2:1.6.3-1ubuntu2.1) ...\n",
      "Setting up libxext6:amd64 (2:1.3.3-1) ...\n",
      "Setting up less (481-2.1ubuntu0.2) ...\n",
      "debconf: unable to initialize frontend: Dialog\n",
      "debconf: (No usable dialog-like program is installed, so the dialog based frontend cannot be used. at /usr/share/perl5/Debconf/FrontEnd/Dialog.pm line 76.)\n",
      "debconf: falling back to frontend: Readline\n",
      "Setting up libbsd0:amd64 (0.8.2-1) ...\n",
      "Setting up libedit2:amd64 (3.1-20150325-1ubuntu2) ...\n",
      "Setting up libxmuu1:amd64 (2:1.1.2-2) ...\n",
      "Setting up openssh-client (1:7.2p2-4ubuntu2.6) ...\n",
      "Setting up xauth (1:1.0.9-1ubuntu2) ...\n",
      "Setting up liberror-perl (0.17-1.2) ...\n",
      "Setting up git-man (1:2.7.4-0ubuntu1.5) ...\n",
      "Setting up git (1:2.7.4-0ubuntu1.5) ...\n",
      "Processing triggers for libc-bin (2.23-0ubuntu10) ...\n"
     ]
    }
   ],
   "source": [
    "!apt update\n",
    "!apt-get -y install git"
   ]
  },
  {
   "cell_type": "code",
   "execution_count": 2,
   "metadata": {},
   "outputs": [
    {
     "name": "stdout",
     "output_type": "stream",
     "text": [
      "Python 3.5.2\n",
      "git version 2.7.4\n"
     ]
    }
   ],
   "source": [
    "!python --version\n",
    "!git --version"
   ]
  },
  {
   "cell_type": "markdown",
   "metadata": {},
   "source": [
    "# Installing"
   ]
  },
  {
   "cell_type": "code",
   "execution_count": 1,
   "metadata": {
    "scrolled": true
   },
   "outputs": [
    {
     "name": "stdout",
     "output_type": "stream",
     "text": [
      "Collecting mlflow\n",
      "\u001b[?25l  Downloading https://files.pythonhosted.org/packages/44/22/d503ea07820779c49dda122154fed65609e516eb67ed27b8c7f7b161ce37/mlflow-0.8.0.tar.gz (6.3MB)\n",
      "\u001b[K    100% |████████████████████████████████| 6.3MB 3.8MB/s eta 0:00:01    12% |████▏                           | 819kB 3.6MB/s eta 0:00:02\n",
      "\u001b[?25hRequirement already satisfied: click>=6.7 in /anaconda3/lib/python3.6/site-packages (from mlflow) (6.7)\n",
      "Collecting databricks-cli>=0.8.0 (from mlflow)\n",
      "\u001b[?25l  Downloading https://files.pythonhosted.org/packages/2c/9f/1c80cad05d2a8e68738d4b81195717d799a5cc6288e2cb250c5324fbab35/databricks-cli-0.8.2.tar.gz (40kB)\n",
      "\u001b[K    100% |████████████████████████████████| 40kB 11.7MB/s ta 0:00:01\n",
      "\u001b[?25hRequirement already satisfied: requests>=2.17.3 in /anaconda3/lib/python3.6/site-packages (from mlflow) (2.18.4)\n",
      "Requirement already satisfied: six>=1.10.0 in /anaconda3/lib/python3.6/site-packages (from mlflow) (1.11.0)\n",
      "Collecting gunicorn (from mlflow)\n",
      "\u001b[?25l  Downloading https://files.pythonhosted.org/packages/8c/da/b8dd8deb741bff556db53902d4706774c8e1e67265f69528c14c003644e6/gunicorn-19.9.0-py2.py3-none-any.whl (112kB)\n",
      "\u001b[K    100% |████████████████████████████████| 122kB 22.6MB/s ta 0:00:01\n",
      "\u001b[?25hRequirement already satisfied: Flask in /anaconda3/lib/python3.6/site-packages (from mlflow) (1.0.2)\n",
      "Requirement already satisfied: numpy in /anaconda3/lib/python3.6/site-packages (from mlflow) (1.15.4)\n",
      "Requirement already satisfied: pandas in /anaconda3/lib/python3.6/site-packages (from mlflow) (0.23.0)\n",
      "Requirement already satisfied: scipy in /anaconda3/lib/python3.6/site-packages (from mlflow) (1.1.0)\n",
      "Requirement already satisfied: scikit-learn in /anaconda3/lib/python3.6/site-packages (from mlflow) (0.19.1)\n",
      "Requirement already satisfied: python-dateutil in /anaconda3/lib/python3.6/site-packages (from mlflow) (2.7.3)\n",
      "Requirement already satisfied: protobuf>=3.6.0 in /anaconda3/lib/python3.6/site-packages (from mlflow) (3.6.1)\n",
      "Collecting gitpython>=2.1.0 (from mlflow)\n",
      "\u001b[?25l  Downloading https://files.pythonhosted.org/packages/fe/e5/fafe827507644c32d6dc553a1c435cdf882e0c28918a5bab29f7fbebfb70/GitPython-2.1.11-py2.py3-none-any.whl (448kB)\n",
      "\u001b[K    100% |████████████████████████████████| 450kB 1.3MB/s ta 0:00:011\n",
      "\u001b[?25hRequirement already satisfied: pyyaml in /anaconda3/lib/python3.6/site-packages (from mlflow) (3.12)\n",
      "Requirement already satisfied: boto3>=1.7.12 in /anaconda3/lib/python3.6/site-packages (from mlflow) (1.9.28)\n",
      "Collecting querystring_parser (from mlflow)\n",
      "  Downloading https://files.pythonhosted.org/packages/57/64/3086a9a991ff3aca7b769f5b0b51ff8445a06337ae2c58f215bcee48f527/querystring_parser-1.2.3.tar.gz\n",
      "Collecting simplejson (from mlflow)\n",
      "\u001b[?25l  Downloading https://files.pythonhosted.org/packages/e3/24/c35fb1c1c315fc0fffe61ea00d3f88e85469004713dab488dee4f35b0aff/simplejson-3.16.0.tar.gz (81kB)\n",
      "\u001b[K    100% |████████████████████████████████| 81kB 20.1MB/s ta 0:00:01\n",
      "\u001b[?25hCollecting mleap>=0.8.1 (from mlflow)\n",
      "  Downloading https://files.pythonhosted.org/packages/3b/17/486a3cf30695581f029ba618ee878252a9e9f859c48913e30a07d13c8a21/mleap-0.8.1.tar.gz\n",
      "Collecting tabulate>=0.7.7 (from databricks-cli>=0.8.0->mlflow)\n",
      "\u001b[?25l  Downloading https://files.pythonhosted.org/packages/12/c2/11d6845db5edf1295bc08b2f488cf5937806586afe42936c3f34c097ebdc/tabulate-0.8.2.tar.gz (45kB)\n",
      "\u001b[K    100% |████████████████████████████████| 51kB 8.6MB/s eta 0:00:01\n",
      "\u001b[?25hCollecting configparser>=0.3.5 (from databricks-cli>=0.8.0->mlflow)\n",
      "  Downloading https://files.pythonhosted.org/packages/7c/69/c2ce7e91c89dc073eb1aa74c0621c3eefbffe8216b3f9af9d3885265c01c/configparser-3.5.0.tar.gz\n",
      "Requirement already satisfied: chardet<3.1.0,>=3.0.2 in /anaconda3/lib/python3.6/site-packages (from requests>=2.17.3->mlflow) (3.0.4)\n",
      "Requirement already satisfied: idna<2.7,>=2.5 in /anaconda3/lib/python3.6/site-packages (from requests>=2.17.3->mlflow) (2.6)\n",
      "Requirement already satisfied: urllib3<1.23,>=1.21.1 in /anaconda3/lib/python3.6/site-packages (from requests>=2.17.3->mlflow) (1.22)\n",
      "Requirement already satisfied: certifi>=2017.4.17 in /anaconda3/lib/python3.6/site-packages (from requests>=2.17.3->mlflow) (2018.10.15)\n",
      "Requirement already satisfied: Jinja2>=2.10 in /anaconda3/lib/python3.6/site-packages (from Flask->mlflow) (2.10)\n",
      "Requirement already satisfied: Werkzeug>=0.14 in /anaconda3/lib/python3.6/site-packages (from Flask->mlflow) (0.14.1)\n",
      "Requirement already satisfied: itsdangerous>=0.24 in /anaconda3/lib/python3.6/site-packages (from Flask->mlflow) (0.24)\n",
      "Requirement already satisfied: pytz>=2011k in /anaconda3/lib/python3.6/site-packages (from pandas->mlflow) (2018.4)\n",
      "Requirement already satisfied: setuptools in /anaconda3/lib/python3.6/site-packages (from protobuf>=3.6.0->mlflow) (39.1.0)\n",
      "Collecting gitdb2>=2.0.0 (from gitpython>=2.1.0->mlflow)\n",
      "\u001b[?25l  Downloading https://files.pythonhosted.org/packages/da/30/a407568aa8d8f25db817cf50121a958722f3fc5f87e3a6fba1f40c0633e3/gitdb2-2.0.5-py2.py3-none-any.whl (62kB)\n",
      "\u001b[K    100% |████████████████████████████████| 71kB 13.3MB/s ta 0:00:01\n",
      "\u001b[?25hRequirement already satisfied: botocore<1.13.0,>=1.12.28 in /anaconda3/lib/python3.6/site-packages (from boto3>=1.7.12->mlflow) (1.12.28)\n",
      "Requirement already satisfied: jmespath<1.0.0,>=0.7.1 in /anaconda3/lib/python3.6/site-packages (from boto3>=1.7.12->mlflow) (0.9.3)\n",
      "Requirement already satisfied: s3transfer<0.2.0,>=0.1.10 in /anaconda3/lib/python3.6/site-packages (from boto3>=1.7.12->mlflow) (0.1.13)\n",
      "Collecting argparse>=1.1 (from mleap>=0.8.1->mlflow)\n",
      "  Downloading https://files.pythonhosted.org/packages/f2/94/3af39d34be01a24a6e65433d19e107099374224905f1e0cc6bbe1fd22a2f/argparse-1.4.0-py2.py3-none-any.whl\n",
      "Collecting nose-exclude>=0.5.0 (from mleap>=0.8.1->mlflow)\n",
      "  Downloading https://files.pythonhosted.org/packages/63/cf/90c4be56bf11b7bc8801086d9445baf731aa36b8e8fc5791731e8e604dcd/nose-exclude-0.5.0.tar.gz\n",
      "Requirement already satisfied: MarkupSafe>=0.23 in /anaconda3/lib/python3.6/site-packages (from Jinja2>=2.10->Flask->mlflow) (1.0)\n",
      "Collecting smmap2>=2.0.0 (from gitdb2>=2.0.0->gitpython>=2.1.0->mlflow)\n",
      "  Downloading https://files.pythonhosted.org/packages/55/d2/866d45e3a121ee15a1dc013824d58072fd5c7799c9c34d01378eb262ca8f/smmap2-2.0.5-py2.py3-none-any.whl\n",
      "Requirement already satisfied: docutils>=0.10 in /anaconda3/lib/python3.6/site-packages (from botocore<1.13.0,>=1.12.28->boto3>=1.7.12->mlflow) (0.14)\n",
      "Requirement already satisfied: nose in /anaconda3/lib/python3.6/site-packages (from nose-exclude>=0.5.0->mleap>=0.8.1->mlflow) (1.3.7)\n",
      "Building wheels for collected packages: mlflow, databricks-cli, querystring-parser, simplejson, mleap, tabulate, configparser, nose-exclude\n",
      "  Running setup.py bdist_wheel for mlflow ... \u001b[?25ldone\n",
      "\u001b[?25h  Stored in directory: /Users/jiankaiwang/Library/Caches/pip/wheels/f3/fc/15/6a18dc2d84b7fd0d7cd06fa9499308413e62cead6aacbce295\n",
      "  Running setup.py bdist_wheel for databricks-cli ... \u001b[?25ldone\n",
      "\u001b[?25h  Stored in directory: /Users/jiankaiwang/Library/Caches/pip/wheels/e7/8e/a4/3e600b85158a6047030f15620e18dcd83aeeea0e93070291a2\n",
      "  Running setup.py bdist_wheel for querystring-parser ... \u001b[?25ldone\n",
      "\u001b[?25h  Stored in directory: /Users/jiankaiwang/Library/Caches/pip/wheels/ee/09/99/bf937e4f02788fa8b33dc5240842ba3977ba5c3c4ad4a115d7\n",
      "  Running setup.py bdist_wheel for simplejson ... \u001b[?25ldone\n",
      "\u001b[?25h  Stored in directory: /Users/jiankaiwang/Library/Caches/pip/wheels/5d/1a/1e/0350bb3df3e74215cd91325344cc86c2c691f5306eb4d22c77\n",
      "  Running setup.py bdist_wheel for mleap ... \u001b[?25ldone\n",
      "\u001b[?25h  Stored in directory: /Users/jiankaiwang/Library/Caches/pip/wheels/bc/a5/8d/7d021f2741ed8a7354e4fe19c1890e71ed719d681cd16cf292\n",
      "  Running setup.py bdist_wheel for tabulate ... \u001b[?25ldone\n",
      "\u001b[?25h  Stored in directory: /Users/jiankaiwang/Library/Caches/pip/wheels/2a/85/33/2f6da85d5f10614cbe5a625eab3b3aebfdf43e7b857f25f829\n",
      "  Running setup.py bdist_wheel for configparser ... \u001b[?25ldone\n",
      "\u001b[?25h  Stored in directory: /Users/jiankaiwang/Library/Caches/pip/wheels/a3/61/79/424ef897a2f3b14684a7de5d89e8600b460b89663e6ce9d17c\n",
      "  Running setup.py bdist_wheel for nose-exclude ... \u001b[?25ldone\n",
      "\u001b[?25h  Stored in directory: /Users/jiankaiwang/Library/Caches/pip/wheels/fe/b9/8f/764ed47b11e2e062ae8fe5f09d1c801a600292fdd9ba3477bb\n",
      "Successfully built mlflow databricks-cli querystring-parser simplejson mleap tabulate configparser nose-exclude\n"
     ]
    },
    {
     "name": "stdout",
     "output_type": "stream",
     "text": [
      "Installing collected packages: tabulate, configparser, databricks-cli, gunicorn, smmap2, gitdb2, gitpython, querystring-parser, simplejson, argparse, nose-exclude, mleap, mlflow\n",
      "Successfully installed argparse-1.4.0 configparser-3.5.0 databricks-cli-0.8.2 gitdb2-2.0.5 gitpython-2.1.11 gunicorn-19.9.0 mleap-0.8.1 mlflow-0.8.0 nose-exclude-0.5.0 querystring-parser-1.2.3 simplejson-3.16.0 smmap2-2.0.5 tabulate-0.8.2\n",
      "\u001b[33mYou are using pip version 18.0, however version 18.1 is available.\n",
      "You should consider upgrading via the 'pip install --upgrade pip' command.\u001b[0m\n"
     ]
    }
   ],
   "source": [
    "!pip install mlflow"
   ]
  },
  {
   "cell_type": "markdown",
   "metadata": {},
   "source": [
    "If you are going to install mlflow on macos, you have to use `homebrew` instead of `pip`."
   ]
  },
  {
   "cell_type": "markdown",
   "metadata": {},
   "source": [
    "# A simple example"
   ]
  },
  {
   "cell_type": "code",
   "execution_count": 2,
   "metadata": {},
   "outputs": [],
   "source": [
    "import os\n",
    "from mlflow import log_metric, log_param, log_artifact"
   ]
  },
  {
   "cell_type": "code",
   "execution_count": 5,
   "metadata": {},
   "outputs": [],
   "source": [
    "def simple_example():\n",
    "    # Log a parameter (key-value pair)\n",
    "    log_param(\"param1\", 5)\n",
    "\n",
    "    # Log a metric; metrics can be updated throughout the run\n",
    "    # one row represents one session\n",
    "    log_metric(\"foo\", 1)\n",
    "    log_metric(\"foo\", 2)\n",
    "    log_metric(\"foo\", 3)\n",
    "\n",
    "    # Log an artifact (output file)\n",
    "    with open(\"output.txt\", \"w\") as f:\n",
    "        f.write(\"Hello world!\")\n",
    "    log_artifact(\"output.txt\")"
   ]
  },
  {
   "cell_type": "code",
   "execution_count": 6,
   "metadata": {},
   "outputs": [
    {
     "ename": "MlflowException",
     "evalue": "Run '5cbd19ccb8754a8fa49e5a77b23c1765' not found",
     "output_type": "error",
     "traceback": [
      "\u001b[0;31m---------------------------------------------------------------------------\u001b[0m",
      "\u001b[0;31mMlflowException\u001b[0m                           Traceback (most recent call last)",
      "\u001b[0;32m<ipython-input-6-2c920f33b9b6>\u001b[0m in \u001b[0;36m<module>\u001b[0;34m()\u001b[0m\n\u001b[0;32m----> 1\u001b[0;31m \u001b[0msimple_example\u001b[0m\u001b[0;34m(\u001b[0m\u001b[0;34m)\u001b[0m\u001b[0;34m\u001b[0m\u001b[0m\n\u001b[0m",
      "\u001b[0;32m<ipython-input-5-050ebaece086>\u001b[0m in \u001b[0;36msimple_example\u001b[0;34m()\u001b[0m\n\u001b[1;32m      1\u001b[0m \u001b[0;32mdef\u001b[0m \u001b[0msimple_example\u001b[0m\u001b[0;34m(\u001b[0m\u001b[0;34m)\u001b[0m\u001b[0;34m:\u001b[0m\u001b[0;34m\u001b[0m\u001b[0m\n\u001b[1;32m      2\u001b[0m     \u001b[0;31m# Log a parameter (key-value pair)\u001b[0m\u001b[0;34m\u001b[0m\u001b[0;34m\u001b[0m\u001b[0m\n\u001b[0;32m----> 3\u001b[0;31m     \u001b[0mlog_param\u001b[0m\u001b[0;34m(\u001b[0m\u001b[0;34m\"param1\"\u001b[0m\u001b[0;34m,\u001b[0m \u001b[0;36m5\u001b[0m\u001b[0;34m)\u001b[0m\u001b[0;34m\u001b[0m\u001b[0m\n\u001b[0m\u001b[1;32m      4\u001b[0m \u001b[0;34m\u001b[0m\u001b[0m\n\u001b[1;32m      5\u001b[0m     \u001b[0;31m# Log a metric; metrics can be updated throughout the run\u001b[0m\u001b[0;34m\u001b[0m\u001b[0;34m\u001b[0m\u001b[0m\n",
      "\u001b[0;32m/anaconda3/lib/python3.6/site-packages/mlflow/tracking/fluent.py\u001b[0m in \u001b[0;36mlog_param\u001b[0;34m(key, value)\u001b[0m\n\u001b[1;32m    173\u001b[0m     \"\"\"\n\u001b[1;32m    174\u001b[0m     \u001b[0mrun_id\u001b[0m \u001b[0;34m=\u001b[0m \u001b[0m_get_or_start_run\u001b[0m\u001b[0;34m(\u001b[0m\u001b[0;34m)\u001b[0m\u001b[0;34m.\u001b[0m\u001b[0minfo\u001b[0m\u001b[0;34m.\u001b[0m\u001b[0mrun_uuid\u001b[0m\u001b[0;34m\u001b[0m\u001b[0m\n\u001b[0;32m--> 175\u001b[0;31m     \u001b[0mMlflowClient\u001b[0m\u001b[0;34m(\u001b[0m\u001b[0;34m)\u001b[0m\u001b[0;34m.\u001b[0m\u001b[0mlog_param\u001b[0m\u001b[0;34m(\u001b[0m\u001b[0mrun_id\u001b[0m\u001b[0;34m,\u001b[0m \u001b[0mkey\u001b[0m\u001b[0;34m,\u001b[0m \u001b[0mvalue\u001b[0m\u001b[0;34m)\u001b[0m\u001b[0;34m\u001b[0m\u001b[0m\n\u001b[0m\u001b[1;32m    176\u001b[0m \u001b[0;34m\u001b[0m\u001b[0m\n\u001b[1;32m    177\u001b[0m \u001b[0;34m\u001b[0m\u001b[0m\n",
      "\u001b[0;32m/anaconda3/lib/python3.6/site-packages/mlflow/tracking/client.py\u001b[0m in \u001b[0;36mlog_param\u001b[0;34m(self, run_id, key, value)\u001b[0m\n\u001b[1;32m    142\u001b[0m         \u001b[0m_validate_param_name\u001b[0m\u001b[0;34m(\u001b[0m\u001b[0mkey\u001b[0m\u001b[0;34m)\u001b[0m\u001b[0;34m\u001b[0m\u001b[0m\n\u001b[1;32m    143\u001b[0m         \u001b[0mparam\u001b[0m \u001b[0;34m=\u001b[0m \u001b[0mParam\u001b[0m\u001b[0;34m(\u001b[0m\u001b[0mkey\u001b[0m\u001b[0;34m,\u001b[0m \u001b[0mstr\u001b[0m\u001b[0;34m(\u001b[0m\u001b[0mvalue\u001b[0m\u001b[0;34m)\u001b[0m\u001b[0;34m)\u001b[0m\u001b[0;34m\u001b[0m\u001b[0m\n\u001b[0;32m--> 144\u001b[0;31m         \u001b[0mself\u001b[0m\u001b[0;34m.\u001b[0m\u001b[0mstore\u001b[0m\u001b[0;34m.\u001b[0m\u001b[0mlog_param\u001b[0m\u001b[0;34m(\u001b[0m\u001b[0mrun_id\u001b[0m\u001b[0;34m,\u001b[0m \u001b[0mparam\u001b[0m\u001b[0;34m)\u001b[0m\u001b[0;34m\u001b[0m\u001b[0m\n\u001b[0m\u001b[1;32m    145\u001b[0m \u001b[0;34m\u001b[0m\u001b[0m\n\u001b[1;32m    146\u001b[0m     \u001b[0;32mdef\u001b[0m \u001b[0mset_tag\u001b[0m\u001b[0;34m(\u001b[0m\u001b[0mself\u001b[0m\u001b[0;34m,\u001b[0m \u001b[0mrun_id\u001b[0m\u001b[0;34m,\u001b[0m \u001b[0mkey\u001b[0m\u001b[0;34m,\u001b[0m \u001b[0mvalue\u001b[0m\u001b[0;34m)\u001b[0m\u001b[0;34m:\u001b[0m\u001b[0;34m\u001b[0m\u001b[0m\n",
      "\u001b[0;32m/anaconda3/lib/python3.6/site-packages/mlflow/store/file_store.py\u001b[0m in \u001b[0;36mlog_param\u001b[0;34m(self, run_uuid, param)\u001b[0m\n\u001b[1;32m    546\u001b[0m         \u001b[0m_validate_run_id\u001b[0m\u001b[0;34m(\u001b[0m\u001b[0mrun_uuid\u001b[0m\u001b[0;34m)\u001b[0m\u001b[0;34m\u001b[0m\u001b[0m\n\u001b[1;32m    547\u001b[0m         \u001b[0m_validate_param_name\u001b[0m\u001b[0;34m(\u001b[0m\u001b[0mparam\u001b[0m\u001b[0;34m.\u001b[0m\u001b[0mkey\u001b[0m\u001b[0;34m)\u001b[0m\u001b[0;34m\u001b[0m\u001b[0m\n\u001b[0;32m--> 548\u001b[0;31m         \u001b[0mrun\u001b[0m \u001b[0;34m=\u001b[0m \u001b[0mself\u001b[0m\u001b[0;34m.\u001b[0m\u001b[0mget_run\u001b[0m\u001b[0;34m(\u001b[0m\u001b[0mrun_uuid\u001b[0m\u001b[0;34m)\u001b[0m\u001b[0;34m\u001b[0m\u001b[0m\n\u001b[0m\u001b[1;32m    549\u001b[0m         \u001b[0mcheck_run_is_active\u001b[0m\u001b[0;34m(\u001b[0m\u001b[0mrun\u001b[0m\u001b[0;34m.\u001b[0m\u001b[0minfo\u001b[0m\u001b[0;34m)\u001b[0m\u001b[0;34m\u001b[0m\u001b[0m\n\u001b[1;32m    550\u001b[0m         \u001b[0mparam_path\u001b[0m \u001b[0;34m=\u001b[0m \u001b[0mself\u001b[0m\u001b[0;34m.\u001b[0m\u001b[0m_get_param_path\u001b[0m\u001b[0;34m(\u001b[0m\u001b[0mrun\u001b[0m\u001b[0;34m.\u001b[0m\u001b[0minfo\u001b[0m\u001b[0;34m.\u001b[0m\u001b[0mexperiment_id\u001b[0m\u001b[0;34m,\u001b[0m \u001b[0mrun_uuid\u001b[0m\u001b[0;34m,\u001b[0m \u001b[0mparam\u001b[0m\u001b[0;34m.\u001b[0m\u001b[0mkey\u001b[0m\u001b[0;34m)\u001b[0m\u001b[0;34m\u001b[0m\u001b[0m\n",
      "\u001b[0;32m/anaconda3/lib/python3.6/site-packages/mlflow/store/file_store.py\u001b[0m in \u001b[0;36mget_run\u001b[0;34m(self, run_uuid)\u001b[0m\n\u001b[1;32m    348\u001b[0m         \"\"\"\n\u001b[1;32m    349\u001b[0m         \u001b[0m_validate_run_id\u001b[0m\u001b[0;34m(\u001b[0m\u001b[0mrun_uuid\u001b[0m\u001b[0;34m)\u001b[0m\u001b[0;34m\u001b[0m\u001b[0m\n\u001b[0;32m--> 350\u001b[0;31m         \u001b[0mrun_info\u001b[0m \u001b[0;34m=\u001b[0m \u001b[0mself\u001b[0m\u001b[0;34m.\u001b[0m\u001b[0m_get_run_info\u001b[0m\u001b[0;34m(\u001b[0m\u001b[0mrun_uuid\u001b[0m\u001b[0;34m)\u001b[0m\u001b[0;34m\u001b[0m\u001b[0m\n\u001b[0m\u001b[1;32m    351\u001b[0m         \u001b[0;32mif\u001b[0m \u001b[0mrun_info\u001b[0m \u001b[0;32mis\u001b[0m \u001b[0;32mNone\u001b[0m\u001b[0;34m:\u001b[0m\u001b[0;34m\u001b[0m\u001b[0m\n\u001b[1;32m    352\u001b[0m             raise MlflowException(\"Run '%s' metadata is in invalid state.\" % run_uuid,\n",
      "\u001b[0;32m/anaconda3/lib/python3.6/site-packages/mlflow/store/file_store.py\u001b[0m in \u001b[0;36m_get_run_info\u001b[0;34m(self, run_uuid)\u001b[0m\n\u001b[1;32m    364\u001b[0m         \u001b[0;32mif\u001b[0m \u001b[0mrun_dir\u001b[0m \u001b[0;32mis\u001b[0m \u001b[0;32mNone\u001b[0m\u001b[0;34m:\u001b[0m\u001b[0;34m\u001b[0m\u001b[0m\n\u001b[1;32m    365\u001b[0m             raise MlflowException(\"Run '%s' not found\" % run_uuid,\n\u001b[0;32m--> 366\u001b[0;31m                                   databricks_pb2.RESOURCE_DOES_NOT_EXIST)\n\u001b[0m\u001b[1;32m    367\u001b[0m \u001b[0;34m\u001b[0m\u001b[0m\n\u001b[1;32m    368\u001b[0m         \u001b[0mmeta\u001b[0m \u001b[0;34m=\u001b[0m \u001b[0mread_yaml\u001b[0m\u001b[0;34m(\u001b[0m\u001b[0mrun_dir\u001b[0m\u001b[0;34m,\u001b[0m \u001b[0mFileStore\u001b[0m\u001b[0;34m.\u001b[0m\u001b[0mMETA_DATA_FILE_NAME\u001b[0m\u001b[0;34m)\u001b[0m\u001b[0;34m\u001b[0m\u001b[0m\n",
      "\u001b[0;31mMlflowException\u001b[0m: Run '5cbd19ccb8754a8fa49e5a77b23c1765' not found"
     ]
    }
   ],
   "source": [
    "simple_example()"
   ]
  },
  {
   "cell_type": "markdown",
   "metadata": {},
   "source": [
    "## Tracking Server"
   ]
  },
  {
   "cell_type": "markdown",
   "metadata": {},
   "source": [
    "```sh\n",
    "# host 0.0.0.0 : allow multiple name to access (remote access)\n",
    "mlflow server --file-store ./mlruns --host 0.0.0.0\n",
    "```"
   ]
  },
  {
   "cell_type": "markdown",
   "metadata": {},
   "source": [
    "![../data/images/mlflow_simple.png](../data/images/mlflow_simple.png)"
   ]
  },
  {
   "cell_type": "markdown",
   "metadata": {},
   "source": [
    "# clone the example"
   ]
  },
  {
   "cell_type": "markdown",
   "metadata": {},
   "source": [
    "```sh\n",
    "cd ~\n",
    "git clone https://github.com/mlflow/mlflow\n",
    "cd ~/mlflow/\n",
    "\n",
    "export LC_ALL=C.UTF-8\n",
    "export LANG=C.UTF-8\n",
    "```"
   ]
  },
  {
   "cell_type": "markdown",
   "metadata": {},
   "source": [
    "## training a model"
   ]
  },
  {
   "cell_type": "markdown",
   "metadata": {},
   "source": [
    "Here we use the example code in mlflow.\n",
    "\n",
    "```sh\n",
    "# under path ~/mlflow\n",
    "cd ~/mlflow\n",
    "python examples/sklearn_elasticnet_wine/train.py\n",
    "```\n",
    "\n",
    "or the command as below\n",
    "\n",
    "```sh\n",
    "# alpha and l1_ratio are both defined on the train.py\n",
    "python examples/sklearn_elasticnet_wine/train.py <alpha> <l1_ratio>\n",
    "```\n",
    "\n",
    "The `mlruns` folder would be generated on the current path (now is `~/mlflow`).\n",
    "Now start the server to monitor the running log.\n",
    "\n",
    "```sh\n",
    "mlflow server --file-store ~/mlflow/mlruns --host 0.0.0.0\n",
    "```\n",
    "\n",
    "You can set the criteria to filter results, e.g. `metrics.r2 > 0.1`.\n",
    "![../data/images/mlflow_criteria.png](../data/images/mlflow_criteria.png)"
   ]
  },
  {
   "cell_type": "markdown",
   "metadata": {},
   "source": [
    "## packaging the training code"
   ]
  },
  {
   "cell_type": "markdown",
   "metadata": {},
   "source": [
    "* Install the requirement first.\n",
    "\n",
    "Here we use the python-3.5.2 as the example. `mlflow` must use `conda` so install it first (mini-conda). Based on the python version, select `Miniconda3-4.2.12-Linux-x86_64.sh`.\n",
    "\n",
    "```sh\n",
    "cd ~\n",
    "apt update\n",
    "apt install wget\n",
    "wget https://repo.anaconda.com/miniconda/Miniconda3-4.2.12-Linux-x86_64.sh\n",
    "bash Miniconda-3.5.2-Linux-x86_64.sh\n",
    "source ~/.bashrc  # make the conda command available\n",
    "conda --version  # check the conda is installed\n",
    "```"
   ]
  },
  {
   "cell_type": "markdown",
   "metadata": {},
   "source": [
    "* the `MLproject` example : the `conda.yaml` is the requirement for the script\n",
    "\n",
    "```yaml\n",
    "# tutorial/MLproject\n",
    "\n",
    "name: tutorial\n",
    "\n",
    "conda_env: conda.yaml\n",
    "\n",
    "entry_points:\n",
    "  main:\n",
    "    parameters:\n",
    "      alpha: float\n",
    "      l1_ratio: {type: float, default: 0.1}\n",
    "    command: \"python train.py {alpha} {l1_ratio}\"\n",
    "```\n",
    "\n",
    "* the `conda.yaml` example\n",
    "\n",
    "```yaml\n",
    "name: tutorial\n",
    "channels:\n",
    "  - defaults\n",
    "dependencies:\n",
    "  - numpy=1.14.3\n",
    "  - pandas=0.22.0\n",
    "  - scikit-learn=0.19.1\n",
    "  - pip:\n",
    "    - mlflow\n",
    "```\n",
    "\n",
    "* example directory for the MLproject\n",
    "\n",
    "```text\n",
    "+ example\n",
    "    - MLproject\n",
    "    - conda.yaml\n",
    "    - train.py\n",
    "```\n",
    "\n",
    "* start the training\n",
    "\n",
    "```sh\n",
    "mlflow run example -P alpha=0.42\n",
    "```\n",
    "\n",
    "* the mlflow example\n",
    "\n",
    "```sh\n",
    "cd ~/mlflow/examples\n",
    "mlflow run sklearn_elasticnet_wine -P alpha=0.42\n",
    "mlflow server --file-store ~/mlflow/examples/mlruns --host 0.0.0.0\n",
    "```\n",
    "\n",
    "After start the server, browser the webpage `http://(IP or localhost or 127.0.0.1):5000`."
   ]
  },
  {
   "cell_type": "code",
   "execution_count": null,
   "metadata": {},
   "outputs": [],
   "source": []
  }
 ],
 "metadata": {
  "kernelspec": {
   "display_name": "Python 3",
   "language": "python",
   "name": "python3"
  },
  "language_info": {
   "codemirror_mode": {
    "name": "ipython",
    "version": 3
   },
   "file_extension": ".py",
   "mimetype": "text/x-python",
   "name": "python",
   "nbconvert_exporter": "python",
   "pygments_lexer": "ipython3",
   "version": "3.5.4"
  }
 },
 "nbformat": 4,
 "nbformat_minor": 2
}
