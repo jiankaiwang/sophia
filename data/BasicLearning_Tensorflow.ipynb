{
 "cells": [
  {
   "cell_type": "code",
   "execution_count": 1,
   "metadata": {},
   "outputs": [
    {
     "name": "stderr",
     "output_type": "stream",
     "text": [
      "/anaconda3/lib/python3.6/site-packages/h5py/__init__.py:36: FutureWarning: Conversion of the second argument of issubdtype from `float` to `np.floating` is deprecated. In future, it will be treated as `np.float64 == np.dtype(float).type`.\n",
      "  from ._conv import register_converters as _register_converters\n"
     ]
    }
   ],
   "source": [
    "import tensorflow as tf\n",
    "import matplotlib.pyplot as plt\n",
    "import numpy as np\n",
    "import random\n",
    "import matplotlib.pyplot as plt\n",
    "\n",
    "%matplotlib inline"
   ]
  },
  {
   "cell_type": "markdown",
   "metadata": {},
   "source": [
    "# Background"
   ]
  },
  {
   "cell_type": "markdown",
   "metadata": {},
   "source": [
    "* Layer-wise greedy pretraining: Find the better initialized variables for `each layer`, use minibatch to find the best hyperparameters. \n",
    "* End-to-end (nowadays)"
   ]
  },
  {
   "cell_type": "markdown",
   "metadata": {},
   "source": [
    "# Local Minima vs. Global Minima"
   ]
  },
  {
   "cell_type": "markdown",
   "metadata": {},
   "source": [
    "* Reason:\n",
    "    * Model identifiability\n",
    "    * Equivalence (e.g. relu)"
   ]
  },
  {
   "cell_type": "markdown",
   "metadata": {},
   "source": [
    "## Error Surface"
   ]
  },
  {
   "cell_type": "markdown",
   "metadata": {},
   "source": [
    "* Loss value vs Time peroid \n",
    "    * Is the error surface uneven ?\n",
    "    * Can not point to the right direction ?"
   ]
  },
  {
   "cell_type": "markdown",
   "metadata": {},
   "source": [
    "## Local Minima (2014, Goodfellow)\n",
    "\n",
    "The local minina issue is not the main issue to the error surface, but pointing to right direction."
   ]
  },
  {
   "cell_type": "code",
   "execution_count": 2,
   "metadata": {},
   "outputs": [
    {
     "name": "stdout",
     "output_type": "stream",
     "text": [
      "WARNING:tensorflow:From <ipython-input-2-c6e8dc1cf347>:3: read_data_sets (from tensorflow.contrib.learn.python.learn.datasets.mnist) is deprecated and will be removed in a future version.\n",
      "Instructions for updating:\n",
      "Please use alternatives such as official/mnist/dataset.py from tensorflow/models.\n",
      "WARNING:tensorflow:From /anaconda3/lib/python3.6/site-packages/tensorflow/contrib/learn/python/learn/datasets/mnist.py:260: maybe_download (from tensorflow.contrib.learn.python.learn.datasets.base) is deprecated and will be removed in a future version.\n",
      "Instructions for updating:\n",
      "Please write your own downloading logic.\n",
      "WARNING:tensorflow:From /anaconda3/lib/python3.6/site-packages/tensorflow/contrib/learn/python/learn/datasets/mnist.py:262: extract_images (from tensorflow.contrib.learn.python.learn.datasets.mnist) is deprecated and will be removed in a future version.\n",
      "Instructions for updating:\n",
      "Please use tf.data to implement this functionality.\n",
      "Extracting /Users/jiankaiwang/Desktop/devops/tmp/MNIST_data/train-images-idx3-ubyte.gz\n",
      "WARNING:tensorflow:From /anaconda3/lib/python3.6/site-packages/tensorflow/contrib/learn/python/learn/datasets/mnist.py:267: extract_labels (from tensorflow.contrib.learn.python.learn.datasets.mnist) is deprecated and will be removed in a future version.\n",
      "Instructions for updating:\n",
      "Please use tf.data to implement this functionality.\n",
      "Extracting /Users/jiankaiwang/Desktop/devops/tmp/MNIST_data/train-labels-idx1-ubyte.gz\n",
      "WARNING:tensorflow:From /anaconda3/lib/python3.6/site-packages/tensorflow/contrib/learn/python/learn/datasets/mnist.py:110: dense_to_one_hot (from tensorflow.contrib.learn.python.learn.datasets.mnist) is deprecated and will be removed in a future version.\n",
      "Instructions for updating:\n",
      "Please use tf.one_hot on tensors.\n",
      "Extracting /Users/jiankaiwang/Desktop/devops/tmp/MNIST_data/t10k-images-idx3-ubyte.gz\n",
      "Extracting /Users/jiankaiwang/Desktop/devops/tmp/MNIST_data/t10k-labels-idx1-ubyte.gz\n",
      "WARNING:tensorflow:From /anaconda3/lib/python3.6/site-packages/tensorflow/contrib/learn/python/learn/datasets/mnist.py:290: DataSet.__init__ (from tensorflow.contrib.learn.python.learn.datasets.mnist) is deprecated and will be removed in a future version.\n",
      "Instructions for updating:\n",
      "Please use alternatives such as official/mnist/dataset.py from tensorflow/models.\n"
     ]
    }
   ],
   "source": [
    "# uncomment the below line to download the data\n",
    "from tensorflow.examples.tutorials.mnist import input_data\n",
    "mnist = input_data.read_data_sets(\"/Users/jiankaiwang/Desktop/devops/tmp/MNIST_data/\", one_hot=True)"
   ]
  },
  {
   "cell_type": "code",
   "execution_count": 3,
   "metadata": {},
   "outputs": [],
   "source": [
    "def layer(input, weight_shape, bias_shape):\n",
    "    weight_std = (2.0 / weight_shape[0]) ** 0.5\n",
    "    w_init = tf.random_normal_initializer(stddev=weight_std)\n",
    "    b_init = tf.constant_initializer(value=0)\n",
    "    W = tf.get_variable(name=\"W\", shape=weight_shape, initializer=w_init)\n",
    "    b = tf.get_variable(name=\"b\", shape=bias_shape, initializer=b_init)\n",
    "    return tf.nn.relu(tf.matmul(input, W) + b)"
   ]
  },
  {
   "cell_type": "code",
   "execution_count": 4,
   "metadata": {},
   "outputs": [],
   "source": [
    "def inference(x):\n",
    "    with tf.variable_scope(\"hidden_1\"):\n",
    "        hidden_1 = layer(x, [784, 256], [256])\n",
    "        \n",
    "    with tf.variable_scope(\"hidden_2\"):\n",
    "        hidden_2 = layer(hidden_1, [256, 256], [256])\n",
    "    \n",
    "    with tf.variable_scope(\"output\"):\n",
    "        output = layer(hidden_2, [256, 10], [10])\n",
    "        \n",
    "    return output"
   ]
  },
  {
   "cell_type": "code",
   "execution_count": 5,
   "metadata": {},
   "outputs": [],
   "source": [
    "def loss(output, y):\n",
    "    cross_entropy = tf.nn.softmax_cross_entropy_with_logits_v2(logits=output, labels=y)\n",
    "    loss = tf.reduce_mean(cross_entropy)\n",
    "    return loss"
   ]
  },
  {
   "cell_type": "code",
   "execution_count": 6,
   "metadata": {
    "scrolled": false
   },
   "outputs": [
    {
     "name": "stdout",
     "output_type": "stream",
     "text": [
      "INFO:tensorflow:Restoring parameters from /Users/jiankaiwang/Desktop/devops/tmp/basic_tf/model-checkpoint-550\n",
      "WARNING:tensorflow:From /anaconda3/lib/python3.6/site-packages/tensorflow/python/util/tf_should_use.py:118: initialize_variables (from tensorflow.python.ops.variables) is deprecated and will be removed after 2017-03-02.\n",
      "Instructions for updating:\n",
      "Use `tf.variables_initializer` instead.\n"
     ]
    },
    {
     "data": {
      "image/png": "[encoded data removed]",
      "text/plain": [
       "<Figure size 432x288 with 1 Axes>"
      ]
     },
     "metadata": {},
     "output_type": "display_data"
    }
   ],
   "source": [
    "x = tf.placeholder(\"float\", [None, 784])\n",
    "y = tf.placeholder(\"float\", [None, 10])\n",
    "\n",
    "with tf.Session() as sess:\n",
    "    with tf.variable_scope(\"mlp_model\") as scope:\n",
    "        output_opt = inference(x)\n",
    "        cost_opt = loss(output_opt, y)\n",
    "        saver = tf.train.Saver()\n",
    "        scope.reuse_variables()\n",
    "        \n",
    "        var_list_opt = [\"hidden_1/W\", \"hidden_1/b\", \"hidden_2/W\", \"hidden_2/b\", \"output/W\", \"output/b\"]\n",
    "        var_list_opt = [tf.get_variable(v) for v in var_list_opt]\n",
    "        saver.restore(sess, \"/Users/jiankaiwang/Desktop/devops/tmp/basic_tf/model-checkpoint-550\")\n",
    "        #print(sess.run(var_list_opt[0]))\n",
    "        \n",
    "    with tf.variable_scope(\"mlp_init\") as scope:\n",
    "        output_rand = inference(x)\n",
    "        cost_rand = loss(output_rand, y)\n",
    "        scope.reuse_variables()\n",
    "        \n",
    "        var_list_rand = [\"hidden_1/W\", \"hidden_1/b\", \"hidden_2/W\", \"hidden_2/b\", \"output/W\", \"output/b\"]\n",
    "        var_list_rand = [tf.get_variable(v) for v in var_list_rand]\n",
    "        init_op = tf.initialize_variables(var_list_rand)\n",
    "        sess.run(init_op)\n",
    "        \n",
    "    with tf.variable_scope(\"mlp_inter\") as scope:\n",
    "        alpha = tf.placeholder(\"float\", [1,1])\n",
    "        beta = 1 - alpha\n",
    "        \n",
    "        h1_W_inter = var_list_opt[0] * beta + var_list_rand[0] * alpha\n",
    "        h1_b_inter = var_list_opt[1] * beta + var_list_rand[1] * alpha\n",
    "        h2_W_inter = var_list_opt[2] * beta + var_list_rand[2] * alpha\n",
    "        h2_b_inter = var_list_opt[3] * beta + var_list_rand[3] * alpha\n",
    "        o_W_inter = var_list_opt[4] * beta + var_list_rand[4] * alpha\n",
    "        o_b_inter = var_list_opt[5] * beta + var_list_rand[5] * alpha\n",
    "        \n",
    "        h1_inter = tf.nn.relu(tf.matmul(x, h1_W_inter) + h1_b_inter)\n",
    "        h2_inter = tf.nn.relu(tf.matmul(h1_inter, h2_W_inter) + h2_b_inter)\n",
    "        o_inter = tf.nn.relu(tf.matmul(h2_inter, o_W_inter) + o_b_inter)\n",
    "        \n",
    "        cost_inter = loss(o_inter, y)\n",
    "        \n",
    "    results = []\n",
    "    \n",
    "    for a in np.arange(-2, 2, 0.01):\n",
    "        feed_dict = {x: mnist.test.images, y: mnist.test.labels, alpha: [[a]]}\n",
    "        cost = sess.run([cost_inter], feed_dict=feed_dict)\n",
    "        results.append(cost)\n",
    "        \n",
    "plt.plot(np.arange(-2,2,0.01), results, 'ro')\n",
    "plt.xlabel(\"Incurred Error\")\n",
    "plt.ylabel(\"Alpha\")\n",
    "plt.show()"
   ]
  },
  {
   "cell_type": "markdown",
   "metadata": {},
   "source": [
    "# Flattern Error Surface vs. Saddle Points"
   ]
  },
  {
   "cell_type": "markdown",
   "metadata": {},
   "source": [
    "* It is rare to find a local minima or local maxima when data dimension increases."
   ]
  },
  {
   "cell_type": "markdown",
   "metadata": {},
   "source": [
    "# Gradient Pointing to Wrong Direction"
   ]
  },
  {
   "cell_type": "markdown",
   "metadata": {},
   "source": [
    "* The gradient shows the local message, but not to show the global scaled message.\n",
    "* Hessian matrix\n",
    "* ill-conditioned matrix"
   ]
  },
  {
   "cell_type": "markdown",
   "metadata": {},
   "source": [
    "# Momentum-based Optimization"
   ]
  },
  {
   "cell_type": "code",
   "execution_count": 7,
   "metadata": {},
   "outputs": [
    {
     "name": "stdout",
     "output_type": "stream",
     "text": [
      "[-2, -2, -3, -8, -7, 6, -4, -3, -7, 8, 8, -10, 6, 7, -6, -4, -5, -7, 10, 8, -2, 1, 8, -9, -8, 2, -7, -10, -4, 0, 5, 7, -2, -4, -7, 6, -10, -9, 3, -7, 1, -2, 2, -4, 7, -6, 6, 9, -6, 7, -7, -4, 4, -8, 10, 2, 5, -2, 2, -7, 1, -6, 6, -2, 6, -10, 5, -2, -8, 1, -2, -4, -8, -6, -2, 7, -9, 10, 0, -10, 8, 10, 0, 3, -2, -3, -8, 6, 7, -5, 7, 2, -6, 9, 6, -1, 8, 3, 8, -4]\n"
     ]
    }
   ],
   "source": [
    "step_range = 10\n",
    "step_choices = range(-1 * step_range, step_range + 1)\n",
    "rand_walk = [random.choice(step_choices) for i in range(100)]\n",
    "print(rand_walk)"
   ]
  },
  {
   "cell_type": "code",
   "execution_count": 8,
   "metadata": {},
   "outputs": [
    {
     "name": "stdout",
     "output_type": "stream",
     "text": [
      "[-2, -2.1, -2.29, -2.6609999999999996, -1.3949, -1.45541, -1.409869, -1.5688821000000002, -0.5119938900000004, 0.33920549899999947, 0.30528494909999954, 0.8747564541899995, 1.7872808087709995, 1.3085527278938995, 1.9776974551045094, 1.1799277095940586, 0.06193493863465305, -0.24425855522881218, -1.0198326997059308, -0.3178494297353379, -0.2860644867618041, 0.24254196191437616, -0.5817122342770613, -1.123541010849355, -1.3111869097644195, -1.3800682187879776, -1.4420613969091798, -0.7978552572182619, -0.11806973149643585, -0.20626275834679225, 0.21436351748788687, -0.20707283426090173, 0.11363444916518836, -0.1977289957513304, 0.22204390382380254, 0.3998395134414222, 0.5598555620972799, 1.5038700058875518, 1.053483005298797, 1.5481347047689171, 0.7933212342920255, 1.4139891108628229, 2.07259019977654, 0.8653311797988863, 1.4787980618189975, 0.5309182556370979, 0.3778264300733882, -0.05995621293395054, -0.4539605916405554, -0.9085645324764997, -0.3177080792288499, -0.18593727130596494, -0.6673435441753683, -0.10060918975783162, -0.4905482707820484, -0.6414934437038435, -0.27734409933345927, -0.6496096894001133, -0.584648720460102, -0.42618384841409185, 0.5164345364273171, -0.23520891721541448, -0.21168802549387303, 0.809480777055514, 1.0285326993499626, 0.9256794294149664, 1.7331114864734696, 1.0598003378261227, 1.9538203040435103, 2.658438273639159, 2.4925944462752434, 2.643335001647719, 3.0790015014829466, 2.271101351334652, 1.643991216201187, 0.7795920945810685, 1.7016328851229614, 1.3314695966106653, 1.8983226369495987, 2.508490373254639, 2.3576413359291752, 1.621877202336258, 0.9596894821026324, 0.36372053389236925, 0.9273484805031322, 0.7346136324528191, 0.46115226920753727, -0.5849629577132163, 0.17353333805810522, -0.14381999574770524, 0.2705620038270652, 0.1435058034443587, 0.029155223099922856, -0.47376029921006935, -0.5263842692890623, -1.273745842360156, -0.9463712581241404, -1.851734132311726, -2.5665607190805533, -2.209904647172498, -2.6889141824552483]\n"
     ]
    }
   ],
   "source": [
    "momentum_rand_walk = [random.choice(step_choices)]\n",
    "momentum = 9e-1\n",
    "\n",
    "for i in range(len(rand_walk)):\n",
    "    prev = momentum_rand_walk[-1]   # similar with v\n",
    "    rand_choice = random.choice(step_choices)   # similar with grad\n",
    "    new_step = momentum * prev + (1 - momentum) * rand_choice   # (1 - momentum) similar with learning_rate\n",
    "    momentum_rand_walk.append(new_step)\n",
    "    \n",
    "print(momentum_rand_walk)"
   ]
  },
  {
   "cell_type": "code",
   "execution_count": 9,
   "metadata": {},
   "outputs": [
    {
     "data": {
      "image/png": "[encoded data removed]",
      "text/plain": [
       "<Figure size 432x288 with 1 Axes>"
      ]
     },
     "metadata": {},
     "output_type": "display_data"
    }
   ],
   "source": [
    "plt.plot(momentum_rand_walk)\n",
    "plt.title(\"Momentum: {}\".format(momentum))\n",
    "plt.show()"
   ]
  },
  {
   "cell_type": "markdown",
   "metadata": {},
   "source": [
    "## Momentum in Tensorflow"
   ]
  },
  {
   "cell_type": "markdown",
   "metadata": {},
   "source": [
    "The example code\n",
    "\n",
    "```python\n",
    "m_learning_rate = 1e-2\n",
    "m_momentum = 9e-1\n",
    "m_opt = tf.train.MomentumOptimizer(momentum=m_momentum, learning_rate=m_learning_rate)\n",
    "m_op = m_opt.minimize(cost, global_step = global_step)\n",
    "```"
   ]
  },
  {
   "cell_type": "markdown",
   "metadata": {},
   "source": [
    "# Second derived function"
   ]
  },
  {
   "cell_type": "markdown",
   "metadata": {},
   "source": [
    "* Conjugate Gradient Descent\n",
    "* BFGS -> L-BFGS"
   ]
  },
  {
   "cell_type": "markdown",
   "metadata": {},
   "source": [
    "# Learning Rate Adaption"
   ]
  },
  {
   "cell_type": "markdown",
   "metadata": {},
   "source": [
    "## AdaGrad\n",
    "\n",
    "* It cumulates history gradients.\n",
    "* Larger gradients, larger learning rate\n",
    "* It pretends to lower the learning rate in generally and this property causes bad results in some models."
   ]
  },
  {
   "cell_type": "markdown",
   "metadata": {},
   "source": [
    "```python\n",
    "tf.train.AdagradDAOptimizer(learning_rate=learning_rate, \\\n",
    "                            initial_gradient_squared_accumulator_value=0.1, \\\n",
    "                            use_locking=False, \\\n",
    "                            name=\"adagrad\")\n",
    "```"
   ]
  },
  {
   "cell_type": "markdown",
   "metadata": {},
   "source": [
    "## RMSProp\n",
    "\n",
    "* Use `decay` to conserve the history gradients.\n",
    "* Lower decay, lower the inference from the history.\n",
    "* Solve Adagrad problems that learning rate decays even not in flattern surface."
   ]
  },
  {
   "cell_type": "markdown",
   "metadata": {},
   "source": [
    "```python\n",
    "# epsilon is the same setting with initial_gradient_squared_accumulator_value in Adagrad\n",
    "tf.train.RMSPropOptimizer(learning_rate=learning_rate, \\\n",
    "                          decay=0.9, \\\n",
    "                          momentum=0.0, \\\n",
    "                          epsilon=1e-10, \\\n",
    "                          use_locking=False, \\\n",
    "                          name=\"RMSProp\")\n",
    "```"
   ]
  },
  {
   "cell_type": "markdown",
   "metadata": {},
   "source": [
    "## Adam\n",
    "\n",
    "* Combine `Momentum` and `RMSProp`."
   ]
  },
  {
   "cell_type": "markdown",
   "metadata": {},
   "source": [
    "```python\n",
    "# beta1 : the hyperparameter for momentum\n",
    "# beta2 : the hyperparameter for velocity\n",
    "tf.train.AdamOptimizer(learning_rate=learning_rate, \\\n",
    "                      beta1=9e-1, \\\n",
    "                      beta2=0.999, \\\n",
    "                      epsilon=1e-8, \\\n",
    "                      use_locking=False, \\\n",
    "                      name=\"Adam\")\n",
    "```"
   ]
  },
  {
   "cell_type": "code",
   "execution_count": null,
   "metadata": {},
   "outputs": [],
   "source": []
  }
 ],
 "metadata": {
  "kernelspec": {
   "display_name": "Python 3",
   "language": "python",
   "name": "python3"
  },
  "language_info": {
   "codemirror_mode": {
    "name": "ipython",
    "version": 3
   },
   "file_extension": ".py",
   "mimetype": "text/x-python",
   "name": "python",
   "nbconvert_exporter": "python",
   "pygments_lexer": "ipython3",
   "version": "3.6.5"
  }
 },
 "nbformat": 4,
 "nbformat_minor": 2
}
