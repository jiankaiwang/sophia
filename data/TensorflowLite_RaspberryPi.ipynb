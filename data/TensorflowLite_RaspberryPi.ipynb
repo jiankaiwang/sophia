{
 "cells": [
  {
   "cell_type": "markdown",
   "metadata": {},
   "source": [
    "# Environment"
   ]
  },
  {
   "cell_type": "markdown",
   "metadata": {},
   "source": [
    "* Raspberry Pi model 3B\n",
    "    * Raspbian GNU/Linux 9.1 (stretch)\n",
    "    * gcc version 6.3.0"
   ]
  },
  {
   "cell_type": "markdown",
   "metadata": {},
   "source": [
    "# Cross Compiling"
   ]
  },
  {
   "cell_type": "markdown",
   "metadata": {},
   "source": [
    "```sh\n",
    "# install toolchain\n",
    "sudo apt-get update\n",
    "sudo apt-get install crossbuild-essential-armhf\n",
    "\n",
    "# clone the repository\n",
    "cd ~\n",
    "git clone https://github.com/tensorflow/tensorflow.git\n",
    "cd tensorflow\n",
    "\n",
    "# only need to execute the command once\n",
    "# docker image: tensorflow/tensorflow:nightly-devel\n",
    "sudo bash ./tensorflow/contrib/lite/tools/make/download_dependencies.sh\n",
    "\n",
    "# compile\n",
    "./tensorflow/contrib/lite/tools/make/build_rpi_lib.sh\n",
    "\n",
    "# static library\n",
    "tensorflow/contrib/lite/tools/make/gen/lib/rpi_armv7/libtensorflow-lite.a\n",
    "```"
   ]
  },
  {
   "cell_type": "markdown",
   "metadata": {},
   "source": [
    "# Naive Compiling"
   ]
  },
  {
   "cell_type": "markdown",
   "metadata": {},
   "source": [
    "```sh\n",
    "# install toolchain\n",
    "sudo apt-get install build-essential\n",
    "cd ~\n",
    "git clone https://github.com/tensorflow/tensorflow.git\n",
    "cd tensorflow\n",
    "\n",
    "# only need to execute the command once\n",
    "sudo bash ./tensorflow/contrib/lite/tools/make/download_dependencies.sh\n",
    "\n",
    "# compile\n",
    "./tensorflow/contrib/lite/tools/make/build_rpi_lib.sh\n",
    "\n",
    "# static library\n",
    "tensorflow/contrib/lite/tools/make/gen/lib/rpi_armv7/libtensorflow-lite.a\n",
    "```"
   ]
  },
  {
   "cell_type": "code",
   "execution_count": null,
   "metadata": {
    "collapsed": true
   },
   "outputs": [],
   "source": []
  }
 ],
 "metadata": {
  "anaconda-cloud": {},
  "kernelspec": {
   "display_name": "Python [default]",
   "language": "python",
   "name": "python3"
  },
  "language_info": {
   "codemirror_mode": {
    "name": "ipython",
    "version": 3
   },
   "file_extension": ".py",
   "mimetype": "text/x-python",
   "name": "python",
   "nbconvert_exporter": "python",
   "pygments_lexer": "ipython3",
   "version": "3.5.4"
  }
 },
 "nbformat": 4,
 "nbformat_minor": 2
}
